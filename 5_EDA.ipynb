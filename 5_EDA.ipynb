{
 "cells": [
  {
   "cell_type": "raw",
   "metadata": {},
   "source": [
    "# import to invoke required module\n",
    "import pandas as pd\n",
    "import numpy as np\n",
    "from prettytable import PrettyTable\n",
    "import seaborn as sns\n",
    "import matplotlib.pyplot as plt\n",
    "\n",
    "import warnings\n",
    "warnings.filterwarnings(\"ignore\")"
   ]
  },
  {
   "cell_type": "code",
   "execution_count": 90,
   "metadata": {},
   "outputs": [
    {
     "name": "stderr",
     "output_type": "stream",
     "text": [
      "/opt/anaconda3/lib/python3.8/site-packages/IPython/core/interactiveshell.py:3146: DtypeWarning: Columns (4,16,22,33) have mixed types.Specify dtype option on import or set low_memory=False.\n",
      "  has_raised = await self.run_ast_nodes(code_ast.body, cell_name,\n"
     ]
    },
    {
     "data": {
      "text/html": [
       "<div>\n",
       "<style scoped>\n",
       "    .dataframe tbody tr th:only-of-type {\n",
       "        vertical-align: middle;\n",
       "    }\n",
       "\n",
       "    .dataframe tbody tr th {\n",
       "        vertical-align: top;\n",
       "    }\n",
       "\n",
       "    .dataframe thead th {\n",
       "        text-align: right;\n",
       "    }\n",
       "</style>\n",
       "<table border=\"1\" class=\"dataframe\">\n",
       "  <thead>\n",
       "    <tr style=\"text-align: right;\">\n",
       "      <th></th>\n",
       "      <th>transaction_hash</th>\n",
       "      <th>transaction_index</th>\n",
       "      <th>trace_from_address</th>\n",
       "      <th>trace_to_address</th>\n",
       "      <th>trace_value</th>\n",
       "      <th>trace_input</th>\n",
       "      <th>trace_output</th>\n",
       "      <th>trace_gas</th>\n",
       "      <th>trace_gas_used</th>\n",
       "      <th>subtraces</th>\n",
       "      <th>...</th>\n",
       "      <th>token_symbol</th>\n",
       "      <th>token_name</th>\n",
       "      <th>token_decimals</th>\n",
       "      <th>token_total_supply</th>\n",
       "      <th>Contract_address</th>\n",
       "      <th>Contract_bytecode</th>\n",
       "      <th>Contract_function_sighashes</th>\n",
       "      <th>Contract_is_erc20</th>\n",
       "      <th>Contract_is_erc721</th>\n",
       "      <th>Contract_block_Date</th>\n",
       "    </tr>\n",
       "  </thead>\n",
       "  <tbody>\n",
       "    <tr>\n",
       "      <th>0</th>\n",
       "      <td>0x3c2a709cee3a943c4c16fbeeaf3e84c38f7c937a47e2...</td>\n",
       "      <td>7.0</td>\n",
       "      <td>0x09aced531359ceffad9759a9252e1d82e3557eb2</td>\n",
       "      <td>0xf5269caa54f1f776dd996db35992d599e14d8a3b</td>\n",
       "      <td>0</td>\n",
       "      <td>0xfde9cded000000000000000000000000000000000000...</td>\n",
       "      <td>0x00000000000000000000000000000000000000000000...</td>\n",
       "      <td>301428.0</td>\n",
       "      <td>3279.0</td>\n",
       "      <td>0</td>\n",
       "      <td>...</td>\n",
       "      <td>MET</td>\n",
       "      <td>Metronome</td>\n",
       "      <td>18.0</td>\n",
       "      <td>0</td>\n",
       "      <td>0x09aced531359ceffad9759a9252e1d82e3557eb2</td>\n",
       "      <td>0x6080604052600436106100985763ffffffff7c010000...</td>\n",
       "      <td>['0x2af4c31e', '0x378252f2', '0x50b48c5e', '0x...</td>\n",
       "      <td>False</td>\n",
       "      <td>False</td>\n",
       "      <td>2019-06-24</td>\n",
       "    </tr>\n",
       "    <tr>\n",
       "      <th>1</th>\n",
       "      <td>0x3c2a709cee3a943c4c16fbeeaf3e84c38f7c937a47e2...</td>\n",
       "      <td>7.0</td>\n",
       "      <td>0x09aced531359ceffad9759a9252e1d82e3557eb2</td>\n",
       "      <td>0xf5269caa54f1f776dd996db35992d599e14d8a3b</td>\n",
       "      <td>0</td>\n",
       "      <td>0x496a698d</td>\n",
       "      <td>0x00000000000000000000000000000000000000000000...</td>\n",
       "      <td>307201.0</td>\n",
       "      <td>3324.0</td>\n",
       "      <td>0</td>\n",
       "      <td>...</td>\n",
       "      <td>MET</td>\n",
       "      <td>Metronome</td>\n",
       "      <td>18.0</td>\n",
       "      <td>0</td>\n",
       "      <td>0x09aced531359ceffad9759a9252e1d82e3557eb2</td>\n",
       "      <td>0x6080604052600436106100985763ffffffff7c010000...</td>\n",
       "      <td>['0x2af4c31e', '0x378252f2', '0x50b48c5e', '0x...</td>\n",
       "      <td>False</td>\n",
       "      <td>False</td>\n",
       "      <td>2019-06-24</td>\n",
       "    </tr>\n",
       "    <tr>\n",
       "      <th>2</th>\n",
       "      <td>0x3c2a709cee3a943c4c16fbeeaf3e84c38f7c937a47e2...</td>\n",
       "      <td>7.0</td>\n",
       "      <td>0x09aced531359ceffad9759a9252e1d82e3557eb2</td>\n",
       "      <td>0xf5269caa54f1f776dd996db35992d599e14d8a3b</td>\n",
       "      <td>0</td>\n",
       "      <td>0x21288400</td>\n",
       "      <td>0x00000000000000000000000000000000000000000000...</td>\n",
       "      <td>309694.0</td>\n",
       "      <td>689.0</td>\n",
       "      <td>0</td>\n",
       "      <td>...</td>\n",
       "      <td>MET</td>\n",
       "      <td>Metronome</td>\n",
       "      <td>18.0</td>\n",
       "      <td>0</td>\n",
       "      <td>0x09aced531359ceffad9759a9252e1d82e3557eb2</td>\n",
       "      <td>0x6080604052600436106100985763ffffffff7c010000...</td>\n",
       "      <td>['0x2af4c31e', '0x378252f2', '0x50b48c5e', '0x...</td>\n",
       "      <td>False</td>\n",
       "      <td>False</td>\n",
       "      <td>2019-06-24</td>\n",
       "    </tr>\n",
       "    <tr>\n",
       "      <th>3</th>\n",
       "      <td>0x3c2a709cee3a943c4c16fbeeaf3e84c38f7c937a47e2...</td>\n",
       "      <td>7.0</td>\n",
       "      <td>0x09aced531359ceffad9759a9252e1d82e3557eb2</td>\n",
       "      <td>0x567eebb6397cc8345e5a7eae288994bf45fdf85b</td>\n",
       "      <td>65497181753650651</td>\n",
       "      <td>0x7679a816</td>\n",
       "      <td>0x</td>\n",
       "      <td>284651.0</td>\n",
       "      <td>4874.0</td>\n",
       "      <td>1</td>\n",
       "      <td>...</td>\n",
       "      <td>MET</td>\n",
       "      <td>Metronome</td>\n",
       "      <td>18.0</td>\n",
       "      <td>0</td>\n",
       "      <td>0x09aced531359ceffad9759a9252e1d82e3557eb2</td>\n",
       "      <td>0x6080604052600436106100985763ffffffff7c010000...</td>\n",
       "      <td>['0x2af4c31e', '0x378252f2', '0x50b48c5e', '0x...</td>\n",
       "      <td>False</td>\n",
       "      <td>False</td>\n",
       "      <td>2019-06-24</td>\n",
       "    </tr>\n",
       "    <tr>\n",
       "      <th>4</th>\n",
       "      <td>0xfcb065dda0ac9a55bda686b6ba17a4589510198160de...</td>\n",
       "      <td>4.0</td>\n",
       "      <td>0x09aced531359ceffad9759a9252e1d82e3557eb2</td>\n",
       "      <td>0xf5269caa54f1f776dd996db35992d599e14d8a3b</td>\n",
       "      <td>0</td>\n",
       "      <td>0x496a698d</td>\n",
       "      <td>0x00000000000000000000000000000000000000000000...</td>\n",
       "      <td>307201.0</td>\n",
       "      <td>3324.0</td>\n",
       "      <td>0</td>\n",
       "      <td>...</td>\n",
       "      <td>MET</td>\n",
       "      <td>Metronome</td>\n",
       "      <td>18.0</td>\n",
       "      <td>0</td>\n",
       "      <td>0x09aced531359ceffad9759a9252e1d82e3557eb2</td>\n",
       "      <td>0x6080604052600436106100985763ffffffff7c010000...</td>\n",
       "      <td>['0x2af4c31e', '0x378252f2', '0x50b48c5e', '0x...</td>\n",
       "      <td>False</td>\n",
       "      <td>False</td>\n",
       "      <td>2019-06-24</td>\n",
       "    </tr>\n",
       "    <tr>\n",
       "      <th>5</th>\n",
       "      <td>0xfcb065dda0ac9a55bda686b6ba17a4589510198160de...</td>\n",
       "      <td>4.0</td>\n",
       "      <td>0x09aced531359ceffad9759a9252e1d82e3557eb2</td>\n",
       "      <td>0xf5269caa54f1f776dd996db35992d599e14d8a3b</td>\n",
       "      <td>0</td>\n",
       "      <td>0x21288400</td>\n",
       "      <td>0x00000000000000000000000000000000000000000000...</td>\n",
       "      <td>309694.0</td>\n",
       "      <td>689.0</td>\n",
       "      <td>0</td>\n",
       "      <td>...</td>\n",
       "      <td>MET</td>\n",
       "      <td>Metronome</td>\n",
       "      <td>18.0</td>\n",
       "      <td>0</td>\n",
       "      <td>0x09aced531359ceffad9759a9252e1d82e3557eb2</td>\n",
       "      <td>0x6080604052600436106100985763ffffffff7c010000...</td>\n",
       "      <td>['0x2af4c31e', '0x378252f2', '0x50b48c5e', '0x...</td>\n",
       "      <td>False</td>\n",
       "      <td>False</td>\n",
       "      <td>2019-06-24</td>\n",
       "    </tr>\n",
       "    <tr>\n",
       "      <th>6</th>\n",
       "      <td>0xfcb065dda0ac9a55bda686b6ba17a4589510198160de...</td>\n",
       "      <td>4.0</td>\n",
       "      <td>0x09aced531359ceffad9759a9252e1d82e3557eb2</td>\n",
       "      <td>0x567eebb6397cc8345e5a7eae288994bf45fdf85b</td>\n",
       "      <td>65426023606211705</td>\n",
       "      <td>0x7679a816</td>\n",
       "      <td>0x</td>\n",
       "      <td>284651.0</td>\n",
       "      <td>4874.0</td>\n",
       "      <td>1</td>\n",
       "      <td>...</td>\n",
       "      <td>MET</td>\n",
       "      <td>Metronome</td>\n",
       "      <td>18.0</td>\n",
       "      <td>0</td>\n",
       "      <td>0x09aced531359ceffad9759a9252e1d82e3557eb2</td>\n",
       "      <td>0x6080604052600436106100985763ffffffff7c010000...</td>\n",
       "      <td>['0x2af4c31e', '0x378252f2', '0x50b48c5e', '0x...</td>\n",
       "      <td>False</td>\n",
       "      <td>False</td>\n",
       "      <td>2019-06-24</td>\n",
       "    </tr>\n",
       "    <tr>\n",
       "      <th>7</th>\n",
       "      <td>0xfcb065dda0ac9a55bda686b6ba17a4589510198160de...</td>\n",
       "      <td>4.0</td>\n",
       "      <td>0x09aced531359ceffad9759a9252e1d82e3557eb2</td>\n",
       "      <td>0xf5269caa54f1f776dd996db35992d599e14d8a3b</td>\n",
       "      <td>0</td>\n",
       "      <td>0xfde9cded000000000000000000000000000000000000...</td>\n",
       "      <td>0x00000000000000000000000000000000000000000000...</td>\n",
       "      <td>301428.0</td>\n",
       "      <td>3279.0</td>\n",
       "      <td>0</td>\n",
       "      <td>...</td>\n",
       "      <td>MET</td>\n",
       "      <td>Metronome</td>\n",
       "      <td>18.0</td>\n",
       "      <td>0</td>\n",
       "      <td>0x09aced531359ceffad9759a9252e1d82e3557eb2</td>\n",
       "      <td>0x6080604052600436106100985763ffffffff7c010000...</td>\n",
       "      <td>['0x2af4c31e', '0x378252f2', '0x50b48c5e', '0x...</td>\n",
       "      <td>False</td>\n",
       "      <td>False</td>\n",
       "      <td>2019-06-24</td>\n",
       "    </tr>\n",
       "    <tr>\n",
       "      <th>8</th>\n",
       "      <td>0xcab257301bb291e7fae69a49e3a2616f32c3d275130a...</td>\n",
       "      <td>4.0</td>\n",
       "      <td>0x09aced531359ceffad9759a9252e1d82e3557eb2</td>\n",
       "      <td>0xf5269caa54f1f776dd996db35992d599e14d8a3b</td>\n",
       "      <td>0</td>\n",
       "      <td>0x496a698d</td>\n",
       "      <td>0x00000000000000000000000000000000000000000000...</td>\n",
       "      <td>307201.0</td>\n",
       "      <td>3324.0</td>\n",
       "      <td>0</td>\n",
       "      <td>...</td>\n",
       "      <td>MET</td>\n",
       "      <td>Metronome</td>\n",
       "      <td>18.0</td>\n",
       "      <td>0</td>\n",
       "      <td>0x09aced531359ceffad9759a9252e1d82e3557eb2</td>\n",
       "      <td>0x6080604052600436106100985763ffffffff7c010000...</td>\n",
       "      <td>['0x2af4c31e', '0x378252f2', '0x50b48c5e', '0x...</td>\n",
       "      <td>False</td>\n",
       "      <td>False</td>\n",
       "      <td>2019-06-24</td>\n",
       "    </tr>\n",
       "    <tr>\n",
       "      <th>9</th>\n",
       "      <td>0xcab257301bb291e7fae69a49e3a2616f32c3d275130a...</td>\n",
       "      <td>4.0</td>\n",
       "      <td>0x09aced531359ceffad9759a9252e1d82e3557eb2</td>\n",
       "      <td>0x567eebb6397cc8345e5a7eae288994bf45fdf85b</td>\n",
       "      <td>65601693860489887</td>\n",
       "      <td>0x7679a816</td>\n",
       "      <td>0x</td>\n",
       "      <td>284651.0</td>\n",
       "      <td>4874.0</td>\n",
       "      <td>1</td>\n",
       "      <td>...</td>\n",
       "      <td>MET</td>\n",
       "      <td>Metronome</td>\n",
       "      <td>18.0</td>\n",
       "      <td>0</td>\n",
       "      <td>0x09aced531359ceffad9759a9252e1d82e3557eb2</td>\n",
       "      <td>0x6080604052600436106100985763ffffffff7c010000...</td>\n",
       "      <td>['0x2af4c31e', '0x378252f2', '0x50b48c5e', '0x...</td>\n",
       "      <td>False</td>\n",
       "      <td>False</td>\n",
       "      <td>2019-06-24</td>\n",
       "    </tr>\n",
       "  </tbody>\n",
       "</table>\n",
       "<p>10 rows × 40 columns</p>\n",
       "</div>"
      ],
      "text/plain": [
       "                                    transaction_hash  transaction_index  \\\n",
       "0  0x3c2a709cee3a943c4c16fbeeaf3e84c38f7c937a47e2...                7.0   \n",
       "1  0x3c2a709cee3a943c4c16fbeeaf3e84c38f7c937a47e2...                7.0   \n",
       "2  0x3c2a709cee3a943c4c16fbeeaf3e84c38f7c937a47e2...                7.0   \n",
       "3  0x3c2a709cee3a943c4c16fbeeaf3e84c38f7c937a47e2...                7.0   \n",
       "4  0xfcb065dda0ac9a55bda686b6ba17a4589510198160de...                4.0   \n",
       "5  0xfcb065dda0ac9a55bda686b6ba17a4589510198160de...                4.0   \n",
       "6  0xfcb065dda0ac9a55bda686b6ba17a4589510198160de...                4.0   \n",
       "7  0xfcb065dda0ac9a55bda686b6ba17a4589510198160de...                4.0   \n",
       "8  0xcab257301bb291e7fae69a49e3a2616f32c3d275130a...                4.0   \n",
       "9  0xcab257301bb291e7fae69a49e3a2616f32c3d275130a...                4.0   \n",
       "\n",
       "                           trace_from_address  \\\n",
       "0  0x09aced531359ceffad9759a9252e1d82e3557eb2   \n",
       "1  0x09aced531359ceffad9759a9252e1d82e3557eb2   \n",
       "2  0x09aced531359ceffad9759a9252e1d82e3557eb2   \n",
       "3  0x09aced531359ceffad9759a9252e1d82e3557eb2   \n",
       "4  0x09aced531359ceffad9759a9252e1d82e3557eb2   \n",
       "5  0x09aced531359ceffad9759a9252e1d82e3557eb2   \n",
       "6  0x09aced531359ceffad9759a9252e1d82e3557eb2   \n",
       "7  0x09aced531359ceffad9759a9252e1d82e3557eb2   \n",
       "8  0x09aced531359ceffad9759a9252e1d82e3557eb2   \n",
       "9  0x09aced531359ceffad9759a9252e1d82e3557eb2   \n",
       "\n",
       "                             trace_to_address        trace_value  \\\n",
       "0  0xf5269caa54f1f776dd996db35992d599e14d8a3b                  0   \n",
       "1  0xf5269caa54f1f776dd996db35992d599e14d8a3b                  0   \n",
       "2  0xf5269caa54f1f776dd996db35992d599e14d8a3b                  0   \n",
       "3  0x567eebb6397cc8345e5a7eae288994bf45fdf85b  65497181753650651   \n",
       "4  0xf5269caa54f1f776dd996db35992d599e14d8a3b                  0   \n",
       "5  0xf5269caa54f1f776dd996db35992d599e14d8a3b                  0   \n",
       "6  0x567eebb6397cc8345e5a7eae288994bf45fdf85b  65426023606211705   \n",
       "7  0xf5269caa54f1f776dd996db35992d599e14d8a3b                  0   \n",
       "8  0xf5269caa54f1f776dd996db35992d599e14d8a3b                  0   \n",
       "9  0x567eebb6397cc8345e5a7eae288994bf45fdf85b  65601693860489887   \n",
       "\n",
       "                                         trace_input  \\\n",
       "0  0xfde9cded000000000000000000000000000000000000...   \n",
       "1                                         0x496a698d   \n",
       "2                                         0x21288400   \n",
       "3                                         0x7679a816   \n",
       "4                                         0x496a698d   \n",
       "5                                         0x21288400   \n",
       "6                                         0x7679a816   \n",
       "7  0xfde9cded000000000000000000000000000000000000...   \n",
       "8                                         0x496a698d   \n",
       "9                                         0x7679a816   \n",
       "\n",
       "                                        trace_output  trace_gas  \\\n",
       "0  0x00000000000000000000000000000000000000000000...   301428.0   \n",
       "1  0x00000000000000000000000000000000000000000000...   307201.0   \n",
       "2  0x00000000000000000000000000000000000000000000...   309694.0   \n",
       "3                                                 0x   284651.0   \n",
       "4  0x00000000000000000000000000000000000000000000...   307201.0   \n",
       "5  0x00000000000000000000000000000000000000000000...   309694.0   \n",
       "6                                                 0x   284651.0   \n",
       "7  0x00000000000000000000000000000000000000000000...   301428.0   \n",
       "8  0x00000000000000000000000000000000000000000000...   307201.0   \n",
       "9                                                 0x   284651.0   \n",
       "\n",
       "   trace_gas_used  subtraces  ... token_symbol  token_name token_decimals  \\\n",
       "0          3279.0          0  ...          MET   Metronome           18.0   \n",
       "1          3324.0          0  ...          MET   Metronome           18.0   \n",
       "2           689.0          0  ...          MET   Metronome           18.0   \n",
       "3          4874.0          1  ...          MET   Metronome           18.0   \n",
       "4          3324.0          0  ...          MET   Metronome           18.0   \n",
       "5           689.0          0  ...          MET   Metronome           18.0   \n",
       "6          4874.0          1  ...          MET   Metronome           18.0   \n",
       "7          3279.0          0  ...          MET   Metronome           18.0   \n",
       "8          3324.0          0  ...          MET   Metronome           18.0   \n",
       "9          4874.0          1  ...          MET   Metronome           18.0   \n",
       "\n",
       "  token_total_supply                            Contract_address  \\\n",
       "0                  0  0x09aced531359ceffad9759a9252e1d82e3557eb2   \n",
       "1                  0  0x09aced531359ceffad9759a9252e1d82e3557eb2   \n",
       "2                  0  0x09aced531359ceffad9759a9252e1d82e3557eb2   \n",
       "3                  0  0x09aced531359ceffad9759a9252e1d82e3557eb2   \n",
       "4                  0  0x09aced531359ceffad9759a9252e1d82e3557eb2   \n",
       "5                  0  0x09aced531359ceffad9759a9252e1d82e3557eb2   \n",
       "6                  0  0x09aced531359ceffad9759a9252e1d82e3557eb2   \n",
       "7                  0  0x09aced531359ceffad9759a9252e1d82e3557eb2   \n",
       "8                  0  0x09aced531359ceffad9759a9252e1d82e3557eb2   \n",
       "9                  0  0x09aced531359ceffad9759a9252e1d82e3557eb2   \n",
       "\n",
       "                                   Contract_bytecode  \\\n",
       "0  0x6080604052600436106100985763ffffffff7c010000...   \n",
       "1  0x6080604052600436106100985763ffffffff7c010000...   \n",
       "2  0x6080604052600436106100985763ffffffff7c010000...   \n",
       "3  0x6080604052600436106100985763ffffffff7c010000...   \n",
       "4  0x6080604052600436106100985763ffffffff7c010000...   \n",
       "5  0x6080604052600436106100985763ffffffff7c010000...   \n",
       "6  0x6080604052600436106100985763ffffffff7c010000...   \n",
       "7  0x6080604052600436106100985763ffffffff7c010000...   \n",
       "8  0x6080604052600436106100985763ffffffff7c010000...   \n",
       "9  0x6080604052600436106100985763ffffffff7c010000...   \n",
       "\n",
       "                         Contract_function_sighashes  Contract_is_erc20  \\\n",
       "0  ['0x2af4c31e', '0x378252f2', '0x50b48c5e', '0x...              False   \n",
       "1  ['0x2af4c31e', '0x378252f2', '0x50b48c5e', '0x...              False   \n",
       "2  ['0x2af4c31e', '0x378252f2', '0x50b48c5e', '0x...              False   \n",
       "3  ['0x2af4c31e', '0x378252f2', '0x50b48c5e', '0x...              False   \n",
       "4  ['0x2af4c31e', '0x378252f2', '0x50b48c5e', '0x...              False   \n",
       "5  ['0x2af4c31e', '0x378252f2', '0x50b48c5e', '0x...              False   \n",
       "6  ['0x2af4c31e', '0x378252f2', '0x50b48c5e', '0x...              False   \n",
       "7  ['0x2af4c31e', '0x378252f2', '0x50b48c5e', '0x...              False   \n",
       "8  ['0x2af4c31e', '0x378252f2', '0x50b48c5e', '0x...              False   \n",
       "9  ['0x2af4c31e', '0x378252f2', '0x50b48c5e', '0x...              False   \n",
       "\n",
       "  Contract_is_erc721  Contract_block_Date  \n",
       "0              False           2019-06-24  \n",
       "1              False           2019-06-24  \n",
       "2              False           2019-06-24  \n",
       "3              False           2019-06-24  \n",
       "4              False           2019-06-24  \n",
       "5              False           2019-06-24  \n",
       "6              False           2019-06-24  \n",
       "7              False           2019-06-24  \n",
       "8              False           2019-06-24  \n",
       "9              False           2019-06-24  \n",
       "\n",
       "[10 rows x 40 columns]"
      ]
     },
     "execution_count": 90,
     "metadata": {},
     "output_type": "execute_result"
    }
   ],
   "source": [
    "# Path where all Dataset are located\n",
    "\n",
    "dfTrace = pd.read_csv(\"/Users/rparama/Downloads/Dataset/ENSConcat.csv\")\n",
    "dfTrace.head(10)"
   ]
  },
  {
   "cell_type": "code",
   "execution_count": 116,
   "metadata": {},
   "outputs": [],
   "source": [
    "dfTraceEDA = dfTrace.replace(\"''\", '', regex=True)"
   ]
  },
  {
   "cell_type": "code",
   "execution_count": 118,
   "metadata": {},
   "outputs": [
    {
     "name": "stdout",
     "output_type": "stream",
     "text": [
      "+------+-----------------------------+-----------+--------------+--------------+------------+-------------+\n",
      "| S.No |         Column Name         | Data Type | Record Count | Unique Count | Null Count | Total Count |\n",
      "+------+-----------------------------+-----------+--------------+--------------+------------+-------------+\n",
      "|  1   |       transaction_hash      |   object  |    963534    |    57636     |     0      |    963534   |\n",
      "|  2   |      transaction_index      |  float64  |    963534    |     155      |     0      |    963534   |\n",
      "|  3   |      trace_from_address     |   object  |    963534    |     1008     |     0      |    963534   |\n",
      "|  4   |       trace_to_address      |   object  |    963534    |     257      |     0      |    963534   |\n",
      "|  5   |         trace_value         |   object  |    963534    |     988      |     0      |    963534   |\n",
      "|  6   |         trace_input         |   object  |    963534    |    54296     |     0      |    963534   |\n",
      "|  7   |         trace_output        |   object  |    963534    |     4064     |     0      |    963534   |\n",
      "|  8   |          trace_gas          |  float64  |    963534    |    60804     |     0      |    963534   |\n",
      "|  9   |        trace_gas_used       |  float64  |    963534    |     5648     |     0      |    963534   |\n",
      "|  10  |          subtraces          |   int64   |    963534    |      30      |     0      |    963534   |\n",
      "|  11  |       block_timestamp       |   object  |    963534    |    24736     |     0      |    963534   |\n",
      "|  12  |         block_number        |   int64   |    963534    |    24736     |     0      |    963534   |\n",
      "|  13  |          block_hash         |   object  |    963534    |    24736     |     0      |    963534   |\n",
      "|  14  |    token_transfer_address   |   object  |    963534    |      30      |     0      |    963534   |\n",
      "|  15  | token_transfer_from_address |   object  |    963534    |     1382     |     0      |    963534   |\n",
      "|  16  |  token_transfer_to_address  |   object  |    963534    |    24745     |     0      |    963534   |\n",
      "|  17  |     token_transfer_value    |   object  |    963534    |     8446     |     0      |    963534   |\n",
      "|  18  |          log_index          |   int64   |    963534    |     241      |     0      |    963534   |\n",
      "|  19  |             hash            |   object  |    963534    |    57636     |     0      |    963534   |\n",
      "|  20  |            nonce            |   int64   |    963534    |    23632     |     0      |    963534   |\n",
      "|  21  |   transaction_from_address  |   object  |    963534    |     1778     |     0      |    963534   |\n",
      "|  22  |    transaction_to_address   |   object  |    963534    |      73      |     0      |    963534   |\n",
      "|  23  |      transaction_value      |   object  |    963534    |      99      |     0      |    963534   |\n",
      "|  24  |       transaction_gas       |   int64   |    963534    |     1267     |     0      |    963534   |\n",
      "|  25  |    transaction_gas_price    |   int64   |    963534    |     129      |     0      |    963534   |\n",
      "|  26  |      transaction_input      |   object  |    963534    |    32673     |     0      |    963534   |\n",
      "|  27  | receipt_cumulative_gas_used |   int64   |    963534    |    39392     |     0      |    963534   |\n",
      "|  28  |       receipt_gas_used      |   int64   |    963534    |     6471     |     0      |    963534   |\n",
      "|  29  |        receipt_status       |  float64  |    963534    |      2       |     0      |    963534   |\n",
      "|  30  |        token_address        |   object  |    963534    |      30      |     0      |    963534   |\n",
      "|  31  |         token_symbol        |   object  |    963534    |      29      |     0      |    963534   |\n",
      "|  32  |          token_name         |   object  |    963534    |      26      |     0      |    963534   |\n",
      "|  33  |        token_decimals       |  float64  |    963534    |      7       |     0      |    963534   |\n",
      "|  34  |      token_total_supply     |   object  |    963534    |      28      |     0      |    963534   |\n",
      "|  35  |       Contract_address      |   object  |    963534    |     110      |     0      |    963534   |\n",
      "|  36  |      Contract_bytecode      |   object  |    963534    |      94      |     0      |    963534   |\n",
      "|  37  | Contract_function_sighashes |   object  |    963534    |      53      |     0      |    963534   |\n",
      "|  38  |      Contract_is_erc20      |    bool   |    963534    |      2       |     0      |    963534   |\n",
      "|  39  |      Contract_is_erc721     |    bool   |    963534    |      1       |     0      |    963534   |\n",
      "|  40  |     Contract_block_Date     |   object  |    963534    |      37      |     0      |    963534   |\n",
      "+------+-----------------------------+-----------+--------------+--------------+------------+-------------+\n"
     ]
    }
   ],
   "source": [
    "# File metadata/Schema analysis\n",
    "\n",
    "i=1\n",
    "headers=PrettyTable([\"S.No\",\n",
    "                     \"Column Name\",\n",
    "                     \"Data Type\",\n",
    "                     \"Record Count\",\n",
    "                     \"Unique Count\",\n",
    "                     \"Null Count\",\n",
    "                     \"Total Count\"])\n",
    "\n",
    "for col in dfTraceEDA.columns:\n",
    "    headers.add_row([i,\n",
    "                     col,\n",
    "                     dfTraceEDA[col].dtypes,\n",
    "                     dfTraceEDA[col].count(),\n",
    "                     dfTraceEDA[col].nunique(),\n",
    "                     dfTraceEDA[col].isnull().sum(),\n",
    "                     dfTraceEDA[col].count()+dfTraceEDA[col].isnull().sum()])\n",
    "    i+=1\n",
    "\n",
    "print(headers)"
   ]
  },
  {
   "cell_type": "code",
   "execution_count": 117,
   "metadata": {},
   "outputs": [
    {
     "data": {
      "text/html": [
       "<div>\n",
       "<style scoped>\n",
       "    .dataframe tbody tr th:only-of-type {\n",
       "        vertical-align: middle;\n",
       "    }\n",
       "\n",
       "    .dataframe tbody tr th {\n",
       "        vertical-align: top;\n",
       "    }\n",
       "\n",
       "    .dataframe thead th {\n",
       "        text-align: right;\n",
       "    }\n",
       "</style>\n",
       "<table border=\"1\" class=\"dataframe\">\n",
       "  <thead>\n",
       "    <tr style=\"text-align: right;\">\n",
       "      <th></th>\n",
       "      <th>transaction_hash</th>\n",
       "      <th>transaction_index</th>\n",
       "      <th>trace_from_address</th>\n",
       "      <th>trace_to_address</th>\n",
       "      <th>trace_value</th>\n",
       "      <th>trace_input</th>\n",
       "      <th>trace_output</th>\n",
       "      <th>trace_gas</th>\n",
       "      <th>trace_gas_used</th>\n",
       "      <th>subtraces</th>\n",
       "      <th>...</th>\n",
       "      <th>token_symbol</th>\n",
       "      <th>token_name</th>\n",
       "      <th>token_decimals</th>\n",
       "      <th>token_total_supply</th>\n",
       "      <th>Contract_address</th>\n",
       "      <th>Contract_bytecode</th>\n",
       "      <th>Contract_function_sighashes</th>\n",
       "      <th>Contract_is_erc20</th>\n",
       "      <th>Contract_is_erc721</th>\n",
       "      <th>Contract_block_Date</th>\n",
       "    </tr>\n",
       "  </thead>\n",
       "  <tbody>\n",
       "    <tr>\n",
       "      <th>0</th>\n",
       "      <td>0x3c2a709cee3a943c4c16fbeeaf3e84c38f7c937a47e2...</td>\n",
       "      <td>7.0</td>\n",
       "      <td>0x09aced531359ceffad9759a9252e1d82e3557eb2</td>\n",
       "      <td>0xf5269caa54f1f776dd996db35992d599e14d8a3b</td>\n",
       "      <td>0</td>\n",
       "      <td>0xfde9cded000000000000000000000000000000000000...</td>\n",
       "      <td>0x00000000000000000000000000000000000000000000...</td>\n",
       "      <td>301428.0</td>\n",
       "      <td>3279.0</td>\n",
       "      <td>0</td>\n",
       "      <td>...</td>\n",
       "      <td>MET</td>\n",
       "      <td>Metronome</td>\n",
       "      <td>18.0</td>\n",
       "      <td>0</td>\n",
       "      <td>0x09aced531359ceffad9759a9252e1d82e3557eb2</td>\n",
       "      <td>0x6080604052600436106100985763ffffffff7c010000...</td>\n",
       "      <td>['0x2af4c31e', '0x378252f2', '0x50b48c5e', '0x...</td>\n",
       "      <td>False</td>\n",
       "      <td>False</td>\n",
       "      <td>2019-06-24</td>\n",
       "    </tr>\n",
       "    <tr>\n",
       "      <th>1</th>\n",
       "      <td>0x3c2a709cee3a943c4c16fbeeaf3e84c38f7c937a47e2...</td>\n",
       "      <td>7.0</td>\n",
       "      <td>0x09aced531359ceffad9759a9252e1d82e3557eb2</td>\n",
       "      <td>0xf5269caa54f1f776dd996db35992d599e14d8a3b</td>\n",
       "      <td>0</td>\n",
       "      <td>0x496a698d</td>\n",
       "      <td>0x00000000000000000000000000000000000000000000...</td>\n",
       "      <td>307201.0</td>\n",
       "      <td>3324.0</td>\n",
       "      <td>0</td>\n",
       "      <td>...</td>\n",
       "      <td>MET</td>\n",
       "      <td>Metronome</td>\n",
       "      <td>18.0</td>\n",
       "      <td>0</td>\n",
       "      <td>0x09aced531359ceffad9759a9252e1d82e3557eb2</td>\n",
       "      <td>0x6080604052600436106100985763ffffffff7c010000...</td>\n",
       "      <td>['0x2af4c31e', '0x378252f2', '0x50b48c5e', '0x...</td>\n",
       "      <td>False</td>\n",
       "      <td>False</td>\n",
       "      <td>2019-06-24</td>\n",
       "    </tr>\n",
       "    <tr>\n",
       "      <th>2</th>\n",
       "      <td>0x3c2a709cee3a943c4c16fbeeaf3e84c38f7c937a47e2...</td>\n",
       "      <td>7.0</td>\n",
       "      <td>0x09aced531359ceffad9759a9252e1d82e3557eb2</td>\n",
       "      <td>0xf5269caa54f1f776dd996db35992d599e14d8a3b</td>\n",
       "      <td>0</td>\n",
       "      <td>0x21288400</td>\n",
       "      <td>0x00000000000000000000000000000000000000000000...</td>\n",
       "      <td>309694.0</td>\n",
       "      <td>689.0</td>\n",
       "      <td>0</td>\n",
       "      <td>...</td>\n",
       "      <td>MET</td>\n",
       "      <td>Metronome</td>\n",
       "      <td>18.0</td>\n",
       "      <td>0</td>\n",
       "      <td>0x09aced531359ceffad9759a9252e1d82e3557eb2</td>\n",
       "      <td>0x6080604052600436106100985763ffffffff7c010000...</td>\n",
       "      <td>['0x2af4c31e', '0x378252f2', '0x50b48c5e', '0x...</td>\n",
       "      <td>False</td>\n",
       "      <td>False</td>\n",
       "      <td>2019-06-24</td>\n",
       "    </tr>\n",
       "    <tr>\n",
       "      <th>3</th>\n",
       "      <td>0x3c2a709cee3a943c4c16fbeeaf3e84c38f7c937a47e2...</td>\n",
       "      <td>7.0</td>\n",
       "      <td>0x09aced531359ceffad9759a9252e1d82e3557eb2</td>\n",
       "      <td>0x567eebb6397cc8345e5a7eae288994bf45fdf85b</td>\n",
       "      <td>65497181753650651</td>\n",
       "      <td>0x7679a816</td>\n",
       "      <td>0x</td>\n",
       "      <td>284651.0</td>\n",
       "      <td>4874.0</td>\n",
       "      <td>1</td>\n",
       "      <td>...</td>\n",
       "      <td>MET</td>\n",
       "      <td>Metronome</td>\n",
       "      <td>18.0</td>\n",
       "      <td>0</td>\n",
       "      <td>0x09aced531359ceffad9759a9252e1d82e3557eb2</td>\n",
       "      <td>0x6080604052600436106100985763ffffffff7c010000...</td>\n",
       "      <td>['0x2af4c31e', '0x378252f2', '0x50b48c5e', '0x...</td>\n",
       "      <td>False</td>\n",
       "      <td>False</td>\n",
       "      <td>2019-06-24</td>\n",
       "    </tr>\n",
       "    <tr>\n",
       "      <th>4</th>\n",
       "      <td>0xfcb065dda0ac9a55bda686b6ba17a4589510198160de...</td>\n",
       "      <td>4.0</td>\n",
       "      <td>0x09aced531359ceffad9759a9252e1d82e3557eb2</td>\n",
       "      <td>0xf5269caa54f1f776dd996db35992d599e14d8a3b</td>\n",
       "      <td>0</td>\n",
       "      <td>0x496a698d</td>\n",
       "      <td>0x00000000000000000000000000000000000000000000...</td>\n",
       "      <td>307201.0</td>\n",
       "      <td>3324.0</td>\n",
       "      <td>0</td>\n",
       "      <td>...</td>\n",
       "      <td>MET</td>\n",
       "      <td>Metronome</td>\n",
       "      <td>18.0</td>\n",
       "      <td>0</td>\n",
       "      <td>0x09aced531359ceffad9759a9252e1d82e3557eb2</td>\n",
       "      <td>0x6080604052600436106100985763ffffffff7c010000...</td>\n",
       "      <td>['0x2af4c31e', '0x378252f2', '0x50b48c5e', '0x...</td>\n",
       "      <td>False</td>\n",
       "      <td>False</td>\n",
       "      <td>2019-06-24</td>\n",
       "    </tr>\n",
       "  </tbody>\n",
       "</table>\n",
       "<p>5 rows × 40 columns</p>\n",
       "</div>"
      ],
      "text/plain": [
       "                                    transaction_hash  transaction_index  \\\n",
       "0  0x3c2a709cee3a943c4c16fbeeaf3e84c38f7c937a47e2...                7.0   \n",
       "1  0x3c2a709cee3a943c4c16fbeeaf3e84c38f7c937a47e2...                7.0   \n",
       "2  0x3c2a709cee3a943c4c16fbeeaf3e84c38f7c937a47e2...                7.0   \n",
       "3  0x3c2a709cee3a943c4c16fbeeaf3e84c38f7c937a47e2...                7.0   \n",
       "4  0xfcb065dda0ac9a55bda686b6ba17a4589510198160de...                4.0   \n",
       "\n",
       "                           trace_from_address  \\\n",
       "0  0x09aced531359ceffad9759a9252e1d82e3557eb2   \n",
       "1  0x09aced531359ceffad9759a9252e1d82e3557eb2   \n",
       "2  0x09aced531359ceffad9759a9252e1d82e3557eb2   \n",
       "3  0x09aced531359ceffad9759a9252e1d82e3557eb2   \n",
       "4  0x09aced531359ceffad9759a9252e1d82e3557eb2   \n",
       "\n",
       "                             trace_to_address        trace_value  \\\n",
       "0  0xf5269caa54f1f776dd996db35992d599e14d8a3b                  0   \n",
       "1  0xf5269caa54f1f776dd996db35992d599e14d8a3b                  0   \n",
       "2  0xf5269caa54f1f776dd996db35992d599e14d8a3b                  0   \n",
       "3  0x567eebb6397cc8345e5a7eae288994bf45fdf85b  65497181753650651   \n",
       "4  0xf5269caa54f1f776dd996db35992d599e14d8a3b                  0   \n",
       "\n",
       "                                         trace_input  \\\n",
       "0  0xfde9cded000000000000000000000000000000000000...   \n",
       "1                                         0x496a698d   \n",
       "2                                         0x21288400   \n",
       "3                                         0x7679a816   \n",
       "4                                         0x496a698d   \n",
       "\n",
       "                                        trace_output  trace_gas  \\\n",
       "0  0x00000000000000000000000000000000000000000000...   301428.0   \n",
       "1  0x00000000000000000000000000000000000000000000...   307201.0   \n",
       "2  0x00000000000000000000000000000000000000000000...   309694.0   \n",
       "3                                                 0x   284651.0   \n",
       "4  0x00000000000000000000000000000000000000000000...   307201.0   \n",
       "\n",
       "   trace_gas_used  subtraces  ... token_symbol  token_name token_decimals  \\\n",
       "0          3279.0          0  ...          MET   Metronome           18.0   \n",
       "1          3324.0          0  ...          MET   Metronome           18.0   \n",
       "2           689.0          0  ...          MET   Metronome           18.0   \n",
       "3          4874.0          1  ...          MET   Metronome           18.0   \n",
       "4          3324.0          0  ...          MET   Metronome           18.0   \n",
       "\n",
       "  token_total_supply                            Contract_address  \\\n",
       "0                  0  0x09aced531359ceffad9759a9252e1d82e3557eb2   \n",
       "1                  0  0x09aced531359ceffad9759a9252e1d82e3557eb2   \n",
       "2                  0  0x09aced531359ceffad9759a9252e1d82e3557eb2   \n",
       "3                  0  0x09aced531359ceffad9759a9252e1d82e3557eb2   \n",
       "4                  0  0x09aced531359ceffad9759a9252e1d82e3557eb2   \n",
       "\n",
       "                                   Contract_bytecode  \\\n",
       "0  0x6080604052600436106100985763ffffffff7c010000...   \n",
       "1  0x6080604052600436106100985763ffffffff7c010000...   \n",
       "2  0x6080604052600436106100985763ffffffff7c010000...   \n",
       "3  0x6080604052600436106100985763ffffffff7c010000...   \n",
       "4  0x6080604052600436106100985763ffffffff7c010000...   \n",
       "\n",
       "                         Contract_function_sighashes  Contract_is_erc20  \\\n",
       "0  ['0x2af4c31e', '0x378252f2', '0x50b48c5e', '0x...              False   \n",
       "1  ['0x2af4c31e', '0x378252f2', '0x50b48c5e', '0x...              False   \n",
       "2  ['0x2af4c31e', '0x378252f2', '0x50b48c5e', '0x...              False   \n",
       "3  ['0x2af4c31e', '0x378252f2', '0x50b48c5e', '0x...              False   \n",
       "4  ['0x2af4c31e', '0x378252f2', '0x50b48c5e', '0x...              False   \n",
       "\n",
       "  Contract_is_erc721  Contract_block_Date  \n",
       "0              False           2019-06-24  \n",
       "1              False           2019-06-24  \n",
       "2              False           2019-06-24  \n",
       "3              False           2019-06-24  \n",
       "4              False           2019-06-24  \n",
       "\n",
       "[5 rows x 40 columns]"
      ]
     },
     "execution_count": 117,
     "metadata": {},
     "output_type": "execute_result"
    }
   ],
   "source": [
    "dfTraceEDA.head()"
   ]
  },
  {
   "cell_type": "markdown",
   "metadata": {},
   "source": [
    "# Variable Type Conversion"
   ]
  },
  {
   "cell_type": "code",
   "execution_count": 119,
   "metadata": {},
   "outputs": [],
   "source": [
    "# Converting object into Datetime\n",
    "\n",
    "dfTraceEDA[\"block_timestamp\"] = pd.to_datetime(dfTraceEDA[\"block_timestamp\"], dayfirst=True)\n",
    "dfTraceEDA[\"Contract_block_Date\"] = pd.to_datetime(dfTraceEDA[\"Contract_block_Date\"], dayfirst=True)"
   ]
  },
  {
   "cell_type": "code",
   "execution_count": 126,
   "metadata": {},
   "outputs": [],
   "source": [
    "# Converting object into float\n",
    "\n",
    "dfTraceEDA['token_total_supply'] = dfTraceEDA['token_total_supply'].astype(str).astype(float)\n",
    "dfTraceEDA['transaction_value'] = dfTraceEDA['transaction_value'].astype(str).astype(float)\n",
    "dfTraceEDA['token_transfer_value'] = dfTraceEDA['token_transfer_value'].astype(str).astype(float)\n",
    "dfTraceEDA['trace_value'] = dfTraceEDA['trace_value'].astype(str).astype(float)\n"
   ]
  },
  {
   "cell_type": "code",
   "execution_count": 130,
   "metadata": {},
   "outputs": [
    {
     "name": "stdout",
     "output_type": "stream",
     "text": [
      "+------+-----------------------------+---------------------+--------------+--------------+------------+\n",
      "| S.No |         Column Name         |      Data Type      | Record Count | Unique Count | Null Count |\n",
      "+------+-----------------------------+---------------------+--------------+--------------+------------+\n",
      "|  1   |       transaction_hash      |        object       |    963534    |    57636     |     0      |\n",
      "|  2   |      transaction_index      |       float64       |    963534    |     155      |     0      |\n",
      "|  3   |      trace_from_address     |        object       |    963534    |     1008     |     0      |\n",
      "|  4   |       trace_to_address      |        object       |    963534    |     257      |     0      |\n",
      "|  5   |         trace_value         |       float64       |    963534    |     983      |     0      |\n",
      "|  6   |         trace_input         |        object       |    963534    |    54296     |     0      |\n",
      "|  7   |         trace_output        |        object       |    963534    |     4064     |     0      |\n",
      "|  8   |          trace_gas          |       float64       |    963534    |    60804     |     0      |\n",
      "|  9   |        trace_gas_used       |       float64       |    963534    |     5648     |     0      |\n",
      "|  10  |          subtraces          |        int64        |    963534    |      30      |     0      |\n",
      "|  11  |       block_timestamp       | datetime64[ns, UTC] |    963534    |    24736     |     0      |\n",
      "|  12  |         block_number        |        int64        |    963534    |    24736     |     0      |\n",
      "|  13  |          block_hash         |        object       |    963534    |    24736     |     0      |\n",
      "|  14  |    token_transfer_address   |        object       |    963534    |      30      |     0      |\n",
      "|  15  | token_transfer_from_address |        object       |    963534    |     1382     |     0      |\n",
      "|  16  |  token_transfer_to_address  |        object       |    963534    |    24745     |     0      |\n",
      "|  17  |     token_transfer_value    |       float64       |    963534    |     7808     |     0      |\n",
      "|  18  |          log_index          |        int64        |    963534    |     241      |     0      |\n",
      "|  19  |             hash            |        object       |    963534    |    57636     |     0      |\n",
      "|  20  |            nonce            |        int64        |    963534    |    23632     |     0      |\n",
      "|  21  |   transaction_from_address  |        object       |    963534    |     1778     |     0      |\n",
      "|  22  |    transaction_to_address   |        object       |    963534    |      73      |     0      |\n",
      "|  23  |      transaction_value      |       float64       |    963534    |      94      |     0      |\n",
      "|  24  |       transaction_gas       |        int64        |    963534    |     1267     |     0      |\n",
      "|  25  |    transaction_gas_price    |        int64        |    963534    |     129      |     0      |\n",
      "|  26  |      transaction_input      |        object       |    963534    |    32673     |     0      |\n",
      "|  27  | receipt_cumulative_gas_used |        int64        |    963534    |    39392     |     0      |\n",
      "|  28  |       receipt_gas_used      |        int64        |    963534    |     6471     |     0      |\n",
      "|  29  |        receipt_status       |       float64       |    963534    |      2       |     0      |\n",
      "|  30  |        token_address        |        object       |    963534    |      30      |     0      |\n",
      "|  31  |         token_symbol        |        object       |    963534    |      29      |     0      |\n",
      "|  32  |          token_name         |        object       |    963534    |      26      |     0      |\n",
      "|  33  |        token_decimals       |       float64       |    963534    |      7       |     0      |\n",
      "|  34  |      token_total_supply     |       float64       |    963534    |      23      |     0      |\n",
      "|  35  |       Contract_address      |        object       |    963534    |     110      |     0      |\n",
      "|  36  |      Contract_bytecode      |        object       |    963534    |      94      |     0      |\n",
      "|  37  | Contract_function_sighashes |        object       |    963534    |      53      |     0      |\n",
      "|  38  |      Contract_is_erc20      |         bool        |    963534    |      2       |     0      |\n",
      "|  39  |      Contract_is_erc721     |         bool        |    963534    |      1       |     0      |\n",
      "|  40  |     Contract_block_Date     |    datetime64[ns]   |    963534    |      37      |     0      |\n",
      "+------+-----------------------------+---------------------+--------------+--------------+------------+\n"
     ]
    }
   ],
   "source": [
    "# File metadata/Schema analysis\n",
    "\n",
    "i=1\n",
    "headers=PrettyTable([\"S.No\",\n",
    "                     \"Column Name\",\n",
    "                     \"Data Type\",\n",
    "                     \"Record Count\",\n",
    "                     \"Unique Count\",\n",
    "                     \"Null Count\"\n",
    "                     ])\n",
    "\n",
    "for col in dfTraceEDA.columns:\n",
    "    headers.add_row([i,\n",
    "                     col,\n",
    "                     dfTraceEDA[col].dtypes,\n",
    "                     dfTraceEDA[col].count(),\n",
    "                     dfTraceEDA[col].nunique(),\n",
    "                     dfTraceEDA[col].isnull().sum()\n",
    "                     ])\n",
    "    i+=1\n",
    "\n",
    "print(headers)"
   ]
  },
  {
   "cell_type": "code",
   "execution_count": 195,
   "metadata": {},
   "outputs": [
    {
     "data": {
      "text/plain": [
       "array([1., 0.])"
      ]
     },
     "execution_count": 195,
     "metadata": {},
     "output_type": "execute_result"
    }
   ],
   "source": [
    "dfTraceEDA.receipt_status.unique()"
   ]
  },
  {
   "cell_type": "code",
   "execution_count": 228,
   "metadata": {},
   "outputs": [],
   "source": [
    "dfTraceAgg = dfTraceEDA.groupby(['token_address',\n",
    "                                 'token_name',\n",
    "                                 'receipt_status',\n",
    "                                 'Contract_is_erc20']).aggregate({'trace_from_address':'nunique',\n",
    "                                                                  'trace_to_address':'nunique',\n",
    "                                                                  'trace_value':'sum',\n",
    "                                                                  'trace_gas':'sum',\n",
    "                                                                  'trace_gas_used':'sum',\n",
    "                                                                  'token_transfer_from_address':'nunique',\n",
    "                                                                  'token_transfer_to_address':'nunique',\n",
    "                                                                  'token_transfer_value':'sum',\n",
    "                                                                  'transaction_from_address':'nunique',\n",
    "                                                                  'transaction_to_address':'nunique',\n",
    "                                                                  'transaction_value':'sum',\n",
    "                                                                  'transaction_gas':'sum',\n",
    "                                                                  'transaction_gas_price':'sum',\n",
    "                                                                  'receipt_cumulative_gas_used':'max',\n",
    "                                                                  'receipt_gas_used':'sum',\n",
    "                                                                  'token_decimals':'max',\n",
    "                                                                  'token_total_supply':'max',\n",
    "                                                                  'Contract_address':'nunique'})\n"
   ]
  },
  {
   "cell_type": "code",
   "execution_count": 229,
   "metadata": {},
   "outputs": [],
   "source": [
    "dfTraceAgg = dfTraceAgg.reset_index()"
   ]
  },
  {
   "cell_type": "code",
   "execution_count": 230,
   "metadata": {},
   "outputs": [
    {
     "data": {
      "text/html": [
       "<div>\n",
       "<style scoped>\n",
       "    .dataframe tbody tr th:only-of-type {\n",
       "        vertical-align: middle;\n",
       "    }\n",
       "\n",
       "    .dataframe tbody tr th {\n",
       "        vertical-align: top;\n",
       "    }\n",
       "\n",
       "    .dataframe thead th {\n",
       "        text-align: right;\n",
       "    }\n",
       "</style>\n",
       "<table border=\"1\" class=\"dataframe\">\n",
       "  <thead>\n",
       "    <tr style=\"text-align: right;\">\n",
       "      <th></th>\n",
       "      <th>token_address</th>\n",
       "      <th>token_name</th>\n",
       "      <th>receipt_status</th>\n",
       "      <th>Contract_is_erc20</th>\n",
       "      <th>trace_from_address</th>\n",
       "      <th>trace_to_address</th>\n",
       "      <th>trace_value</th>\n",
       "      <th>trace_gas</th>\n",
       "      <th>trace_gas_used</th>\n",
       "      <th>token_transfer_from_address</th>\n",
       "      <th>...</th>\n",
       "      <th>transaction_from_address</th>\n",
       "      <th>transaction_to_address</th>\n",
       "      <th>transaction_value</th>\n",
       "      <th>transaction_gas</th>\n",
       "      <th>transaction_gas_price</th>\n",
       "      <th>receipt_cumulative_gas_used</th>\n",
       "      <th>receipt_gas_used</th>\n",
       "      <th>token_decimals</th>\n",
       "      <th>token_total_supply</th>\n",
       "      <th>Contract_address</th>\n",
       "    </tr>\n",
       "  </thead>\n",
       "  <tbody>\n",
       "    <tr>\n",
       "      <th>0</th>\n",
       "      <td>0x0000000000b3f879cb30fe243b4dfee438691c04</td>\n",
       "      <td>Gastoken.io</td>\n",
       "      <td>0.0</td>\n",
       "      <td>False</td>\n",
       "      <td>4</td>\n",
       "      <td>4</td>\n",
       "      <td>0.000000e+00</td>\n",
       "      <td>1.272665e+08</td>\n",
       "      <td>1.258158e+08</td>\n",
       "      <td>2</td>\n",
       "      <td>...</td>\n",
       "      <td>2</td>\n",
       "      <td>2</td>\n",
       "      <td>0.000000e+00</td>\n",
       "      <td>256089852</td>\n",
       "      <td>69400000000</td>\n",
       "      <td>7567350</td>\n",
       "      <td>252218296</td>\n",
       "      <td>2.0</td>\n",
       "      <td>1.292323e+07</td>\n",
       "      <td>2</td>\n",
       "    </tr>\n",
       "    <tr>\n",
       "      <th>1</th>\n",
       "      <td>0x0000000000b3f879cb30fe243b4dfee438691c04</td>\n",
       "      <td>Gastoken.io</td>\n",
       "      <td>1.0</td>\n",
       "      <td>False</td>\n",
       "      <td>4</td>\n",
       "      <td>2</td>\n",
       "      <td>0.000000e+00</td>\n",
       "      <td>4.419811e+06</td>\n",
       "      <td>1.113697e+06</td>\n",
       "      <td>3</td>\n",
       "      <td>...</td>\n",
       "      <td>3</td>\n",
       "      <td>1</td>\n",
       "      <td>0.000000e+00</td>\n",
       "      <td>5901184</td>\n",
       "      <td>12008000000</td>\n",
       "      <td>543034</td>\n",
       "      <td>3107288</td>\n",
       "      <td>2.0</td>\n",
       "      <td>1.292323e+07</td>\n",
       "      <td>1</td>\n",
       "    </tr>\n",
       "    <tr>\n",
       "      <th>2</th>\n",
       "      <td>0x06c6fe422a4e2a1c68d16ee3a798552ba5b670ac</td>\n",
       "      <td>Test 2</td>\n",
       "      <td>0.0</td>\n",
       "      <td>True</td>\n",
       "      <td>1</td>\n",
       "      <td>1</td>\n",
       "      <td>0.000000e+00</td>\n",
       "      <td>5.536160e+05</td>\n",
       "      <td>5.657800e+04</td>\n",
       "      <td>1</td>\n",
       "      <td>...</td>\n",
       "      <td>1</td>\n",
       "      <td>1</td>\n",
       "      <td>0.000000e+00</td>\n",
       "      <td>600000</td>\n",
       "      <td>46000001024</td>\n",
       "      <td>57481</td>\n",
       "      <td>72962</td>\n",
       "      <td>4.0</td>\n",
       "      <td>1.000000e+18</td>\n",
       "      <td>1</td>\n",
       "    </tr>\n",
       "    <tr>\n",
       "      <th>3</th>\n",
       "      <td>0x0781311fde517339d24d749db3fa8b236de5417e</td>\n",
       "      <td>Pontos</td>\n",
       "      <td>1.0</td>\n",
       "      <td>True</td>\n",
       "      <td>1</td>\n",
       "      <td>1</td>\n",
       "      <td>0.000000e+00</td>\n",
       "      <td>1.260098e+08</td>\n",
       "      <td>2.923630e+06</td>\n",
       "      <td>6</td>\n",
       "      <td>...</td>\n",
       "      <td>1</td>\n",
       "      <td>1</td>\n",
       "      <td>0.000000e+00</td>\n",
       "      <td>129000000</td>\n",
       "      <td>2523000000000</td>\n",
       "      <td>1395666</td>\n",
       "      <td>5467002</td>\n",
       "      <td>18.0</td>\n",
       "      <td>1.000000e+21</td>\n",
       "      <td>1</td>\n",
       "    </tr>\n",
       "    <tr>\n",
       "      <th>4</th>\n",
       "      <td>0x09eb38b9b29c2c0b96f81fce3bb13bd4c96c2ee7</td>\n",
       "      <td>DanCoin</td>\n",
       "      <td>1.0</td>\n",
       "      <td>True</td>\n",
       "      <td>1</td>\n",
       "      <td>1</td>\n",
       "      <td>0.000000e+00</td>\n",
       "      <td>1.061990e+05</td>\n",
       "      <td>6.744000e+04</td>\n",
       "      <td>1</td>\n",
       "      <td>...</td>\n",
       "      <td>1</td>\n",
       "      <td>1</td>\n",
       "      <td>0.000000e+00</td>\n",
       "      <td>173983</td>\n",
       "      <td>4000000000</td>\n",
       "      <td>559594</td>\n",
       "      <td>135224</td>\n",
       "      <td>5.0</td>\n",
       "      <td>3.500000e+15</td>\n",
       "      <td>1</td>\n",
       "    </tr>\n",
       "    <tr>\n",
       "      <th>5</th>\n",
       "      <td>0x0b5fa328278442956d405d8b501571e20b96260e</td>\n",
       "      <td>AMIS</td>\n",
       "      <td>1.0</td>\n",
       "      <td>True</td>\n",
       "      <td>1</td>\n",
       "      <td>1</td>\n",
       "      <td>0.000000e+00</td>\n",
       "      <td>2.753370e+05</td>\n",
       "      <td>3.642500e+04</td>\n",
       "      <td>1</td>\n",
       "      <td>...</td>\n",
       "      <td>1</td>\n",
       "      <td>1</td>\n",
       "      <td>0.000000e+00</td>\n",
       "      <td>305748</td>\n",
       "      <td>1000000000</td>\n",
       "      <td>272815</td>\n",
       "      <td>203832</td>\n",
       "      <td>9.0</td>\n",
       "      <td>6.604740e+05</td>\n",
       "      <td>1</td>\n",
       "    </tr>\n",
       "    <tr>\n",
       "      <th>6</th>\n",
       "      <td>0x15c374190b550a56621576209c2e722821286bbc</td>\n",
       "      <td>TheDanCoin</td>\n",
       "      <td>1.0</td>\n",
       "      <td>True</td>\n",
       "      <td>4</td>\n",
       "      <td>1</td>\n",
       "      <td>0.000000e+00</td>\n",
       "      <td>2.387812e+08</td>\n",
       "      <td>1.369276e+06</td>\n",
       "      <td>4</td>\n",
       "      <td>...</td>\n",
       "      <td>4</td>\n",
       "      <td>2</td>\n",
       "      <td>0.000000e+00</td>\n",
       "      <td>240897096</td>\n",
       "      <td>1537600000000</td>\n",
       "      <td>1894935</td>\n",
       "      <td>3631371</td>\n",
       "      <td>5.0</td>\n",
       "      <td>3.999998e+15</td>\n",
       "      <td>1</td>\n",
       "    </tr>\n",
       "    <tr>\n",
       "      <th>7</th>\n",
       "      <td>0x171040cd10f204f3b257e45b41ce65d36150558c</td>\n",
       "      <td>eBOMB</td>\n",
       "      <td>0.0</td>\n",
       "      <td>True</td>\n",
       "      <td>140</td>\n",
       "      <td>1</td>\n",
       "      <td>0.000000e+00</td>\n",
       "      <td>5.841082e+08</td>\n",
       "      <td>1.445470e+08</td>\n",
       "      <td>203</td>\n",
       "      <td>...</td>\n",
       "      <td>222</td>\n",
       "      <td>3</td>\n",
       "      <td>2.419481e+20</td>\n",
       "      <td>737026296</td>\n",
       "      <td>23042249721858</td>\n",
       "      <td>7999635</td>\n",
       "      <td>392263464</td>\n",
       "      <td>18.0</td>\n",
       "      <td>2.099851e+25</td>\n",
       "      <td>1</td>\n",
       "    </tr>\n",
       "    <tr>\n",
       "      <th>8</th>\n",
       "      <td>0x171040cd10f204f3b257e45b41ce65d36150558c</td>\n",
       "      <td>eBOMB</td>\n",
       "      <td>1.0</td>\n",
       "      <td>False</td>\n",
       "      <td>26</td>\n",
       "      <td>13</td>\n",
       "      <td>0.000000e+00</td>\n",
       "      <td>2.264384e+11</td>\n",
       "      <td>1.516478e+10</td>\n",
       "      <td>26</td>\n",
       "      <td>...</td>\n",
       "      <td>15</td>\n",
       "      <td>11</td>\n",
       "      <td>0.000000e+00</td>\n",
       "      <td>438497900280</td>\n",
       "      <td>154739868000000</td>\n",
       "      <td>7958083</td>\n",
       "      <td>435874540404</td>\n",
       "      <td>18.0</td>\n",
       "      <td>2.099851e+25</td>\n",
       "      <td>11</td>\n",
       "    </tr>\n",
       "    <tr>\n",
       "      <th>9</th>\n",
       "      <td>0x171040cd10f204f3b257e45b41ce65d36150558c</td>\n",
       "      <td>eBOMB</td>\n",
       "      <td>1.0</td>\n",
       "      <td>True</td>\n",
       "      <td>70</td>\n",
       "      <td>1</td>\n",
       "      <td>0.000000e+00</td>\n",
       "      <td>2.156650e+11</td>\n",
       "      <td>4.006560e+09</td>\n",
       "      <td>153</td>\n",
       "      <td>...</td>\n",
       "      <td>236</td>\n",
       "      <td>14</td>\n",
       "      <td>2.026072e+19</td>\n",
       "      <td>430770635684</td>\n",
       "      <td>162805676059392</td>\n",
       "      <td>7958083</td>\n",
       "      <td>428057806970</td>\n",
       "      <td>18.0</td>\n",
       "      <td>2.099851e+25</td>\n",
       "      <td>1</td>\n",
       "    </tr>\n",
       "    <tr>\n",
       "      <th>10</th>\n",
       "      <td>0x1ac1c8b874c7b889113a036ba443b082554be5d0</td>\n",
       "      <td>Lucy</td>\n",
       "      <td>0.0</td>\n",
       "      <td>True</td>\n",
       "      <td>3</td>\n",
       "      <td>1</td>\n",
       "      <td>0.000000e+00</td>\n",
       "      <td>2.833240e+06</td>\n",
       "      <td>1.045858e+06</td>\n",
       "      <td>4</td>\n",
       "      <td>...</td>\n",
       "      <td>7</td>\n",
       "      <td>2</td>\n",
       "      <td>0.000000e+00</td>\n",
       "      <td>3994370</td>\n",
       "      <td>745001016384</td>\n",
       "      <td>4932678</td>\n",
       "      <td>3024686</td>\n",
       "      <td>8.0</td>\n",
       "      <td>1.000000e+18</td>\n",
       "      <td>1</td>\n",
       "    </tr>\n",
       "    <tr>\n",
       "      <th>11</th>\n",
       "      <td>0x1ac1c8b874c7b889113a036ba443b082554be5d0</td>\n",
       "      <td>Lucy</td>\n",
       "      <td>1.0</td>\n",
       "      <td>True</td>\n",
       "      <td>1</td>\n",
       "      <td>1</td>\n",
       "      <td>0.000000e+00</td>\n",
       "      <td>4.483400e+04</td>\n",
       "      <td>1.328900e+04</td>\n",
       "      <td>1</td>\n",
       "      <td>...</td>\n",
       "      <td>1</td>\n",
       "      <td>1</td>\n",
       "      <td>0.000000e+00</td>\n",
       "      <td>77311</td>\n",
       "      <td>10000000</td>\n",
       "      <td>74819</td>\n",
       "      <td>38656</td>\n",
       "      <td>8.0</td>\n",
       "      <td>1.000000e+18</td>\n",
       "      <td>1</td>\n",
       "    </tr>\n",
       "    <tr>\n",
       "      <th>12</th>\n",
       "      <td>0x2afb4a2e2cbe25cd8b47ce19ca94e9b724c20374</td>\n",
       "      <td>HYBRIDTEST</td>\n",
       "      <td>0.0</td>\n",
       "      <td>True</td>\n",
       "      <td>1</td>\n",
       "      <td>1</td>\n",
       "      <td>0.000000e+00</td>\n",
       "      <td>3.739360e+05</td>\n",
       "      <td>4.192200e+04</td>\n",
       "      <td>1</td>\n",
       "      <td>...</td>\n",
       "      <td>1</td>\n",
       "      <td>1</td>\n",
       "      <td>0.000000e+00</td>\n",
       "      <td>420000</td>\n",
       "      <td>2000000000</td>\n",
       "      <td>219525</td>\n",
       "      <td>87986</td>\n",
       "      <td>8.0</td>\n",
       "      <td>1.000000e+14</td>\n",
       "      <td>1</td>\n",
       "    </tr>\n",
       "    <tr>\n",
       "      <th>13</th>\n",
       "      <td>0x2b682bd9d5c31e67a95cbdf0292017c02e51923c</td>\n",
       "      <td>Ether Klown</td>\n",
       "      <td>1.0</td>\n",
       "      <td>False</td>\n",
       "      <td>2</td>\n",
       "      <td>3</td>\n",
       "      <td>0.000000e+00</td>\n",
       "      <td>2.084331e+11</td>\n",
       "      <td>1.681489e+10</td>\n",
       "      <td>2</td>\n",
       "      <td>...</td>\n",
       "      <td>1</td>\n",
       "      <td>1</td>\n",
       "      <td>0.000000e+00</td>\n",
       "      <td>393637115610</td>\n",
       "      <td>130110000000000</td>\n",
       "      <td>4419717</td>\n",
       "      <td>391609794840</td>\n",
       "      <td>6.0</td>\n",
       "      <td>6.648040e+11</td>\n",
       "      <td>1</td>\n",
       "    </tr>\n",
       "    <tr>\n",
       "      <th>14</th>\n",
       "      <td>0x2b682bd9d5c31e67a95cbdf0292017c02e51923c</td>\n",
       "      <td>Ether Klown</td>\n",
       "      <td>1.0</td>\n",
       "      <td>True</td>\n",
       "      <td>26</td>\n",
       "      <td>1</td>\n",
       "      <td>0.000000e+00</td>\n",
       "      <td>1.971718e+11</td>\n",
       "      <td>5.410830e+09</td>\n",
       "      <td>26</td>\n",
       "      <td>...</td>\n",
       "      <td>184</td>\n",
       "      <td>4</td>\n",
       "      <td>0.000000e+00</td>\n",
       "      <td>385047325430</td>\n",
       "      <td>130116616007168</td>\n",
       "      <td>7974312</td>\n",
       "      <td>383020375166</td>\n",
       "      <td>6.0</td>\n",
       "      <td>6.648040e+11</td>\n",
       "      <td>1</td>\n",
       "    </tr>\n",
       "    <tr>\n",
       "      <th>15</th>\n",
       "      <td>0x2bceb05341e654233b8cdc5e33d575ab4eaa38f4</td>\n",
       "      <td>Cascadium Classic</td>\n",
       "      <td>1.0</td>\n",
       "      <td>True</td>\n",
       "      <td>1</td>\n",
       "      <td>1</td>\n",
       "      <td>0.000000e+00</td>\n",
       "      <td>1.009460e+05</td>\n",
       "      <td>5.896200e+04</td>\n",
       "      <td>1</td>\n",
       "      <td>...</td>\n",
       "      <td>1</td>\n",
       "      <td>1</td>\n",
       "      <td>0.000000e+00</td>\n",
       "      <td>146946</td>\n",
       "      <td>40000000000</td>\n",
       "      <td>115481</td>\n",
       "      <td>104962</td>\n",
       "      <td>4.0</td>\n",
       "      <td>1.000000e+08</td>\n",
       "      <td>1</td>\n",
       "    </tr>\n",
       "    <tr>\n",
       "      <th>16</th>\n",
       "      <td>0x31c9bbf460a29d2743e473c96379afe637db288d</td>\n",
       "      <td>Test 5</td>\n",
       "      <td>0.0</td>\n",
       "      <td>True</td>\n",
       "      <td>1</td>\n",
       "      <td>1</td>\n",
       "      <td>0.000000e+00</td>\n",
       "      <td>3.038720e+05</td>\n",
       "      <td>5.657800e+04</td>\n",
       "      <td>1</td>\n",
       "      <td>...</td>\n",
       "      <td>1</td>\n",
       "      <td>1</td>\n",
       "      <td>0.000000e+00</td>\n",
       "      <td>350000</td>\n",
       "      <td>46000001024</td>\n",
       "      <td>529820</td>\n",
       "      <td>72706</td>\n",
       "      <td>4.0</td>\n",
       "      <td>1.000000e+12</td>\n",
       "      <td>1</td>\n",
       "    </tr>\n",
       "    <tr>\n",
       "      <th>17</th>\n",
       "      <td>0x3d208f24b98006a7e959a048ef26e27214221191</td>\n",
       "      <td>Ether Frown</td>\n",
       "      <td>1.0</td>\n",
       "      <td>True</td>\n",
       "      <td>2</td>\n",
       "      <td>1</td>\n",
       "      <td>0.000000e+00</td>\n",
       "      <td>5.895360e+05</td>\n",
       "      <td>2.934960e+05</td>\n",
       "      <td>2</td>\n",
       "      <td>...</td>\n",
       "      <td>2</td>\n",
       "      <td>1</td>\n",
       "      <td>0.000000e+00</td>\n",
       "      <td>727920</td>\n",
       "      <td>86000000000</td>\n",
       "      <td>194812</td>\n",
       "      <td>431880</td>\n",
       "      <td>6.0</td>\n",
       "      <td>6.553168e+11</td>\n",
       "      <td>1</td>\n",
       "    </tr>\n",
       "    <tr>\n",
       "      <th>18</th>\n",
       "      <td>0x4f5b01e9c4ca643e52c8b2595734016105d1d2f2</td>\n",
       "      <td>Ether Frown</td>\n",
       "      <td>1.0</td>\n",
       "      <td>True</td>\n",
       "      <td>1</td>\n",
       "      <td>1</td>\n",
       "      <td>0.000000e+00</td>\n",
       "      <td>2.910420e+05</td>\n",
       "      <td>2.910420e+05</td>\n",
       "      <td>1</td>\n",
       "      <td>...</td>\n",
       "      <td>1</td>\n",
       "      <td>1</td>\n",
       "      <td>0.000000e+00</td>\n",
       "      <td>429426</td>\n",
       "      <td>6000000000</td>\n",
       "      <td>277554</td>\n",
       "      <td>429426</td>\n",
       "      <td>6.0</td>\n",
       "      <td>6.552920e+11</td>\n",
       "      <td>1</td>\n",
       "    </tr>\n",
       "    <tr>\n",
       "      <th>19</th>\n",
       "      <td>0x590eb3599ca4305d8a64cbe24ef7d46c8f24bf1c</td>\n",
       "      <td>Longfin Coin</td>\n",
       "      <td>0.0</td>\n",
       "      <td>False</td>\n",
       "      <td>702</td>\n",
       "      <td>174</td>\n",
       "      <td>1.876528e+22</td>\n",
       "      <td>4.478608e+11</td>\n",
       "      <td>1.987366e+10</td>\n",
       "      <td>965</td>\n",
       "      <td>...</td>\n",
       "      <td>1271</td>\n",
       "      <td>21</td>\n",
       "      <td>0.000000e+00</td>\n",
       "      <td>534286026875</td>\n",
       "      <td>1064191575475921</td>\n",
       "      <td>7834201</td>\n",
       "      <td>102394649189</td>\n",
       "      <td>18.0</td>\n",
       "      <td>1.026184e+29</td>\n",
       "      <td>55</td>\n",
       "    </tr>\n",
       "    <tr>\n",
       "      <th>20</th>\n",
       "      <td>0x590eb3599ca4305d8a64cbe24ef7d46c8f24bf1c</td>\n",
       "      <td>Longfin Coin</td>\n",
       "      <td>1.0</td>\n",
       "      <td>False</td>\n",
       "      <td>1</td>\n",
       "      <td>2</td>\n",
       "      <td>0.000000e+00</td>\n",
       "      <td>3.091165e+06</td>\n",
       "      <td>1.652337e+06</td>\n",
       "      <td>1</td>\n",
       "      <td>...</td>\n",
       "      <td>1</td>\n",
       "      <td>1</td>\n",
       "      <td>0.000000e+00</td>\n",
       "      <td>4999852</td>\n",
       "      <td>3000000000</td>\n",
       "      <td>1739984</td>\n",
       "      <td>3515150</td>\n",
       "      <td>18.0</td>\n",
       "      <td>1.026184e+29</td>\n",
       "      <td>2</td>\n",
       "    </tr>\n",
       "    <tr>\n",
       "      <th>21</th>\n",
       "      <td>0x5a6fe700ef43ddb31a4904c97c0b2a1270b22216</td>\n",
       "      <td>( . Y . )</td>\n",
       "      <td>0.0</td>\n",
       "      <td>True</td>\n",
       "      <td>2</td>\n",
       "      <td>1</td>\n",
       "      <td>0.000000e+00</td>\n",
       "      <td>4.016160e+05</td>\n",
       "      <td>1.275420e+05</td>\n",
       "      <td>2</td>\n",
       "      <td>...</td>\n",
       "      <td>2</td>\n",
       "      <td>1</td>\n",
       "      <td>0.000000e+00</td>\n",
       "      <td>540000</td>\n",
       "      <td>85000000000</td>\n",
       "      <td>1527821</td>\n",
       "      <td>250926</td>\n",
       "      <td>8.0</td>\n",
       "      <td>1.000000e+16</td>\n",
       "      <td>1</td>\n",
       "    </tr>\n",
       "    <tr>\n",
       "      <th>22</th>\n",
       "      <td>0x65f9cf47ea1152840f3f2c1f8c9fa041d54884f5</td>\n",
       "      <td>Test 3</td>\n",
       "      <td>0.0</td>\n",
       "      <td>True</td>\n",
       "      <td>1</td>\n",
       "      <td>1</td>\n",
       "      <td>0.000000e+00</td>\n",
       "      <td>2.540000e+05</td>\n",
       "      <td>5.657800e+04</td>\n",
       "      <td>1</td>\n",
       "      <td>...</td>\n",
       "      <td>1</td>\n",
       "      <td>1</td>\n",
       "      <td>0.000000e+00</td>\n",
       "      <td>300000</td>\n",
       "      <td>46000001024</td>\n",
       "      <td>36289</td>\n",
       "      <td>72578</td>\n",
       "      <td>4.0</td>\n",
       "      <td>1.000000e+08</td>\n",
       "      <td>1</td>\n",
       "    </tr>\n",
       "    <tr>\n",
       "      <th>23</th>\n",
       "      <td>0x76d0184cf511788032a74a1fb91146e63f43dd53</td>\n",
       "      <td>UniversalCoin</td>\n",
       "      <td>1.0</td>\n",
       "      <td>True</td>\n",
       "      <td>18</td>\n",
       "      <td>1</td>\n",
       "      <td>0.000000e+00</td>\n",
       "      <td>7.030657e+10</td>\n",
       "      <td>7.635392e+08</td>\n",
       "      <td>39</td>\n",
       "      <td>...</td>\n",
       "      <td>41</td>\n",
       "      <td>2</td>\n",
       "      <td>0.000000e+00</td>\n",
       "      <td>70863130645</td>\n",
       "      <td>27249150009728</td>\n",
       "      <td>7811649</td>\n",
       "      <td>1337612664</td>\n",
       "      <td>5.0</td>\n",
       "      <td>4.000000e+15</td>\n",
       "      <td>1</td>\n",
       "    </tr>\n",
       "    <tr>\n",
       "      <th>24</th>\n",
       "      <td>0x8068ed1eed6e7049d78fd1912f3760360a3c4ad6</td>\n",
       "      <td>SuperDanCoin</td>\n",
       "      <td>1.0</td>\n",
       "      <td>True</td>\n",
       "      <td>4</td>\n",
       "      <td>1</td>\n",
       "      <td>0.000000e+00</td>\n",
       "      <td>2.386485e+08</td>\n",
       "      <td>1.630805e+06</td>\n",
       "      <td>4</td>\n",
       "      <td>...</td>\n",
       "      <td>3</td>\n",
       "      <td>2</td>\n",
       "      <td>0.000000e+00</td>\n",
       "      <td>240648156</td>\n",
       "      <td>87000000000</td>\n",
       "      <td>1978041</td>\n",
       "      <td>3796175</td>\n",
       "      <td>5.0</td>\n",
       "      <td>4.000000e+15</td>\n",
       "      <td>1</td>\n",
       "    </tr>\n",
       "    <tr>\n",
       "      <th>25</th>\n",
       "      <td>0x88d60255f917e3eb94eae199d827dad837fac4cb</td>\n",
       "      <td>Gastoken.io</td>\n",
       "      <td>1.0</td>\n",
       "      <td>False</td>\n",
       "      <td>14</td>\n",
       "      <td>8</td>\n",
       "      <td>0.000000e+00</td>\n",
       "      <td>2.354895e+10</td>\n",
       "      <td>1.649938e+09</td>\n",
       "      <td>13</td>\n",
       "      <td>...</td>\n",
       "      <td>8</td>\n",
       "      <td>6</td>\n",
       "      <td>0.000000e+00</td>\n",
       "      <td>46575238645</td>\n",
       "      <td>10355738000000</td>\n",
       "      <td>2443581</td>\n",
       "      <td>45763007761</td>\n",
       "      <td>2.0</td>\n",
       "      <td>1.242977e+07</td>\n",
       "      <td>6</td>\n",
       "    </tr>\n",
       "    <tr>\n",
       "      <th>26</th>\n",
       "      <td>0x8c54a647ba4c88774271f8b9560f08c246bedac8</td>\n",
       "      <td>Vortex</td>\n",
       "      <td>0.0</td>\n",
       "      <td>True</td>\n",
       "      <td>2</td>\n",
       "      <td>1</td>\n",
       "      <td>0.000000e+00</td>\n",
       "      <td>9.149760e+05</td>\n",
       "      <td>1.171250e+05</td>\n",
       "      <td>2</td>\n",
       "      <td>...</td>\n",
       "      <td>2</td>\n",
       "      <td>2</td>\n",
       "      <td>0.000000e+00</td>\n",
       "      <td>1102190</td>\n",
       "      <td>49000001024</td>\n",
       "      <td>903426</td>\n",
       "      <td>540175</td>\n",
       "      <td>4.0</td>\n",
       "      <td>1.000000e+12</td>\n",
       "      <td>1</td>\n",
       "    </tr>\n",
       "    <tr>\n",
       "      <th>27</th>\n",
       "      <td>0xa4d3a7b00056cc5d8206b3b2983bfe0c107d90da</td>\n",
       "      <td>Metronome</td>\n",
       "      <td>0.0</td>\n",
       "      <td>False</td>\n",
       "      <td>30</td>\n",
       "      <td>24</td>\n",
       "      <td>1.859804e+20</td>\n",
       "      <td>3.176531e+09</td>\n",
       "      <td>2.819211e+08</td>\n",
       "      <td>22</td>\n",
       "      <td>...</td>\n",
       "      <td>28</td>\n",
       "      <td>4</td>\n",
       "      <td>0.000000e+00</td>\n",
       "      <td>4660734983</td>\n",
       "      <td>76812007000000</td>\n",
       "      <td>7769441</td>\n",
       "      <td>2759607872</td>\n",
       "      <td>18.0</td>\n",
       "      <td>0.000000e+00</td>\n",
       "      <td>6</td>\n",
       "    </tr>\n",
       "    <tr>\n",
       "      <th>28</th>\n",
       "      <td>0xa4d3a7b00056cc5d8206b3b2983bfe0c107d90da</td>\n",
       "      <td>Metronome</td>\n",
       "      <td>0.0</td>\n",
       "      <td>True</td>\n",
       "      <td>16</td>\n",
       "      <td>3</td>\n",
       "      <td>0.000000e+00</td>\n",
       "      <td>9.001505e+08</td>\n",
       "      <td>4.599033e+07</td>\n",
       "      <td>22</td>\n",
       "      <td>...</td>\n",
       "      <td>28</td>\n",
       "      <td>4</td>\n",
       "      <td>0.000000e+00</td>\n",
       "      <td>1444699810</td>\n",
       "      <td>23973873000000</td>\n",
       "      <td>7769441</td>\n",
       "      <td>851165801</td>\n",
       "      <td>18.0</td>\n",
       "      <td>0.000000e+00</td>\n",
       "      <td>1</td>\n",
       "    </tr>\n",
       "    <tr>\n",
       "      <th>29</th>\n",
       "      <td>0xa4d3a7b00056cc5d8206b3b2983bfe0c107d90da</td>\n",
       "      <td>Metronome</td>\n",
       "      <td>1.0</td>\n",
       "      <td>False</td>\n",
       "      <td>24</td>\n",
       "      <td>21</td>\n",
       "      <td>1.488377e+20</td>\n",
       "      <td>9.865233e+08</td>\n",
       "      <td>7.892036e+07</td>\n",
       "      <td>20</td>\n",
       "      <td>...</td>\n",
       "      <td>25</td>\n",
       "      <td>5</td>\n",
       "      <td>0.000000e+00</td>\n",
       "      <td>1480654398</td>\n",
       "      <td>15126570000000</td>\n",
       "      <td>7756710</td>\n",
       "      <td>815562984</td>\n",
       "      <td>18.0</td>\n",
       "      <td>0.000000e+00</td>\n",
       "      <td>6</td>\n",
       "    </tr>\n",
       "    <tr>\n",
       "      <th>30</th>\n",
       "      <td>0xa4d3a7b00056cc5d8206b3b2983bfe0c107d90da</td>\n",
       "      <td>Metronome</td>\n",
       "      <td>1.0</td>\n",
       "      <td>True</td>\n",
       "      <td>14</td>\n",
       "      <td>3</td>\n",
       "      <td>0.000000e+00</td>\n",
       "      <td>2.523756e+08</td>\n",
       "      <td>9.677583e+06</td>\n",
       "      <td>20</td>\n",
       "      <td>...</td>\n",
       "      <td>25</td>\n",
       "      <td>5</td>\n",
       "      <td>0.000000e+00</td>\n",
       "      <td>353583481</td>\n",
       "      <td>4163540000000</td>\n",
       "      <td>7756710</td>\n",
       "      <td>187913671</td>\n",
       "      <td>18.0</td>\n",
       "      <td>0.000000e+00</td>\n",
       "      <td>1</td>\n",
       "    </tr>\n",
       "    <tr>\n",
       "      <th>31</th>\n",
       "      <td>0xaec6aafabfcaa70f878ec615fb05393dec2e67d3</td>\n",
       "      <td>Test</td>\n",
       "      <td>0.0</td>\n",
       "      <td>True</td>\n",
       "      <td>1</td>\n",
       "      <td>1</td>\n",
       "      <td>0.000000e+00</td>\n",
       "      <td>5.540640e+05</td>\n",
       "      <td>4.157800e+04</td>\n",
       "      <td>1</td>\n",
       "      <td>...</td>\n",
       "      <td>1</td>\n",
       "      <td>1</td>\n",
       "      <td>0.000000e+00</td>\n",
       "      <td>600000</td>\n",
       "      <td>46000001024</td>\n",
       "      <td>188369</td>\n",
       "      <td>72514</td>\n",
       "      <td>4.0</td>\n",
       "      <td>1.000000e+07</td>\n",
       "      <td>1</td>\n",
       "    </tr>\n",
       "    <tr>\n",
       "      <th>32</th>\n",
       "      <td>0xb890c6c9cace27406ccc0f0b1221889fa4ef4000</td>\n",
       "      <td>BruCoin</td>\n",
       "      <td>0.0</td>\n",
       "      <td>True</td>\n",
       "      <td>1</td>\n",
       "      <td>1</td>\n",
       "      <td>0.000000e+00</td>\n",
       "      <td>4.367500e+04</td>\n",
       "      <td>2.828900e+04</td>\n",
       "      <td>1</td>\n",
       "      <td>...</td>\n",
       "      <td>1</td>\n",
       "      <td>1</td>\n",
       "      <td>0.000000e+00</td>\n",
       "      <td>66675</td>\n",
       "      <td>23000000512</td>\n",
       "      <td>156289</td>\n",
       "      <td>51289</td>\n",
       "      <td>2.0</td>\n",
       "      <td>1.000000e+08</td>\n",
       "      <td>1</td>\n",
       "    </tr>\n",
       "    <tr>\n",
       "      <th>33</th>\n",
       "      <td>0xc8e1db0be33deee78bd4080dc1543f2b9b4599c5</td>\n",
       "      <td>Bitcoin</td>\n",
       "      <td>0.0</td>\n",
       "      <td>True</td>\n",
       "      <td>1</td>\n",
       "      <td>1</td>\n",
       "      <td>0.000000e+00</td>\n",
       "      <td>1.011110e+05</td>\n",
       "      <td>4.157800e+04</td>\n",
       "      <td>1</td>\n",
       "      <td>...</td>\n",
       "      <td>1</td>\n",
       "      <td>1</td>\n",
       "      <td>0.000000e+00</td>\n",
       "      <td>147175</td>\n",
       "      <td>46000001024</td>\n",
       "      <td>36353</td>\n",
       "      <td>72642</td>\n",
       "      <td>8.0</td>\n",
       "      <td>2.100000e+07</td>\n",
       "      <td>1</td>\n",
       "    </tr>\n",
       "    <tr>\n",
       "      <th>34</th>\n",
       "      <td>0xd507faa6b65cf9e970d67cd108b224162495de30</td>\n",
       "      <td>Arcadium Classic</td>\n",
       "      <td>1.0</td>\n",
       "      <td>True</td>\n",
       "      <td>2</td>\n",
       "      <td>1</td>\n",
       "      <td>0.000000e+00</td>\n",
       "      <td>1.230933e+06</td>\n",
       "      <td>2.788590e+05</td>\n",
       "      <td>3</td>\n",
       "      <td>...</td>\n",
       "      <td>3</td>\n",
       "      <td>2</td>\n",
       "      <td>0.000000e+00</td>\n",
       "      <td>1569613</td>\n",
       "      <td>135000000000</td>\n",
       "      <td>487457</td>\n",
       "      <td>986343</td>\n",
       "      <td>4.0</td>\n",
       "      <td>1.000000e+12</td>\n",
       "      <td>1</td>\n",
       "    </tr>\n",
       "    <tr>\n",
       "      <th>35</th>\n",
       "      <td>0xd8ebe4e6ac8d3c85e2f243e11e8b96c9b12c85af</td>\n",
       "      <td>AMIS</td>\n",
       "      <td>1.0</td>\n",
       "      <td>False</td>\n",
       "      <td>7</td>\n",
       "      <td>4</td>\n",
       "      <td>0.000000e+00</td>\n",
       "      <td>4.360952e+06</td>\n",
       "      <td>4.966100e+05</td>\n",
       "      <td>5</td>\n",
       "      <td>...</td>\n",
       "      <td>4</td>\n",
       "      <td>3</td>\n",
       "      <td>0.000000e+00</td>\n",
       "      <td>5000000</td>\n",
       "      <td>20000000000</td>\n",
       "      <td>745486</td>\n",
       "      <td>1187202</td>\n",
       "      <td>9.0</td>\n",
       "      <td>6.604740e+14</td>\n",
       "      <td>3</td>\n",
       "    </tr>\n",
       "    <tr>\n",
       "      <th>36</th>\n",
       "      <td>0xd8ebe4e6ac8d3c85e2f243e11e8b96c9b12c85af</td>\n",
       "      <td>AMIS</td>\n",
       "      <td>1.0</td>\n",
       "      <td>True</td>\n",
       "      <td>4</td>\n",
       "      <td>1</td>\n",
       "      <td>0.000000e+00</td>\n",
       "      <td>8.555259e+06</td>\n",
       "      <td>1.134236e+06</td>\n",
       "      <td>8</td>\n",
       "      <td>...</td>\n",
       "      <td>5</td>\n",
       "      <td>4</td>\n",
       "      <td>0.000000e+00</td>\n",
       "      <td>11322634</td>\n",
       "      <td>85020000000</td>\n",
       "      <td>1406866</td>\n",
       "      <td>6500556</td>\n",
       "      <td>9.0</td>\n",
       "      <td>6.604740e+14</td>\n",
       "      <td>1</td>\n",
       "    </tr>\n",
       "    <tr>\n",
       "      <th>37</th>\n",
       "      <td>0xdc9e909602835a292deeb1fea559df06a4aaeb5d</td>\n",
       "      <td>Bcct</td>\n",
       "      <td>0.0</td>\n",
       "      <td>True</td>\n",
       "      <td>1</td>\n",
       "      <td>1</td>\n",
       "      <td>0.000000e+00</td>\n",
       "      <td>2.770000e+05</td>\n",
       "      <td>2.828900e+04</td>\n",
       "      <td>1</td>\n",
       "      <td>...</td>\n",
       "      <td>1</td>\n",
       "      <td>1</td>\n",
       "      <td>0.000000e+00</td>\n",
       "      <td>300000</td>\n",
       "      <td>23000000512</td>\n",
       "      <td>36289</td>\n",
       "      <td>36289</td>\n",
       "      <td>8.0</td>\n",
       "      <td>1.000000e+07</td>\n",
       "      <td>1</td>\n",
       "    </tr>\n",
       "    <tr>\n",
       "      <th>38</th>\n",
       "      <td>0xdf0208e76858b23029078d055c20443baf34363a</td>\n",
       "      <td>ZigZag2</td>\n",
       "      <td>0.0</td>\n",
       "      <td>True</td>\n",
       "      <td>1</td>\n",
       "      <td>1</td>\n",
       "      <td>0.000000e+00</td>\n",
       "      <td>1.868720e+05</td>\n",
       "      <td>2.865000e+04</td>\n",
       "      <td>1</td>\n",
       "      <td>...</td>\n",
       "      <td>1</td>\n",
       "      <td>1</td>\n",
       "      <td>0.000000e+00</td>\n",
       "      <td>210000</td>\n",
       "      <td>1000000000</td>\n",
       "      <td>114778</td>\n",
       "      <td>51778</td>\n",
       "      <td>8.0</td>\n",
       "      <td>9.000000e+15</td>\n",
       "      <td>1</td>\n",
       "    </tr>\n",
       "    <tr>\n",
       "      <th>39</th>\n",
       "      <td>0xeffecbb2e512758c3089c7e2dc0f603d6deacd66</td>\n",
       "      <td>Ether Frown</td>\n",
       "      <td>1.0</td>\n",
       "      <td>True</td>\n",
       "      <td>1</td>\n",
       "      <td>1</td>\n",
       "      <td>0.000000e+00</td>\n",
       "      <td>1.370020e+05</td>\n",
       "      <td>1.370020e+05</td>\n",
       "      <td>1</td>\n",
       "      <td>...</td>\n",
       "      <td>1</td>\n",
       "      <td>1</td>\n",
       "      <td>0.000000e+00</td>\n",
       "      <td>183130</td>\n",
       "      <td>42000000000</td>\n",
       "      <td>91565</td>\n",
       "      <td>183130</td>\n",
       "      <td>6.0</td>\n",
       "      <td>6.603062e+11</td>\n",
       "      <td>1</td>\n",
       "    </tr>\n",
       "  </tbody>\n",
       "</table>\n",
       "<p>40 rows × 22 columns</p>\n",
       "</div>"
      ],
      "text/plain": [
       "                                 token_address         token_name  \\\n",
       "0   0x0000000000b3f879cb30fe243b4dfee438691c04        Gastoken.io   \n",
       "1   0x0000000000b3f879cb30fe243b4dfee438691c04        Gastoken.io   \n",
       "2   0x06c6fe422a4e2a1c68d16ee3a798552ba5b670ac             Test 2   \n",
       "3   0x0781311fde517339d24d749db3fa8b236de5417e             Pontos   \n",
       "4   0x09eb38b9b29c2c0b96f81fce3bb13bd4c96c2ee7            DanCoin   \n",
       "5   0x0b5fa328278442956d405d8b501571e20b96260e               AMIS   \n",
       "6   0x15c374190b550a56621576209c2e722821286bbc         TheDanCoin   \n",
       "7   0x171040cd10f204f3b257e45b41ce65d36150558c              eBOMB   \n",
       "8   0x171040cd10f204f3b257e45b41ce65d36150558c              eBOMB   \n",
       "9   0x171040cd10f204f3b257e45b41ce65d36150558c              eBOMB   \n",
       "10  0x1ac1c8b874c7b889113a036ba443b082554be5d0               Lucy   \n",
       "11  0x1ac1c8b874c7b889113a036ba443b082554be5d0               Lucy   \n",
       "12  0x2afb4a2e2cbe25cd8b47ce19ca94e9b724c20374         HYBRIDTEST   \n",
       "13  0x2b682bd9d5c31e67a95cbdf0292017c02e51923c        Ether Klown   \n",
       "14  0x2b682bd9d5c31e67a95cbdf0292017c02e51923c        Ether Klown   \n",
       "15  0x2bceb05341e654233b8cdc5e33d575ab4eaa38f4  Cascadium Classic   \n",
       "16  0x31c9bbf460a29d2743e473c96379afe637db288d             Test 5   \n",
       "17  0x3d208f24b98006a7e959a048ef26e27214221191        Ether Frown   \n",
       "18  0x4f5b01e9c4ca643e52c8b2595734016105d1d2f2        Ether Frown   \n",
       "19  0x590eb3599ca4305d8a64cbe24ef7d46c8f24bf1c       Longfin Coin   \n",
       "20  0x590eb3599ca4305d8a64cbe24ef7d46c8f24bf1c       Longfin Coin   \n",
       "21  0x5a6fe700ef43ddb31a4904c97c0b2a1270b22216          ( . Y . )   \n",
       "22  0x65f9cf47ea1152840f3f2c1f8c9fa041d54884f5             Test 3   \n",
       "23  0x76d0184cf511788032a74a1fb91146e63f43dd53      UniversalCoin   \n",
       "24  0x8068ed1eed6e7049d78fd1912f3760360a3c4ad6       SuperDanCoin   \n",
       "25  0x88d60255f917e3eb94eae199d827dad837fac4cb        Gastoken.io   \n",
       "26  0x8c54a647ba4c88774271f8b9560f08c246bedac8             Vortex   \n",
       "27  0xa4d3a7b00056cc5d8206b3b2983bfe0c107d90da          Metronome   \n",
       "28  0xa4d3a7b00056cc5d8206b3b2983bfe0c107d90da          Metronome   \n",
       "29  0xa4d3a7b00056cc5d8206b3b2983bfe0c107d90da          Metronome   \n",
       "30  0xa4d3a7b00056cc5d8206b3b2983bfe0c107d90da          Metronome   \n",
       "31  0xaec6aafabfcaa70f878ec615fb05393dec2e67d3               Test   \n",
       "32  0xb890c6c9cace27406ccc0f0b1221889fa4ef4000            BruCoin   \n",
       "33  0xc8e1db0be33deee78bd4080dc1543f2b9b4599c5            Bitcoin   \n",
       "34  0xd507faa6b65cf9e970d67cd108b224162495de30   Arcadium Classic   \n",
       "35  0xd8ebe4e6ac8d3c85e2f243e11e8b96c9b12c85af               AMIS   \n",
       "36  0xd8ebe4e6ac8d3c85e2f243e11e8b96c9b12c85af               AMIS   \n",
       "37  0xdc9e909602835a292deeb1fea559df06a4aaeb5d               Bcct   \n",
       "38  0xdf0208e76858b23029078d055c20443baf34363a            ZigZag2   \n",
       "39  0xeffecbb2e512758c3089c7e2dc0f603d6deacd66        Ether Frown   \n",
       "\n",
       "    receipt_status  Contract_is_erc20  trace_from_address  trace_to_address  \\\n",
       "0              0.0              False                   4                 4   \n",
       "1              1.0              False                   4                 2   \n",
       "2              0.0               True                   1                 1   \n",
       "3              1.0               True                   1                 1   \n",
       "4              1.0               True                   1                 1   \n",
       "5              1.0               True                   1                 1   \n",
       "6              1.0               True                   4                 1   \n",
       "7              0.0               True                 140                 1   \n",
       "8              1.0              False                  26                13   \n",
       "9              1.0               True                  70                 1   \n",
       "10             0.0               True                   3                 1   \n",
       "11             1.0               True                   1                 1   \n",
       "12             0.0               True                   1                 1   \n",
       "13             1.0              False                   2                 3   \n",
       "14             1.0               True                  26                 1   \n",
       "15             1.0               True                   1                 1   \n",
       "16             0.0               True                   1                 1   \n",
       "17             1.0               True                   2                 1   \n",
       "18             1.0               True                   1                 1   \n",
       "19             0.0              False                 702               174   \n",
       "20             1.0              False                   1                 2   \n",
       "21             0.0               True                   2                 1   \n",
       "22             0.0               True                   1                 1   \n",
       "23             1.0               True                  18                 1   \n",
       "24             1.0               True                   4                 1   \n",
       "25             1.0              False                  14                 8   \n",
       "26             0.0               True                   2                 1   \n",
       "27             0.0              False                  30                24   \n",
       "28             0.0               True                  16                 3   \n",
       "29             1.0              False                  24                21   \n",
       "30             1.0               True                  14                 3   \n",
       "31             0.0               True                   1                 1   \n",
       "32             0.0               True                   1                 1   \n",
       "33             0.0               True                   1                 1   \n",
       "34             1.0               True                   2                 1   \n",
       "35             1.0              False                   7                 4   \n",
       "36             1.0               True                   4                 1   \n",
       "37             0.0               True                   1                 1   \n",
       "38             0.0               True                   1                 1   \n",
       "39             1.0               True                   1                 1   \n",
       "\n",
       "     trace_value     trace_gas  trace_gas_used  token_transfer_from_address  \\\n",
       "0   0.000000e+00  1.272665e+08    1.258158e+08                            2   \n",
       "1   0.000000e+00  4.419811e+06    1.113697e+06                            3   \n",
       "2   0.000000e+00  5.536160e+05    5.657800e+04                            1   \n",
       "3   0.000000e+00  1.260098e+08    2.923630e+06                            6   \n",
       "4   0.000000e+00  1.061990e+05    6.744000e+04                            1   \n",
       "5   0.000000e+00  2.753370e+05    3.642500e+04                            1   \n",
       "6   0.000000e+00  2.387812e+08    1.369276e+06                            4   \n",
       "7   0.000000e+00  5.841082e+08    1.445470e+08                          203   \n",
       "8   0.000000e+00  2.264384e+11    1.516478e+10                           26   \n",
       "9   0.000000e+00  2.156650e+11    4.006560e+09                          153   \n",
       "10  0.000000e+00  2.833240e+06    1.045858e+06                            4   \n",
       "11  0.000000e+00  4.483400e+04    1.328900e+04                            1   \n",
       "12  0.000000e+00  3.739360e+05    4.192200e+04                            1   \n",
       "13  0.000000e+00  2.084331e+11    1.681489e+10                            2   \n",
       "14  0.000000e+00  1.971718e+11    5.410830e+09                           26   \n",
       "15  0.000000e+00  1.009460e+05    5.896200e+04                            1   \n",
       "16  0.000000e+00  3.038720e+05    5.657800e+04                            1   \n",
       "17  0.000000e+00  5.895360e+05    2.934960e+05                            2   \n",
       "18  0.000000e+00  2.910420e+05    2.910420e+05                            1   \n",
       "19  1.876528e+22  4.478608e+11    1.987366e+10                          965   \n",
       "20  0.000000e+00  3.091165e+06    1.652337e+06                            1   \n",
       "21  0.000000e+00  4.016160e+05    1.275420e+05                            2   \n",
       "22  0.000000e+00  2.540000e+05    5.657800e+04                            1   \n",
       "23  0.000000e+00  7.030657e+10    7.635392e+08                           39   \n",
       "24  0.000000e+00  2.386485e+08    1.630805e+06                            4   \n",
       "25  0.000000e+00  2.354895e+10    1.649938e+09                           13   \n",
       "26  0.000000e+00  9.149760e+05    1.171250e+05                            2   \n",
       "27  1.859804e+20  3.176531e+09    2.819211e+08                           22   \n",
       "28  0.000000e+00  9.001505e+08    4.599033e+07                           22   \n",
       "29  1.488377e+20  9.865233e+08    7.892036e+07                           20   \n",
       "30  0.000000e+00  2.523756e+08    9.677583e+06                           20   \n",
       "31  0.000000e+00  5.540640e+05    4.157800e+04                            1   \n",
       "32  0.000000e+00  4.367500e+04    2.828900e+04                            1   \n",
       "33  0.000000e+00  1.011110e+05    4.157800e+04                            1   \n",
       "34  0.000000e+00  1.230933e+06    2.788590e+05                            3   \n",
       "35  0.000000e+00  4.360952e+06    4.966100e+05                            5   \n",
       "36  0.000000e+00  8.555259e+06    1.134236e+06                            8   \n",
       "37  0.000000e+00  2.770000e+05    2.828900e+04                            1   \n",
       "38  0.000000e+00  1.868720e+05    2.865000e+04                            1   \n",
       "39  0.000000e+00  1.370020e+05    1.370020e+05                            1   \n",
       "\n",
       "    ...  transaction_from_address  transaction_to_address  transaction_value  \\\n",
       "0   ...                         2                       2       0.000000e+00   \n",
       "1   ...                         3                       1       0.000000e+00   \n",
       "2   ...                         1                       1       0.000000e+00   \n",
       "3   ...                         1                       1       0.000000e+00   \n",
       "4   ...                         1                       1       0.000000e+00   \n",
       "5   ...                         1                       1       0.000000e+00   \n",
       "6   ...                         4                       2       0.000000e+00   \n",
       "7   ...                       222                       3       2.419481e+20   \n",
       "8   ...                        15                      11       0.000000e+00   \n",
       "9   ...                       236                      14       2.026072e+19   \n",
       "10  ...                         7                       2       0.000000e+00   \n",
       "11  ...                         1                       1       0.000000e+00   \n",
       "12  ...                         1                       1       0.000000e+00   \n",
       "13  ...                         1                       1       0.000000e+00   \n",
       "14  ...                       184                       4       0.000000e+00   \n",
       "15  ...                         1                       1       0.000000e+00   \n",
       "16  ...                         1                       1       0.000000e+00   \n",
       "17  ...                         2                       1       0.000000e+00   \n",
       "18  ...                         1                       1       0.000000e+00   \n",
       "19  ...                      1271                      21       0.000000e+00   \n",
       "20  ...                         1                       1       0.000000e+00   \n",
       "21  ...                         2                       1       0.000000e+00   \n",
       "22  ...                         1                       1       0.000000e+00   \n",
       "23  ...                        41                       2       0.000000e+00   \n",
       "24  ...                         3                       2       0.000000e+00   \n",
       "25  ...                         8                       6       0.000000e+00   \n",
       "26  ...                         2                       2       0.000000e+00   \n",
       "27  ...                        28                       4       0.000000e+00   \n",
       "28  ...                        28                       4       0.000000e+00   \n",
       "29  ...                        25                       5       0.000000e+00   \n",
       "30  ...                        25                       5       0.000000e+00   \n",
       "31  ...                         1                       1       0.000000e+00   \n",
       "32  ...                         1                       1       0.000000e+00   \n",
       "33  ...                         1                       1       0.000000e+00   \n",
       "34  ...                         3                       2       0.000000e+00   \n",
       "35  ...                         4                       3       0.000000e+00   \n",
       "36  ...                         5                       4       0.000000e+00   \n",
       "37  ...                         1                       1       0.000000e+00   \n",
       "38  ...                         1                       1       0.000000e+00   \n",
       "39  ...                         1                       1       0.000000e+00   \n",
       "\n",
       "    transaction_gas  transaction_gas_price  receipt_cumulative_gas_used  \\\n",
       "0         256089852            69400000000                      7567350   \n",
       "1           5901184            12008000000                       543034   \n",
       "2            600000            46000001024                        57481   \n",
       "3         129000000          2523000000000                      1395666   \n",
       "4            173983             4000000000                       559594   \n",
       "5            305748             1000000000                       272815   \n",
       "6         240897096          1537600000000                      1894935   \n",
       "7         737026296         23042249721858                      7999635   \n",
       "8      438497900280        154739868000000                      7958083   \n",
       "9      430770635684        162805676059392                      7958083   \n",
       "10          3994370           745001016384                      4932678   \n",
       "11            77311               10000000                        74819   \n",
       "12           420000             2000000000                       219525   \n",
       "13     393637115610        130110000000000                      4419717   \n",
       "14     385047325430        130116616007168                      7974312   \n",
       "15           146946            40000000000                       115481   \n",
       "16           350000            46000001024                       529820   \n",
       "17           727920            86000000000                       194812   \n",
       "18           429426             6000000000                       277554   \n",
       "19     534286026875       1064191575475921                      7834201   \n",
       "20          4999852             3000000000                      1739984   \n",
       "21           540000            85000000000                      1527821   \n",
       "22           300000            46000001024                        36289   \n",
       "23      70863130645         27249150009728                      7811649   \n",
       "24        240648156            87000000000                      1978041   \n",
       "25      46575238645         10355738000000                      2443581   \n",
       "26          1102190            49000001024                       903426   \n",
       "27       4660734983         76812007000000                      7769441   \n",
       "28       1444699810         23973873000000                      7769441   \n",
       "29       1480654398         15126570000000                      7756710   \n",
       "30        353583481          4163540000000                      7756710   \n",
       "31           600000            46000001024                       188369   \n",
       "32            66675            23000000512                       156289   \n",
       "33           147175            46000001024                        36353   \n",
       "34          1569613           135000000000                       487457   \n",
       "35          5000000            20000000000                       745486   \n",
       "36         11322634            85020000000                      1406866   \n",
       "37           300000            23000000512                        36289   \n",
       "38           210000             1000000000                       114778   \n",
       "39           183130            42000000000                        91565   \n",
       "\n",
       "    receipt_gas_used  token_decimals  token_total_supply  Contract_address  \n",
       "0          252218296             2.0        1.292323e+07                 2  \n",
       "1            3107288             2.0        1.292323e+07                 1  \n",
       "2              72962             4.0        1.000000e+18                 1  \n",
       "3            5467002            18.0        1.000000e+21                 1  \n",
       "4             135224             5.0        3.500000e+15                 1  \n",
       "5             203832             9.0        6.604740e+05                 1  \n",
       "6            3631371             5.0        3.999998e+15                 1  \n",
       "7          392263464            18.0        2.099851e+25                 1  \n",
       "8       435874540404            18.0        2.099851e+25                11  \n",
       "9       428057806970            18.0        2.099851e+25                 1  \n",
       "10           3024686             8.0        1.000000e+18                 1  \n",
       "11             38656             8.0        1.000000e+18                 1  \n",
       "12             87986             8.0        1.000000e+14                 1  \n",
       "13      391609794840             6.0        6.648040e+11                 1  \n",
       "14      383020375166             6.0        6.648040e+11                 1  \n",
       "15            104962             4.0        1.000000e+08                 1  \n",
       "16             72706             4.0        1.000000e+12                 1  \n",
       "17            431880             6.0        6.553168e+11                 1  \n",
       "18            429426             6.0        6.552920e+11                 1  \n",
       "19      102394649189            18.0        1.026184e+29                55  \n",
       "20           3515150            18.0        1.026184e+29                 2  \n",
       "21            250926             8.0        1.000000e+16                 1  \n",
       "22             72578             4.0        1.000000e+08                 1  \n",
       "23        1337612664             5.0        4.000000e+15                 1  \n",
       "24           3796175             5.0        4.000000e+15                 1  \n",
       "25       45763007761             2.0        1.242977e+07                 6  \n",
       "26            540175             4.0        1.000000e+12                 1  \n",
       "27        2759607872            18.0        0.000000e+00                 6  \n",
       "28         851165801            18.0        0.000000e+00                 1  \n",
       "29         815562984            18.0        0.000000e+00                 6  \n",
       "30         187913671            18.0        0.000000e+00                 1  \n",
       "31             72514             4.0        1.000000e+07                 1  \n",
       "32             51289             2.0        1.000000e+08                 1  \n",
       "33             72642             8.0        2.100000e+07                 1  \n",
       "34            986343             4.0        1.000000e+12                 1  \n",
       "35           1187202             9.0        6.604740e+14                 3  \n",
       "36           6500556             9.0        6.604740e+14                 1  \n",
       "37             36289             8.0        1.000000e+07                 1  \n",
       "38             51778             8.0        9.000000e+15                 1  \n",
       "39            183130             6.0        6.603062e+11                 1  \n",
       "\n",
       "[40 rows x 22 columns]"
      ]
     },
     "execution_count": 230,
     "metadata": {},
     "output_type": "execute_result"
    }
   ],
   "source": [
    "dfTraceAgg"
   ]
  },
  {
   "cell_type": "code",
   "execution_count": 231,
   "metadata": {},
   "outputs": [
    {
     "name": "stdout",
     "output_type": "stream",
     "text": [
      "+------+-----------------------------+-----------+--------------+--------------+------------+\n",
      "| S.No |         Column Name         | Data Type | Record Count | Unique Count | Null Count |\n",
      "+------+-----------------------------+-----------+--------------+--------------+------------+\n",
      "|  1   |        token_address        |   object  |      40      |      30      |     0      |\n",
      "|  2   |          token_name         |   object  |      40      |      26      |     0      |\n",
      "|  3   |        receipt_status       |  float64  |      40      |      2       |     0      |\n",
      "|  4   |      Contract_is_erc20      |    bool   |      40      |      2       |     0      |\n",
      "|  5   |      trace_from_address     |   int64   |      40      |      14      |     0      |\n",
      "|  6   |       trace_to_address      |   int64   |      40      |      9       |     0      |\n",
      "|  7   |         trace_value         |  float64  |      40      |      4       |     0      |\n",
      "|  8   |          trace_gas          |  float64  |      40      |      40      |     0      |\n",
      "|  9   |        trace_gas_used       |  float64  |      40      |      36      |     0      |\n",
      "|  10  | token_transfer_from_address |   int64   |      40      |      15      |     0      |\n",
      "|  11  |  token_transfer_to_address  |   int64   |      40      |      17      |     0      |\n",
      "|  12  |     token_transfer_value    |  float64  |      40      |      40      |     0      |\n",
      "|  13  |   transaction_from_address  |   int64   |      40      |      15      |     0      |\n",
      "|  14  |    transaction_to_address   |   int64   |      40      |      9       |     0      |\n",
      "|  15  |      transaction_value      |  float64  |      40      |      3       |     0      |\n",
      "|  16  |       transaction_gas       |   int64   |      40      |      38      |     0      |\n",
      "|  17  |    transaction_gas_price    |   int64   |      40      |      34      |     0      |\n",
      "|  18  | receipt_cumulative_gas_used |   int64   |      40      |      36      |     0      |\n",
      "|  19  |       receipt_gas_used      |   int64   |      40      |      40      |     0      |\n",
      "|  20  |        token_decimals       |  float64  |      40      |      7       |     0      |\n",
      "|  21  |      token_total_supply     |  float64  |      40      |      23      |     0      |\n",
      "|  22  |       Contract_address      |   int64   |      40      |      6       |     0      |\n",
      "+------+-----------------------------+-----------+--------------+--------------+------------+\n"
     ]
    }
   ],
   "source": [
    "# File metadata/Schema analysis\n",
    "\n",
    "i=1\n",
    "headers=PrettyTable([\"S.No\",\n",
    "                     \"Column Name\",\n",
    "                     \"Data Type\",\n",
    "                     \"Record Count\",\n",
    "                     \"Unique Count\",\n",
    "                     \"Null Count\"\n",
    "                     ])\n",
    "\n",
    "for col in dfTraceAgg.columns:\n",
    "    headers.add_row([i,\n",
    "                     col,\n",
    "                     dfTraceAgg[col].dtypes,\n",
    "                     dfTraceAgg[col].count(),\n",
    "                     dfTraceAgg[col].nunique(),\n",
    "                     dfTraceAgg[col].isnull().sum()\n",
    "                     ])\n",
    "    i+=1\n",
    "\n",
    "print(headers)"
   ]
  },
  {
   "cell_type": "markdown",
   "metadata": {},
   "source": [
    "# Bin Creation"
   ]
  },
  {
   "cell_type": "markdown",
   "metadata": {},
   "source": [
    "### Variable - trace_from_address"
   ]
  },
  {
   "cell_type": "code",
   "execution_count": 202,
   "metadata": {},
   "outputs": [
    {
     "data": {
      "text/plain": [
       "<AxesSubplot:xlabel='trace_from_address', ylabel='Density'>"
      ]
     },
     "execution_count": 202,
     "metadata": {},
     "output_type": "execute_result"
    },
    {
     "data": {
      "image/png": "[encoded data removed]",
      "text/plain": [
       "<Figure size 1080x576 with 1 Axes>"
      ]
     },
     "metadata": {
      "needs_background": "light"
     },
     "output_type": "display_data"
    }
   ],
   "source": [
    "\n",
    "plt.subplots(figsize=(15, 8), sharex=True)\n",
    "sns.distplot(dfTraceAgg['trace_from_address'], color=\"b\", kde=True, bins=20)\n"
   ]
  },
  {
   "cell_type": "markdown",
   "metadata": {},
   "source": [
    "### Variable - trace_to_address"
   ]
  },
  {
   "cell_type": "code",
   "execution_count": 203,
   "metadata": {},
   "outputs": [
    {
     "data": {
      "text/plain": [
       "<AxesSubplot:xlabel='trace_to_address', ylabel='Density'>"
      ]
     },
     "execution_count": 203,
     "metadata": {},
     "output_type": "execute_result"
    },
    {
     "data": {
      "image/png": "[encoded data removed]",
      "text/plain": [
       "<Figure size 1080x576 with 1 Axes>"
      ]
     },
     "metadata": {
      "needs_background": "light"
     },
     "output_type": "display_data"
    }
   ],
   "source": [
    "plt.subplots(figsize=(15, 8), sharex=True)\n",
    "sns.distplot(dfTraceAgg['trace_to_address'], color=\"b\",  kde=True, bins=20)"
   ]
  },
  {
   "cell_type": "markdown",
   "metadata": {},
   "source": [
    "### Variable - trace_value"
   ]
  },
  {
   "cell_type": "code",
   "execution_count": 204,
   "metadata": {},
   "outputs": [
    {
     "data": {
      "text/plain": [
       "<AxesSubplot:xlabel='trace_value', ylabel='Density'>"
      ]
     },
     "execution_count": 204,
     "metadata": {},
     "output_type": "execute_result"
    },
    {
     "data": {
      "image/png": "[encoded data removed]",
      "text/plain": [
       "<Figure size 1080x576 with 1 Axes>"
      ]
     },
     "metadata": {
      "needs_background": "light"
     },
     "output_type": "display_data"
    }
   ],
   "source": [
    "plt.subplots(figsize=(15, 8), sharex=True)\n",
    "sns.distplot(dfTraceAgg['trace_value'], color=\"b\",  kde=True, bins=20)"
   ]
  },
  {
   "cell_type": "markdown",
   "metadata": {},
   "source": [
    "### Variable - trace_gas"
   ]
  },
  {
   "cell_type": "code",
   "execution_count": 205,
   "metadata": {},
   "outputs": [
    {
     "data": {
      "text/plain": [
       "<AxesSubplot:xlabel='trace_gas', ylabel='Density'>"
      ]
     },
     "execution_count": 205,
     "metadata": {},
     "output_type": "execute_result"
    },
    {
     "data": {
      "image/png": "[encoded data removed]",
      "text/plain": [
       "<Figure size 1080x576 with 1 Axes>"
      ]
     },
     "metadata": {
      "needs_background": "light"
     },
     "output_type": "display_data"
    }
   ],
   "source": [
    "\n",
    "plt.subplots(figsize=(15, 8), sharex=True)\n",
    "sns.distplot(dfTraceAgg['trace_gas'], color=\"b\",  kde=True, bins=20)\n"
   ]
  },
  {
   "cell_type": "markdown",
   "metadata": {},
   "source": [
    "### Variable - trace_gas_used"
   ]
  },
  {
   "cell_type": "code",
   "execution_count": 206,
   "metadata": {},
   "outputs": [
    {
     "data": {
      "text/plain": [
       "<AxesSubplot:xlabel='trace_gas_used', ylabel='Density'>"
      ]
     },
     "execution_count": 206,
     "metadata": {},
     "output_type": "execute_result"
    },
    {
     "data": {
      "image/png": "[encoded data removed]",
      "text/plain": [
       "<Figure size 1080x576 with 1 Axes>"
      ]
     },
     "metadata": {
      "needs_background": "light"
     },
     "output_type": "display_data"
    }
   ],
   "source": [
    "\n",
    "plt.subplots(figsize=(15, 8), sharex=True)\n",
    "sns.distplot(dfTraceAgg['trace_gas_used'], color=\"b\",  kde=True, bins=20)\n"
   ]
  },
  {
   "cell_type": "markdown",
   "metadata": {},
   "source": [
    "### Variable - token_transfer_from_address"
   ]
  },
  {
   "cell_type": "code",
   "execution_count": 208,
   "metadata": {},
   "outputs": [
    {
     "data": {
      "text/plain": [
       "<AxesSubplot:xlabel='token_transfer_from_address', ylabel='Density'>"
      ]
     },
     "execution_count": 208,
     "metadata": {},
     "output_type": "execute_result"
    },
    {
     "data": {
      "image/png": "[encoded data removed]",
      "text/plain": [
       "<Figure size 1080x576 with 1 Axes>"
      ]
     },
     "metadata": {
      "needs_background": "light"
     },
     "output_type": "display_data"
    }
   ],
   "source": [
    "\n",
    "plt.subplots(figsize=(15, 8), sharex=True)\n",
    "sns.distplot(dfTraceAgg['token_transfer_from_address'], color=\"b\",  kde=True, bins=20)\n"
   ]
  },
  {
   "cell_type": "markdown",
   "metadata": {},
   "source": [
    "### Variable - token_transfer_to_address"
   ]
  },
  {
   "cell_type": "code",
   "execution_count": 209,
   "metadata": {},
   "outputs": [
    {
     "data": {
      "text/plain": [
       "<AxesSubplot:xlabel='token_transfer_to_address', ylabel='Density'>"
      ]
     },
     "execution_count": 209,
     "metadata": {},
     "output_type": "execute_result"
    },
    {
     "data": {
      "image/png": "[encoded data removed]",
      "text/plain": [
       "<Figure size 1080x576 with 1 Axes>"
      ]
     },
     "metadata": {
      "needs_background": "light"
     },
     "output_type": "display_data"
    }
   ],
   "source": [
    "\n",
    "plt.subplots(figsize=(15, 8), sharex=True)\n",
    "sns.distplot(dfTraceAgg['token_transfer_to_address'], color=\"b\",  kde=True, bins=20)\n"
   ]
  },
  {
   "cell_type": "markdown",
   "metadata": {},
   "source": [
    "### Variable - token_transfer_value"
   ]
  },
  {
   "cell_type": "code",
   "execution_count": 210,
   "metadata": {},
   "outputs": [
    {
     "data": {
      "text/plain": [
       "<AxesSubplot:xlabel='token_transfer_value', ylabel='Density'>"
      ]
     },
     "execution_count": 210,
     "metadata": {},
     "output_type": "execute_result"
    },
    {
     "data": {
      "image/png": "[encoded data removed]",
      "text/plain": [
       "<Figure size 1080x576 with 1 Axes>"
      ]
     },
     "metadata": {
      "needs_background": "light"
     },
     "output_type": "display_data"
    }
   ],
   "source": [
    "\n",
    "plt.subplots(figsize=(15, 8), sharex=True)\n",
    "sns.distplot(dfTraceAgg['token_transfer_value'], color=\"b\",  kde=True, bins=20)\n"
   ]
  },
  {
   "cell_type": "markdown",
   "metadata": {},
   "source": [
    "### Variable - transaction_from_address"
   ]
  },
  {
   "cell_type": "code",
   "execution_count": 211,
   "metadata": {},
   "outputs": [
    {
     "data": {
      "text/plain": [
       "<AxesSubplot:xlabel='transaction_from_address', ylabel='Density'>"
      ]
     },
     "execution_count": 211,
     "metadata": {},
     "output_type": "execute_result"
    },
    {
     "data": {
      "image/png": "[encoded data removed]",
      "text/plain": [
       "<Figure size 1080x576 with 1 Axes>"
      ]
     },
     "metadata": {
      "needs_background": "light"
     },
     "output_type": "display_data"
    }
   ],
   "source": [
    "\n",
    "plt.subplots(figsize=(15, 8), sharex=True)\n",
    "sns.distplot(dfTraceAgg['transaction_from_address'], color=\"b\",  kde=True, bins=20)\n"
   ]
  },
  {
   "cell_type": "markdown",
   "metadata": {},
   "source": [
    "### Variable - transaction_to_address"
   ]
  },
  {
   "cell_type": "code",
   "execution_count": 212,
   "metadata": {},
   "outputs": [
    {
     "data": {
      "text/plain": [
       "<AxesSubplot:xlabel='transaction_to_address', ylabel='Density'>"
      ]
     },
     "execution_count": 212,
     "metadata": {},
     "output_type": "execute_result"
    },
    {
     "data": {
      "image/png": "[encoded data removed]",
      "text/plain": [
       "<Figure size 1080x576 with 1 Axes>"
      ]
     },
     "metadata": {
      "needs_background": "light"
     },
     "output_type": "display_data"
    }
   ],
   "source": [
    "\n",
    "plt.subplots(figsize=(15, 8), sharex=True)\n",
    "sns.distplot(dfTraceAgg['transaction_to_address'], color=\"b\",  kde=True, bins=20)\n"
   ]
  },
  {
   "cell_type": "markdown",
   "metadata": {},
   "source": [
    "### Variable - transaction_value"
   ]
  },
  {
   "cell_type": "code",
   "execution_count": 213,
   "metadata": {},
   "outputs": [
    {
     "data": {
      "text/plain": [
       "<AxesSubplot:xlabel='transaction_value', ylabel='Density'>"
      ]
     },
     "execution_count": 213,
     "metadata": {},
     "output_type": "execute_result"
    },
    {
     "data": {
      "image/png": "[encoded data removed]",
      "text/plain": [
       "<Figure size 1080x576 with 1 Axes>"
      ]
     },
     "metadata": {
      "needs_background": "light"
     },
     "output_type": "display_data"
    }
   ],
   "source": [
    "plt.subplots(figsize=(15, 8), sharex=True)\n",
    "sns.distplot(dfTraceAgg['transaction_value'], color=\"b\",  kde=True, bins=20)\n"
   ]
  },
  {
   "cell_type": "markdown",
   "metadata": {},
   "source": [
    "### Variable - transaction_gas"
   ]
  },
  {
   "cell_type": "code",
   "execution_count": 214,
   "metadata": {},
   "outputs": [
    {
     "data": {
      "text/plain": [
       "<AxesSubplot:xlabel='transaction_gas', ylabel='Density'>"
      ]
     },
     "execution_count": 214,
     "metadata": {},
     "output_type": "execute_result"
    },
    {
     "data": {
      "image/png": "[encoded data removed]",
      "text/plain": [
       "<Figure size 1080x576 with 1 Axes>"
      ]
     },
     "metadata": {
      "needs_background": "light"
     },
     "output_type": "display_data"
    }
   ],
   "source": [
    "plt.subplots(figsize=(15, 8), sharex=True)\n",
    "sns.distplot(dfTraceAgg['transaction_gas'], color=\"b\",  kde=True, bins=20)\n"
   ]
  },
  {
   "cell_type": "markdown",
   "metadata": {},
   "source": [
    "### Variable - transaction_gas_price"
   ]
  },
  {
   "cell_type": "code",
   "execution_count": 215,
   "metadata": {},
   "outputs": [
    {
     "data": {
      "text/plain": [
       "<AxesSubplot:xlabel='transaction_gas_price', ylabel='Density'>"
      ]
     },
     "execution_count": 215,
     "metadata": {},
     "output_type": "execute_result"
    },
    {
     "data": {
      "image/png": "[encoded data removed]",
      "text/plain": [
       "<Figure size 1080x576 with 1 Axes>"
      ]
     },
     "metadata": {
      "needs_background": "light"
     },
     "output_type": "display_data"
    }
   ],
   "source": [
    "\n",
    "plt.subplots(figsize=(15, 8), sharex=True)\n",
    "sns.distplot(dfTraceAgg['transaction_gas_price'], color=\"b\",  kde=True, bins=20)\n"
   ]
  },
  {
   "cell_type": "markdown",
   "metadata": {},
   "source": [
    "### Variable - receipt_cumulative_gas_used"
   ]
  },
  {
   "cell_type": "code",
   "execution_count": 216,
   "metadata": {},
   "outputs": [
    {
     "data": {
      "text/plain": [
       "<AxesSubplot:xlabel='receipt_cumulative_gas_used', ylabel='Density'>"
      ]
     },
     "execution_count": 216,
     "metadata": {},
     "output_type": "execute_result"
    },
    {
     "data": {
      "image/png": "[encoded data removed]",
      "text/plain": [
       "<Figure size 1080x576 with 1 Axes>"
      ]
     },
     "metadata": {
      "needs_background": "light"
     },
     "output_type": "display_data"
    }
   ],
   "source": [
    "plt.subplots(figsize=(15, 8), sharex=True)\n",
    "sns.distplot(dfTraceAgg['receipt_cumulative_gas_used'], color=\"b\",  kde=True, bins=20)\n"
   ]
  },
  {
   "cell_type": "markdown",
   "metadata": {},
   "source": [
    "### Variable - receipt_gas_used"
   ]
  },
  {
   "cell_type": "code",
   "execution_count": 217,
   "metadata": {},
   "outputs": [
    {
     "data": {
      "text/plain": [
       "<AxesSubplot:xlabel='receipt_gas_used', ylabel='Density'>"
      ]
     },
     "execution_count": 217,
     "metadata": {},
     "output_type": "execute_result"
    },
    {
     "data": {
      "image/png": "[encoded data removed]",
      "text/plain": [
       "<Figure size 1080x576 with 1 Axes>"
      ]
     },
     "metadata": {
      "needs_background": "light"
     },
     "output_type": "display_data"
    }
   ],
   "source": [
    "\n",
    "plt.subplots(figsize=(15, 8), sharex=True)\n",
    "sns.distplot(dfTraceAgg['receipt_gas_used'], color=\"b\",  kde=True, bins=20)\n"
   ]
  },
  {
   "cell_type": "markdown",
   "metadata": {},
   "source": [
    "### Variable - token_decimals"
   ]
  },
  {
   "cell_type": "code",
   "execution_count": 218,
   "metadata": {},
   "outputs": [
    {
     "data": {
      "text/plain": [
       "<AxesSubplot:xlabel='token_decimals', ylabel='Density'>"
      ]
     },
     "execution_count": 218,
     "metadata": {},
     "output_type": "execute_result"
    },
    {
     "data": {
      "image/png": "[encoded data removed]",
      "text/plain": [
       "<Figure size 1080x576 with 1 Axes>"
      ]
     },
     "metadata": {
      "needs_background": "light"
     },
     "output_type": "display_data"
    }
   ],
   "source": [
    "\n",
    "plt.subplots(figsize=(15, 8), sharex=True)\n",
    "sns.distplot(dfTraceAgg['token_decimals'], color=\"b\",  kde=True, bins=20)\n"
   ]
  },
  {
   "cell_type": "markdown",
   "metadata": {},
   "source": [
    "### Variable - token_total_supply"
   ]
  },
  {
   "cell_type": "code",
   "execution_count": 219,
   "metadata": {},
   "outputs": [
    {
     "data": {
      "text/plain": [
       "<AxesSubplot:xlabel='token_total_supply', ylabel='Density'>"
      ]
     },
     "execution_count": 219,
     "metadata": {},
     "output_type": "execute_result"
    },
    {
     "data": {
      "image/png": "[encoded data removed]",
      "text/plain": [
       "<Figure size 1080x576 with 1 Axes>"
      ]
     },
     "metadata": {
      "needs_background": "light"
     },
     "output_type": "display_data"
    }
   ],
   "source": [
    "\n",
    "plt.subplots(figsize=(15, 8), sharex=True)\n",
    "sns.distplot(dfTraceAgg['token_total_supply'], color=\"b\",  kde=True, bins=20)\n"
   ]
  },
  {
   "cell_type": "markdown",
   "metadata": {},
   "source": [
    "### Variable - Contract_address"
   ]
  },
  {
   "cell_type": "code",
   "execution_count": 220,
   "metadata": {},
   "outputs": [
    {
     "data": {
      "text/plain": [
       "<AxesSubplot:xlabel='Contract_address', ylabel='Density'>"
      ]
     },
     "execution_count": 220,
     "metadata": {},
     "output_type": "execute_result"
    },
    {
     "data": {
      "image/png": "[encoded data removed]",
      "text/plain": [
       "<Figure size 1080x576 with 1 Axes>"
      ]
     },
     "metadata": {
      "needs_background": "light"
     },
     "output_type": "display_data"
    }
   ],
   "source": [
    "\n",
    "plt.subplots(figsize=(15, 8), sharex=True)\n",
    "sns.distplot(dfTraceAgg['Contract_address'], color=\"b\",  kde=True, bins=20)\n"
   ]
  },
  {
   "cell_type": "markdown",
   "metadata": {},
   "source": [
    "# Segmented Univariate Data Analysis"
   ]
  },
  {
   "cell_type": "markdown",
   "metadata": {},
   "source": [
    "### Variable - token_name"
   ]
  },
  {
   "cell_type": "code",
   "execution_count": 233,
   "metadata": {},
   "outputs": [
    {
     "data": {
      "text/plain": [
       "token_name\n",
       "Metronome            4\n",
       "eBOMB                3\n",
       "AMIS                 3\n",
       "Ether Frown          3\n",
       "Gastoken.io          3\n",
       "Ether Klown          2\n",
       "Lucy                 2\n",
       "Longfin Coin         2\n",
       "Test                 1\n",
       "SuperDanCoin         1\n",
       "Vortex               1\n",
       "Arcadium Classic     1\n",
       "Bcct                 1\n",
       "Bitcoin              1\n",
       "BruCoin              1\n",
       "Cascadium Classic    1\n",
       "DanCoin              1\n",
       "UniversalCoin        1\n",
       "TheDanCoin           1\n",
       "Test 5               1\n",
       "HYBRIDTEST           1\n",
       "ZigZag2              1\n",
       "Test 3               1\n",
       "Test 2               1\n",
       "Pontos               1\n",
       "( . Y . )            1\n",
       "dtype: int64"
      ]
     },
     "execution_count": 233,
     "metadata": {},
     "output_type": "execute_result"
    }
   ],
   "source": [
    "\n",
    "dfTraceAgg.groupby(['token_name']).size().sort_values(ascending=False)\n"
   ]
  },
  {
   "cell_type": "code",
   "execution_count": 234,
   "metadata": {},
   "outputs": [
    {
     "data": {
      "text/plain": [
       "<AxesSubplot:xlabel='token_name', ylabel='count'>"
      ]
     },
     "execution_count": 234,
     "metadata": {},
     "output_type": "execute_result"
    },
    {
     "data": {
      "image/png": "[encoded data removed]",
      "text/plain": [
       "<Figure size 1080x576 with 1 Axes>"
      ]
     },
     "metadata": {
      "needs_background": "light"
     },
     "output_type": "display_data"
    }
   ],
   "source": [
    "plt.subplots(figsize=(15, 8), sharex=True)\n",
    "sns.countplot(x='token_name', \n",
    "              data=dfTraceAgg, \n",
    "              order = dfTraceAgg['token_name'].value_counts().index,\n",
    "              palette=\"deep\")\n"
   ]
  },
  {
   "cell_type": "markdown",
   "metadata": {},
   "source": [
    "### Variable - receipt_status"
   ]
  },
  {
   "cell_type": "code",
   "execution_count": 235,
   "metadata": {},
   "outputs": [
    {
     "data": {
      "text/plain": [
       "receipt_status\n",
       "1.0    23\n",
       "0.0    17\n",
       "dtype: int64"
      ]
     },
     "execution_count": 235,
     "metadata": {},
     "output_type": "execute_result"
    }
   ],
   "source": [
    "dfTraceAgg.groupby(['receipt_status']).size().sort_values(ascending=False).head(20)"
   ]
  },
  {
   "cell_type": "code",
   "execution_count": 236,
   "metadata": {},
   "outputs": [
    {
     "data": {
      "text/plain": [
       "<AxesSubplot:xlabel='receipt_status', ylabel='count'>"
      ]
     },
     "execution_count": 236,
     "metadata": {},
     "output_type": "execute_result"
    },
    {
     "data": {
      "image/png": "[encoded data removed]",
      "text/plain": [
       "<Figure size 1080x576 with 1 Axes>"
      ]
     },
     "metadata": {
      "needs_background": "light"
     },
     "output_type": "display_data"
    }
   ],
   "source": [
    "plt.subplots(figsize=(15, 8), sharex=True)\n",
    "sns.countplot(x='receipt_status', \n",
    "              data=dfTraceAgg,\n",
    "              order = dfTraceAgg['receipt_status'].value_counts().index,\n",
    "              palette=\"deep\")\n"
   ]
  },
  {
   "cell_type": "markdown",
   "metadata": {},
   "source": [
    "### Variable - Contract_is_erc20"
   ]
  },
  {
   "cell_type": "code",
   "execution_count": 237,
   "metadata": {},
   "outputs": [
    {
     "data": {
      "text/plain": [
       "Contract_is_erc20\n",
       "True     30\n",
       "False    10\n",
       "dtype: int64"
      ]
     },
     "execution_count": 237,
     "metadata": {},
     "output_type": "execute_result"
    }
   ],
   "source": [
    "dfTraceAgg.groupby(['Contract_is_erc20']).size().sort_values(ascending=False).head(20)"
   ]
  },
  {
   "cell_type": "code",
   "execution_count": 238,
   "metadata": {},
   "outputs": [
    {
     "data": {
      "text/plain": [
       "<AxesSubplot:xlabel='Contract_is_erc20', ylabel='count'>"
      ]
     },
     "execution_count": 238,
     "metadata": {},
     "output_type": "execute_result"
    },
    {
     "data": {
      "image/png": "[encoded data removed]",
      "text/plain": [
       "<Figure size 1080x576 with 1 Axes>"
      ]
     },
     "metadata": {
      "needs_background": "light"
     },
     "output_type": "display_data"
    }
   ],
   "source": [
    "plt.subplots(figsize=(15, 8), sharex=True)\n",
    "sns.countplot(x='Contract_is_erc20', \n",
    "              data=dfTraceAgg, \n",
    "              order = dfTraceAgg['Contract_is_erc20'].value_counts().index, \n",
    "              palette=\"deep\")\n"
   ]
  },
  {
   "cell_type": "markdown",
   "metadata": {},
   "source": [
    "# Bivariate Data Analysis on Continuous Variables"
   ]
  },
  {
   "cell_type": "code",
   "execution_count": 239,
   "metadata": {},
   "outputs": [
    {
     "data": {
      "text/html": [
       "<div>\n",
       "<style scoped>\n",
       "    .dataframe tbody tr th:only-of-type {\n",
       "        vertical-align: middle;\n",
       "    }\n",
       "\n",
       "    .dataframe tbody tr th {\n",
       "        vertical-align: top;\n",
       "    }\n",
       "\n",
       "    .dataframe thead th {\n",
       "        text-align: right;\n",
       "    }\n",
       "</style>\n",
       "<table border=\"1\" class=\"dataframe\">\n",
       "  <thead>\n",
       "    <tr style=\"text-align: right;\">\n",
       "      <th></th>\n",
       "      <th>receipt_status</th>\n",
       "      <th>Contract_is_erc20</th>\n",
       "      <th>trace_from_address</th>\n",
       "      <th>trace_to_address</th>\n",
       "      <th>trace_value</th>\n",
       "      <th>trace_gas</th>\n",
       "      <th>trace_gas_used</th>\n",
       "      <th>token_transfer_from_address</th>\n",
       "      <th>token_transfer_to_address</th>\n",
       "      <th>token_transfer_value</th>\n",
       "      <th>transaction_from_address</th>\n",
       "      <th>transaction_to_address</th>\n",
       "      <th>transaction_value</th>\n",
       "      <th>transaction_gas</th>\n",
       "      <th>transaction_gas_price</th>\n",
       "      <th>receipt_cumulative_gas_used</th>\n",
       "      <th>receipt_gas_used</th>\n",
       "      <th>token_decimals</th>\n",
       "      <th>token_total_supply</th>\n",
       "      <th>Contract_address</th>\n",
       "    </tr>\n",
       "  </thead>\n",
       "  <tbody>\n",
       "    <tr>\n",
       "      <th>receipt_status</th>\n",
       "      <td>1.000000</td>\n",
       "      <td>-0.145989</td>\n",
       "      <td>-0.194296</td>\n",
       "      <td>-0.177138</td>\n",
       "      <td>-0.187080</td>\n",
       "      <td>0.077456</td>\n",
       "      <td>0.075460</td>\n",
       "      <td>-0.185788</td>\n",
       "      <td>0.128437</td>\n",
       "      <td>-0.186226</td>\n",
       "      <td>-0.165178</td>\n",
       "      <td>0.033051</td>\n",
       "      <td>-0.174490</td>\n",
       "      <td>0.153528</td>\n",
       "      <td>-0.123389</td>\n",
       "      <td>0.008930</td>\n",
       "      <td>0.269452</td>\n",
       "      <td>0.038456</td>\n",
       "      <td>-0.034794</td>\n",
       "      <td>-0.146228</td>\n",
       "    </tr>\n",
       "    <tr>\n",
       "      <th>Contract_is_erc20</th>\n",
       "      <td>-0.145989</td>\n",
       "      <td>1.000000</td>\n",
       "      <td>-0.276633</td>\n",
       "      <td>-0.388305</td>\n",
       "      <td>-0.282406</td>\n",
       "      <td>-0.352980</td>\n",
       "      <td>-0.473862</td>\n",
       "      <td>-0.250950</td>\n",
       "      <td>0.087089</td>\n",
       "      <td>-0.277391</td>\n",
       "      <td>-0.234453</td>\n",
       "      <td>-0.369993</td>\n",
       "      <td>0.100056</td>\n",
       "      <td>-0.335415</td>\n",
       "      <td>-0.339849</td>\n",
       "      <td>-0.362421</td>\n",
       "      <td>-0.249248</td>\n",
       "      <td>-0.241085</td>\n",
       "      <td>-0.397380</td>\n",
       "      <td>-0.420303</td>\n",
       "    </tr>\n",
       "    <tr>\n",
       "      <th>trace_from_address</th>\n",
       "      <td>-0.194296</td>\n",
       "      <td>-0.276633</td>\n",
       "      <td>1.000000</td>\n",
       "      <td>0.965730</td>\n",
       "      <td>0.975886</td>\n",
       "      <td>0.746058</td>\n",
       "      <td>0.638538</td>\n",
       "      <td>0.997682</td>\n",
       "      <td>0.026506</td>\n",
       "      <td>0.975619</td>\n",
       "      <td>0.989572</td>\n",
       "      <td>0.788832</td>\n",
       "      <td>0.166411</td>\n",
       "      <td>0.567858</td>\n",
       "      <td>0.965322</td>\n",
       "      <td>0.367849</td>\n",
       "      <td>0.135604</td>\n",
       "      <td>0.362123</td>\n",
       "      <td>0.670421</td>\n",
       "      <td>0.956397</td>\n",
       "    </tr>\n",
       "    <tr>\n",
       "      <th>trace_to_address</th>\n",
       "      <td>-0.177138</td>\n",
       "      <td>-0.388305</td>\n",
       "      <td>0.965730</td>\n",
       "      <td>1.000000</td>\n",
       "      <td>0.984819</td>\n",
       "      <td>0.723050</td>\n",
       "      <td>0.652195</td>\n",
       "      <td>0.952231</td>\n",
       "      <td>-0.002454</td>\n",
       "      <td>0.982835</td>\n",
       "      <td>0.944078</td>\n",
       "      <td>0.769475</td>\n",
       "      <td>-0.039703</td>\n",
       "      <td>0.536821</td>\n",
       "      <td>0.964286</td>\n",
       "      <td>0.329110</td>\n",
       "      <td>0.096973</td>\n",
       "      <td>0.336871</td>\n",
       "      <td>0.681993</td>\n",
       "      <td>0.990465</td>\n",
       "    </tr>\n",
       "    <tr>\n",
       "      <th>trace_value</th>\n",
       "      <td>-0.187080</td>\n",
       "      <td>-0.282406</td>\n",
       "      <td>0.975886</td>\n",
       "      <td>0.984819</td>\n",
       "      <td>1.000000</td>\n",
       "      <td>0.719180</td>\n",
       "      <td>0.632753</td>\n",
       "      <td>0.967441</td>\n",
       "      <td>0.009057</td>\n",
       "      <td>0.999921</td>\n",
       "      <td>0.961394</td>\n",
       "      <td>0.733891</td>\n",
       "      <td>-0.028256</td>\n",
       "      <td>0.525582</td>\n",
       "      <td>0.965907</td>\n",
       "      <td>0.250664</td>\n",
       "      <td>0.073948</td>\n",
       "      <td>0.265885</td>\n",
       "      <td>0.697591</td>\n",
       "      <td>0.973708</td>\n",
       "    </tr>\n",
       "    <tr>\n",
       "      <th>trace_gas</th>\n",
       "      <td>0.077456</td>\n",
       "      <td>-0.352980</td>\n",
       "      <td>0.746058</td>\n",
       "      <td>0.723050</td>\n",
       "      <td>0.719180</td>\n",
       "      <td>1.000000</td>\n",
       "      <td>0.920555</td>\n",
       "      <td>0.755001</td>\n",
       "      <td>0.093235</td>\n",
       "      <td>0.720109</td>\n",
       "      <td>0.790185</td>\n",
       "      <td>0.833544</td>\n",
       "      <td>-0.033393</td>\n",
       "      <td>0.966936</td>\n",
       "      <td>0.867154</td>\n",
       "      <td>0.520485</td>\n",
       "      <td>0.735820</td>\n",
       "      <td>0.324552</td>\n",
       "      <td>0.472229</td>\n",
       "      <td>0.754074</td>\n",
       "    </tr>\n",
       "    <tr>\n",
       "      <th>trace_gas_used</th>\n",
       "      <td>0.075460</td>\n",
       "      <td>-0.473862</td>\n",
       "      <td>0.638538</td>\n",
       "      <td>0.652195</td>\n",
       "      <td>0.632753</td>\n",
       "      <td>0.920555</td>\n",
       "      <td>1.000000</td>\n",
       "      <td>0.633199</td>\n",
       "      <td>-0.005271</td>\n",
       "      <td>0.633541</td>\n",
       "      <td>0.643233</td>\n",
       "      <td>0.688533</td>\n",
       "      <td>-0.043787</td>\n",
       "      <td>0.900657</td>\n",
       "      <td>0.774471</td>\n",
       "      <td>0.430543</td>\n",
       "      <td>0.713287</td>\n",
       "      <td>0.277981</td>\n",
       "      <td>0.413864</td>\n",
       "      <td>0.697396</td>\n",
       "    </tr>\n",
       "    <tr>\n",
       "      <th>token_transfer_from_address</th>\n",
       "      <td>-0.185788</td>\n",
       "      <td>-0.250950</td>\n",
       "      <td>0.997682</td>\n",
       "      <td>0.952231</td>\n",
       "      <td>0.967441</td>\n",
       "      <td>0.755001</td>\n",
       "      <td>0.633199</td>\n",
       "      <td>1.000000</td>\n",
       "      <td>0.041858</td>\n",
       "      <td>0.967504</td>\n",
       "      <td>0.992000</td>\n",
       "      <td>0.802417</td>\n",
       "      <td>0.180781</td>\n",
       "      <td>0.581538</td>\n",
       "      <td>0.962206</td>\n",
       "      <td>0.373539</td>\n",
       "      <td>0.154798</td>\n",
       "      <td>0.369838</td>\n",
       "      <td>0.664385</td>\n",
       "      <td>0.942520</td>\n",
       "    </tr>\n",
       "    <tr>\n",
       "      <th>token_transfer_to_address</th>\n",
       "      <td>0.128437</td>\n",
       "      <td>0.087089</td>\n",
       "      <td>0.026506</td>\n",
       "      <td>-0.002454</td>\n",
       "      <td>0.009057</td>\n",
       "      <td>0.093235</td>\n",
       "      <td>-0.005271</td>\n",
       "      <td>0.041858</td>\n",
       "      <td>1.000000</td>\n",
       "      <td>0.009521</td>\n",
       "      <td>0.032518</td>\n",
       "      <td>-0.006354</td>\n",
       "      <td>0.003061</td>\n",
       "      <td>0.040836</td>\n",
       "      <td>0.019525</td>\n",
       "      <td>0.270075</td>\n",
       "      <td>-0.044809</td>\n",
       "      <td>-0.082695</td>\n",
       "      <td>-0.013487</td>\n",
       "      <td>-0.005185</td>\n",
       "    </tr>\n",
       "    <tr>\n",
       "      <th>token_transfer_value</th>\n",
       "      <td>-0.186226</td>\n",
       "      <td>-0.277391</td>\n",
       "      <td>0.975619</td>\n",
       "      <td>0.982835</td>\n",
       "      <td>0.999921</td>\n",
       "      <td>0.720109</td>\n",
       "      <td>0.633541</td>\n",
       "      <td>0.967504</td>\n",
       "      <td>0.009521</td>\n",
       "      <td>1.000000</td>\n",
       "      <td>0.961492</td>\n",
       "      <td>0.732788</td>\n",
       "      <td>-0.027519</td>\n",
       "      <td>0.526689</td>\n",
       "      <td>0.965556</td>\n",
       "      <td>0.246452</td>\n",
       "      <td>0.075191</td>\n",
       "      <td>0.261351</td>\n",
       "      <td>0.697976</td>\n",
       "      <td>0.972403</td>\n",
       "    </tr>\n",
       "    <tr>\n",
       "      <th>transaction_from_address</th>\n",
       "      <td>-0.165178</td>\n",
       "      <td>-0.234453</td>\n",
       "      <td>0.989572</td>\n",
       "      <td>0.944078</td>\n",
       "      <td>0.961394</td>\n",
       "      <td>0.790185</td>\n",
       "      <td>0.643233</td>\n",
       "      <td>0.992000</td>\n",
       "      <td>0.032518</td>\n",
       "      <td>0.961492</td>\n",
       "      <td>1.000000</td>\n",
       "      <td>0.810513</td>\n",
       "      <td>0.144965</td>\n",
       "      <td>0.628342</td>\n",
       "      <td>0.970153</td>\n",
       "      <td>0.394040</td>\n",
       "      <td>0.213782</td>\n",
       "      <td>0.353974</td>\n",
       "      <td>0.659083</td>\n",
       "      <td>0.932260</td>\n",
       "    </tr>\n",
       "    <tr>\n",
       "      <th>transaction_to_address</th>\n",
       "      <td>0.033051</td>\n",
       "      <td>-0.369993</td>\n",
       "      <td>0.788832</td>\n",
       "      <td>0.769475</td>\n",
       "      <td>0.733891</td>\n",
       "      <td>0.833544</td>\n",
       "      <td>0.688533</td>\n",
       "      <td>0.802417</td>\n",
       "      <td>-0.006354</td>\n",
       "      <td>0.732788</td>\n",
       "      <td>0.810513</td>\n",
       "      <td>1.000000</td>\n",
       "      <td>0.038485</td>\n",
       "      <td>0.770278</td>\n",
       "      <td>0.835179</td>\n",
       "      <td>0.600727</td>\n",
       "      <td>0.506680</td>\n",
       "      <td>0.534055</td>\n",
       "      <td>0.467384</td>\n",
       "      <td>0.802181</td>\n",
       "    </tr>\n",
       "    <tr>\n",
       "      <th>transaction_value</th>\n",
       "      <td>-0.174490</td>\n",
       "      <td>0.100056</td>\n",
       "      <td>0.166411</td>\n",
       "      <td>-0.039703</td>\n",
       "      <td>-0.028256</td>\n",
       "      <td>-0.033393</td>\n",
       "      <td>-0.043787</td>\n",
       "      <td>0.180781</td>\n",
       "      <td>0.003061</td>\n",
       "      <td>-0.027519</td>\n",
       "      <td>0.144965</td>\n",
       "      <td>0.038485</td>\n",
       "      <td>1.000000</td>\n",
       "      <td>-0.028415</td>\n",
       "      <td>-0.012179</td>\n",
       "      <td>0.275149</td>\n",
       "      <td>-0.016052</td>\n",
       "      <td>0.282608</td>\n",
       "      <td>-0.039608</td>\n",
       "      <td>-0.042054</td>\n",
       "    </tr>\n",
       "    <tr>\n",
       "      <th>transaction_gas</th>\n",
       "      <td>0.153528</td>\n",
       "      <td>-0.335415</td>\n",
       "      <td>0.567858</td>\n",
       "      <td>0.536821</td>\n",
       "      <td>0.525582</td>\n",
       "      <td>0.966936</td>\n",
       "      <td>0.900657</td>\n",
       "      <td>0.581538</td>\n",
       "      <td>0.040836</td>\n",
       "      <td>0.526689</td>\n",
       "      <td>0.628342</td>\n",
       "      <td>0.770278</td>\n",
       "      <td>-0.028415</td>\n",
       "      <td>1.000000</td>\n",
       "      <td>0.720011</td>\n",
       "      <td>0.536043</td>\n",
       "      <td>0.883981</td>\n",
       "      <td>0.315281</td>\n",
       "      <td>0.331563</td>\n",
       "      <td>0.579052</td>\n",
       "    </tr>\n",
       "    <tr>\n",
       "      <th>transaction_gas_price</th>\n",
       "      <td>-0.123389</td>\n",
       "      <td>-0.339849</td>\n",
       "      <td>0.965322</td>\n",
       "      <td>0.964286</td>\n",
       "      <td>0.965907</td>\n",
       "      <td>0.867154</td>\n",
       "      <td>0.774471</td>\n",
       "      <td>0.962206</td>\n",
       "      <td>0.019525</td>\n",
       "      <td>0.965556</td>\n",
       "      <td>0.970153</td>\n",
       "      <td>0.835179</td>\n",
       "      <td>-0.012179</td>\n",
       "      <td>0.720011</td>\n",
       "      <td>1.000000</td>\n",
       "      <td>0.394204</td>\n",
       "      <td>0.319600</td>\n",
       "      <td>0.345473</td>\n",
       "      <td>0.660620</td>\n",
       "      <td>0.964595</td>\n",
       "    </tr>\n",
       "    <tr>\n",
       "      <th>receipt_cumulative_gas_used</th>\n",
       "      <td>0.008930</td>\n",
       "      <td>-0.362421</td>\n",
       "      <td>0.367849</td>\n",
       "      <td>0.329110</td>\n",
       "      <td>0.250664</td>\n",
       "      <td>0.520485</td>\n",
       "      <td>0.430543</td>\n",
       "      <td>0.373539</td>\n",
       "      <td>0.270075</td>\n",
       "      <td>0.246452</td>\n",
       "      <td>0.394040</td>\n",
       "      <td>0.600727</td>\n",
       "      <td>0.275149</td>\n",
       "      <td>0.536043</td>\n",
       "      <td>0.394204</td>\n",
       "      <td>1.000000</td>\n",
       "      <td>0.471322</td>\n",
       "      <td>0.599782</td>\n",
       "      <td>0.137723</td>\n",
       "      <td>0.330890</td>\n",
       "    </tr>\n",
       "    <tr>\n",
       "      <th>receipt_gas_used</th>\n",
       "      <td>0.269452</td>\n",
       "      <td>-0.249248</td>\n",
       "      <td>0.135604</td>\n",
       "      <td>0.096973</td>\n",
       "      <td>0.073948</td>\n",
       "      <td>0.735820</td>\n",
       "      <td>0.713287</td>\n",
       "      <td>0.154798</td>\n",
       "      <td>-0.044809</td>\n",
       "      <td>0.075191</td>\n",
       "      <td>0.213782</td>\n",
       "      <td>0.506680</td>\n",
       "      <td>-0.016052</td>\n",
       "      <td>0.883981</td>\n",
       "      <td>0.319600</td>\n",
       "      <td>0.471322</td>\n",
       "      <td>1.000000</td>\n",
       "      <td>0.235218</td>\n",
       "      <td>0.012009</td>\n",
       "      <td>0.152413</td>\n",
       "    </tr>\n",
       "    <tr>\n",
       "      <th>token_decimals</th>\n",
       "      <td>0.038456</td>\n",
       "      <td>-0.241085</td>\n",
       "      <td>0.362123</td>\n",
       "      <td>0.336871</td>\n",
       "      <td>0.265885</td>\n",
       "      <td>0.324552</td>\n",
       "      <td>0.277981</td>\n",
       "      <td>0.369838</td>\n",
       "      <td>-0.082695</td>\n",
       "      <td>0.261351</td>\n",
       "      <td>0.353974</td>\n",
       "      <td>0.534055</td>\n",
       "      <td>0.282608</td>\n",
       "      <td>0.315281</td>\n",
       "      <td>0.345473</td>\n",
       "      <td>0.599782</td>\n",
       "      <td>0.235218</td>\n",
       "      <td>1.000000</td>\n",
       "      <td>0.374235</td>\n",
       "      <td>0.337116</td>\n",
       "    </tr>\n",
       "    <tr>\n",
       "      <th>token_total_supply</th>\n",
       "      <td>-0.034794</td>\n",
       "      <td>-0.397380</td>\n",
       "      <td>0.670421</td>\n",
       "      <td>0.681993</td>\n",
       "      <td>0.697591</td>\n",
       "      <td>0.472229</td>\n",
       "      <td>0.413864</td>\n",
       "      <td>0.664385</td>\n",
       "      <td>-0.013487</td>\n",
       "      <td>0.697976</td>\n",
       "      <td>0.659083</td>\n",
       "      <td>0.467384</td>\n",
       "      <td>-0.039608</td>\n",
       "      <td>0.331563</td>\n",
       "      <td>0.660620</td>\n",
       "      <td>0.137723</td>\n",
       "      <td>0.012009</td>\n",
       "      <td>0.374235</td>\n",
       "      <td>1.000000</td>\n",
       "      <td>0.682153</td>\n",
       "    </tr>\n",
       "    <tr>\n",
       "      <th>Contract_address</th>\n",
       "      <td>-0.146228</td>\n",
       "      <td>-0.420303</td>\n",
       "      <td>0.956397</td>\n",
       "      <td>0.990465</td>\n",
       "      <td>0.973708</td>\n",
       "      <td>0.754074</td>\n",
       "      <td>0.697396</td>\n",
       "      <td>0.942520</td>\n",
       "      <td>-0.005185</td>\n",
       "      <td>0.972403</td>\n",
       "      <td>0.932260</td>\n",
       "      <td>0.802181</td>\n",
       "      <td>-0.042054</td>\n",
       "      <td>0.579052</td>\n",
       "      <td>0.964595</td>\n",
       "      <td>0.330890</td>\n",
       "      <td>0.152413</td>\n",
       "      <td>0.337116</td>\n",
       "      <td>0.682153</td>\n",
       "      <td>1.000000</td>\n",
       "    </tr>\n",
       "  </tbody>\n",
       "</table>\n",
       "</div>"
      ],
      "text/plain": [
       "                             receipt_status  Contract_is_erc20  \\\n",
       "receipt_status                     1.000000          -0.145989   \n",
       "Contract_is_erc20                 -0.145989           1.000000   \n",
       "trace_from_address                -0.194296          -0.276633   \n",
       "trace_to_address                  -0.177138          -0.388305   \n",
       "trace_value                       -0.187080          -0.282406   \n",
       "trace_gas                          0.077456          -0.352980   \n",
       "trace_gas_used                     0.075460          -0.473862   \n",
       "token_transfer_from_address       -0.185788          -0.250950   \n",
       "token_transfer_to_address          0.128437           0.087089   \n",
       "token_transfer_value              -0.186226          -0.277391   \n",
       "transaction_from_address          -0.165178          -0.234453   \n",
       "transaction_to_address             0.033051          -0.369993   \n",
       "transaction_value                 -0.174490           0.100056   \n",
       "transaction_gas                    0.153528          -0.335415   \n",
       "transaction_gas_price             -0.123389          -0.339849   \n",
       "receipt_cumulative_gas_used        0.008930          -0.362421   \n",
       "receipt_gas_used                   0.269452          -0.249248   \n",
       "token_decimals                     0.038456          -0.241085   \n",
       "token_total_supply                -0.034794          -0.397380   \n",
       "Contract_address                  -0.146228          -0.420303   \n",
       "\n",
       "                             trace_from_address  trace_to_address  \\\n",
       "receipt_status                        -0.194296         -0.177138   \n",
       "Contract_is_erc20                     -0.276633         -0.388305   \n",
       "trace_from_address                     1.000000          0.965730   \n",
       "trace_to_address                       0.965730          1.000000   \n",
       "trace_value                            0.975886          0.984819   \n",
       "trace_gas                              0.746058          0.723050   \n",
       "trace_gas_used                         0.638538          0.652195   \n",
       "token_transfer_from_address            0.997682          0.952231   \n",
       "token_transfer_to_address              0.026506         -0.002454   \n",
       "token_transfer_value                   0.975619          0.982835   \n",
       "transaction_from_address               0.989572          0.944078   \n",
       "transaction_to_address                 0.788832          0.769475   \n",
       "transaction_value                      0.166411         -0.039703   \n",
       "transaction_gas                        0.567858          0.536821   \n",
       "transaction_gas_price                  0.965322          0.964286   \n",
       "receipt_cumulative_gas_used            0.367849          0.329110   \n",
       "receipt_gas_used                       0.135604          0.096973   \n",
       "token_decimals                         0.362123          0.336871   \n",
       "token_total_supply                     0.670421          0.681993   \n",
       "Contract_address                       0.956397          0.990465   \n",
       "\n",
       "                             trace_value  trace_gas  trace_gas_used  \\\n",
       "receipt_status                 -0.187080   0.077456        0.075460   \n",
       "Contract_is_erc20              -0.282406  -0.352980       -0.473862   \n",
       "trace_from_address              0.975886   0.746058        0.638538   \n",
       "trace_to_address                0.984819   0.723050        0.652195   \n",
       "trace_value                     1.000000   0.719180        0.632753   \n",
       "trace_gas                       0.719180   1.000000        0.920555   \n",
       "trace_gas_used                  0.632753   0.920555        1.000000   \n",
       "token_transfer_from_address     0.967441   0.755001        0.633199   \n",
       "token_transfer_to_address       0.009057   0.093235       -0.005271   \n",
       "token_transfer_value            0.999921   0.720109        0.633541   \n",
       "transaction_from_address        0.961394   0.790185        0.643233   \n",
       "transaction_to_address          0.733891   0.833544        0.688533   \n",
       "transaction_value              -0.028256  -0.033393       -0.043787   \n",
       "transaction_gas                 0.525582   0.966936        0.900657   \n",
       "transaction_gas_price           0.965907   0.867154        0.774471   \n",
       "receipt_cumulative_gas_used     0.250664   0.520485        0.430543   \n",
       "receipt_gas_used                0.073948   0.735820        0.713287   \n",
       "token_decimals                  0.265885   0.324552        0.277981   \n",
       "token_total_supply              0.697591   0.472229        0.413864   \n",
       "Contract_address                0.973708   0.754074        0.697396   \n",
       "\n",
       "                             token_transfer_from_address  \\\n",
       "receipt_status                                 -0.185788   \n",
       "Contract_is_erc20                              -0.250950   \n",
       "trace_from_address                              0.997682   \n",
       "trace_to_address                                0.952231   \n",
       "trace_value                                     0.967441   \n",
       "trace_gas                                       0.755001   \n",
       "trace_gas_used                                  0.633199   \n",
       "token_transfer_from_address                     1.000000   \n",
       "token_transfer_to_address                       0.041858   \n",
       "token_transfer_value                            0.967504   \n",
       "transaction_from_address                        0.992000   \n",
       "transaction_to_address                          0.802417   \n",
       "transaction_value                               0.180781   \n",
       "transaction_gas                                 0.581538   \n",
       "transaction_gas_price                           0.962206   \n",
       "receipt_cumulative_gas_used                     0.373539   \n",
       "receipt_gas_used                                0.154798   \n",
       "token_decimals                                  0.369838   \n",
       "token_total_supply                              0.664385   \n",
       "Contract_address                                0.942520   \n",
       "\n",
       "                             token_transfer_to_address  token_transfer_value  \\\n",
       "receipt_status                                0.128437             -0.186226   \n",
       "Contract_is_erc20                             0.087089             -0.277391   \n",
       "trace_from_address                            0.026506              0.975619   \n",
       "trace_to_address                             -0.002454              0.982835   \n",
       "trace_value                                   0.009057              0.999921   \n",
       "trace_gas                                     0.093235              0.720109   \n",
       "trace_gas_used                               -0.005271              0.633541   \n",
       "token_transfer_from_address                   0.041858              0.967504   \n",
       "token_transfer_to_address                     1.000000              0.009521   \n",
       "token_transfer_value                          0.009521              1.000000   \n",
       "transaction_from_address                      0.032518              0.961492   \n",
       "transaction_to_address                       -0.006354              0.732788   \n",
       "transaction_value                             0.003061             -0.027519   \n",
       "transaction_gas                               0.040836              0.526689   \n",
       "transaction_gas_price                         0.019525              0.965556   \n",
       "receipt_cumulative_gas_used                   0.270075              0.246452   \n",
       "receipt_gas_used                             -0.044809              0.075191   \n",
       "token_decimals                               -0.082695              0.261351   \n",
       "token_total_supply                           -0.013487              0.697976   \n",
       "Contract_address                             -0.005185              0.972403   \n",
       "\n",
       "                             transaction_from_address  transaction_to_address  \\\n",
       "receipt_status                              -0.165178                0.033051   \n",
       "Contract_is_erc20                           -0.234453               -0.369993   \n",
       "trace_from_address                           0.989572                0.788832   \n",
       "trace_to_address                             0.944078                0.769475   \n",
       "trace_value                                  0.961394                0.733891   \n",
       "trace_gas                                    0.790185                0.833544   \n",
       "trace_gas_used                               0.643233                0.688533   \n",
       "token_transfer_from_address                  0.992000                0.802417   \n",
       "token_transfer_to_address                    0.032518               -0.006354   \n",
       "token_transfer_value                         0.961492                0.732788   \n",
       "transaction_from_address                     1.000000                0.810513   \n",
       "transaction_to_address                       0.810513                1.000000   \n",
       "transaction_value                            0.144965                0.038485   \n",
       "transaction_gas                              0.628342                0.770278   \n",
       "transaction_gas_price                        0.970153                0.835179   \n",
       "receipt_cumulative_gas_used                  0.394040                0.600727   \n",
       "receipt_gas_used                             0.213782                0.506680   \n",
       "token_decimals                               0.353974                0.534055   \n",
       "token_total_supply                           0.659083                0.467384   \n",
       "Contract_address                             0.932260                0.802181   \n",
       "\n",
       "                             transaction_value  transaction_gas  \\\n",
       "receipt_status                       -0.174490         0.153528   \n",
       "Contract_is_erc20                     0.100056        -0.335415   \n",
       "trace_from_address                    0.166411         0.567858   \n",
       "trace_to_address                     -0.039703         0.536821   \n",
       "trace_value                          -0.028256         0.525582   \n",
       "trace_gas                            -0.033393         0.966936   \n",
       "trace_gas_used                       -0.043787         0.900657   \n",
       "token_transfer_from_address           0.180781         0.581538   \n",
       "token_transfer_to_address             0.003061         0.040836   \n",
       "token_transfer_value                 -0.027519         0.526689   \n",
       "transaction_from_address              0.144965         0.628342   \n",
       "transaction_to_address                0.038485         0.770278   \n",
       "transaction_value                     1.000000        -0.028415   \n",
       "transaction_gas                      -0.028415         1.000000   \n",
       "transaction_gas_price                -0.012179         0.720011   \n",
       "receipt_cumulative_gas_used           0.275149         0.536043   \n",
       "receipt_gas_used                     -0.016052         0.883981   \n",
       "token_decimals                        0.282608         0.315281   \n",
       "token_total_supply                   -0.039608         0.331563   \n",
       "Contract_address                     -0.042054         0.579052   \n",
       "\n",
       "                             transaction_gas_price  \\\n",
       "receipt_status                           -0.123389   \n",
       "Contract_is_erc20                        -0.339849   \n",
       "trace_from_address                        0.965322   \n",
       "trace_to_address                          0.964286   \n",
       "trace_value                               0.965907   \n",
       "trace_gas                                 0.867154   \n",
       "trace_gas_used                            0.774471   \n",
       "token_transfer_from_address               0.962206   \n",
       "token_transfer_to_address                 0.019525   \n",
       "token_transfer_value                      0.965556   \n",
       "transaction_from_address                  0.970153   \n",
       "transaction_to_address                    0.835179   \n",
       "transaction_value                        -0.012179   \n",
       "transaction_gas                           0.720011   \n",
       "transaction_gas_price                     1.000000   \n",
       "receipt_cumulative_gas_used               0.394204   \n",
       "receipt_gas_used                          0.319600   \n",
       "token_decimals                            0.345473   \n",
       "token_total_supply                        0.660620   \n",
       "Contract_address                          0.964595   \n",
       "\n",
       "                             receipt_cumulative_gas_used  receipt_gas_used  \\\n",
       "receipt_status                                  0.008930          0.269452   \n",
       "Contract_is_erc20                              -0.362421         -0.249248   \n",
       "trace_from_address                              0.367849          0.135604   \n",
       "trace_to_address                                0.329110          0.096973   \n",
       "trace_value                                     0.250664          0.073948   \n",
       "trace_gas                                       0.520485          0.735820   \n",
       "trace_gas_used                                  0.430543          0.713287   \n",
       "token_transfer_from_address                     0.373539          0.154798   \n",
       "token_transfer_to_address                       0.270075         -0.044809   \n",
       "token_transfer_value                            0.246452          0.075191   \n",
       "transaction_from_address                        0.394040          0.213782   \n",
       "transaction_to_address                          0.600727          0.506680   \n",
       "transaction_value                               0.275149         -0.016052   \n",
       "transaction_gas                                 0.536043          0.883981   \n",
       "transaction_gas_price                           0.394204          0.319600   \n",
       "receipt_cumulative_gas_used                     1.000000          0.471322   \n",
       "receipt_gas_used                                0.471322          1.000000   \n",
       "token_decimals                                  0.599782          0.235218   \n",
       "token_total_supply                              0.137723          0.012009   \n",
       "Contract_address                                0.330890          0.152413   \n",
       "\n",
       "                             token_decimals  token_total_supply  \\\n",
       "receipt_status                     0.038456           -0.034794   \n",
       "Contract_is_erc20                 -0.241085           -0.397380   \n",
       "trace_from_address                 0.362123            0.670421   \n",
       "trace_to_address                   0.336871            0.681993   \n",
       "trace_value                        0.265885            0.697591   \n",
       "trace_gas                          0.324552            0.472229   \n",
       "trace_gas_used                     0.277981            0.413864   \n",
       "token_transfer_from_address        0.369838            0.664385   \n",
       "token_transfer_to_address         -0.082695           -0.013487   \n",
       "token_transfer_value               0.261351            0.697976   \n",
       "transaction_from_address           0.353974            0.659083   \n",
       "transaction_to_address             0.534055            0.467384   \n",
       "transaction_value                  0.282608           -0.039608   \n",
       "transaction_gas                    0.315281            0.331563   \n",
       "transaction_gas_price              0.345473            0.660620   \n",
       "receipt_cumulative_gas_used        0.599782            0.137723   \n",
       "receipt_gas_used                   0.235218            0.012009   \n",
       "token_decimals                     1.000000            0.374235   \n",
       "token_total_supply                 0.374235            1.000000   \n",
       "Contract_address                   0.337116            0.682153   \n",
       "\n",
       "                             Contract_address  \n",
       "receipt_status                      -0.146228  \n",
       "Contract_is_erc20                   -0.420303  \n",
       "trace_from_address                   0.956397  \n",
       "trace_to_address                     0.990465  \n",
       "trace_value                          0.973708  \n",
       "trace_gas                            0.754074  \n",
       "trace_gas_used                       0.697396  \n",
       "token_transfer_from_address          0.942520  \n",
       "token_transfer_to_address           -0.005185  \n",
       "token_transfer_value                 0.972403  \n",
       "transaction_from_address             0.932260  \n",
       "transaction_to_address               0.802181  \n",
       "transaction_value                   -0.042054  \n",
       "transaction_gas                      0.579052  \n",
       "transaction_gas_price                0.964595  \n",
       "receipt_cumulative_gas_used          0.330890  \n",
       "receipt_gas_used                     0.152413  \n",
       "token_decimals                       0.337116  \n",
       "token_total_supply                   0.682153  \n",
       "Contract_address                     1.000000  "
      ]
     },
     "execution_count": 239,
     "metadata": {},
     "output_type": "execute_result"
    }
   ],
   "source": [
    "dfTraceAgg.corr()"
   ]
  },
  {
   "cell_type": "code",
   "execution_count": 240,
   "metadata": {},
   "outputs": [
    {
     "data": {
      "text/plain": [
       "<AxesSubplot:>"
      ]
     },
     "execution_count": 240,
     "metadata": {},
     "output_type": "execute_result"
    },
    {
     "data": {
      "image/png": "[encoded data removed]",
      "text/plain": [
       "<Figure size 1080x576 with 2 Axes>"
      ]
     },
     "metadata": {
      "needs_background": "light"
     },
     "output_type": "display_data"
    }
   ],
   "source": [
    "plt.subplots(figsize=(15, 8), sharex=True)\n",
    "sns.heatmap(dfTraceAgg.corr(),cmap=\"vlag\", annot=False, linewidths=.5)"
   ]
  },
  {
   "cell_type": "markdown",
   "metadata": {},
   "source": [
    "# Bivariate Data Analysis on categorical variables"
   ]
  },
  {
   "cell_type": "markdown",
   "metadata": {},
   "source": [
    "### Token_name"
   ]
  },
  {
   "cell_type": "code",
   "execution_count": 242,
   "metadata": {},
   "outputs": [
    {
     "data": {
      "text/plain": [
       "<seaborn.axisgrid.FacetGrid at 0x7fa2d39edfa0>"
      ]
     },
     "execution_count": 242,
     "metadata": {},
     "output_type": "execute_result"
    },
    {
     "data": {
      "image/png": "[encoded data removed]",
      "text/plain": [
       "<Figure size 1281x576 with 1 Axes>"
      ]
     },
     "metadata": {
      "needs_background": "light"
     },
     "output_type": "display_data"
    }
   ],
   "source": [
    "\n",
    "sns.catplot(x=\"Contract_is_erc20\", \n",
    "            y=\"receipt_status\", \n",
    "            hue=\"token_name\", \n",
    "            data=dfTraceAgg, \n",
    "            height=8, \n",
    "            aspect=2, \n",
    "            kind=\"bar\", \n",
    "            palette=\"muted\")\n"
   ]
  },
  {
   "cell_type": "code",
   "execution_count": 244,
   "metadata": {},
   "outputs": [
    {
     "data": {
      "text/plain": [
       "<seaborn.axisgrid.FacetGrid at 0x7fa2d15ba130>"
      ]
     },
     "execution_count": 244,
     "metadata": {},
     "output_type": "execute_result"
    },
    {
     "data": {
      "image/png": "[encoded data removed]",
      "text/plain": [
       "<Figure size 1281x576 with 1 Axes>"
      ]
     },
     "metadata": {
      "needs_background": "light"
     },
     "output_type": "display_data"
    }
   ],
   "source": [
    "\n",
    "sns.catplot(x=\"receipt_status\", \n",
    "            y=\"trace_from_address\", \n",
    "            hue=\"token_name\", \n",
    "            data=dfTraceAgg, \n",
    "            height=8, \n",
    "            aspect=2, \n",
    "            kind=\"bar\", \n",
    "            palette=\"muted\")\n"
   ]
  },
  {
   "cell_type": "code",
   "execution_count": 245,
   "metadata": {},
   "outputs": [
    {
     "data": {
      "text/plain": [
       "<seaborn.axisgrid.FacetGrid at 0x7fa311680f40>"
      ]
     },
     "execution_count": 245,
     "metadata": {},
     "output_type": "execute_result"
    },
    {
     "data": {
      "image/png": "[encoded data removed]",
      "text/plain": [
       "<Figure size 1281x576 with 1 Axes>"
      ]
     },
     "metadata": {
      "needs_background": "light"
     },
     "output_type": "display_data"
    }
   ],
   "source": [
    "\n",
    "sns.catplot(x=\"receipt_status\", \n",
    "            y=\"trace_to_address\", \n",
    "            hue=\"token_name\", \n",
    "            data=dfTraceAgg, \n",
    "            height=8, \n",
    "            aspect=2, \n",
    "            kind=\"bar\", \n",
    "            palette=\"muted\")\n"
   ]
  },
  {
   "cell_type": "code",
   "execution_count": 246,
   "metadata": {},
   "outputs": [
    {
     "data": {
      "text/plain": [
       "<seaborn.axisgrid.FacetGrid at 0x7fa2d15c4610>"
      ]
     },
     "execution_count": 246,
     "metadata": {},
     "output_type": "execute_result"
    },
    {
     "data": {
      "image/png": "[encoded data removed]",
      "text/plain": [
       "<Figure size 1281x576 with 1 Axes>"
      ]
     },
     "metadata": {
      "needs_background": "light"
     },
     "output_type": "display_data"
    }
   ],
   "source": [
    "\n",
    "sns.catplot(x=\"receipt_status\", \n",
    "            y=\"trace_value\", \n",
    "            hue=\"token_name\", \n",
    "            data=dfTraceAgg, \n",
    "            height=8, \n",
    "            aspect=2, \n",
    "            kind=\"bar\", \n",
    "            palette=\"muted\")\n"
   ]
  },
  {
   "cell_type": "code",
   "execution_count": 248,
   "metadata": {},
   "outputs": [
    {
     "data": {
      "text/plain": [
       "<seaborn.axisgrid.FacetGrid at 0x7fa2578b75b0>"
      ]
     },
     "execution_count": 248,
     "metadata": {},
     "output_type": "execute_result"
    },
    {
     "data": {
      "image/png": "[encoded data removed]",
      "text/plain": [
       "<Figure size 1281x576 with 1 Axes>"
      ]
     },
     "metadata": {
      "needs_background": "light"
     },
     "output_type": "display_data"
    }
   ],
   "source": [
    "\n",
    "sns.catplot(x=\"receipt_status\", \n",
    "            y=\"trace_gas\", \n",
    "            hue=\"token_name\", \n",
    "            data=dfTraceAgg, \n",
    "            height=8, \n",
    "            aspect=2, \n",
    "            kind=\"bar\", \n",
    "            palette=\"muted\")\n"
   ]
  },
  {
   "cell_type": "code",
   "execution_count": 249,
   "metadata": {},
   "outputs": [
    {
     "data": {
      "text/plain": [
       "<seaborn.axisgrid.FacetGrid at 0x7fa331098d30>"
      ]
     },
     "execution_count": 249,
     "metadata": {},
     "output_type": "execute_result"
    },
    {
     "data": {
      "image/png": "[encoded data removed]",
      "text/plain": [
       "<Figure size 1281x576 with 1 Axes>"
      ]
     },
     "metadata": {
      "needs_background": "light"
     },
     "output_type": "display_data"
    }
   ],
   "source": [
    "\n",
    "sns.catplot(x=\"receipt_status\", \n",
    "            y=\"trace_gas_used\", \n",
    "            hue=\"token_name\", \n",
    "            data=dfTraceAgg, \n",
    "            height=8, \n",
    "            aspect=2, \n",
    "            kind=\"bar\", \n",
    "            palette=\"muted\")\n"
   ]
  },
  {
   "cell_type": "code",
   "execution_count": 250,
   "metadata": {},
   "outputs": [
    {
     "data": {
      "text/plain": [
       "<seaborn.axisgrid.FacetGrid at 0x7fa1b3ded100>"
      ]
     },
     "execution_count": 250,
     "metadata": {},
     "output_type": "execute_result"
    },
    {
     "data": {
      "image/png": "[encoded data removed]",
      "text/plain": [
       "<Figure size 1281x576 with 1 Axes>"
      ]
     },
     "metadata": {
      "needs_background": "light"
     },
     "output_type": "display_data"
    }
   ],
   "source": [
    "\n",
    "sns.catplot(x=\"receipt_status\", \n",
    "            y=\"token_transfer_from_address\", \n",
    "            hue=\"token_name\", \n",
    "            data=dfTraceAgg, \n",
    "            height=8, \n",
    "            aspect=2, \n",
    "            kind=\"bar\", \n",
    "            palette=\"muted\")\n"
   ]
  },
  {
   "cell_type": "markdown",
   "metadata": {},
   "source": [
    "# Bivariate Data Analysis on Numerical variables"
   ]
  },
  {
   "cell_type": "markdown",
   "metadata": {},
   "source": [
    "### Value vs. Gas, Gas_used, Block_month, Block_day, Block_hour"
   ]
  },
  {
   "cell_type": "code",
   "execution_count": 251,
   "metadata": {},
   "outputs": [
    {
     "data": {
      "text/plain": [
       "<seaborn.axisgrid.JointGrid at 0x7fa33239c1c0>"
      ]
     },
     "execution_count": 251,
     "metadata": {},
     "output_type": "execute_result"
    },
    {
     "data": {
      "image/png": "[encoded data removed]",
      "text/plain": [
       "<Figure size 576x576 with 3 Axes>"
      ]
     },
     "metadata": {
      "needs_background": "light"
     },
     "output_type": "display_data"
    }
   ],
   "source": [
    "\n",
    "sns.jointplot(\"receipt_status\",\n",
    "              \"Contract_is_erc20\", \n",
    "              data=dfTraceAgg, \n",
    "              kind=\"reg\", \n",
    "              color=\"m\", \n",
    "              height=8)\n"
   ]
  },
  {
   "cell_type": "code",
   "execution_count": 252,
   "metadata": {},
   "outputs": [
    {
     "data": {
      "text/plain": [
       "<seaborn.axisgrid.JointGrid at 0x7fa1b3f8e7f0>"
      ]
     },
     "execution_count": 252,
     "metadata": {},
     "output_type": "execute_result"
    },
    {
     "data": {
      "image/png": "[encoded data removed]",
      "text/plain": [
       "<Figure size 576x576 with 3 Axes>"
      ]
     },
     "metadata": {
      "needs_background": "light"
     },
     "output_type": "display_data"
    }
   ],
   "source": [
    "\n",
    "sns.jointplot(\"trace_from_address\",\n",
    "              \"transaction_from_address\", \n",
    "              data=dfTraceAgg, \n",
    "              kind=\"reg\", \n",
    "              color=\"m\", \n",
    "              height=8)\n",
    "\n"
   ]
  },
  {
   "cell_type": "code",
   "execution_count": 253,
   "metadata": {},
   "outputs": [],
   "source": [
    "dfTraceAgg.to_csv('/Users/rparama/Downloads/Dataset/TraceAgg.csv',index=False)"
   ]
  },
  {
   "cell_type": "code",
   "execution_count": null,
   "metadata": {},
   "outputs": [],
   "source": []
  }
 ],
 "metadata": {
  "kernelspec": {
   "display_name": "Python 3",
   "language": "python",
   "name": "python3"
  },
  "language_info": {
   "codemirror_mode": {
    "name": "ipython",
    "version": 3
   },
   "file_extension": ".py",
   "mimetype": "text/x-python",
   "name": "python",
   "nbconvert_exporter": "python",
   "pygments_lexer": "ipython3",
   "version": "3.8.5"
  }
 },
 "nbformat": 4,
 "nbformat_minor": 4
}
