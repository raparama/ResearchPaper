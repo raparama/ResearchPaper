{
 "cells": [
  {
   "cell_type": "markdown",
   "metadata": {},
   "source": [
    "# Ethereum Cryptocurrency Tables\n",
    "- balances\n",
    "- blocks\n",
    "- contracts\n",
    "- logs\n",
    "- token_transfers\n",
    "- tokens\n",
    "- traces\n",
    "- transactions"
   ]
  },
  {
   "cell_type": "code",
   "execution_count": 1,
   "metadata": {},
   "outputs": [
    {
     "data": {
      "text/html": [
       "        <script type=\"text/javascript\">\n",
       "        window.PlotlyConfig = {MathJaxConfig: 'local'};\n",
       "        if (window.MathJax) {MathJax.Hub.Config({SVG: {font: \"STIX-Web\"}});}\n",
       "        if (typeof require !== 'undefined') {\n",
       "        require.undef(\"plotly\");\n",
       "        requirejs.config({\n",
       "            paths: {\n",
       "                'plotly': ['https://cdn.plot.ly/plotly-latest.min']\n",
       "            }\n",
       "        });\n",
       "        require(['plotly'], function(Plotly) {\n",
       "            window._Plotly = Plotly;\n",
       "        });\n",
       "        }\n",
       "        </script>\n",
       "        "
      ]
     },
     "metadata": {},
     "output_type": "display_data"
    }
   ],
   "source": [
    "import numpy as np\n",
    "import pandas as pd\n",
    "import os\n",
    "from google.cloud import bigquery\n",
    "from plotly.offline import download_plotlyjs, init_notebook_mode, plot, iplot\n",
    "init_notebook_mode(connected=True)\n",
    "pd.set_option('display.max_rows', 2000)"
   ]
  },
  {
   "cell_type": "code",
   "execution_count": 10,
   "metadata": {},
   "outputs": [],
   "source": [
    "os.environ[\"GOOGLE_APPLICATION_CREDENTIALS\"]=\"/Users/rparama/Documents/Raj/GCP/My Project 61995-b963c9866dc8.json\"\n",
    "job_config = bigquery.QueryJobConfig(dry_run=True, use_query_cache=False)\n",
    "client = bigquery.Client()"
   ]
  },
  {
   "cell_type": "markdown",
   "metadata": {},
   "source": [
    "# 1. Balances"
   ]
  },
  {
   "cell_type": "code",
   "execution_count": 7,
   "metadata": {
    "scrolled": false
   },
   "outputs": [],
   "source": [
    "balances_query = \"\"\"\n",
    "SELECT *\n",
    "FROM bigquery-public-data.crypto_ethereum_classic.balances \n",
    "\"\"\"\n",
    "balances_query_job = client.query(balances_query)\n",
    "balances_results = balances_query_job.result()"
   ]
  },
  {
   "cell_type": "code",
   "execution_count": null,
   "metadata": {},
   "outputs": [],
   "source": [
    "rows = list(balances_results)\n",
    "# Transform the rows into a nice pandas dataframe\n",
    "balances = pd.DataFrame(data=[list(x.values()) for x in rows], columns=list(rows[0].keys()))"
   ]
  },
  {
   "cell_type": "code",
   "execution_count": null,
   "metadata": {
    "scrolled": false
   },
   "outputs": [],
   "source": [
    "# Look at the first 10 headlines\n",
    "balances.to_csv('balances_2019.csv',index=False)"
   ]
  },
  {
   "cell_type": "markdown",
   "metadata": {},
   "source": [
    "# 2. Blocks"
   ]
  },
  {
   "cell_type": "code",
   "execution_count": null,
   "metadata": {
    "scrolled": false
   },
   "outputs": [],
   "source": [
    "blocks_query = \"\"\"\n",
    "SELECT \n",
    "*\n",
    "FROM bigquery-public-data.crypto_ethereum_classic.blocks \n",
    "WHERE DATE(timestamp) BETWEEN '2019-01-01' AND '2019-12-31'\n",
    "\"\"\"\n",
    "blocks_query_job = client.query(blocks_query)\n",
    "blocks_results = blocks_query_job.result()"
   ]
  },
  {
   "cell_type": "code",
   "execution_count": null,
   "metadata": {},
   "outputs": [],
   "source": [
    "rows = list(blocks_results)\n",
    "# Transform the rows into a nice pandas dataframe\n",
    "blocks = pd.DataFrame(data=[list(x.values()) for x in rows], columns=list(rows[0].keys()))"
   ]
  },
  {
   "cell_type": "code",
   "execution_count": null,
   "metadata": {
    "scrolled": false
   },
   "outputs": [],
   "source": [
    "# Look at the first 10 headlines\n",
    "blocks.to_csv('/Users/rparama/Downloads/blocks_2019.csv',index=False)"
   ]
  },
  {
   "cell_type": "markdown",
   "metadata": {},
   "source": [
    "# 3. Contracts"
   ]
  },
  {
   "cell_type": "code",
   "execution_count": null,
   "metadata": {
    "scrolled": false
   },
   "outputs": [],
   "source": [
    "contracts_query = \"\"\"\n",
    "SELECT\n",
    "    address,\n",
    "    bytecode,\n",
    "    function_sighashes,\n",
    "    is_erc20,\n",
    "    is_erc721,\n",
    "    block_timestamp,\n",
    "    DATE(block_timestamp) as block_Date,\n",
    "    block_number,\n",
    "    block_hash\n",
    "FROM bigquery-public-data.crypto_ethereum_classic.contracts\n",
    "WHERE DATE(block_timestamp) BETWEEN '2019-01-01' AND '2019-03-31'\n",
    "\"\"\"\n",
    "contracts_query_job = client.query(contracts_query)\n",
    "contracts_results = contracts_query_job.result()"
   ]
  },
  {
   "cell_type": "code",
   "execution_count": null,
   "metadata": {},
   "outputs": [],
   "source": [
    "rows = list(contracts_results)\n",
    "# Transform the rows into a nice pandas dataframe\n",
    "contracts = pd.DataFrame(data=[list(x.values()) for x in rows], columns=list(rows[0].keys()))"
   ]
  },
  {
   "cell_type": "code",
   "execution_count": null,
   "metadata": {
    "scrolled": false
   },
   "outputs": [],
   "source": [
    "# Look at the first 10 headlines\n",
    "contracts.to_csv('/Users/rparama/Downloads/contracts_2019Q1.csv',index=False)"
   ]
  },
  {
   "cell_type": "code",
   "execution_count": null,
   "metadata": {
    "scrolled": false
   },
   "outputs": [],
   "source": [
    "contracts_query = \"\"\"\n",
    "SELECT\n",
    "    address,\n",
    "    bytecode,\n",
    "    function_sighashes,\n",
    "    is_erc20,\n",
    "    is_erc721,\n",
    "    block_timestamp,\n",
    "    DATE(block_timestamp) as block_Date,\n",
    "    block_number,\n",
    "    block_hash\n",
    "FROM bigquery-public-data.crypto_ethereum_classic.contracts\n",
    "WHERE DATE(block_timestamp) BETWEEN '2019-04-01' AND '2019-05-31'\n",
    "\"\"\"\n",
    "contracts_query_job = client.query(contracts_query)\n",
    "contracts_results = contracts_query_job.result()"
   ]
  },
  {
   "cell_type": "code",
   "execution_count": null,
   "metadata": {},
   "outputs": [],
   "source": [
    "rows = list(contracts_results)\n",
    "# Transform the rows into a nice pandas dataframe\n",
    "contracts = pd.DataFrame(data=[list(x.values()) for x in rows], columns=list(rows[0].keys()))"
   ]
  },
  {
   "cell_type": "code",
   "execution_count": null,
   "metadata": {
    "scrolled": false
   },
   "outputs": [],
   "source": [
    "# Look at the first 10 headlines\n",
    "contracts.to_csv('/Users/rparama/Downloads/contracts_20190405.csv',index=False)"
   ]
  },
  {
   "cell_type": "code",
   "execution_count": null,
   "metadata": {
    "scrolled": false
   },
   "outputs": [],
   "source": [
    "contracts_query = \"\"\"\n",
    "SELECT\n",
    "    address,\n",
    "    bytecode,\n",
    "    function_sighashes,\n",
    "    is_erc20,\n",
    "    is_erc721,\n",
    "    block_timestamp,\n",
    "    DATE(block_timestamp) as block_Date,\n",
    "    block_number,\n",
    "    block_hash\n",
    "FROM bigquery-public-data.crypto_ethereum_classic.contracts\n",
    "WHERE DATE(block_timestamp) BETWEEN '2019-06-01' AND '2019-07-31'\n",
    "\"\"\"\n",
    "contracts_query_job = client.query(contracts_query)\n",
    "contracts_results = contracts_query_job.result()"
   ]
  },
  {
   "cell_type": "code",
   "execution_count": null,
   "metadata": {},
   "outputs": [],
   "source": [
    "rows = list(contracts_results)\n",
    "# Transform the rows into a nice pandas dataframe\n",
    "contracts = pd.DataFrame(data=[list(x.values()) for x in rows], columns=list(rows[0].keys()))"
   ]
  },
  {
   "cell_type": "code",
   "execution_count": null,
   "metadata": {
    "scrolled": false
   },
   "outputs": [],
   "source": [
    "# Look at the first 10 headlines\n",
    "contracts.to_csv('/Users/rparama/Downloads/contracts_20190607.csv',index=False)"
   ]
  },
  {
   "cell_type": "code",
   "execution_count": null,
   "metadata": {
    "scrolled": false
   },
   "outputs": [],
   "source": [
    "contracts_query = \"\"\"\n",
    "SELECT\n",
    "    address,\n",
    "    bytecode,\n",
    "    function_sighashes,\n",
    "    is_erc20,\n",
    "    is_erc721,\n",
    "    block_timestamp,\n",
    "    DATE(block_timestamp) as block_Date,\n",
    "    block_number,\n",
    "    block_hash\n",
    "FROM bigquery-public-data.crypto_ethereum_classic.contracts\n",
    "WHERE DATE(block_timestamp) BETWEEN '2019-08-01' AND '2019-10-31'\n",
    "\"\"\"\n",
    "contracts_query_job = client.query(contracts_query)\n",
    "contracts_results = contracts_query_job.result()"
   ]
  },
  {
   "cell_type": "code",
   "execution_count": null,
   "metadata": {},
   "outputs": [],
   "source": [
    "rows = list(contracts_results)\n",
    "# Transform the rows into a nice pandas dataframe\n",
    "contracts = pd.DataFrame(data=[list(x.values()) for x in rows], columns=list(rows[0].keys()))"
   ]
  },
  {
   "cell_type": "code",
   "execution_count": null,
   "metadata": {
    "scrolled": false
   },
   "outputs": [],
   "source": [
    "# Look at the first 10 headlines\n",
    "contracts.to_csv('/Users/rparama/Downloads/contracts_20190810.csv',index=False)"
   ]
  },
  {
   "cell_type": "code",
   "execution_count": null,
   "metadata": {
    "scrolled": false
   },
   "outputs": [],
   "source": [
    "contracts_query = \"\"\"\n",
    "SELECT\n",
    "    address,\n",
    "    bytecode,\n",
    "    function_sighashes,\n",
    "    is_erc20,\n",
    "    is_erc721,\n",
    "    block_timestamp,\n",
    "    DATE(block_timestamp) as block_Date,\n",
    "    block_number,\n",
    "    block_hash\n",
    "FROM bigquery-public-data.crypto_ethereum_classic.contracts\n",
    "WHERE DATE(block_timestamp) BETWEEN '2019-11-01' AND '2019-11-30'\n",
    "\"\"\"\n",
    "contracts_query_job = client.query(contracts_query)\n",
    "contracts_results = contracts_query_job.result()"
   ]
  },
  {
   "cell_type": "code",
   "execution_count": null,
   "metadata": {},
   "outputs": [],
   "source": [
    "rows = list(contracts_results)\n",
    "# Transform the rows into a nice pandas dataframe\n",
    "contracts = pd.DataFrame(data=[list(x.values()) for x in rows], columns=list(rows[0].keys()))"
   ]
  },
  {
   "cell_type": "code",
   "execution_count": null,
   "metadata": {
    "scrolled": false
   },
   "outputs": [],
   "source": [
    "# Look at the first 10 headlines\n",
    "contracts.to_csv('/Users/rparama/Downloads/contracts_201911.csv',index=False)"
   ]
  },
  {
   "cell_type": "code",
   "execution_count": null,
   "metadata": {
    "scrolled": false
   },
   "outputs": [],
   "source": [
    "contracts_query = \"\"\"\n",
    "SELECT\n",
    "    address,\n",
    "    bytecode,\n",
    "    function_sighashes,\n",
    "    is_erc20,\n",
    "    is_erc721,\n",
    "    block_timestamp,\n",
    "    DATE(block_timestamp) as block_Date,\n",
    "    block_number,\n",
    "    block_hash\n",
    "FROM bigquery-public-data.crypto_ethereum_classic.contracts\n",
    "WHERE DATE(block_timestamp) BETWEEN '2019-12-01' AND '2019-12-15'\n",
    "\"\"\"\n",
    "contracts_query_job = client.query(contracts_query)\n",
    "contracts_results = contracts_query_job.result()"
   ]
  },
  {
   "cell_type": "code",
   "execution_count": null,
   "metadata": {},
   "outputs": [],
   "source": [
    "rows = list(contracts_results)\n",
    "# Transform the rows into a nice pandas dataframe\n",
    "contracts = pd.DataFrame(data=[list(x.values()) for x in rows], columns=list(rows[0].keys()))"
   ]
  },
  {
   "cell_type": "code",
   "execution_count": null,
   "metadata": {
    "scrolled": false
   },
   "outputs": [],
   "source": [
    "# Look at the first 10 headlines\n",
    "contracts.to_csv('/Users/rparama/Downloads/contracts_20191215.csv',index=False)"
   ]
  },
  {
   "cell_type": "code",
   "execution_count": null,
   "metadata": {
    "scrolled": false
   },
   "outputs": [],
   "source": [
    "contracts_query = \"\"\"\n",
    "SELECT\n",
    "    address,\n",
    "    bytecode,\n",
    "    function_sighashes,\n",
    "    is_erc20,\n",
    "    is_erc721,\n",
    "    block_timestamp,\n",
    "    DATE(block_timestamp) as block_Date,\n",
    "    block_number,\n",
    "    block_hash\n",
    "FROM bigquery-public-data.crypto_ethereum_classic.contracts\n",
    "WHERE DATE(block_timestamp) BETWEEN '2019-12-16' AND '2019-12-31'\n",
    "\"\"\"\n",
    "contracts_query_job = client.query(contracts_query)\n",
    "contracts_results = contracts_query_job.result()"
   ]
  },
  {
   "cell_type": "code",
   "execution_count": null,
   "metadata": {},
   "outputs": [],
   "source": [
    "rows = list(contracts_results)\n",
    "# Transform the rows into a nice pandas dataframe\n",
    "contracts = pd.DataFrame(data=[list(x.values()) for x in rows], columns=list(rows[0].keys()))"
   ]
  },
  {
   "cell_type": "code",
   "execution_count": null,
   "metadata": {
    "scrolled": false
   },
   "outputs": [],
   "source": [
    "# Look at the first 10 headlines\n",
    "contracts.to_csv('/Users/rparama/Downloads/contracts_20191231.csv',index=False)"
   ]
  },
  {
   "cell_type": "markdown",
   "metadata": {},
   "source": [
    "# 4. Logs"
   ]
  },
  {
   "cell_type": "code",
   "execution_count": null,
   "metadata": {
    "scrolled": false
   },
   "outputs": [],
   "source": [
    "logs_query = \"\"\"\n",
    "SELECT * FROM bigquery-public-data.crypto_ethereum_classic.logs \n",
    "WHERE DATE(block_timestamp) BETWEEN '2019-01-01' AND '2019-12-31'\n",
    "\"\"\"\n",
    "logs_query_job = client.query(logs_query)\n",
    "logs_results = logs_query_job.result()"
   ]
  },
  {
   "cell_type": "code",
   "execution_count": null,
   "metadata": {},
   "outputs": [],
   "source": [
    "rows = list(logs_results)\n",
    "# Transform the rows into a nice pandas dataframe\n",
    "logs = pd.DataFrame(data=[list(x.values()) for x in rows], columns=list(rows[0].keys()))"
   ]
  },
  {
   "cell_type": "code",
   "execution_count": null,
   "metadata": {
    "scrolled": false
   },
   "outputs": [],
   "source": [
    "logs.to_csv('/Users/rparama/Downloads/logs_2019.csv',index=False)"
   ]
  },
  {
   "cell_type": "markdown",
   "metadata": {},
   "source": [
    "# 5. token_transfers"
   ]
  },
  {
   "cell_type": "code",
   "execution_count": null,
   "metadata": {
    "scrolled": false
   },
   "outputs": [],
   "source": [
    "token_transfers_query = \"\"\"\n",
    "SELECT * FROM bigquery-public-data.crypto_ethereum_classic.token_transfers\n",
    "WHERE DATE(block_timestamp) BETWEEN '2019-01-01' AND '2019-12-31'\n",
    "\"\"\"\n",
    "\n",
    "token_transfers_query_job = client.query(token_transfers_query)\n",
    "token_transfers_results = token_transfers_query_job.result()"
   ]
  },
  {
   "cell_type": "code",
   "execution_count": null,
   "metadata": {},
   "outputs": [],
   "source": [
    "rows = list(token_transfers_results)\n",
    "# Transform the rows into a nice pandas dataframe\n",
    "token_transfers = pd.DataFrame(data=[list(x.values()) for x in rows], columns=list(rows[0].keys()))"
   ]
  },
  {
   "cell_type": "code",
   "execution_count": null,
   "metadata": {
    "scrolled": false
   },
   "outputs": [],
   "source": [
    "token_transfers.to_csv('/Users/rparama/Downloads/token_transfers_2019.csv',index=False)"
   ]
  },
  {
   "cell_type": "markdown",
   "metadata": {},
   "source": [
    "# 6. tokens"
   ]
  },
  {
   "cell_type": "code",
   "execution_count": null,
   "metadata": {
    "scrolled": false
   },
   "outputs": [],
   "source": [
    "tokens_query = \"\"\"\n",
    "SELECT * FROM bigquery-public-data.crypto_ethereum_classic.tokens\n",
    "\"\"\"\n",
    "\n",
    "tokens_query_job = client.query(tokens_query)\n",
    "tokens_results = tokens_query_job.result()"
   ]
  },
  {
   "cell_type": "code",
   "execution_count": null,
   "metadata": {},
   "outputs": [],
   "source": [
    "rows = list(tokens_results)\n",
    "# Transform the rows into a nice pandas dataframe\n",
    "tokens = pd.DataFrame(data=[list(x.values()) for x in rows], columns=list(rows[0].keys()))"
   ]
  },
  {
   "cell_type": "code",
   "execution_count": null,
   "metadata": {
    "scrolled": false
   },
   "outputs": [],
   "source": [
    "tokens.to_csv('/Users/rparama/Downloads/tokens_all.csv',index=False)"
   ]
  },
  {
   "cell_type": "markdown",
   "metadata": {},
   "source": [
    "# 7. traces"
   ]
  },
  {
   "cell_type": "code",
   "execution_count": null,
   "metadata": {
    "scrolled": false
   },
   "outputs": [],
   "source": [
    "traces_query = \"\"\"\n",
    "SELECT * FROM bigquery-public-data.crypto_ethereum_classic.traces\n",
    "WHERE DATE(block_timestamp) BETWEEN '2019-01-01' AND '2019-01-31'\n",
    "\"\"\"\n",
    "traces_query_job = client.query(traces_query)\n",
    "traces_results = traces_query_job.result()"
   ]
  },
  {
   "cell_type": "code",
   "execution_count": null,
   "metadata": {},
   "outputs": [],
   "source": [
    "rows = list(traces_results)\n",
    "# Transform the rows into a nice pandas dataframe\n",
    "traces = pd.DataFrame(data=[list(x.values()) for x in rows], columns=list(rows[0].keys()))"
   ]
  },
  {
   "cell_type": "code",
   "execution_count": null,
   "metadata": {
    "scrolled": false
   },
   "outputs": [],
   "source": [
    "traces.to_csv('/Users/rparama/Downloads/traces_201901.csv',index=False)"
   ]
  },
  {
   "cell_type": "code",
   "execution_count": null,
   "metadata": {
    "scrolled": false
   },
   "outputs": [],
   "source": [
    "traces_query = \"\"\"\n",
    "SELECT * FROM bigquery-public-data.crypto_ethereum_classic.traces\n",
    "WHERE DATE(block_timestamp) BETWEEN '2019-02-01' AND '2019-02-28'\n",
    "\"\"\"\n",
    "traces_query_job = client.query(traces_query)\n",
    "traces_results = traces_query_job.result()"
   ]
  },
  {
   "cell_type": "code",
   "execution_count": null,
   "metadata": {},
   "outputs": [],
   "source": [
    "rows = list(traces_results)\n",
    "# Transform the rows into a nice pandas dataframe\n",
    "traces = pd.DataFrame(data=[list(x.values()) for x in rows], columns=list(rows[0].keys()))"
   ]
  },
  {
   "cell_type": "code",
   "execution_count": null,
   "metadata": {
    "scrolled": false
   },
   "outputs": [],
   "source": [
    "traces.to_csv('/Users/rparama/Downloads/traces_201902.csv',index=False)"
   ]
  },
  {
   "cell_type": "code",
   "execution_count": null,
   "metadata": {
    "scrolled": false
   },
   "outputs": [],
   "source": [
    "traces_query = \"\"\"\n",
    "SELECT * FROM bigquery-public-data.crypto_ethereum_classic.traces\n",
    "WHERE DATE(block_timestamp) BETWEEN '2019-03-01' AND '2019-03-15'\n",
    "\"\"\"\n",
    "traces_query_job = client.query(traces_query)\n",
    "traces_results = traces_query_job.result()"
   ]
  },
  {
   "cell_type": "code",
   "execution_count": null,
   "metadata": {},
   "outputs": [],
   "source": [
    "rows = list(traces_results)\n",
    "# Transform the rows into a nice pandas dataframe\n",
    "traces = pd.DataFrame(data=[list(x.values()) for x in rows], columns=list(rows[0].keys()))"
   ]
  },
  {
   "cell_type": "code",
   "execution_count": null,
   "metadata": {
    "scrolled": false
   },
   "outputs": [],
   "source": [
    "traces.to_csv('/Users/rparama/Downloads/traces_20190301.csv',index=False)"
   ]
  },
  {
   "cell_type": "code",
   "execution_count": null,
   "metadata": {
    "scrolled": false
   },
   "outputs": [],
   "source": [
    "traces_query = \"\"\"\n",
    "SELECT * FROM bigquery-public-data.crypto_ethereum_classic.traces\n",
    "WHERE DATE(block_timestamp) BETWEEN '2019-03-16' AND '2019-03-31'\n",
    "\"\"\"\n",
    "traces_query_job = client.query(traces_query)\n",
    "traces_results = traces_query_job.result()"
   ]
  },
  {
   "cell_type": "code",
   "execution_count": null,
   "metadata": {},
   "outputs": [],
   "source": [
    "rows = list(traces_results)\n",
    "# Transform the rows into a nice pandas dataframe\n",
    "traces = pd.DataFrame(data=[list(x.values()) for x in rows], columns=list(rows[0].keys()))"
   ]
  },
  {
   "cell_type": "code",
   "execution_count": null,
   "metadata": {
    "scrolled": false
   },
   "outputs": [],
   "source": [
    "traces.to_csv('/Users/rparama/Downloads/traces_20190315.csv',index=False)"
   ]
  },
  {
   "cell_type": "code",
   "execution_count": null,
   "metadata": {
    "scrolled": false
   },
   "outputs": [],
   "source": [
    "traces_query = \"\"\"\n",
    "SELECT * FROM bigquery-public-data.crypto_ethereum_classic.traces\n",
    "WHERE DATE(block_timestamp) BETWEEN '2019-04-01' AND '2019-04-30'\n",
    "\"\"\"\n",
    "traces_query_job = client.query(traces_query)\n",
    "traces_results = traces_query_job.result()"
   ]
  },
  {
   "cell_type": "code",
   "execution_count": null,
   "metadata": {},
   "outputs": [],
   "source": [
    "rows = list(traces_results)\n",
    "# Transform the rows into a nice pandas dataframe\n",
    "traces = pd.DataFrame(data=[list(x.values()) for x in rows], columns=list(rows[0].keys()))"
   ]
  },
  {
   "cell_type": "code",
   "execution_count": null,
   "metadata": {
    "scrolled": false
   },
   "outputs": [],
   "source": [
    "traces.to_csv('/Users/rparama/Downloads/traces_201904.csv',index=False)"
   ]
  },
  {
   "cell_type": "code",
   "execution_count": null,
   "metadata": {
    "scrolled": false
   },
   "outputs": [],
   "source": [
    "traces_query = \"\"\"\n",
    "SELECT * FROM bigquery-public-data.crypto_ethereum_classic.traces\n",
    "WHERE DATE(block_timestamp) BETWEEN '2019-05-01' AND '2019-05-15'\n",
    "\"\"\"\n",
    "traces_query_job = client.query(traces_query)\n",
    "traces_results = traces_query_job.result()"
   ]
  },
  {
   "cell_type": "code",
   "execution_count": null,
   "metadata": {},
   "outputs": [],
   "source": [
    "rows = list(traces_results)\n",
    "# Transform the rows into a nice pandas dataframe\n",
    "traces = pd.DataFrame(data=[list(x.values()) for x in rows], columns=list(rows[0].keys()))"
   ]
  },
  {
   "cell_type": "code",
   "execution_count": null,
   "metadata": {
    "scrolled": false
   },
   "outputs": [],
   "source": [
    "traces.to_csv('/Users/rparama/Downloads/traces_20190501.csv',index=False)"
   ]
  },
  {
   "cell_type": "code",
   "execution_count": null,
   "metadata": {
    "scrolled": false
   },
   "outputs": [],
   "source": [
    "traces_query = \"\"\"\n",
    "SELECT * FROM bigquery-public-data.crypto_ethereum_classic.traces\n",
    "WHERE DATE(block_timestamp) BETWEEN '2019-05-16' AND '2019-05-31'\n",
    "\"\"\"\n",
    "traces_query_job = client.query(traces_query)\n",
    "traces_results = traces_query_job.result()"
   ]
  },
  {
   "cell_type": "code",
   "execution_count": null,
   "metadata": {},
   "outputs": [],
   "source": [
    "rows = list(traces_results)\n",
    "# Transform the rows into a nice pandas dataframe\n",
    "traces = pd.DataFrame(data=[list(x.values()) for x in rows], columns=list(rows[0].keys()))"
   ]
  },
  {
   "cell_type": "code",
   "execution_count": null,
   "metadata": {
    "scrolled": false
   },
   "outputs": [],
   "source": [
    "traces.to_csv('/Users/rparama/Downloads/traces_20190516.csv',index=False)"
   ]
  },
  {
   "cell_type": "code",
   "execution_count": null,
   "metadata": {
    "scrolled": false
   },
   "outputs": [],
   "source": [
    "traces_query = \"\"\"\n",
    "SELECT * FROM bigquery-public-data.crypto_ethereum_classic.traces\n",
    "WHERE DATE(block_timestamp) BETWEEN '2019-06-01' AND '2019-06-30'\n",
    "\"\"\"\n",
    "traces_query_job = client.query(traces_query)\n",
    "traces_results = traces_query_job.result()"
   ]
  },
  {
   "cell_type": "code",
   "execution_count": null,
   "metadata": {},
   "outputs": [],
   "source": [
    "rows = list(traces_results)\n",
    "# Transform the rows into a nice pandas dataframe\n",
    "traces = pd.DataFrame(data=[list(x.values()) for x in rows], columns=list(rows[0].keys()))"
   ]
  },
  {
   "cell_type": "code",
   "execution_count": null,
   "metadata": {
    "scrolled": false
   },
   "outputs": [],
   "source": [
    "traces.to_csv('/Users/rparama/Downloads/traces_201906.csv',index=False)"
   ]
  },
  {
   "cell_type": "code",
   "execution_count": null,
   "metadata": {
    "scrolled": false
   },
   "outputs": [],
   "source": [
    "traces_query = \"\"\"\n",
    "SELECT * FROM bigquery-public-data.crypto_ethereum_classic.traces\n",
    "WHERE DATE(block_timestamp) BETWEEN '2019-07-01' AND '2019-07-31'\n",
    "\"\"\"\n",
    "traces_query_job = client.query(traces_query)\n",
    "traces_results = traces_query_job.result()"
   ]
  },
  {
   "cell_type": "code",
   "execution_count": null,
   "metadata": {},
   "outputs": [],
   "source": [
    "rows = list(traces_results)\n",
    "# Transform the rows into a nice pandas dataframe\n",
    "traces = pd.DataFrame(data=[list(x.values()) for x in rows], columns=list(rows[0].keys()))"
   ]
  },
  {
   "cell_type": "code",
   "execution_count": null,
   "metadata": {
    "scrolled": false
   },
   "outputs": [],
   "source": [
    "traces.to_csv('/Users/rparama/Downloads/traces_201907.csv',index=False)"
   ]
  },
  {
   "cell_type": "code",
   "execution_count": null,
   "metadata": {
    "scrolled": false
   },
   "outputs": [],
   "source": [
    "traces_query = \"\"\"\n",
    "SELECT * FROM bigquery-public-data.crypto_ethereum_classic.traces\n",
    "WHERE DATE(block_timestamp) BETWEEN '2019-08-01' AND '2019-08-31'\n",
    "\"\"\"\n",
    "traces_query_job = client.query(traces_query)\n",
    "traces_results = traces_query_job.result()"
   ]
  },
  {
   "cell_type": "code",
   "execution_count": null,
   "metadata": {},
   "outputs": [],
   "source": [
    "rows = list(traces_results)\n",
    "# Transform the rows into a nice pandas dataframe\n",
    "traces = pd.DataFrame(data=[list(x.values()) for x in rows], columns=list(rows[0].keys()))"
   ]
  },
  {
   "cell_type": "code",
   "execution_count": null,
   "metadata": {
    "scrolled": false
   },
   "outputs": [],
   "source": [
    "traces.to_csv('/Users/rparama/Downloads/traces_201908.csv',index=False)"
   ]
  },
  {
   "cell_type": "code",
   "execution_count": null,
   "metadata": {
    "scrolled": false
   },
   "outputs": [],
   "source": [
    "traces_query = \"\"\"\n",
    "SELECT * FROM bigquery-public-data.crypto_ethereum_classic.traces\n",
    "WHERE DATE(block_timestamp) BETWEEN '2019-09-01' AND '2019-09-30'\n",
    "\"\"\"\n",
    "traces_query_job = client.query(traces_query)\n",
    "traces_results = traces_query_job.result()"
   ]
  },
  {
   "cell_type": "code",
   "execution_count": null,
   "metadata": {},
   "outputs": [],
   "source": [
    "rows = list(traces_results)\n",
    "# Transform the rows into a nice pandas dataframe\n",
    "traces = pd.DataFrame(data=[list(x.values()) for x in rows], columns=list(rows[0].keys()))"
   ]
  },
  {
   "cell_type": "code",
   "execution_count": null,
   "metadata": {
    "scrolled": false
   },
   "outputs": [],
   "source": [
    "traces.to_csv('/Users/rparama/Downloads/traces_201909.csv',index=False)"
   ]
  },
  {
   "cell_type": "code",
   "execution_count": null,
   "metadata": {
    "scrolled": false
   },
   "outputs": [],
   "source": [
    "traces_query = \"\"\"\n",
    "SELECT * FROM bigquery-public-data.crypto_ethereum_classic.traces\n",
    "WHERE DATE(block_timestamp) BETWEEN '2019-10-01' AND '2019-10-08'\n",
    "\"\"\"\n",
    "traces_query_job = client.query(traces_query)\n",
    "traces_results = traces_query_job.result()"
   ]
  },
  {
   "cell_type": "code",
   "execution_count": null,
   "metadata": {},
   "outputs": [],
   "source": [
    "rows = list(traces_results)\n",
    "# Transform the rows into a nice pandas dataframe\n",
    "traces = pd.DataFrame(data=[list(x.values()) for x in rows], columns=list(rows[0].keys()))"
   ]
  },
  {
   "cell_type": "code",
   "execution_count": null,
   "metadata": {
    "scrolled": false
   },
   "outputs": [],
   "source": [
    "traces.to_csv('/Users/rparama/Downloads/traces_20191008.csv',index=False)"
   ]
  },
  {
   "cell_type": "code",
   "execution_count": null,
   "metadata": {
    "scrolled": false
   },
   "outputs": [],
   "source": [
    "traces_query = \"\"\"\n",
    "SELECT * FROM bigquery-public-data.crypto_ethereum_classic.traces\n",
    "WHERE DATE(block_timestamp) = '2019-10-09'\n",
    "\"\"\"\n",
    "traces_query_job = client.query(traces_query)\n",
    "traces_results = traces_query_job.result()"
   ]
  },
  {
   "cell_type": "code",
   "execution_count": null,
   "metadata": {},
   "outputs": [],
   "source": [
    "rows = list(traces_results)\n",
    "# Transform the rows into a nice pandas dataframe\n",
    "traces = pd.DataFrame(data=[list(x.values()) for x in rows], columns=list(rows[0].keys()))"
   ]
  },
  {
   "cell_type": "code",
   "execution_count": null,
   "metadata": {
    "scrolled": false
   },
   "outputs": [],
   "source": [
    "traces.to_csv('/Users/rparama/Downloads/traces_20191009.csv',index=False)"
   ]
  },
  {
   "cell_type": "code",
   "execution_count": null,
   "metadata": {
    "scrolled": false
   },
   "outputs": [],
   "source": [
    "traces_query = \"\"\"\n",
    "SELECT * FROM bigquery-public-data.crypto_ethereum_classic.traces\n",
    "WHERE DATE(block_timestamp) = '2019-10-10'\n",
    "\"\"\"\n",
    "traces_query_job = client.query(traces_query)\n",
    "traces_results = traces_query_job.result()"
   ]
  },
  {
   "cell_type": "code",
   "execution_count": null,
   "metadata": {},
   "outputs": [],
   "source": [
    "rows = list(traces_results)\n",
    "# Transform the rows into a nice pandas dataframe\n",
    "traces = pd.DataFrame(data=[list(x.values()) for x in rows], columns=list(rows[0].keys()))"
   ]
  },
  {
   "cell_type": "code",
   "execution_count": null,
   "metadata": {
    "scrolled": false
   },
   "outputs": [],
   "source": [
    "traces.to_csv('/Users/rparama/Downloads/traces_20191010.csv',index=False)"
   ]
  },
  {
   "cell_type": "code",
   "execution_count": null,
   "metadata": {
    "scrolled": false
   },
   "outputs": [],
   "source": [
    "traces_query = \"\"\"\n",
    "SELECT * FROM bigquery-public-data.crypto_ethereum_classic.traces\n",
    "WHERE DATE(block_timestamp) = '2019-10-11'\n",
    "\"\"\"\n",
    "traces_query_job = client.query(traces_query)\n",
    "traces_results = traces_query_job.result()"
   ]
  },
  {
   "cell_type": "code",
   "execution_count": null,
   "metadata": {},
   "outputs": [],
   "source": [
    "rows = list(traces_results)\n",
    "# Transform the rows into a nice pandas dataframe\n",
    "traces = pd.DataFrame(data=[list(x.values()) for x in rows], columns=list(rows[0].keys()))"
   ]
  },
  {
   "cell_type": "code",
   "execution_count": null,
   "metadata": {
    "scrolled": false
   },
   "outputs": [],
   "source": [
    "traces.to_csv('/Users/rparama/Downloads/traces_20191011.csv',index=False)"
   ]
  },
  {
   "cell_type": "code",
   "execution_count": null,
   "metadata": {
    "scrolled": false
   },
   "outputs": [],
   "source": [
    "traces_query = \"\"\"\n",
    "SELECT * FROM bigquery-public-data.crypto_ethereum_classic.traces\n",
    "WHERE DATE(block_timestamp) BETWEEN '2019-10-12' AND '2019-10-31'\n",
    "\"\"\"\n",
    "traces_query_job = client.query(traces_query)\n",
    "traces_results = traces_query_job.result()"
   ]
  },
  {
   "cell_type": "code",
   "execution_count": null,
   "metadata": {},
   "outputs": [],
   "source": [
    "rows = list(traces_results)\n",
    "# Transform the rows into a nice pandas dataframe\n",
    "traces = pd.DataFrame(data=[list(x.values()) for x in rows], columns=list(rows[0].keys()))"
   ]
  },
  {
   "cell_type": "code",
   "execution_count": null,
   "metadata": {
    "scrolled": false
   },
   "outputs": [],
   "source": [
    "traces.to_csv('/Users/rparama/Downloads/traces_20191012.csv',index=False)"
   ]
  },
  {
   "cell_type": "code",
   "execution_count": null,
   "metadata": {
    "scrolled": false
   },
   "outputs": [],
   "source": [
    "traces_query = \"\"\"\n",
    "SELECT * FROM bigquery-public-data.crypto_ethereum_classic.traces\n",
    "WHERE DATE(block_timestamp) BETWEEN '2019-11-01' AND '2019-11-10'\n",
    "\"\"\"\n",
    "traces_query_job = client.query(traces_query)\n",
    "traces_results = traces_query_job.result()"
   ]
  },
  {
   "cell_type": "code",
   "execution_count": null,
   "metadata": {},
   "outputs": [],
   "source": [
    "rows = list(traces_results)\n",
    "# Transform the rows into a nice pandas dataframe\n",
    "traces = pd.DataFrame(data=[list(x.values()) for x in rows], columns=list(rows[0].keys()))"
   ]
  },
  {
   "cell_type": "code",
   "execution_count": null,
   "metadata": {
    "scrolled": false
   },
   "outputs": [],
   "source": [
    "traces.to_csv('/Users/rparama/Downloads/traces_20191101.csv',index=False)"
   ]
  },
  {
   "cell_type": "code",
   "execution_count": null,
   "metadata": {
    "scrolled": false
   },
   "outputs": [],
   "source": [
    "traces_query = \"\"\"\n",
    "SELECT * FROM bigquery-public-data.crypto_ethereum_classic.traces\n",
    "WHERE DATE(block_timestamp) BETWEEN '2019-11-11' AND '2019-11-20'\n",
    "\"\"\"\n",
    "traces_query_job = client.query(traces_query)\n",
    "traces_results = traces_query_job.result()"
   ]
  },
  {
   "cell_type": "code",
   "execution_count": null,
   "metadata": {},
   "outputs": [],
   "source": [
    "rows = list(traces_results)"
   ]
  },
  {
   "cell_type": "code",
   "execution_count": null,
   "metadata": {},
   "outputs": [],
   "source": [
    "# Transform the rows into a nice pandas dataframe\n",
    "traces = pd.DataFrame(data=[list(x.values()) for x in rows], columns=list(rows[0].keys()))"
   ]
  },
  {
   "cell_type": "code",
   "execution_count": null,
   "metadata": {
    "scrolled": false
   },
   "outputs": [],
   "source": [
    "traces.to_csv('/Users/rparama/Downloads/traces_20191111.csv',index=False)"
   ]
  },
  {
   "cell_type": "code",
   "execution_count": null,
   "metadata": {
    "scrolled": false
   },
   "outputs": [],
   "source": [
    "traces_query = \"\"\"\n",
    "SELECT * FROM bigquery-public-data.crypto_ethereum_classic.traces\n",
    "WHERE DATE(block_timestamp) BETWEEN '2019-11-21' AND '2019-11-30'\n",
    "\"\"\"\n",
    "traces_query_job = client.query(traces_query)\n",
    "traces_results = traces_query_job.result()"
   ]
  },
  {
   "cell_type": "code",
   "execution_count": null,
   "metadata": {},
   "outputs": [],
   "source": [
    "rows = list(traces_results)"
   ]
  },
  {
   "cell_type": "code",
   "execution_count": null,
   "metadata": {},
   "outputs": [],
   "source": [
    "# Transform the rows into a nice pandas dataframe\n",
    "traces = pd.DataFrame(data=[list(x.values()) for x in rows], columns=list(rows[0].keys()))"
   ]
  },
  {
   "cell_type": "code",
   "execution_count": null,
   "metadata": {
    "scrolled": false
   },
   "outputs": [],
   "source": [
    "traces.to_csv('/Users/rparama/Downloads/traces_20191121.csv',index=False)"
   ]
  },
  {
   "cell_type": "markdown",
   "metadata": {},
   "source": [
    "# 8. transactions"
   ]
  },
  {
   "cell_type": "code",
   "execution_count": null,
   "metadata": {
    "scrolled": false
   },
   "outputs": [],
   "source": [
    "transactions_query = \"\"\"\n",
    "SELECT * FROM bigquery-public-data.crypto_ethereum_classic.transactions\n",
    "WHERE DATE(block_timestamp) BETWEEN '2019-01-01' AND '2019-02-28'\n",
    "\"\"\"\n",
    "\n",
    "transactions_query_job = client.query(transactions_query)\n",
    "transactions_results = transactions_query_job.result()"
   ]
  },
  {
   "cell_type": "code",
   "execution_count": null,
   "metadata": {},
   "outputs": [],
   "source": [
    "rows = list(transactions_results)"
   ]
  },
  {
   "cell_type": "code",
   "execution_count": null,
   "metadata": {},
   "outputs": [],
   "source": [
    "# Transform the rows into a nice pandas dataframe\n",
    "transactions = pd.DataFrame(data=[list(x.values()) for x in rows], columns=list(rows[0].keys()))"
   ]
  },
  {
   "cell_type": "code",
   "execution_count": null,
   "metadata": {
    "scrolled": false
   },
   "outputs": [],
   "source": [
    "transactions.to_csv('/Users/rparama/Downloads/transactions_20190102.csv',index=False)"
   ]
  },
  {
   "cell_type": "code",
   "execution_count": null,
   "metadata": {
    "scrolled": false
   },
   "outputs": [],
   "source": [
    "transactions_query = \"\"\"\n",
    "SELECT * FROM bigquery-public-data.crypto_ethereum_classic.transactions\n",
    "WHERE DATE(block_timestamp) BETWEEN '2019-03-01' AND '2019-04-30'\n",
    "\"\"\"\n",
    "\n",
    "transactions_query_job = client.query(transactions_query)\n",
    "transactions_results = transactions_query_job.result()"
   ]
  },
  {
   "cell_type": "code",
   "execution_count": null,
   "metadata": {},
   "outputs": [],
   "source": [
    "rows = list(transactions_results)"
   ]
  },
  {
   "cell_type": "code",
   "execution_count": null,
   "metadata": {},
   "outputs": [],
   "source": [
    "# Transform the rows into a nice pandas dataframe\n",
    "transactions = pd.DataFrame(data=[list(x.values()) for x in rows], columns=list(rows[0].keys()))"
   ]
  },
  {
   "cell_type": "code",
   "execution_count": null,
   "metadata": {
    "scrolled": false
   },
   "outputs": [],
   "source": [
    "transactions.to_csv('/Users/rparama/Downloads/transactions_20190304.csv',index=False)"
   ]
  },
  {
   "cell_type": "code",
   "execution_count": null,
   "metadata": {
    "scrolled": false
   },
   "outputs": [],
   "source": [
    "transactions_query = \"\"\"\n",
    "SELECT * FROM bigquery-public-data.crypto_ethereum_classic.transactions\n",
    "WHERE DATE(block_timestamp) BETWEEN '2019-05-01' AND '2019-06-30'\n",
    "\"\"\"\n",
    "\n",
    "transactions_query_job = client.query(transactions_query)\n",
    "transactions_results = transactions_query_job.result()"
   ]
  },
  {
   "cell_type": "code",
   "execution_count": null,
   "metadata": {},
   "outputs": [],
   "source": [
    "rows = list(transactions_results)"
   ]
  },
  {
   "cell_type": "code",
   "execution_count": null,
   "metadata": {},
   "outputs": [],
   "source": [
    "# Transform the rows into a nice pandas dataframe\n",
    "transactions = pd.DataFrame(data=[list(x.values()) for x in rows], columns=list(rows[0].keys()))"
   ]
  },
  {
   "cell_type": "code",
   "execution_count": null,
   "metadata": {
    "scrolled": false
   },
   "outputs": [],
   "source": [
    "transactions.to_csv('/Users/rparama/Downloads/transactions_20190506.csv',index=False)"
   ]
  },
  {
   "cell_type": "code",
   "execution_count": null,
   "metadata": {
    "scrolled": false
   },
   "outputs": [],
   "source": [
    "transactions_query = \"\"\"\n",
    "SELECT * FROM bigquery-public-data.crypto_ethereum_classic.transactions\n",
    "WHERE DATE(block_timestamp) BETWEEN '2019-07-01' AND '2019-08-31'\n",
    "\"\"\"\n",
    "\n",
    "transactions_query_job = client.query(transactions_query)\n",
    "transactions_results = transactions_query_job.result()"
   ]
  },
  {
   "cell_type": "code",
   "execution_count": null,
   "metadata": {},
   "outputs": [],
   "source": [
    "rows = list(transactions_results)"
   ]
  },
  {
   "cell_type": "code",
   "execution_count": null,
   "metadata": {},
   "outputs": [],
   "source": [
    "# Transform the rows into a nice pandas dataframe\n",
    "transactions = pd.DataFrame(data=[list(x.values()) for x in rows], columns=list(rows[0].keys()))"
   ]
  },
  {
   "cell_type": "code",
   "execution_count": null,
   "metadata": {
    "scrolled": false
   },
   "outputs": [],
   "source": [
    "transactions.to_csv('/Users/rparama/Downloads/transactions_20190708.csv',index=False)"
   ]
  },
  {
   "cell_type": "code",
   "execution_count": null,
   "metadata": {
    "scrolled": false
   },
   "outputs": [],
   "source": [
    "transactions_query = \"\"\"\n",
    "SELECT * FROM bigquery-public-data.crypto_ethereum_classic.transactions\n",
    "WHERE DATE(block_timestamp) BETWEEN '2019-09-01' AND '2019-10-31'\n",
    "\"\"\"\n",
    "\n",
    "transactions_query_job = client.query(transactions_query)\n",
    "transactions_results = transactions_query_job.result()"
   ]
  },
  {
   "cell_type": "code",
   "execution_count": null,
   "metadata": {},
   "outputs": [],
   "source": [
    "rows = list(transactions_results)"
   ]
  },
  {
   "cell_type": "code",
   "execution_count": null,
   "metadata": {},
   "outputs": [],
   "source": [
    "# Transform the rows into a nice pandas dataframe\n",
    "transactions = pd.DataFrame(data=[list(x.values()) for x in rows], columns=list(rows[0].keys()))"
   ]
  },
  {
   "cell_type": "code",
   "execution_count": null,
   "metadata": {
    "scrolled": false
   },
   "outputs": [],
   "source": [
    "transactions.to_csv('/Users/rparama/Downloads/transactions_20190910.csv',index=False)"
   ]
  },
  {
   "cell_type": "code",
   "execution_count": null,
   "metadata": {
    "scrolled": false
   },
   "outputs": [],
   "source": [
    "transactions_query = \"\"\"\n",
    "SELECT * FROM bigquery-public-data.crypto_ethereum_classic.transactions\n",
    "WHERE DATE(block_timestamp) BETWEEN '2019-11-01' AND '2019-11-15'\n",
    "\"\"\"\n",
    "\n",
    "transactions_query_job = client.query(transactions_query)\n",
    "transactions_results = transactions_query_job.result()"
   ]
  },
  {
   "cell_type": "code",
   "execution_count": null,
   "metadata": {},
   "outputs": [],
   "source": [
    "rows = list(transactions_results)"
   ]
  },
  {
   "cell_type": "code",
   "execution_count": null,
   "metadata": {},
   "outputs": [],
   "source": [
    "# Transform the rows into a nice pandas dataframe\n",
    "transactions = pd.DataFrame(data=[list(x.values()) for x in rows], columns=list(rows[0].keys()))"
   ]
  },
  {
   "cell_type": "code",
   "execution_count": null,
   "metadata": {
    "scrolled": false
   },
   "outputs": [],
   "source": [
    "transactions.to_csv('/Users/rparama/Downloads/transactions_20191115.csv',index=False)"
   ]
  },
  {
   "cell_type": "code",
   "execution_count": null,
   "metadata": {
    "scrolled": false
   },
   "outputs": [],
   "source": [
    "transactions_query = \"\"\"\n",
    "SELECT * FROM bigquery-public-data.crypto_ethereum_classic.transactions\n",
    "WHERE DATE(block_timestamp) BETWEEN '2019-11-16' AND '2019-11-30'\n",
    "\"\"\"\n",
    "\n",
    "transactions_query_job = client.query(transactions_query)\n",
    "transactions_results = transactions_query_job.result()"
   ]
  },
  {
   "cell_type": "code",
   "execution_count": null,
   "metadata": {},
   "outputs": [],
   "source": [
    "rows = list(transactions_results)"
   ]
  },
  {
   "cell_type": "code",
   "execution_count": null,
   "metadata": {},
   "outputs": [],
   "source": [
    "# Transform the rows into a nice pandas dataframe\n",
    "transactions = pd.DataFrame(data=[list(x.values()) for x in rows], columns=list(rows[0].keys()))"
   ]
  },
  {
   "cell_type": "code",
   "execution_count": null,
   "metadata": {
    "scrolled": false
   },
   "outputs": [],
   "source": [
    "transactions.to_csv('/Users/rparama/Downloads/transactions_20191116.csv',index=False)"
   ]
  },
  {
   "cell_type": "code",
   "execution_count": null,
   "metadata": {
    "scrolled": false
   },
   "outputs": [],
   "source": [
    "transactions_query = \"\"\"\n",
    "SELECT * FROM bigquery-public-data.crypto_ethereum_classic.transactions\n",
    "WHERE DATE(block_timestamp) BETWEEN '2019-12-01' AND '2019-12-31'\n",
    "\"\"\"\n",
    "\n",
    "transactions_query_job = client.query(transactions_query)\n",
    "transactions_results = transactions_query_job.result()"
   ]
  },
  {
   "cell_type": "code",
   "execution_count": null,
   "metadata": {},
   "outputs": [],
   "source": [
    "rows = list(transactions_results)"
   ]
  },
  {
   "cell_type": "code",
   "execution_count": null,
   "metadata": {},
   "outputs": [],
   "source": [
    "# Transform the rows into a nice pandas dataframe\n",
    "transactions = pd.DataFrame(data=[list(x.values()) for x in rows], columns=list(rows[0].keys()))"
   ]
  },
  {
   "cell_type": "code",
   "execution_count": null,
   "metadata": {
    "scrolled": false
   },
   "outputs": [],
   "source": [
    "transactions.to_csv('/Users/rparama/Downloads/transactions_201912.csv',index=False)"
   ]
  }
 ],
 "metadata": {
  "kernelspec": {
   "display_name": "Python 3",
   "language": "python",
   "name": "python3"
  },
  "language_info": {
   "codemirror_mode": {
    "name": "ipython",
    "version": 3
   },
   "file_extension": ".py",
   "mimetype": "text/x-python",
   "name": "python",
   "nbconvert_exporter": "python",
   "pygments_lexer": "ipython3",
   "version": "3.8.5"
  }
 },
 "nbformat": 4,
 "nbformat_minor": 4
}
