{
 "cells": [
  {
   "cell_type": "code",
   "execution_count": 67,
   "metadata": {},
   "outputs": [],
   "source": [
    "# import to invoke required module\n",
    "\n",
    "# import pandas, pd is an alias\n",
    "import pandas as pd\n",
    "\n",
    "# import numpy, np is an alias\n",
    "import numpy as np\n",
    "\n",
    "# import seaborn, sns is an alias\n",
    "import seaborn as sns\n",
    "\n",
    "# import matplotlib.pyplot, plt is an alias\n",
    "import matplotlib.pyplot as plt\n",
    "from prettytable import PrettyTable\n",
    "from sklearn.preprocessing import PowerTransformer\n",
    "\n",
    "#Sklearn for clustering\n",
    "import sklearn\n",
    "\n",
    "#import train test split\n",
    "from sklearn.model_selection import train_test_split\n",
    "\n",
    "\n",
    "#importing Standard Scalar\n",
    "from sklearn.preprocessing import StandardScaler\n",
    "\n",
    "\n",
    "#Kmean Clustering\n",
    "from sklearn.cluster import KMeans\n",
    "\n",
    "\n",
    "#Hierarchical Clustering\n",
    "from scipy.cluster.hierarchy import linkage\n",
    "from scipy.cluster.hierarchy import dendrogram\n",
    "from scipy.cluster.hierarchy import cut_tree\n",
    "\n",
    "\n",
    "#importing PCA Clustering\n",
    "from sklearn.decomposition import PCA\n",
    "from sklearn.decomposition import IncrementalPCA\n",
    "\n",
    "#Applying Logistical regression on the data on our PCA\n",
    "from sklearn.linear_model import LogisticRegression\n",
    "\n",
    "#Metrics\n",
    "from sklearn.metrics import roc_curve, roc_auc_score, auc\n",
    "from sklearn.metrics import silhouette_score\n"
   ]
  },
  {
   "cell_type": "code",
   "execution_count": 68,
   "metadata": {},
   "outputs": [
    {
     "data": {
      "text/html": [
       "<div>\n",
       "<style scoped>\n",
       "    .dataframe tbody tr th:only-of-type {\n",
       "        vertical-align: middle;\n",
       "    }\n",
       "\n",
       "    .dataframe tbody tr th {\n",
       "        vertical-align: top;\n",
       "    }\n",
       "\n",
       "    .dataframe thead th {\n",
       "        text-align: right;\n",
       "    }\n",
       "</style>\n",
       "<table border=\"1\" class=\"dataframe\">\n",
       "  <thead>\n",
       "    <tr style=\"text-align: right;\">\n",
       "      <th></th>\n",
       "      <th>token_address</th>\n",
       "      <th>token_name</th>\n",
       "      <th>receipt_status</th>\n",
       "      <th>Contract_is_erc20</th>\n",
       "      <th>trace_from_address</th>\n",
       "      <th>trace_to_address</th>\n",
       "      <th>trace_value</th>\n",
       "      <th>trace_gas</th>\n",
       "      <th>trace_gas_used</th>\n",
       "      <th>token_transfer_from_address</th>\n",
       "      <th>...</th>\n",
       "      <th>transaction_from_address</th>\n",
       "      <th>transaction_to_address</th>\n",
       "      <th>transaction_value</th>\n",
       "      <th>transaction_gas</th>\n",
       "      <th>transaction_gas_price</th>\n",
       "      <th>receipt_cumulative_gas_used</th>\n",
       "      <th>receipt_gas_used</th>\n",
       "      <th>token_decimals</th>\n",
       "      <th>token_total_supply</th>\n",
       "      <th>Contract_address</th>\n",
       "    </tr>\n",
       "  </thead>\n",
       "  <tbody>\n",
       "    <tr>\n",
       "      <th>0</th>\n",
       "      <td>0x0000000000b3f879cb30fe243b4dfee438691c04</td>\n",
       "      <td>Gastoken.io</td>\n",
       "      <td>0.0</td>\n",
       "      <td>False</td>\n",
       "      <td>4</td>\n",
       "      <td>4</td>\n",
       "      <td>0.0</td>\n",
       "      <td>1.272665e+08</td>\n",
       "      <td>1.258158e+08</td>\n",
       "      <td>2</td>\n",
       "      <td>...</td>\n",
       "      <td>2</td>\n",
       "      <td>2</td>\n",
       "      <td>0.000000e+00</td>\n",
       "      <td>256089852</td>\n",
       "      <td>69400000000</td>\n",
       "      <td>7567350</td>\n",
       "      <td>252218296</td>\n",
       "      <td>2.0</td>\n",
       "      <td>1.292323e+07</td>\n",
       "      <td>2</td>\n",
       "    </tr>\n",
       "    <tr>\n",
       "      <th>1</th>\n",
       "      <td>0x0000000000b3f879cb30fe243b4dfee438691c04</td>\n",
       "      <td>Gastoken.io</td>\n",
       "      <td>1.0</td>\n",
       "      <td>False</td>\n",
       "      <td>4</td>\n",
       "      <td>2</td>\n",
       "      <td>0.0</td>\n",
       "      <td>4.419811e+06</td>\n",
       "      <td>1.113697e+06</td>\n",
       "      <td>3</td>\n",
       "      <td>...</td>\n",
       "      <td>3</td>\n",
       "      <td>1</td>\n",
       "      <td>0.000000e+00</td>\n",
       "      <td>5901184</td>\n",
       "      <td>12008000000</td>\n",
       "      <td>543034</td>\n",
       "      <td>3107288</td>\n",
       "      <td>2.0</td>\n",
       "      <td>1.292323e+07</td>\n",
       "      <td>1</td>\n",
       "    </tr>\n",
       "    <tr>\n",
       "      <th>2</th>\n",
       "      <td>0x06c6fe422a4e2a1c68d16ee3a798552ba5b670ac</td>\n",
       "      <td>Test 2</td>\n",
       "      <td>0.0</td>\n",
       "      <td>True</td>\n",
       "      <td>1</td>\n",
       "      <td>1</td>\n",
       "      <td>0.0</td>\n",
       "      <td>5.536160e+05</td>\n",
       "      <td>5.657800e+04</td>\n",
       "      <td>1</td>\n",
       "      <td>...</td>\n",
       "      <td>1</td>\n",
       "      <td>1</td>\n",
       "      <td>0.000000e+00</td>\n",
       "      <td>600000</td>\n",
       "      <td>46000001024</td>\n",
       "      <td>57481</td>\n",
       "      <td>72962</td>\n",
       "      <td>4.0</td>\n",
       "      <td>1.000000e+18</td>\n",
       "      <td>1</td>\n",
       "    </tr>\n",
       "    <tr>\n",
       "      <th>3</th>\n",
       "      <td>0x0781311fde517339d24d749db3fa8b236de5417e</td>\n",
       "      <td>Pontos</td>\n",
       "      <td>1.0</td>\n",
       "      <td>True</td>\n",
       "      <td>1</td>\n",
       "      <td>1</td>\n",
       "      <td>0.0</td>\n",
       "      <td>1.260098e+08</td>\n",
       "      <td>2.923630e+06</td>\n",
       "      <td>6</td>\n",
       "      <td>...</td>\n",
       "      <td>1</td>\n",
       "      <td>1</td>\n",
       "      <td>0.000000e+00</td>\n",
       "      <td>129000000</td>\n",
       "      <td>2523000000000</td>\n",
       "      <td>1395666</td>\n",
       "      <td>5467002</td>\n",
       "      <td>18.0</td>\n",
       "      <td>1.000000e+21</td>\n",
       "      <td>1</td>\n",
       "    </tr>\n",
       "    <tr>\n",
       "      <th>4</th>\n",
       "      <td>0x09eb38b9b29c2c0b96f81fce3bb13bd4c96c2ee7</td>\n",
       "      <td>DanCoin</td>\n",
       "      <td>1.0</td>\n",
       "      <td>True</td>\n",
       "      <td>1</td>\n",
       "      <td>1</td>\n",
       "      <td>0.0</td>\n",
       "      <td>1.061990e+05</td>\n",
       "      <td>6.744000e+04</td>\n",
       "      <td>1</td>\n",
       "      <td>...</td>\n",
       "      <td>1</td>\n",
       "      <td>1</td>\n",
       "      <td>0.000000e+00</td>\n",
       "      <td>173983</td>\n",
       "      <td>4000000000</td>\n",
       "      <td>559594</td>\n",
       "      <td>135224</td>\n",
       "      <td>5.0</td>\n",
       "      <td>3.500000e+15</td>\n",
       "      <td>1</td>\n",
       "    </tr>\n",
       "    <tr>\n",
       "      <th>5</th>\n",
       "      <td>0x0b5fa328278442956d405d8b501571e20b96260e</td>\n",
       "      <td>AMIS</td>\n",
       "      <td>1.0</td>\n",
       "      <td>True</td>\n",
       "      <td>1</td>\n",
       "      <td>1</td>\n",
       "      <td>0.0</td>\n",
       "      <td>2.753370e+05</td>\n",
       "      <td>3.642500e+04</td>\n",
       "      <td>1</td>\n",
       "      <td>...</td>\n",
       "      <td>1</td>\n",
       "      <td>1</td>\n",
       "      <td>0.000000e+00</td>\n",
       "      <td>305748</td>\n",
       "      <td>1000000000</td>\n",
       "      <td>272815</td>\n",
       "      <td>203832</td>\n",
       "      <td>9.0</td>\n",
       "      <td>6.604740e+05</td>\n",
       "      <td>1</td>\n",
       "    </tr>\n",
       "    <tr>\n",
       "      <th>6</th>\n",
       "      <td>0x15c374190b550a56621576209c2e722821286bbc</td>\n",
       "      <td>TheDanCoin</td>\n",
       "      <td>1.0</td>\n",
       "      <td>True</td>\n",
       "      <td>4</td>\n",
       "      <td>1</td>\n",
       "      <td>0.0</td>\n",
       "      <td>2.387812e+08</td>\n",
       "      <td>1.369276e+06</td>\n",
       "      <td>4</td>\n",
       "      <td>...</td>\n",
       "      <td>4</td>\n",
       "      <td>2</td>\n",
       "      <td>0.000000e+00</td>\n",
       "      <td>240897096</td>\n",
       "      <td>1537600000000</td>\n",
       "      <td>1894935</td>\n",
       "      <td>3631371</td>\n",
       "      <td>5.0</td>\n",
       "      <td>3.999998e+15</td>\n",
       "      <td>1</td>\n",
       "    </tr>\n",
       "    <tr>\n",
       "      <th>7</th>\n",
       "      <td>0x171040cd10f204f3b257e45b41ce65d36150558c</td>\n",
       "      <td>eBOMB</td>\n",
       "      <td>0.0</td>\n",
       "      <td>True</td>\n",
       "      <td>140</td>\n",
       "      <td>1</td>\n",
       "      <td>0.0</td>\n",
       "      <td>5.841082e+08</td>\n",
       "      <td>1.445470e+08</td>\n",
       "      <td>203</td>\n",
       "      <td>...</td>\n",
       "      <td>222</td>\n",
       "      <td>3</td>\n",
       "      <td>2.419481e+20</td>\n",
       "      <td>737026296</td>\n",
       "      <td>23042249721858</td>\n",
       "      <td>7999635</td>\n",
       "      <td>392263464</td>\n",
       "      <td>18.0</td>\n",
       "      <td>2.099851e+25</td>\n",
       "      <td>1</td>\n",
       "    </tr>\n",
       "    <tr>\n",
       "      <th>8</th>\n",
       "      <td>0x171040cd10f204f3b257e45b41ce65d36150558c</td>\n",
       "      <td>eBOMB</td>\n",
       "      <td>1.0</td>\n",
       "      <td>False</td>\n",
       "      <td>26</td>\n",
       "      <td>13</td>\n",
       "      <td>0.0</td>\n",
       "      <td>2.264384e+11</td>\n",
       "      <td>1.516478e+10</td>\n",
       "      <td>26</td>\n",
       "      <td>...</td>\n",
       "      <td>15</td>\n",
       "      <td>11</td>\n",
       "      <td>0.000000e+00</td>\n",
       "      <td>438497900280</td>\n",
       "      <td>154739868000000</td>\n",
       "      <td>7958083</td>\n",
       "      <td>435874540404</td>\n",
       "      <td>18.0</td>\n",
       "      <td>2.099851e+25</td>\n",
       "      <td>11</td>\n",
       "    </tr>\n",
       "    <tr>\n",
       "      <th>9</th>\n",
       "      <td>0x171040cd10f204f3b257e45b41ce65d36150558c</td>\n",
       "      <td>eBOMB</td>\n",
       "      <td>1.0</td>\n",
       "      <td>True</td>\n",
       "      <td>70</td>\n",
       "      <td>1</td>\n",
       "      <td>0.0</td>\n",
       "      <td>2.156650e+11</td>\n",
       "      <td>4.006560e+09</td>\n",
       "      <td>153</td>\n",
       "      <td>...</td>\n",
       "      <td>236</td>\n",
       "      <td>14</td>\n",
       "      <td>2.026072e+19</td>\n",
       "      <td>430770635684</td>\n",
       "      <td>162805676059392</td>\n",
       "      <td>7958083</td>\n",
       "      <td>428057806970</td>\n",
       "      <td>18.0</td>\n",
       "      <td>2.099851e+25</td>\n",
       "      <td>1</td>\n",
       "    </tr>\n",
       "  </tbody>\n",
       "</table>\n",
       "<p>10 rows × 22 columns</p>\n",
       "</div>"
      ],
      "text/plain": [
       "                                token_address   token_name  receipt_status  \\\n",
       "0  0x0000000000b3f879cb30fe243b4dfee438691c04  Gastoken.io             0.0   \n",
       "1  0x0000000000b3f879cb30fe243b4dfee438691c04  Gastoken.io             1.0   \n",
       "2  0x06c6fe422a4e2a1c68d16ee3a798552ba5b670ac       Test 2             0.0   \n",
       "3  0x0781311fde517339d24d749db3fa8b236de5417e       Pontos             1.0   \n",
       "4  0x09eb38b9b29c2c0b96f81fce3bb13bd4c96c2ee7      DanCoin             1.0   \n",
       "5  0x0b5fa328278442956d405d8b501571e20b96260e         AMIS             1.0   \n",
       "6  0x15c374190b550a56621576209c2e722821286bbc   TheDanCoin             1.0   \n",
       "7  0x171040cd10f204f3b257e45b41ce65d36150558c        eBOMB             0.0   \n",
       "8  0x171040cd10f204f3b257e45b41ce65d36150558c        eBOMB             1.0   \n",
       "9  0x171040cd10f204f3b257e45b41ce65d36150558c        eBOMB             1.0   \n",
       "\n",
       "   Contract_is_erc20  trace_from_address  trace_to_address  trace_value  \\\n",
       "0              False                   4                 4          0.0   \n",
       "1              False                   4                 2          0.0   \n",
       "2               True                   1                 1          0.0   \n",
       "3               True                   1                 1          0.0   \n",
       "4               True                   1                 1          0.0   \n",
       "5               True                   1                 1          0.0   \n",
       "6               True                   4                 1          0.0   \n",
       "7               True                 140                 1          0.0   \n",
       "8              False                  26                13          0.0   \n",
       "9               True                  70                 1          0.0   \n",
       "\n",
       "      trace_gas  trace_gas_used  token_transfer_from_address  ...  \\\n",
       "0  1.272665e+08    1.258158e+08                            2  ...   \n",
       "1  4.419811e+06    1.113697e+06                            3  ...   \n",
       "2  5.536160e+05    5.657800e+04                            1  ...   \n",
       "3  1.260098e+08    2.923630e+06                            6  ...   \n",
       "4  1.061990e+05    6.744000e+04                            1  ...   \n",
       "5  2.753370e+05    3.642500e+04                            1  ...   \n",
       "6  2.387812e+08    1.369276e+06                            4  ...   \n",
       "7  5.841082e+08    1.445470e+08                          203  ...   \n",
       "8  2.264384e+11    1.516478e+10                           26  ...   \n",
       "9  2.156650e+11    4.006560e+09                          153  ...   \n",
       "\n",
       "   transaction_from_address  transaction_to_address  transaction_value  \\\n",
       "0                         2                       2       0.000000e+00   \n",
       "1                         3                       1       0.000000e+00   \n",
       "2                         1                       1       0.000000e+00   \n",
       "3                         1                       1       0.000000e+00   \n",
       "4                         1                       1       0.000000e+00   \n",
       "5                         1                       1       0.000000e+00   \n",
       "6                         4                       2       0.000000e+00   \n",
       "7                       222                       3       2.419481e+20   \n",
       "8                        15                      11       0.000000e+00   \n",
       "9                       236                      14       2.026072e+19   \n",
       "\n",
       "   transaction_gas  transaction_gas_price  receipt_cumulative_gas_used  \\\n",
       "0        256089852            69400000000                      7567350   \n",
       "1          5901184            12008000000                       543034   \n",
       "2           600000            46000001024                        57481   \n",
       "3        129000000          2523000000000                      1395666   \n",
       "4           173983             4000000000                       559594   \n",
       "5           305748             1000000000                       272815   \n",
       "6        240897096          1537600000000                      1894935   \n",
       "7        737026296         23042249721858                      7999635   \n",
       "8     438497900280        154739868000000                      7958083   \n",
       "9     430770635684        162805676059392                      7958083   \n",
       "\n",
       "   receipt_gas_used  token_decimals  token_total_supply  Contract_address  \n",
       "0         252218296             2.0        1.292323e+07                 2  \n",
       "1           3107288             2.0        1.292323e+07                 1  \n",
       "2             72962             4.0        1.000000e+18                 1  \n",
       "3           5467002            18.0        1.000000e+21                 1  \n",
       "4            135224             5.0        3.500000e+15                 1  \n",
       "5            203832             9.0        6.604740e+05                 1  \n",
       "6           3631371             5.0        3.999998e+15                 1  \n",
       "7         392263464            18.0        2.099851e+25                 1  \n",
       "8      435874540404            18.0        2.099851e+25                11  \n",
       "9      428057806970            18.0        2.099851e+25                 1  \n",
       "\n",
       "[10 rows x 22 columns]"
      ]
     },
     "execution_count": 68,
     "metadata": {},
     "output_type": "execute_result"
    }
   ],
   "source": [
    "# Path where all Dataset are located\n",
    "\n",
    "dfTrace = pd.read_csv(\"/Users/rparama/Downloads/Dataset/TraceAgg.csv\")\n",
    "dfTrace.head(10)"
   ]
  },
  {
   "cell_type": "code",
   "execution_count": 69,
   "metadata": {},
   "outputs": [],
   "source": [
    "dfTrace = dfTrace.drop(19)"
   ]
  },
  {
   "cell_type": "code",
   "execution_count": 70,
   "metadata": {},
   "outputs": [],
   "source": [
    "dfTrace.reset_index(inplace=True, drop=True)"
   ]
  },
  {
   "cell_type": "code",
   "execution_count": 71,
   "metadata": {},
   "outputs": [
    {
     "name": "stdout",
     "output_type": "stream",
     "text": [
      "+------+-----------------------------+-----------+--------------+--------------+------------+-------------+\n",
      "| S.No |         Column Name         | Data Type | Record Count | Unique Count | Null Count | Total Count |\n",
      "+------+-----------------------------+-----------+--------------+--------------+------------+-------------+\n",
      "|  1   |        token_address        |   object  |      39      |      30      |     0      |      39     |\n",
      "|  2   |          token_name         |   object  |      39      |      26      |     0      |      39     |\n",
      "|  3   |        receipt_status       |  float64  |      39      |      2       |     0      |      39     |\n",
      "|  4   |      Contract_is_erc20      |    bool   |      39      |      2       |     0      |      39     |\n",
      "|  5   |      trace_from_address     |   int64   |      39      |      13      |     0      |      39     |\n",
      "|  6   |       trace_to_address      |   int64   |      39      |      8       |     0      |      39     |\n",
      "|  7   |         trace_value         |  float64  |      39      |      3       |     0      |      39     |\n",
      "|  8   |          trace_gas          |  float64  |      39      |      39      |     0      |      39     |\n",
      "|  9   |        trace_gas_used       |  float64  |      39      |      35      |     0      |      39     |\n",
      "|  10  | token_transfer_from_address |   int64   |      39      |      14      |     0      |      39     |\n",
      "|  11  |  token_transfer_to_address  |   int64   |      39      |      16      |     0      |      39     |\n",
      "|  12  |     token_transfer_value    |  float64  |      39      |      39      |     0      |      39     |\n",
      "|  13  |   transaction_from_address  |   int64   |      39      |      14      |     0      |      39     |\n",
      "|  14  |    transaction_to_address   |   int64   |      39      |      8       |     0      |      39     |\n",
      "|  15  |      transaction_value      |  float64  |      39      |      3       |     0      |      39     |\n",
      "|  16  |       transaction_gas       |   int64   |      39      |      37      |     0      |      39     |\n",
      "|  17  |    transaction_gas_price    |   int64   |      39      |      33      |     0      |      39     |\n",
      "|  18  | receipt_cumulative_gas_used |   int64   |      39      |      35      |     0      |      39     |\n",
      "|  19  |       receipt_gas_used      |   int64   |      39      |      39      |     0      |      39     |\n",
      "|  20  |        token_decimals       |  float64  |      39      |      7       |     0      |      39     |\n",
      "|  21  |      token_total_supply     |  float64  |      39      |      23      |     0      |      39     |\n",
      "|  22  |       Contract_address      |   int64   |      39      |      5       |     0      |      39     |\n",
      "+------+-----------------------------+-----------+--------------+--------------+------------+-------------+\n"
     ]
    }
   ],
   "source": [
    "# File metadata/Schema analysis\n",
    "\n",
    "i=1\n",
    "headers=PrettyTable([\"S.No\",\n",
    "                     \"Column Name\",\n",
    "                     \"Data Type\",\n",
    "                     \"Record Count\",\n",
    "                     \"Unique Count\",\n",
    "                     \"Null Count\",\n",
    "                     \"Total Count\"])\n",
    "\n",
    "for col in dfTrace.columns:\n",
    "    headers.add_row([i,\n",
    "                     col,\n",
    "                     dfTrace[col].dtypes,\n",
    "                     dfTrace[col].count(),\n",
    "                     dfTrace[col].nunique(),\n",
    "                     dfTrace[col].isnull().sum(),\n",
    "                     dfTrace[col].count()+dfTrace[col].isnull().sum()])\n",
    "    i+=1\n",
    "\n",
    "print(headers)"
   ]
  },
  {
   "cell_type": "markdown",
   "metadata": {},
   "source": [
    "# Encoding"
   ]
  },
  {
   "cell_type": "code",
   "execution_count": 72,
   "metadata": {},
   "outputs": [],
   "source": [
    "# performing Encoding on Binary varaible receipt_status,Contract_is_erc20\n",
    "\n",
    "dfTrace['Contract_is_erc20'] = dfTrace['Contract_is_erc20'].astype(int)\n",
    "dfTrace['receipt_status'] = dfTrace['receipt_status'].astype(int)"
   ]
  },
  {
   "cell_type": "code",
   "execution_count": 73,
   "metadata": {},
   "outputs": [],
   "source": [
    "\n",
    "dfTrace.drop(['token_address'], axis=1, inplace=True)\n"
   ]
  },
  {
   "cell_type": "code",
   "execution_count": 74,
   "metadata": {},
   "outputs": [
    {
     "data": {
      "text/html": [
       "<div>\n",
       "<style scoped>\n",
       "    .dataframe tbody tr th:only-of-type {\n",
       "        vertical-align: middle;\n",
       "    }\n",
       "\n",
       "    .dataframe tbody tr th {\n",
       "        vertical-align: top;\n",
       "    }\n",
       "\n",
       "    .dataframe thead th {\n",
       "        text-align: right;\n",
       "    }\n",
       "</style>\n",
       "<table border=\"1\" class=\"dataframe\">\n",
       "  <thead>\n",
       "    <tr style=\"text-align: right;\">\n",
       "      <th></th>\n",
       "      <th>token_name</th>\n",
       "      <th>receipt_status</th>\n",
       "      <th>Contract_is_erc20</th>\n",
       "      <th>trace_from_address</th>\n",
       "      <th>trace_to_address</th>\n",
       "      <th>trace_value</th>\n",
       "      <th>trace_gas</th>\n",
       "      <th>trace_gas_used</th>\n",
       "      <th>token_transfer_from_address</th>\n",
       "      <th>token_transfer_to_address</th>\n",
       "      <th>...</th>\n",
       "      <th>transaction_from_address</th>\n",
       "      <th>transaction_to_address</th>\n",
       "      <th>transaction_value</th>\n",
       "      <th>transaction_gas</th>\n",
       "      <th>transaction_gas_price</th>\n",
       "      <th>receipt_cumulative_gas_used</th>\n",
       "      <th>receipt_gas_used</th>\n",
       "      <th>token_decimals</th>\n",
       "      <th>token_total_supply</th>\n",
       "      <th>Contract_address</th>\n",
       "    </tr>\n",
       "  </thead>\n",
       "  <tbody>\n",
       "    <tr>\n",
       "      <th>0</th>\n",
       "      <td>Gastoken.io</td>\n",
       "      <td>0</td>\n",
       "      <td>0</td>\n",
       "      <td>4</td>\n",
       "      <td>4</td>\n",
       "      <td>0.0</td>\n",
       "      <td>127266471.0</td>\n",
       "      <td>125815805.0</td>\n",
       "      <td>2</td>\n",
       "      <td>1</td>\n",
       "      <td>...</td>\n",
       "      <td>2</td>\n",
       "      <td>2</td>\n",
       "      <td>0.0</td>\n",
       "      <td>256089852</td>\n",
       "      <td>69400000000</td>\n",
       "      <td>7567350</td>\n",
       "      <td>252218296</td>\n",
       "      <td>2.0</td>\n",
       "      <td>1.292323e+07</td>\n",
       "      <td>2</td>\n",
       "    </tr>\n",
       "    <tr>\n",
       "      <th>1</th>\n",
       "      <td>Gastoken.io</td>\n",
       "      <td>1</td>\n",
       "      <td>0</td>\n",
       "      <td>4</td>\n",
       "      <td>2</td>\n",
       "      <td>0.0</td>\n",
       "      <td>4419811.0</td>\n",
       "      <td>1113697.0</td>\n",
       "      <td>3</td>\n",
       "      <td>3</td>\n",
       "      <td>...</td>\n",
       "      <td>3</td>\n",
       "      <td>1</td>\n",
       "      <td>0.0</td>\n",
       "      <td>5901184</td>\n",
       "      <td>12008000000</td>\n",
       "      <td>543034</td>\n",
       "      <td>3107288</td>\n",
       "      <td>2.0</td>\n",
       "      <td>1.292323e+07</td>\n",
       "      <td>1</td>\n",
       "    </tr>\n",
       "    <tr>\n",
       "      <th>2</th>\n",
       "      <td>Test 2</td>\n",
       "      <td>0</td>\n",
       "      <td>1</td>\n",
       "      <td>1</td>\n",
       "      <td>1</td>\n",
       "      <td>0.0</td>\n",
       "      <td>553616.0</td>\n",
       "      <td>56578.0</td>\n",
       "      <td>1</td>\n",
       "      <td>2</td>\n",
       "      <td>...</td>\n",
       "      <td>1</td>\n",
       "      <td>1</td>\n",
       "      <td>0.0</td>\n",
       "      <td>600000</td>\n",
       "      <td>46000001024</td>\n",
       "      <td>57481</td>\n",
       "      <td>72962</td>\n",
       "      <td>4.0</td>\n",
       "      <td>1.000000e+18</td>\n",
       "      <td>1</td>\n",
       "    </tr>\n",
       "    <tr>\n",
       "      <th>3</th>\n",
       "      <td>Pontos</td>\n",
       "      <td>1</td>\n",
       "      <td>1</td>\n",
       "      <td>1</td>\n",
       "      <td>1</td>\n",
       "      <td>0.0</td>\n",
       "      <td>126009768.0</td>\n",
       "      <td>2923630.0</td>\n",
       "      <td>6</td>\n",
       "      <td>60</td>\n",
       "      <td>...</td>\n",
       "      <td>1</td>\n",
       "      <td>1</td>\n",
       "      <td>0.0</td>\n",
       "      <td>129000000</td>\n",
       "      <td>2523000000000</td>\n",
       "      <td>1395666</td>\n",
       "      <td>5467002</td>\n",
       "      <td>18.0</td>\n",
       "      <td>1.000000e+21</td>\n",
       "      <td>1</td>\n",
       "    </tr>\n",
       "    <tr>\n",
       "      <th>4</th>\n",
       "      <td>DanCoin</td>\n",
       "      <td>1</td>\n",
       "      <td>1</td>\n",
       "      <td>1</td>\n",
       "      <td>1</td>\n",
       "      <td>0.0</td>\n",
       "      <td>106199.0</td>\n",
       "      <td>67440.0</td>\n",
       "      <td>1</td>\n",
       "      <td>2</td>\n",
       "      <td>...</td>\n",
       "      <td>1</td>\n",
       "      <td>1</td>\n",
       "      <td>0.0</td>\n",
       "      <td>173983</td>\n",
       "      <td>4000000000</td>\n",
       "      <td>559594</td>\n",
       "      <td>135224</td>\n",
       "      <td>5.0</td>\n",
       "      <td>3.500000e+15</td>\n",
       "      <td>1</td>\n",
       "    </tr>\n",
       "  </tbody>\n",
       "</table>\n",
       "<p>5 rows × 21 columns</p>\n",
       "</div>"
      ],
      "text/plain": [
       "    token_name  receipt_status  Contract_is_erc20  trace_from_address  \\\n",
       "0  Gastoken.io               0                  0                   4   \n",
       "1  Gastoken.io               1                  0                   4   \n",
       "2       Test 2               0                  1                   1   \n",
       "3       Pontos               1                  1                   1   \n",
       "4      DanCoin               1                  1                   1   \n",
       "\n",
       "   trace_to_address  trace_value    trace_gas  trace_gas_used  \\\n",
       "0                 4          0.0  127266471.0     125815805.0   \n",
       "1                 2          0.0    4419811.0       1113697.0   \n",
       "2                 1          0.0     553616.0         56578.0   \n",
       "3                 1          0.0  126009768.0       2923630.0   \n",
       "4                 1          0.0     106199.0         67440.0   \n",
       "\n",
       "   token_transfer_from_address  token_transfer_to_address  ...  \\\n",
       "0                            2                          1  ...   \n",
       "1                            3                          3  ...   \n",
       "2                            1                          2  ...   \n",
       "3                            6                         60  ...   \n",
       "4                            1                          2  ...   \n",
       "\n",
       "   transaction_from_address  transaction_to_address  transaction_value  \\\n",
       "0                         2                       2                0.0   \n",
       "1                         3                       1                0.0   \n",
       "2                         1                       1                0.0   \n",
       "3                         1                       1                0.0   \n",
       "4                         1                       1                0.0   \n",
       "\n",
       "   transaction_gas  transaction_gas_price  receipt_cumulative_gas_used  \\\n",
       "0        256089852            69400000000                      7567350   \n",
       "1          5901184            12008000000                       543034   \n",
       "2           600000            46000001024                        57481   \n",
       "3        129000000          2523000000000                      1395666   \n",
       "4           173983             4000000000                       559594   \n",
       "\n",
       "   receipt_gas_used  token_decimals  token_total_supply  Contract_address  \n",
       "0         252218296             2.0        1.292323e+07                 2  \n",
       "1           3107288             2.0        1.292323e+07                 1  \n",
       "2             72962             4.0        1.000000e+18                 1  \n",
       "3           5467002            18.0        1.000000e+21                 1  \n",
       "4            135224             5.0        3.500000e+15                 1  \n",
       "\n",
       "[5 rows x 21 columns]"
      ]
     },
     "execution_count": 74,
     "metadata": {},
     "output_type": "execute_result"
    }
   ],
   "source": [
    "dfTrace.head()"
   ]
  },
  {
   "cell_type": "markdown",
   "metadata": {},
   "source": [
    "# Scaling"
   ]
  },
  {
   "cell_type": "code",
   "execution_count": 75,
   "metadata": {},
   "outputs": [],
   "source": [
    "# Putting response variable to y\n",
    "y = dfTrace[['token_name']]\n",
    "\n",
    "# Putting feature variable to X\n",
    "X = dfTrace[['receipt_status', \n",
    "             'Contract_is_erc20',\n",
    "             'trace_from_address', \n",
    "             'trace_to_address', \n",
    "             'trace_value', \n",
    "             'trace_gas',\n",
    "             'trace_gas_used', \n",
    "             'token_transfer_from_address',\n",
    "             'token_transfer_to_address', \n",
    "             'token_transfer_value',\n",
    "             'transaction_from_address', \n",
    "             'transaction_to_address',\n",
    "             'transaction_value', \n",
    "             'transaction_gas', \n",
    "             'transaction_gas_price',\n",
    "             'receipt_cumulative_gas_used', \n",
    "             'receipt_gas_used', \n",
    "             'token_decimals',\n",
    "             'token_total_supply', \n",
    "             'Contract_address']]\n",
    "\n"
   ]
  },
  {
   "cell_type": "code",
   "execution_count": 76,
   "metadata": {},
   "outputs": [
    {
     "data": {
      "text/html": [
       "<div>\n",
       "<style scoped>\n",
       "    .dataframe tbody tr th:only-of-type {\n",
       "        vertical-align: middle;\n",
       "    }\n",
       "\n",
       "    .dataframe tbody tr th {\n",
       "        vertical-align: top;\n",
       "    }\n",
       "\n",
       "    .dataframe thead th {\n",
       "        text-align: right;\n",
       "    }\n",
       "</style>\n",
       "<table border=\"1\" class=\"dataframe\">\n",
       "  <thead>\n",
       "    <tr style=\"text-align: right;\">\n",
       "      <th></th>\n",
       "      <th>receipt_status</th>\n",
       "      <th>Contract_is_erc20</th>\n",
       "      <th>trace_from_address</th>\n",
       "      <th>trace_to_address</th>\n",
       "      <th>trace_value</th>\n",
       "      <th>trace_gas</th>\n",
       "      <th>trace_gas_used</th>\n",
       "      <th>token_transfer_from_address</th>\n",
       "      <th>token_transfer_to_address</th>\n",
       "      <th>token_transfer_value</th>\n",
       "      <th>transaction_from_address</th>\n",
       "      <th>transaction_to_address</th>\n",
       "      <th>transaction_value</th>\n",
       "      <th>transaction_gas</th>\n",
       "      <th>transaction_gas_price</th>\n",
       "      <th>receipt_cumulative_gas_used</th>\n",
       "      <th>receipt_gas_used</th>\n",
       "      <th>token_decimals</th>\n",
       "      <th>token_total_supply</th>\n",
       "      <th>Contract_address</th>\n",
       "    </tr>\n",
       "  </thead>\n",
       "  <tbody>\n",
       "    <tr>\n",
       "      <th>0</th>\n",
       "      <td>0</td>\n",
       "      <td>0</td>\n",
       "      <td>4</td>\n",
       "      <td>4</td>\n",
       "      <td>0.0</td>\n",
       "      <td>127266471.0</td>\n",
       "      <td>125815805.0</td>\n",
       "      <td>2</td>\n",
       "      <td>1</td>\n",
       "      <td>6.800000e+03</td>\n",
       "      <td>2</td>\n",
       "      <td>2</td>\n",
       "      <td>0.0</td>\n",
       "      <td>256089852</td>\n",
       "      <td>69400000000</td>\n",
       "      <td>7567350</td>\n",
       "      <td>252218296</td>\n",
       "      <td>2.0</td>\n",
       "      <td>1.292323e+07</td>\n",
       "      <td>2</td>\n",
       "    </tr>\n",
       "    <tr>\n",
       "      <th>1</th>\n",
       "      <td>1</td>\n",
       "      <td>0</td>\n",
       "      <td>4</td>\n",
       "      <td>2</td>\n",
       "      <td>0.0</td>\n",
       "      <td>4419811.0</td>\n",
       "      <td>1113697.0</td>\n",
       "      <td>3</td>\n",
       "      <td>3</td>\n",
       "      <td>2.000000e+05</td>\n",
       "      <td>3</td>\n",
       "      <td>1</td>\n",
       "      <td>0.0</td>\n",
       "      <td>5901184</td>\n",
       "      <td>12008000000</td>\n",
       "      <td>543034</td>\n",
       "      <td>3107288</td>\n",
       "      <td>2.0</td>\n",
       "      <td>1.292323e+07</td>\n",
       "      <td>1</td>\n",
       "    </tr>\n",
       "    <tr>\n",
       "      <th>2</th>\n",
       "      <td>0</td>\n",
       "      <td>1</td>\n",
       "      <td>1</td>\n",
       "      <td>1</td>\n",
       "      <td>0.0</td>\n",
       "      <td>553616.0</td>\n",
       "      <td>56578.0</td>\n",
       "      <td>1</td>\n",
       "      <td>2</td>\n",
       "      <td>2.000000e+18</td>\n",
       "      <td>1</td>\n",
       "      <td>1</td>\n",
       "      <td>0.0</td>\n",
       "      <td>600000</td>\n",
       "      <td>46000001024</td>\n",
       "      <td>57481</td>\n",
       "      <td>72962</td>\n",
       "      <td>4.0</td>\n",
       "      <td>1.000000e+18</td>\n",
       "      <td>1</td>\n",
       "    </tr>\n",
       "    <tr>\n",
       "      <th>3</th>\n",
       "      <td>1</td>\n",
       "      <td>1</td>\n",
       "      <td>1</td>\n",
       "      <td>1</td>\n",
       "      <td>0.0</td>\n",
       "      <td>126009768.0</td>\n",
       "      <td>2923630.0</td>\n",
       "      <td>6</td>\n",
       "      <td>60</td>\n",
       "      <td>3.620030e+05</td>\n",
       "      <td>1</td>\n",
       "      <td>1</td>\n",
       "      <td>0.0</td>\n",
       "      <td>129000000</td>\n",
       "      <td>2523000000000</td>\n",
       "      <td>1395666</td>\n",
       "      <td>5467002</td>\n",
       "      <td>18.0</td>\n",
       "      <td>1.000000e+21</td>\n",
       "      <td>1</td>\n",
       "    </tr>\n",
       "    <tr>\n",
       "      <th>4</th>\n",
       "      <td>1</td>\n",
       "      <td>1</td>\n",
       "      <td>1</td>\n",
       "      <td>1</td>\n",
       "      <td>0.0</td>\n",
       "      <td>106199.0</td>\n",
       "      <td>67440.0</td>\n",
       "      <td>1</td>\n",
       "      <td>2</td>\n",
       "      <td>6.000000e+14</td>\n",
       "      <td>1</td>\n",
       "      <td>1</td>\n",
       "      <td>0.0</td>\n",
       "      <td>173983</td>\n",
       "      <td>4000000000</td>\n",
       "      <td>559594</td>\n",
       "      <td>135224</td>\n",
       "      <td>5.0</td>\n",
       "      <td>3.500000e+15</td>\n",
       "      <td>1</td>\n",
       "    </tr>\n",
       "  </tbody>\n",
       "</table>\n",
       "</div>"
      ],
      "text/plain": [
       "   receipt_status  Contract_is_erc20  trace_from_address  trace_to_address  \\\n",
       "0               0                  0                   4                 4   \n",
       "1               1                  0                   4                 2   \n",
       "2               0                  1                   1                 1   \n",
       "3               1                  1                   1                 1   \n",
       "4               1                  1                   1                 1   \n",
       "\n",
       "   trace_value    trace_gas  trace_gas_used  token_transfer_from_address  \\\n",
       "0          0.0  127266471.0     125815805.0                            2   \n",
       "1          0.0    4419811.0       1113697.0                            3   \n",
       "2          0.0     553616.0         56578.0                            1   \n",
       "3          0.0  126009768.0       2923630.0                            6   \n",
       "4          0.0     106199.0         67440.0                            1   \n",
       "\n",
       "   token_transfer_to_address  token_transfer_value  transaction_from_address  \\\n",
       "0                          1          6.800000e+03                         2   \n",
       "1                          3          2.000000e+05                         3   \n",
       "2                          2          2.000000e+18                         1   \n",
       "3                         60          3.620030e+05                         1   \n",
       "4                          2          6.000000e+14                         1   \n",
       "\n",
       "   transaction_to_address  transaction_value  transaction_gas  \\\n",
       "0                       2                0.0        256089852   \n",
       "1                       1                0.0          5901184   \n",
       "2                       1                0.0           600000   \n",
       "3                       1                0.0        129000000   \n",
       "4                       1                0.0           173983   \n",
       "\n",
       "   transaction_gas_price  receipt_cumulative_gas_used  receipt_gas_used  \\\n",
       "0            69400000000                      7567350         252218296   \n",
       "1            12008000000                       543034           3107288   \n",
       "2            46000001024                        57481             72962   \n",
       "3          2523000000000                      1395666           5467002   \n",
       "4             4000000000                       559594            135224   \n",
       "\n",
       "   token_decimals  token_total_supply  Contract_address  \n",
       "0             2.0        1.292323e+07                 2  \n",
       "1             2.0        1.292323e+07                 1  \n",
       "2             4.0        1.000000e+18                 1  \n",
       "3            18.0        1.000000e+21                 1  \n",
       "4             5.0        3.500000e+15                 1  "
      ]
     },
     "execution_count": 76,
     "metadata": {},
     "output_type": "execute_result"
    }
   ],
   "source": [
    "X.head()"
   ]
  },
  {
   "cell_type": "code",
   "execution_count": 77,
   "metadata": {},
   "outputs": [
    {
     "data": {
      "text/html": [
       "<div>\n",
       "<style scoped>\n",
       "    .dataframe tbody tr th:only-of-type {\n",
       "        vertical-align: middle;\n",
       "    }\n",
       "\n",
       "    .dataframe tbody tr th {\n",
       "        vertical-align: top;\n",
       "    }\n",
       "\n",
       "    .dataframe thead th {\n",
       "        text-align: right;\n",
       "    }\n",
       "</style>\n",
       "<table border=\"1\" class=\"dataframe\">\n",
       "  <thead>\n",
       "    <tr style=\"text-align: right;\">\n",
       "      <th></th>\n",
       "      <th>token_name</th>\n",
       "    </tr>\n",
       "  </thead>\n",
       "  <tbody>\n",
       "    <tr>\n",
       "      <th>0</th>\n",
       "      <td>Gastoken.io</td>\n",
       "    </tr>\n",
       "    <tr>\n",
       "      <th>1</th>\n",
       "      <td>Gastoken.io</td>\n",
       "    </tr>\n",
       "    <tr>\n",
       "      <th>2</th>\n",
       "      <td>Test 2</td>\n",
       "    </tr>\n",
       "    <tr>\n",
       "      <th>3</th>\n",
       "      <td>Pontos</td>\n",
       "    </tr>\n",
       "    <tr>\n",
       "      <th>4</th>\n",
       "      <td>DanCoin</td>\n",
       "    </tr>\n",
       "  </tbody>\n",
       "</table>\n",
       "</div>"
      ],
      "text/plain": [
       "    token_name\n",
       "0  Gastoken.io\n",
       "1  Gastoken.io\n",
       "2       Test 2\n",
       "3       Pontos\n",
       "4      DanCoin"
      ]
     },
     "execution_count": 77,
     "metadata": {},
     "output_type": "execute_result"
    }
   ],
   "source": [
    "y.head()"
   ]
  },
  {
   "cell_type": "code",
   "execution_count": 78,
   "metadata": {},
   "outputs": [],
   "source": [
    "# instantiate\n",
    "scaler = StandardScaler()\n"
   ]
  },
  {
   "cell_type": "code",
   "execution_count": 79,
   "metadata": {},
   "outputs": [],
   "source": [
    "# fit_transform\n",
    "X = scaler.fit_transform(X)\n"
   ]
  },
  {
   "cell_type": "code",
   "execution_count": 80,
   "metadata": {},
   "outputs": [
    {
     "data": {
      "text/plain": [
       "6.164413636963331"
      ]
     },
     "execution_count": 80,
     "metadata": {},
     "output_type": "execute_result"
    }
   ],
   "source": [
    "X.max()"
   ]
  },
  {
   "cell_type": "markdown",
   "metadata": {},
   "source": [
    "# PCA"
   ]
  },
  {
   "cell_type": "code",
   "execution_count": 81,
   "metadata": {},
   "outputs": [],
   "source": [
    "#PCA Model\n",
    "pca=PCA(svd_solver='randomized', random_state=42)\n"
   ]
  },
  {
   "cell_type": "code",
   "execution_count": 82,
   "metadata": {},
   "outputs": [
    {
     "data": {
      "text/plain": [
       "PCA(random_state=42, svd_solver='randomized')"
      ]
     },
     "execution_count": 82,
     "metadata": {},
     "output_type": "execute_result"
    }
   ],
   "source": [
    "#performing PCA and object instanciate\n",
    "pca.fit(X)\n"
   ]
  },
  {
   "cell_type": "code",
   "execution_count": 83,
   "metadata": {
    "scrolled": false
   },
   "outputs": [
    {
     "data": {
      "text/plain": [
       "array([[ 8.04633275e-02, -1.19822237e-01,  2.41809237e-01,\n",
       "         1.41191937e-01,  7.05457119e-02,  2.98589719e-01,\n",
       "         2.44074849e-01,  2.41046814e-01,  1.98002404e-02,\n",
       "         2.96218241e-01,  2.57216154e-01,  2.98544054e-01,\n",
       "         1.20117585e-01,  3.00475210e-01,  3.25065179e-01,\n",
       "         2.68870735e-01,  2.98720612e-01,  1.97950416e-01,\n",
       "        -1.24715205e-02,  1.85149838e-01],\n",
       "       [-1.60319622e-01,  3.13536308e-01,  3.51005696e-01,\n",
       "        -2.55697681e-01, -1.55973679e-01, -1.33354440e-01,\n",
       "        -2.37879800e-01,  3.77278083e-01,  5.51525265e-02,\n",
       "         1.64615356e-01,  3.12765341e-01, -3.41176041e-02,\n",
       "         4.20578446e-01, -1.32949494e-01, -1.16581435e-01,\n",
       "         3.01949254e-02, -1.36251743e-01,  6.15877127e-02,\n",
       "        -5.12403566e-02, -2.88436211e-01],\n",
       "       [-1.25265904e-01, -2.38771256e-01,  1.57347637e-01,\n",
       "         4.40403537e-01,  4.64196602e-01, -2.68774655e-01,\n",
       "        -2.17781896e-01,  7.50262745e-02, -5.09562163e-02,\n",
       "        -4.98302549e-03, -3.55051455e-02,  3.71347881e-02,\n",
       "         1.34589818e-01, -2.65971238e-01, -1.35068830e-01,\n",
       "         1.69929704e-01, -2.62238996e-01,  2.82526604e-01,\n",
       "         7.71974947e-02,  2.68367617e-01],\n",
       "       [ 3.50239846e-01, -2.21017584e-01,  3.83518517e-03,\n",
       "        -1.65330974e-01, -2.19552463e-01, -3.89852957e-02,\n",
       "        -1.19481159e-02,  3.00196207e-02, -1.43938042e-01,\n",
       "         7.93148523e-02, -1.15551050e-02, -1.86967461e-02,\n",
       "         7.15055208e-02, -2.62897485e-02, -8.20824597e-02,\n",
       "        -1.20459283e-01, -1.29829670e-02,  2.80385455e-01,\n",
       "         7.85056808e-01, -2.69102181e-02],\n",
       "       [ 3.67024277e-01,  1.45317366e-02, -7.54680851e-03,\n",
       "         6.03001379e-03,  6.55238032e-02,  4.47726064e-02,\n",
       "        -1.06563134e-01,  2.98940511e-02,  8.34437578e-01,\n",
       "        -1.68673352e-01,  5.14222375e-02, -2.71461040e-02,\n",
       "        -1.05174259e-01, -2.39773377e-02, -1.97517530e-02,\n",
       "         2.87660518e-01, -9.75112553e-02, -1.43945090e-02,\n",
       "         8.10396687e-02, -8.52357630e-02],\n",
       "       [-4.78740853e-01, -4.02729473e-01,  1.12589386e-01,\n",
       "        -9.69905757e-03, -7.77413423e-02,  7.32123472e-02,\n",
       "         3.11837636e-01,  1.54993286e-02,  2.36741199e-01,\n",
       "        -8.20724043e-02, -7.90624323e-02, -3.99689170e-01,\n",
       "         3.26238571e-01,  4.10552546e-02,  2.53136818e-02,\n",
       "         6.31383735e-02,  2.10216492e-02, -3.07477352e-01,\n",
       "         2.20325329e-01,  4.36186558e-02],\n",
       "       [ 5.38108437e-01, -2.85211627e-01,  1.60329290e-01,\n",
       "         2.29973742e-02, -1.79033228e-01, -8.99852914e-02,\n",
       "         7.09568949e-02,  1.07280378e-01, -1.44457115e-02,\n",
       "         1.33559028e-01, -9.90478299e-02,  4.40738140e-02,\n",
       "         2.95570805e-01, -9.15751200e-02, -1.77240692e-01,\n",
       "        -2.33111355e-01, -8.95546364e-02, -3.52790596e-01,\n",
       "        -3.40089323e-01,  2.94482844e-01],\n",
       "       [-3.56660690e-01,  1.00556002e-01, -9.34191164e-02,\n",
       "        -8.67411840e-02, -3.91432250e-01, -5.91443001e-02,\n",
       "        -3.04635687e-02, -1.94926311e-02,  3.07439175e-01,\n",
       "         3.94690378e-01, -2.84699677e-01,  3.58037375e-01,\n",
       "        -1.28438818e-01, -7.88790460e-02, -1.28965946e-01,\n",
       "        -2.29113408e-02, -1.06353463e-01,  1.04785216e-01,\n",
       "         4.51041657e-02,  4.05783512e-01],\n",
       "       [-1.42777691e-01, -2.94147976e-01, -4.99266326e-03,\n",
       "        -2.30306436e-03,  4.04608814e-02,  5.21377589e-03,\n",
       "        -4.49364451e-01,  8.76681910e-02, -5.58051387e-02,\n",
       "         2.78159362e-02,  3.42489836e-01,  3.41338524e-01,\n",
       "        -2.66552766e-01,  2.94079499e-02,  1.36209431e-02,\n",
       "        -1.89689114e-02,  3.39451805e-02, -5.70751094e-01,\n",
       "         2.09024276e-01, -3.19824402e-02],\n",
       "       [ 3.58178554e-03, -3.17677536e-01, -3.09827561e-02,\n",
       "        -1.52734551e-01, -3.95517197e-01, -8.53193516e-02,\n",
       "         1.27669128e-02, -7.35203587e-02, -2.39108551e-01,\n",
       "        -2.53645025e-01, -2.24042473e-02,  1.51617930e-01,\n",
       "        -2.24719006e-02, -6.98385995e-02, -1.45577166e-01,\n",
       "         6.79460727e-01, -4.82643485e-02,  1.11284457e-01,\n",
       "        -2.05846481e-01, -1.23173838e-01],\n",
       "       [ 7.52628396e-02,  5.15670470e-01,  6.57674837e-02,\n",
       "         9.68696788e-02, -1.01884735e-01,  2.08744485e-02,\n",
       "        -3.52495892e-02, -2.45265286e-01, -1.36840122e-01,\n",
       "        -2.40056675e-01,  1.91140587e-01, -7.50425670e-02,\n",
       "         1.93307813e-01,  3.22545065e-02, -6.21841265e-02,\n",
       "         2.80284757e-01,  4.54640616e-02, -2.66370313e-01,\n",
       "         2.46903107e-01,  5.18808306e-01],\n",
       "       [-1.13647811e-01, -2.30757694e-01,  3.49717084e-02,\n",
       "        -5.33452805e-02, -2.44539371e-01,  1.01470219e-01,\n",
       "        -2.59867378e-01, -1.11495227e-01,  1.29537353e-01,\n",
       "        -3.69693230e-01,  4.11238845e-01, -1.25000389e-01,\n",
       "        -1.18359634e-02,  1.00740539e-01, -1.90888844e-03,\n",
       "        -3.60472109e-01,  9.10761617e-02,  3.95492877e-01,\n",
       "        -2.04793052e-01,  3.07620984e-01],\n",
       "       [-9.14871645e-02,  9.98672555e-02,  1.32887528e-01,\n",
       "         7.99795718e-02,  2.26615224e-02,  2.18109940e-03,\n",
       "         3.47201071e-01,  2.20946886e-01,  4.88135143e-02,\n",
       "        -5.80472242e-01, -1.01798444e-01,  5.71439143e-01,\n",
       "         9.01238626e-02, -1.84230575e-02, -1.48412504e-01,\n",
       "        -2.43070625e-01, -2.40209029e-02, -1.51462063e-02,\n",
       "         1.08161463e-01, -9.69709091e-02],\n",
       "       [-3.39808415e-02, -8.80430640e-03, -1.87292867e-01,\n",
       "         2.00618090e-03,  1.96478526e-01,  2.23320467e-01,\n",
       "         4.16933747e-02,  6.44856406e-02,  8.87201270e-03,\n",
       "         1.34180742e-01,  1.06283624e-01, -4.81722244e-02,\n",
       "         1.61260306e-02,  2.36022356e-01, -8.46946672e-01,\n",
       "         4.84439571e-02,  2.44013501e-01,  3.99612584e-02,\n",
       "        -1.89613671e-02, -2.19431818e-02],\n",
       "       [-1.63564380e-02, -9.56319536e-02, -4.08312647e-02,\n",
       "        -2.72244851e-01,  2.60035704e-01,  7.04112943e-03,\n",
       "        -1.20311404e-02, -6.87433496e-01,  9.96621126e-02,\n",
       "         1.14918187e-01,  9.21230400e-02,  3.49002816e-01,\n",
       "         4.44613550e-01, -1.66406671e-02,  3.17200418e-02,\n",
       "        -4.38560271e-02, -1.81598106e-02,  2.95421028e-02,\n",
       "        -2.12296037e-02, -1.35851574e-01],\n",
       "       [ 2.19379997e-03, -3.03259252e-02, -3.93776712e-01,\n",
       "        -5.35090142e-01,  3.11843072e-01,  3.85422829e-02,\n",
       "        -2.01726194e-01,  3.87329726e-01, -4.36318211e-02,\n",
       "        -1.78796601e-01, -2.30186013e-01,  1.76896388e-02,\n",
       "         2.21067728e-01,  5.88733276e-02,  1.65866291e-01,\n",
       "         8.54322608e-02,  6.16539740e-02,  9.32205862e-03,\n",
       "        -2.17037943e-02,  2.99278507e-01],\n",
       "       [ 3.61058553e-03,  2.61109068e-02, -6.07093162e-01,\n",
       "         5.17465184e-01, -2.72433184e-01,  2.25571527e-02,\n",
       "        -1.70448650e-01,  9.81348773e-02,  3.82349219e-02,\n",
       "         1.15551540e-02,  2.81833646e-02,  7.47116314e-02,\n",
       "         4.30733584e-01,  4.19408909e-02,  1.15542806e-01,\n",
       "        -2.47404852e-02,  4.81033701e-02, -8.38981648e-04,\n",
       "         9.17847542e-03, -1.94776447e-01],\n",
       "       [ 2.83044618e-03, -1.45540075e-02, -4.01414391e-01,\n",
       "        -1.22545474e-01,  7.02236364e-02, -2.45613930e-01,\n",
       "         5.07851526e-01,  9.45335082e-02,  1.49015142e-02,\n",
       "         1.01367607e-01,  5.71911306e-01, -6.26748593e-03,\n",
       "        -1.20696926e-01, -2.67975384e-01,  1.33386904e-02,\n",
       "        -4.32291176e-03, -2.31820422e-01, -9.94386948e-03,\n",
       "        -1.04575509e-02,  1.15665734e-01],\n",
       "       [-3.79291437e-05,  5.20856285e-04, -2.11081771e-02,\n",
       "         4.36683377e-03, -4.36257379e-03,  8.18536490e-01,\n",
       "        -2.47448420e-02,  1.39754400e-02, -1.02528507e-01,\n",
       "         8.43651556e-03,  9.34098717e-03, -3.31194860e-04,\n",
       "         9.94963811e-04, -4.13515771e-01, -5.01769170e-03,\n",
       "        -1.10263659e-04, -3.83401623e-01, -4.91738927e-04,\n",
       "        -3.20525654e-04,  4.14860178e-03],\n",
       "       [ 9.43362996e-06,  7.52222598e-04,  1.56508679e-02,\n",
       "         1.35097842e-03, -1.16691274e-03, -7.32534350e-03,\n",
       "        -1.18023311e-02,  1.79447321e-04,  6.24931978e-02,\n",
       "        -4.35438762e-03, -1.77546395e-02, -6.59101776e-04,\n",
       "        -2.86110938e-03, -6.94588749e-01,  4.26326515e-03,\n",
       "         2.13034652e-04,  7.16126080e-01, -2.39253550e-04,\n",
       "         5.25855187e-04, -1.20625872e-03]])"
      ]
     },
     "execution_count": 83,
     "metadata": {},
     "output_type": "execute_result"
    }
   ],
   "source": [
    "#PCA components\n",
    "pca.components_\n"
   ]
  },
  {
   "cell_type": "code",
   "execution_count": 84,
   "metadata": {},
   "outputs": [
    {
     "data": {
      "text/plain": [
       "array([3.96454048e-01, 1.72971236e-01, 1.45728479e-01, 6.40851051e-02,\n",
       "       5.91725141e-02, 4.15055595e-02, 3.79381867e-02, 3.01331104e-02,\n",
       "       2.08527210e-02, 1.66049855e-02, 7.59434541e-03, 3.90399272e-03,\n",
       "       2.11547920e-03, 6.83081329e-04, 1.78234628e-04, 6.14214243e-05,\n",
       "       1.47521812e-05, 2.73465776e-06, 1.20030902e-08, 7.00460888e-10])"
      ]
     },
     "execution_count": 84,
     "metadata": {},
     "output_type": "execute_result"
    }
   ],
   "source": [
    "#Variance explained by the PCA\n",
    "pca.explained_variance_ratio_\n"
   ]
  },
  {
   "cell_type": "markdown",
   "metadata": {},
   "source": [
    "# Scree Plot"
   ]
  },
  {
   "cell_type": "code",
   "execution_count": 85,
   "metadata": {},
   "outputs": [
    {
     "data": {
      "text/plain": [
       "<BarContainer object of 20 artists>"
      ]
     },
     "execution_count": 85,
     "metadata": {},
     "output_type": "execute_result"
    },
    {
     "data": {
      "image/png": "[encoded data removed]",
      "text/plain": [
       "<Figure size 1080x576 with 1 Axes>"
      ]
     },
     "metadata": {
      "needs_background": "light"
     },
     "output_type": "display_data"
    }
   ],
   "source": [
    "#Bar chart of Variance Explained by PCA\n",
    "fig = plt.figure(figsize=[15,8])\n",
    "plt.bar(range(1,len(pca.explained_variance_ratio_)+1),pca.explained_variance_ratio_)\n"
   ]
  },
  {
   "cell_type": "code",
   "execution_count": 86,
   "metadata": {},
   "outputs": [],
   "source": [
    "#Cumulative Calcuation\n",
    "var_cumu = np.cumsum(pca.explained_variance_ratio_)\n"
   ]
  },
  {
   "cell_type": "code",
   "execution_count": 87,
   "metadata": {},
   "outputs": [
    {
     "data": {
      "text/plain": [
       "[<matplotlib.lines.Line2D at 0x7fa8b1003490>]"
      ]
     },
     "execution_count": 87,
     "metadata": {},
     "output_type": "execute_result"
    },
    {
     "data": {
      "image/png": "[encoded data removed]",
      "text/plain": [
       "<Figure size 1080x576 with 1 Axes>"
      ]
     },
     "metadata": {
      "needs_background": "light"
     },
     "output_type": "display_data"
    }
   ],
   "source": [
    "#Plotting the Scree Plot\n",
    "fig = plt.figure(figsize=[15,8])\n",
    "plt.plot(range(1,len(var_cumu)+1),var_cumu)\n"
   ]
  },
  {
   "cell_type": "code",
   "execution_count": 92,
   "metadata": {},
   "outputs": [
    {
     "data": {
      "image/png": "[encoded data removed]",
      "text/plain": [
       "<Figure size 1080x576 with 1 Axes>"
      ]
     },
     "metadata": {
      "needs_background": "light"
     },
     "output_type": "display_data"
    }
   ],
   "source": [
    "\n",
    "#Scree Plot with axis\n",
    "fig = plt.figure(figsize=[15,8])\n",
    "plt.plot(var_cumu)\n",
    "plt.hlines(y=0.92, xmax=18, xmin=0, colors=\"g\", linestyles=\"--\")\n",
    "plt.vlines(x=6, ymax=1, ymin=0, colors=\"r\", linestyles=\"--\")\n",
    "plt.ylabel(\"Cummulative variance explained\")\n",
    "plt.show()\n"
   ]
  },
  {
   "cell_type": "markdown",
   "metadata": {},
   "source": [
    "# Perform PCA with 5 components"
   ]
  },
  {
   "cell_type": "code",
   "execution_count": 93,
   "metadata": {},
   "outputs": [],
   "source": [
    "# dimenstionality reduction\n",
    "pca_final = IncrementalPCA(n_components=6)"
   ]
  },
  {
   "cell_type": "code",
   "execution_count": 94,
   "metadata": {},
   "outputs": [],
   "source": [
    "#Transforming the data\n",
    "df_pca = pca_final.fit_transform(X)"
   ]
  },
  {
   "cell_type": "code",
   "execution_count": 95,
   "metadata": {},
   "outputs": [
    {
     "data": {
      "text/plain": [
       "(39, 6)"
      ]
     },
     "execution_count": 95,
     "metadata": {},
     "output_type": "execute_result"
    }
   ],
   "source": [
    "df_pca.shape"
   ]
  },
  {
   "cell_type": "code",
   "execution_count": 96,
   "metadata": {},
   "outputs": [
    {
     "data": {
      "text/plain": [
       "array([[-0.61264007, -0.65924322,  0.84997351, -0.58888145, -0.08171211,\n",
       "        -1.59394192],\n",
       "       [-1.29830439, -0.77146656, -0.08834472,  0.47495756,  0.08656889,\n",
       "        -0.59905242],\n",
       "       [-1.79453673,  0.29345788, -0.43309427, -0.61151516, -0.67790946,\n",
       "        -0.48631493],\n",
       "       [-0.96955195,  0.17709505,  0.09515148,  0.75277656,  0.1688535 ,\n",
       "         1.2270376 ],\n",
       "       [-1.55332527, -0.01653315, -0.6100638 ,  0.1320648 ,  0.11098063,\n",
       "         0.53235356],\n",
       "       [-1.43512983,  0.025051  , -0.42207489,  0.34465009,  0.07452599,\n",
       "         0.75929795],\n",
       "       [-1.25628269,  0.06700467, -0.50855051,  0.07358057,  0.2265593 ,\n",
       "         0.64055732],\n",
       "       [ 5.08331902,  8.75889595,  2.60563687,  0.5416989 , -0.7472609 ,\n",
       "        -1.8587681 ],\n",
       "       [ 9.04520643, -4.22430192, -0.48280113,  0.14911566, -1.18776491,\n",
       "        -0.23935606],\n",
       "       [ 9.49901609,  2.64809283, -2.20165003,  0.28657153, -0.25093445,\n",
       "         2.23529785]])"
      ]
     },
     "execution_count": 96,
     "metadata": {},
     "output_type": "execute_result"
    }
   ],
   "source": [
    "#Print the resulatant PCs here\n",
    "df_pca[:10]"
   ]
  },
  {
   "cell_type": "code",
   "execution_count": 97,
   "metadata": {},
   "outputs": [],
   "source": [
    "#Creating a transpose so that the each column is properly arranged\n",
    "pc = np.transpose(df_pca)"
   ]
  },
  {
   "cell_type": "code",
   "execution_count": 99,
   "metadata": {},
   "outputs": [],
   "source": [
    "# Create a dataframe with the PCs obtained\n",
    "pca_df2 = pd.DataFrame({\"PC1\":pc[0],'PC2':pc[1], 'PC3':pc[2], 'PC4':pc[3], 'PC5':pc[4], 'PC6':pc[5]})"
   ]
  },
  {
   "cell_type": "code",
   "execution_count": 100,
   "metadata": {},
   "outputs": [
    {
     "data": {
      "text/html": [
       "<div>\n",
       "<style scoped>\n",
       "    .dataframe tbody tr th:only-of-type {\n",
       "        vertical-align: middle;\n",
       "    }\n",
       "\n",
       "    .dataframe tbody tr th {\n",
       "        vertical-align: top;\n",
       "    }\n",
       "\n",
       "    .dataframe thead th {\n",
       "        text-align: right;\n",
       "    }\n",
       "</style>\n",
       "<table border=\"1\" class=\"dataframe\">\n",
       "  <thead>\n",
       "    <tr style=\"text-align: right;\">\n",
       "      <th></th>\n",
       "      <th>PC1</th>\n",
       "      <th>PC2</th>\n",
       "      <th>PC3</th>\n",
       "      <th>PC4</th>\n",
       "      <th>PC5</th>\n",
       "      <th>PC6</th>\n",
       "    </tr>\n",
       "  </thead>\n",
       "  <tbody>\n",
       "    <tr>\n",
       "      <th>0</th>\n",
       "      <td>-0.612640</td>\n",
       "      <td>-0.659243</td>\n",
       "      <td>0.849974</td>\n",
       "      <td>-0.588881</td>\n",
       "      <td>-0.081712</td>\n",
       "      <td>-1.593942</td>\n",
       "    </tr>\n",
       "    <tr>\n",
       "      <th>1</th>\n",
       "      <td>-1.298304</td>\n",
       "      <td>-0.771467</td>\n",
       "      <td>-0.088345</td>\n",
       "      <td>0.474958</td>\n",
       "      <td>0.086569</td>\n",
       "      <td>-0.599052</td>\n",
       "    </tr>\n",
       "    <tr>\n",
       "      <th>2</th>\n",
       "      <td>-1.794537</td>\n",
       "      <td>0.293458</td>\n",
       "      <td>-0.433094</td>\n",
       "      <td>-0.611515</td>\n",
       "      <td>-0.677909</td>\n",
       "      <td>-0.486315</td>\n",
       "    </tr>\n",
       "    <tr>\n",
       "      <th>3</th>\n",
       "      <td>-0.969552</td>\n",
       "      <td>0.177095</td>\n",
       "      <td>0.095151</td>\n",
       "      <td>0.752777</td>\n",
       "      <td>0.168853</td>\n",
       "      <td>1.227038</td>\n",
       "    </tr>\n",
       "    <tr>\n",
       "      <th>4</th>\n",
       "      <td>-1.553325</td>\n",
       "      <td>-0.016533</td>\n",
       "      <td>-0.610064</td>\n",
       "      <td>0.132065</td>\n",
       "      <td>0.110981</td>\n",
       "      <td>0.532354</td>\n",
       "    </tr>\n",
       "  </tbody>\n",
       "</table>\n",
       "</div>"
      ],
      "text/plain": [
       "        PC1       PC2       PC3       PC4       PC5       PC6\n",
       "0 -0.612640 -0.659243  0.849974 -0.588881 -0.081712 -1.593942\n",
       "1 -1.298304 -0.771467 -0.088345  0.474958  0.086569 -0.599052\n",
       "2 -1.794537  0.293458 -0.433094 -0.611515 -0.677909 -0.486315\n",
       "3 -0.969552  0.177095  0.095151  0.752777  0.168853  1.227038\n",
       "4 -1.553325 -0.016533 -0.610064  0.132065  0.110981  0.532354"
      ]
     },
     "execution_count": 100,
     "metadata": {},
     "output_type": "execute_result"
    }
   ],
   "source": [
    "# Check the head of the resultant data\n",
    "pca_df2.head()"
   ]
  },
  {
   "cell_type": "code",
   "execution_count": 101,
   "metadata": {},
   "outputs": [
    {
     "data": {
      "text/html": [
       "<div>\n",
       "<style scoped>\n",
       "    .dataframe tbody tr th:only-of-type {\n",
       "        vertical-align: middle;\n",
       "    }\n",
       "\n",
       "    .dataframe tbody tr th {\n",
       "        vertical-align: top;\n",
       "    }\n",
       "\n",
       "    .dataframe thead th {\n",
       "        text-align: right;\n",
       "    }\n",
       "</style>\n",
       "<table border=\"1\" class=\"dataframe\">\n",
       "  <thead>\n",
       "    <tr style=\"text-align: right;\">\n",
       "      <th></th>\n",
       "      <th>token_name</th>\n",
       "    </tr>\n",
       "  </thead>\n",
       "  <tbody>\n",
       "    <tr>\n",
       "      <th>0</th>\n",
       "      <td>Gastoken.io</td>\n",
       "    </tr>\n",
       "    <tr>\n",
       "      <th>1</th>\n",
       "      <td>Gastoken.io</td>\n",
       "    </tr>\n",
       "    <tr>\n",
       "      <th>2</th>\n",
       "      <td>Test 2</td>\n",
       "    </tr>\n",
       "    <tr>\n",
       "      <th>3</th>\n",
       "      <td>Pontos</td>\n",
       "    </tr>\n",
       "    <tr>\n",
       "      <th>4</th>\n",
       "      <td>DanCoin</td>\n",
       "    </tr>\n",
       "  </tbody>\n",
       "</table>\n",
       "</div>"
      ],
      "text/plain": [
       "    token_name\n",
       "0  Gastoken.io\n",
       "1  Gastoken.io\n",
       "2       Test 2\n",
       "3       Pontos\n",
       "4      DanCoin"
      ]
     },
     "execution_count": 101,
     "metadata": {},
     "output_type": "execute_result"
    }
   ],
   "source": [
    "y.head()"
   ]
  },
  {
   "cell_type": "code",
   "execution_count": 102,
   "metadata": {},
   "outputs": [
    {
     "data": {
      "text/html": [
       "<div>\n",
       "<style scoped>\n",
       "    .dataframe tbody tr th:only-of-type {\n",
       "        vertical-align: middle;\n",
       "    }\n",
       "\n",
       "    .dataframe tbody tr th {\n",
       "        vertical-align: top;\n",
       "    }\n",
       "\n",
       "    .dataframe thead th {\n",
       "        text-align: right;\n",
       "    }\n",
       "</style>\n",
       "<table border=\"1\" class=\"dataframe\">\n",
       "  <thead>\n",
       "    <tr style=\"text-align: right;\">\n",
       "      <th></th>\n",
       "      <th>PC1</th>\n",
       "      <th>PC2</th>\n",
       "      <th>PC3</th>\n",
       "      <th>PC4</th>\n",
       "      <th>PC5</th>\n",
       "      <th>PC6</th>\n",
       "      <th>token_name</th>\n",
       "    </tr>\n",
       "  </thead>\n",
       "  <tbody>\n",
       "    <tr>\n",
       "      <th>0</th>\n",
       "      <td>-0.612640</td>\n",
       "      <td>-0.659243</td>\n",
       "      <td>0.849974</td>\n",
       "      <td>-0.588881</td>\n",
       "      <td>-0.081712</td>\n",
       "      <td>-1.593942</td>\n",
       "      <td>Gastoken.io</td>\n",
       "    </tr>\n",
       "    <tr>\n",
       "      <th>1</th>\n",
       "      <td>-1.298304</td>\n",
       "      <td>-0.771467</td>\n",
       "      <td>-0.088345</td>\n",
       "      <td>0.474958</td>\n",
       "      <td>0.086569</td>\n",
       "      <td>-0.599052</td>\n",
       "      <td>Gastoken.io</td>\n",
       "    </tr>\n",
       "    <tr>\n",
       "      <th>2</th>\n",
       "      <td>-1.794537</td>\n",
       "      <td>0.293458</td>\n",
       "      <td>-0.433094</td>\n",
       "      <td>-0.611515</td>\n",
       "      <td>-0.677909</td>\n",
       "      <td>-0.486315</td>\n",
       "      <td>Test 2</td>\n",
       "    </tr>\n",
       "    <tr>\n",
       "      <th>3</th>\n",
       "      <td>-0.969552</td>\n",
       "      <td>0.177095</td>\n",
       "      <td>0.095151</td>\n",
       "      <td>0.752777</td>\n",
       "      <td>0.168853</td>\n",
       "      <td>1.227038</td>\n",
       "      <td>Pontos</td>\n",
       "    </tr>\n",
       "    <tr>\n",
       "      <th>4</th>\n",
       "      <td>-1.553325</td>\n",
       "      <td>-0.016533</td>\n",
       "      <td>-0.610064</td>\n",
       "      <td>0.132065</td>\n",
       "      <td>0.110981</td>\n",
       "      <td>0.532354</td>\n",
       "      <td>DanCoin</td>\n",
       "    </tr>\n",
       "  </tbody>\n",
       "</table>\n",
       "</div>"
      ],
      "text/plain": [
       "        PC1       PC2       PC3       PC4       PC5       PC6   token_name\n",
       "0 -0.612640 -0.659243  0.849974 -0.588881 -0.081712 -1.593942  Gastoken.io\n",
       "1 -1.298304 -0.771467 -0.088345  0.474958  0.086569 -0.599052  Gastoken.io\n",
       "2 -1.794537  0.293458 -0.433094 -0.611515 -0.677909 -0.486315       Test 2\n",
       "3 -0.969552  0.177095  0.095151  0.752777  0.168853  1.227038       Pontos\n",
       "4 -1.553325 -0.016533 -0.610064  0.132065  0.110981  0.532354      DanCoin"
      ]
     },
     "execution_count": 102,
     "metadata": {},
     "output_type": "execute_result"
    }
   ],
   "source": [
    "#Let's add back the address to the given principal components\n",
    "pca_df2 = pd.concat([pca_df2, y], axis=1)\n",
    "pca_df2.head()"
   ]
  },
  {
   "cell_type": "code",
   "execution_count": 103,
   "metadata": {},
   "outputs": [
    {
     "data": {
      "text/plain": [
       "PC1           False\n",
       "PC2           False\n",
       "PC3           False\n",
       "PC4           False\n",
       "PC5           False\n",
       "PC6           False\n",
       "token_name    False\n",
       "dtype: bool"
      ]
     },
     "execution_count": 103,
     "metadata": {},
     "output_type": "execute_result"
    }
   ],
   "source": [
    "#check for nulls\n",
    "pca_df2.isnull().any()"
   ]
  },
  {
   "cell_type": "markdown",
   "metadata": {},
   "source": [
    "# Outlier Treatment"
   ]
  },
  {
   "cell_type": "code",
   "execution_count": 104,
   "metadata": {},
   "outputs": [
    {
     "data": {
      "text/html": [
       "<div>\n",
       "<style scoped>\n",
       "    .dataframe tbody tr th:only-of-type {\n",
       "        vertical-align: middle;\n",
       "    }\n",
       "\n",
       "    .dataframe tbody tr th {\n",
       "        vertical-align: top;\n",
       "    }\n",
       "\n",
       "    .dataframe thead th {\n",
       "        text-align: right;\n",
       "    }\n",
       "</style>\n",
       "<table border=\"1\" class=\"dataframe\">\n",
       "  <thead>\n",
       "    <tr style=\"text-align: right;\">\n",
       "      <th></th>\n",
       "      <th>PC1</th>\n",
       "      <th>PC2</th>\n",
       "      <th>PC3</th>\n",
       "      <th>PC4</th>\n",
       "      <th>PC5</th>\n",
       "      <th>PC6</th>\n",
       "    </tr>\n",
       "  </thead>\n",
       "  <tbody>\n",
       "    <tr>\n",
       "      <th>count</th>\n",
       "      <td>3.900000e+01</td>\n",
       "      <td>3.900000e+01</td>\n",
       "      <td>3.900000e+01</td>\n",
       "      <td>3.900000e+01</td>\n",
       "      <td>3.900000e+01</td>\n",
       "      <td>3.900000e+01</td>\n",
       "    </tr>\n",
       "    <tr>\n",
       "      <th>mean</th>\n",
       "      <td>-1.594166e-16</td>\n",
       "      <td>4.981770e-17</td>\n",
       "      <td>-2.846726e-17</td>\n",
       "      <td>1.352195e-17</td>\n",
       "      <td>-7.045646e-17</td>\n",
       "      <td>3.131398e-17</td>\n",
       "    </tr>\n",
       "    <tr>\n",
       "      <th>std</th>\n",
       "      <td>2.852673e+00</td>\n",
       "      <td>1.884267e+00</td>\n",
       "      <td>1.729528e+00</td>\n",
       "      <td>1.146922e+00</td>\n",
       "      <td>1.102086e+00</td>\n",
       "      <td>9.230147e-01</td>\n",
       "    </tr>\n",
       "    <tr>\n",
       "      <th>min</th>\n",
       "      <td>-1.857587e+00</td>\n",
       "      <td>-4.224302e+00</td>\n",
       "      <td>-3.544579e+00</td>\n",
       "      <td>-1.712831e+00</td>\n",
       "      <td>-1.187765e+00</td>\n",
       "      <td>-2.400916e+00</td>\n",
       "    </tr>\n",
       "    <tr>\n",
       "      <th>5%</th>\n",
       "      <td>-1.794716e+00</td>\n",
       "      <td>-2.464115e+00</td>\n",
       "      <td>-2.301898e+00</td>\n",
       "      <td>-7.591352e-01</td>\n",
       "      <td>-6.960836e-01</td>\n",
       "      <td>-1.620425e+00</td>\n",
       "    </tr>\n",
       "    <tr>\n",
       "      <th>10%</th>\n",
       "      <td>-1.760471e+00</td>\n",
       "      <td>-1.944576e+00</td>\n",
       "      <td>-7.380480e-01</td>\n",
       "      <td>-6.427698e-01</td>\n",
       "      <td>-6.846798e-01</td>\n",
       "      <td>-1.138942e+00</td>\n",
       "    </tr>\n",
       "    <tr>\n",
       "      <th>25%</th>\n",
       "      <td>-1.609431e+00</td>\n",
       "      <td>-1.623814e-01</td>\n",
       "      <td>-5.503300e-01</td>\n",
       "      <td>-6.010237e-01</td>\n",
       "      <td>-6.496700e-01</td>\n",
       "      <td>-4.861049e-01</td>\n",
       "    </tr>\n",
       "    <tr>\n",
       "      <th>50%</th>\n",
       "      <td>-1.298304e+00</td>\n",
       "      <td>6.700467e-02</td>\n",
       "      <td>-4.079224e-01</td>\n",
       "      <td>6.142496e-02</td>\n",
       "      <td>-1.322384e-02</td>\n",
       "      <td>-2.188961e-01</td>\n",
       "    </tr>\n",
       "    <tr>\n",
       "      <th>75%</th>\n",
       "      <td>3.838068e-01</td>\n",
       "      <td>3.375881e-01</td>\n",
       "      <td>7.544376e-02</td>\n",
       "      <td>2.428869e-01</td>\n",
       "      <td>1.062052e-01</td>\n",
       "      <td>6.097337e-01</td>\n",
       "    </tr>\n",
       "    <tr>\n",
       "      <th>90%</th>\n",
       "      <td>4.229035e+00</td>\n",
       "      <td>6.018924e-01</td>\n",
       "      <td>1.027447e+00</td>\n",
       "      <td>4.883058e-01</td>\n",
       "      <td>5.439181e-01</td>\n",
       "      <td>9.423420e-01</td>\n",
       "    </tr>\n",
       "    <tr>\n",
       "      <th>95%</th>\n",
       "      <td>5.479508e+00</td>\n",
       "      <td>1.076494e+00</td>\n",
       "      <td>2.887146e+00</td>\n",
       "      <td>7.201289e-01</td>\n",
       "      <td>7.266190e-01</td>\n",
       "      <td>1.270627e+00</td>\n",
       "    </tr>\n",
       "    <tr>\n",
       "      <th>99%</th>\n",
       "      <td>9.326568e+00</td>\n",
       "      <td>6.436791e+00</td>\n",
       "      <td>5.907470e+00</td>\n",
       "      <td>4.131536e+00</td>\n",
       "      <td>4.067469e+00</td>\n",
       "      <td>2.017800e+00</td>\n",
       "    </tr>\n",
       "    <tr>\n",
       "      <th>max</th>\n",
       "      <td>9.499016e+00</td>\n",
       "      <td>8.758896e+00</td>\n",
       "      <td>6.205798e+00</td>\n",
       "      <td>6.202389e+00</td>\n",
       "      <td>6.100104e+00</td>\n",
       "      <td>2.235298e+00</td>\n",
       "    </tr>\n",
       "  </tbody>\n",
       "</table>\n",
       "</div>"
      ],
      "text/plain": [
       "                PC1           PC2           PC3           PC4           PC5  \\\n",
       "count  3.900000e+01  3.900000e+01  3.900000e+01  3.900000e+01  3.900000e+01   \n",
       "mean  -1.594166e-16  4.981770e-17 -2.846726e-17  1.352195e-17 -7.045646e-17   \n",
       "std    2.852673e+00  1.884267e+00  1.729528e+00  1.146922e+00  1.102086e+00   \n",
       "min   -1.857587e+00 -4.224302e+00 -3.544579e+00 -1.712831e+00 -1.187765e+00   \n",
       "5%    -1.794716e+00 -2.464115e+00 -2.301898e+00 -7.591352e-01 -6.960836e-01   \n",
       "10%   -1.760471e+00 -1.944576e+00 -7.380480e-01 -6.427698e-01 -6.846798e-01   \n",
       "25%   -1.609431e+00 -1.623814e-01 -5.503300e-01 -6.010237e-01 -6.496700e-01   \n",
       "50%   -1.298304e+00  6.700467e-02 -4.079224e-01  6.142496e-02 -1.322384e-02   \n",
       "75%    3.838068e-01  3.375881e-01  7.544376e-02  2.428869e-01  1.062052e-01   \n",
       "90%    4.229035e+00  6.018924e-01  1.027447e+00  4.883058e-01  5.439181e-01   \n",
       "95%    5.479508e+00  1.076494e+00  2.887146e+00  7.201289e-01  7.266190e-01   \n",
       "99%    9.326568e+00  6.436791e+00  5.907470e+00  4.131536e+00  4.067469e+00   \n",
       "max    9.499016e+00  8.758896e+00  6.205798e+00  6.202389e+00  6.100104e+00   \n",
       "\n",
       "                PC6  \n",
       "count  3.900000e+01  \n",
       "mean   3.131398e-17  \n",
       "std    9.230147e-01  \n",
       "min   -2.400916e+00  \n",
       "5%    -1.620425e+00  \n",
       "10%   -1.138942e+00  \n",
       "25%   -4.861049e-01  \n",
       "50%   -2.188961e-01  \n",
       "75%    6.097337e-01  \n",
       "90%    9.423420e-01  \n",
       "95%    1.270627e+00  \n",
       "99%    2.017800e+00  \n",
       "max    2.235298e+00  "
      ]
     },
     "execution_count": 104,
     "metadata": {},
     "output_type": "execute_result"
    }
   ],
   "source": [
    "pca_df2.describe(percentiles=[.05,.10,.25, .5, .75, .90, .95, .99])"
   ]
  },
  {
   "cell_type": "markdown",
   "metadata": {},
   "source": [
    "# PC1 - outlier treatment"
   ]
  },
  {
   "cell_type": "code",
   "execution_count": 105,
   "metadata": {},
   "outputs": [
    {
     "name": "stdout",
     "output_type": "stream",
     "text": [
      "PC1 - Total Number of Records 39, After record dropping 4, Percentage dropped 10.26%\n"
     ]
    },
    {
     "data": {
      "text/plain": [
       "<AxesSubplot:ylabel='PC1'>"
      ]
     },
     "execution_count": 105,
     "metadata": {},
     "output_type": "execute_result"
    },
    {
     "data": {
      "image/png": "[encoded data removed]",
      "text/plain": [
       "<Figure size 1080x576 with 1 Axes>"
      ]
     },
     "metadata": {
      "needs_background": "light"
     },
     "output_type": "display_data"
    },
    {
     "data": {
      "image/png": "[encoded data removed]",
      "text/plain": [
       "<Figure size 1080x576 with 1 Axes>"
      ]
     },
     "metadata": {
      "needs_background": "light"
     },
     "output_type": "display_data"
    }
   ],
   "source": [
    "#BoxPlot before dropping\n",
    "\n",
    "plt.subplots(figsize=(15,8), sharex=True)\n",
    "sns.boxplot(y=pca_df2['PC1'],  palette=\"husl\")\n",
    "\n",
    "\n",
    "# Dropped records Percentage Calcualtion\n",
    "print(\"PC1 - Total Number of Records {0}, After record dropping {1}, Percentage dropped {2}%\".format(pca_df2.PC1.count(), \n",
    "                                                                                                     pca_df2.PC1.count() - pca_df2[(pca_df2.PC1 <= pca_df2.PC1.quantile(0.90)) ].PC1.count(), \n",
    "                                                                                                     round(100 * (1 - pca_df2[(pca_df2.PC1 <= pca_df2.PC1.quantile(0.90))].PC1.count() / pca_df2.PC1.count()),2)))\n",
    "\n",
    "\n",
    "#BoxPlot after dropping\n",
    "plt.subplots(figsize=(15,8), sharex=True)\n",
    "sns.boxplot(y=pca_df2[(pca_df2.PC1 <= pca_df2.PC1.quantile(0.90))].PC1,  palette=\"husl\")\n",
    "\n"
   ]
  },
  {
   "cell_type": "markdown",
   "metadata": {},
   "source": [
    "# PC2 - Outlier treatment"
   ]
  },
  {
   "cell_type": "code",
   "execution_count": 106,
   "metadata": {},
   "outputs": [
    {
     "data": {
      "text/plain": [
       "<AxesSubplot:ylabel='PC2'>"
      ]
     },
     "execution_count": 106,
     "metadata": {},
     "output_type": "execute_result"
    },
    {
     "data": {
      "image/png": "[encoded data removed]",
      "text/plain": [
       "<Figure size 1080x576 with 1 Axes>"
      ]
     },
     "metadata": {
      "needs_background": "light"
     },
     "output_type": "display_data"
    }
   ],
   "source": [
    "#BoxPlot before dropping\n",
    "\n",
    "plt.subplots(figsize=(15,8), sharex=True)\n",
    "sns.boxplot(y=pca_df2['PC2'],  palette=\"husl\")\n"
   ]
  },
  {
   "cell_type": "markdown",
   "metadata": {},
   "source": [
    "# PC3 - Outlier treatment"
   ]
  },
  {
   "cell_type": "code",
   "execution_count": 107,
   "metadata": {},
   "outputs": [
    {
     "name": "stdout",
     "output_type": "stream",
     "text": [
      "PC3 - Total Number of Records 39, After record dropping 4, Percentage dropped 10.26%\n"
     ]
    },
    {
     "data": {
      "text/plain": [
       "<AxesSubplot:ylabel='PC3'>"
      ]
     },
     "execution_count": 107,
     "metadata": {},
     "output_type": "execute_result"
    },
    {
     "data": {
      "image/png": "[encoded data removed]",
      "text/plain": [
       "<Figure size 1080x576 with 1 Axes>"
      ]
     },
     "metadata": {
      "needs_background": "light"
     },
     "output_type": "display_data"
    },
    {
     "data": {
      "image/png": "[encoded data removed]",
      "text/plain": [
       "<Figure size 1080x576 with 1 Axes>"
      ]
     },
     "metadata": {
      "needs_background": "light"
     },
     "output_type": "display_data"
    }
   ],
   "source": [
    "#BoxPlot before dropping\n",
    "\n",
    "plt.subplots(figsize=(15,8), sharex=True)\n",
    "sns.boxplot(y=pca_df2['PC3'],  palette=\"husl\")\n",
    "\n",
    "# Dropped records Percentage Calcualtion\n",
    "print(\"PC3 - Total Number of Records {0}, After record dropping {1}, Percentage dropped {2}%\".format(pca_df2.PC3.count(), pca_df2.PC3.count() - pca_df2[(pca_df2.PC3 >= pca_df2.PC3.quantile(0.05)) & (pca_df2.PC3 <= pca_df2.PC3.quantile(0.95))].PC3.count(), round(100 * (1 - pca_df2[(pca_df2.PC3 >= pca_df2.PC3.quantile(0.05)) & (pca_df2.PC3 <= pca_df2.PC3.quantile(0.95))].PC3.count() / pca_df2.PC3.count()),2)))\n",
    "\n",
    "\n",
    "#BoxPlot after dropping\n",
    "plt.subplots(figsize=(15,8), sharex=True)\n",
    "sns.boxplot(y=pca_df2[(pca_df2.PC3 >= pca_df2.PC3.quantile(0.05)) & (pca_df2.PC3 <= pca_df2.PC3.quantile(0.95))].PC3,  palette=\"husl\")\n"
   ]
  },
  {
   "cell_type": "markdown",
   "metadata": {},
   "source": [
    "# The given data good for performing Clustering is \"Good\""
   ]
  },
  {
   "cell_type": "code",
   "execution_count": 108,
   "metadata": {},
   "outputs": [],
   "source": [
    "#Calculating the Hopkins statistic\n",
    "from sklearn.neighbors import NearestNeighbors\n",
    "from random import sample\n",
    "from numpy.random import uniform\n",
    "import numpy as np\n",
    "from math import isnan\n",
    " \n",
    "def hopkins(X):\n",
    "    d = X.shape[1]\n",
    "    #d = len(vars) # columns\n",
    "    n = len(X) # rows\n",
    "    m = int(0.1 * n) \n",
    "    nbrs = NearestNeighbors(n_neighbors=1).fit(X.values)\n",
    " \n",
    "    rand_X = sample(range(0, n, 1), m)\n",
    " \n",
    "    ujd = []\n",
    "    wjd = []\n",
    "    for j in range(0, m):\n",
    "        u_dist, _ = nbrs.kneighbors(uniform(np.amin(X,axis=0),np.amax(X,axis=0),d).reshape(1, -1), 2, return_distance=True)\n",
    "        ujd.append(u_dist[0][1])\n",
    "        w_dist, _ = nbrs.kneighbors(X.iloc[rand_X[j]].values.reshape(1, -1), 2, return_distance=True)\n",
    "        wjd.append(w_dist[0][1])\n",
    " \n",
    "    H = sum(ujd) / (sum(ujd) + sum(wjd))\n",
    "    if isnan(H):\n",
    "        print(ujd, wjd)\n",
    "        H = 0\n",
    " \n",
    "    return H"
   ]
  },
  {
   "cell_type": "code",
   "execution_count": 109,
   "metadata": {},
   "outputs": [
    {
     "data": {
      "text/plain": [
       "0.971214673264458"
      ]
     },
     "execution_count": 109,
     "metadata": {},
     "output_type": "execute_result"
    }
   ],
   "source": [
    "hopkins(pca_df2.drop('token_name',axis=1))"
   ]
  },
  {
   "cell_type": "code",
   "execution_count": 110,
   "metadata": {},
   "outputs": [],
   "source": [
    "# Now for perfroming clustering, we need to again drop the address column, Let's drop it\n",
    "dat3_1 = pca_df2.drop('token_name',axis=1)"
   ]
  },
  {
   "cell_type": "code",
   "execution_count": 111,
   "metadata": {},
   "outputs": [
    {
     "data": {
      "text/html": [
       "<div>\n",
       "<style scoped>\n",
       "    .dataframe tbody tr th:only-of-type {\n",
       "        vertical-align: middle;\n",
       "    }\n",
       "\n",
       "    .dataframe tbody tr th {\n",
       "        vertical-align: top;\n",
       "    }\n",
       "\n",
       "    .dataframe thead th {\n",
       "        text-align: right;\n",
       "    }\n",
       "</style>\n",
       "<table border=\"1\" class=\"dataframe\">\n",
       "  <thead>\n",
       "    <tr style=\"text-align: right;\">\n",
       "      <th></th>\n",
       "      <th>PC1</th>\n",
       "      <th>PC2</th>\n",
       "      <th>PC3</th>\n",
       "      <th>PC4</th>\n",
       "      <th>PC5</th>\n",
       "      <th>PC6</th>\n",
       "    </tr>\n",
       "  </thead>\n",
       "  <tbody>\n",
       "    <tr>\n",
       "      <th>0</th>\n",
       "      <td>-0.612640</td>\n",
       "      <td>-0.659243</td>\n",
       "      <td>0.849974</td>\n",
       "      <td>-0.588881</td>\n",
       "      <td>-0.081712</td>\n",
       "      <td>-1.593942</td>\n",
       "    </tr>\n",
       "    <tr>\n",
       "      <th>1</th>\n",
       "      <td>-1.298304</td>\n",
       "      <td>-0.771467</td>\n",
       "      <td>-0.088345</td>\n",
       "      <td>0.474958</td>\n",
       "      <td>0.086569</td>\n",
       "      <td>-0.599052</td>\n",
       "    </tr>\n",
       "    <tr>\n",
       "      <th>2</th>\n",
       "      <td>-1.794537</td>\n",
       "      <td>0.293458</td>\n",
       "      <td>-0.433094</td>\n",
       "      <td>-0.611515</td>\n",
       "      <td>-0.677909</td>\n",
       "      <td>-0.486315</td>\n",
       "    </tr>\n",
       "    <tr>\n",
       "      <th>3</th>\n",
       "      <td>-0.969552</td>\n",
       "      <td>0.177095</td>\n",
       "      <td>0.095151</td>\n",
       "      <td>0.752777</td>\n",
       "      <td>0.168853</td>\n",
       "      <td>1.227038</td>\n",
       "    </tr>\n",
       "    <tr>\n",
       "      <th>4</th>\n",
       "      <td>-1.553325</td>\n",
       "      <td>-0.016533</td>\n",
       "      <td>-0.610064</td>\n",
       "      <td>0.132065</td>\n",
       "      <td>0.110981</td>\n",
       "      <td>0.532354</td>\n",
       "    </tr>\n",
       "  </tbody>\n",
       "</table>\n",
       "</div>"
      ],
      "text/plain": [
       "        PC1       PC2       PC3       PC4       PC5       PC6\n",
       "0 -0.612640 -0.659243  0.849974 -0.588881 -0.081712 -1.593942\n",
       "1 -1.298304 -0.771467 -0.088345  0.474958  0.086569 -0.599052\n",
       "2 -1.794537  0.293458 -0.433094 -0.611515 -0.677909 -0.486315\n",
       "3 -0.969552  0.177095  0.095151  0.752777  0.168853  1.227038\n",
       "4 -1.553325 -0.016533 -0.610064  0.132065  0.110981  0.532354"
      ]
     },
     "execution_count": 111,
     "metadata": {},
     "output_type": "execute_result"
    }
   ],
   "source": [
    "# Check the shape of the resultant data\n",
    "dat3_1.head()"
   ]
  },
  {
   "cell_type": "markdown",
   "metadata": {},
   "source": [
    "# Silhouette Analysis"
   ]
  },
  {
   "cell_type": "code",
   "execution_count": 112,
   "metadata": {},
   "outputs": [
    {
     "name": "stdout",
     "output_type": "stream",
     "text": [
      "for n_cluster=2, the Silhouette score is 0.6289299393428389\n",
      "for n_cluster=3, the Silhouette score is 0.6322147551047878\n",
      "for n_cluster=4, the Silhouette score is 0.6359613381214638\n",
      "for n_cluster=5, the Silhouette score is 0.629071360456077\n",
      "for n_cluster=6, the Silhouette score is 0.6256445138646882\n",
      "for n_cluster=7, the Silhouette score is 0.6315664849198775\n",
      "for n_cluster=8, the Silhouette score is 0.6331100144639584\n",
      "for n_cluster=9, the Silhouette score is 0.40887755900447276\n"
     ]
    }
   ],
   "source": [
    "#Silhouette score Analysis\n",
    "\n",
    "range_n_clusters = [2,3,4,5,6,7,8,9]\n",
    "for num_clusters in range_n_clusters:\n",
    "    kmeans = KMeans(n_clusters=num_clusters, max_iter=50)\n",
    "    kmeans.fit(dat3_1)\n",
    "    cluster_labels = kmeans.labels_\n",
    "    \n",
    "    #silhouette score\n",
    "    silhouette_avg = silhouette_score(dat3_1,cluster_labels)\n",
    "    print(\"for n_cluster={0}, the Silhouette score is {1}\".format(num_clusters,silhouette_avg))"
   ]
  },
  {
   "cell_type": "markdown",
   "metadata": {},
   "source": [
    "### for n_cluster=2, the Silhouette score is 0.8225412351447678"
   ]
  },
  {
   "cell_type": "markdown",
   "metadata": {},
   "source": [
    "# SSD / Elbow curve"
   ]
  },
  {
   "cell_type": "code",
   "execution_count": 113,
   "metadata": {},
   "outputs": [
    {
     "data": {
      "image/png": "[encoded data removed]",
      "text/plain": [
       "<Figure size 864x576 with 1 Axes>"
      ]
     },
     "metadata": {
      "needs_background": "light"
     },
     "output_type": "display_data"
    }
   ],
   "source": [
    "#elbow curve/SSD\n",
    "\n",
    "ssd = []\n",
    "range_n_clusters = [2,3,4,5,6,7,8,9]\n",
    "for num_clusters in range_n_clusters:\n",
    "    kmeans = KMeans(n_clusters=num_clusters, max_iter=50)\n",
    "    kmeans.fit(dat3_1)\n",
    "    ssd.append(kmeans.inertia_)\n",
    "\n",
    "# plot the SSDs for each n_clusters\n",
    "# ssd\n",
    "plt.subplots(figsize=(12,8), sharex=True)\n",
    "plt.plot(ssd)\n",
    "plt.show()"
   ]
  },
  {
   "cell_type": "markdown",
   "metadata": {},
   "source": [
    "# KMeans with the K"
   ]
  },
  {
   "cell_type": "code",
   "execution_count": 114,
   "metadata": {},
   "outputs": [
    {
     "data": {
      "text/plain": [
       "KMeans(max_iter=50, n_clusters=4, random_state=50)"
      ]
     },
     "execution_count": 114,
     "metadata": {},
     "output_type": "execute_result"
    }
   ],
   "source": [
    "\n",
    "#Kmeans using K\n",
    "model_clus2 = KMeans(n_clusters=4, max_iter=50, random_state=50)\n",
    "model_clus2.fit(dat3_1)\n"
   ]
  },
  {
   "cell_type": "code",
   "execution_count": 115,
   "metadata": {},
   "outputs": [
    {
     "data": {
      "text/html": [
       "<div>\n",
       "<style scoped>\n",
       "    .dataframe tbody tr th:only-of-type {\n",
       "        vertical-align: middle;\n",
       "    }\n",
       "\n",
       "    .dataframe tbody tr th {\n",
       "        vertical-align: top;\n",
       "    }\n",
       "\n",
       "    .dataframe thead th {\n",
       "        text-align: right;\n",
       "    }\n",
       "</style>\n",
       "<table border=\"1\" class=\"dataframe\">\n",
       "  <thead>\n",
       "    <tr style=\"text-align: right;\">\n",
       "      <th></th>\n",
       "      <th>PC1</th>\n",
       "      <th>PC2</th>\n",
       "      <th>PC3</th>\n",
       "      <th>PC4</th>\n",
       "      <th>PC5</th>\n",
       "      <th>PC6</th>\n",
       "      <th>token_name</th>\n",
       "      <th>KClusterID</th>\n",
       "    </tr>\n",
       "  </thead>\n",
       "  <tbody>\n",
       "    <tr>\n",
       "      <th>0</th>\n",
       "      <td>-0.612640</td>\n",
       "      <td>-0.659243</td>\n",
       "      <td>0.849974</td>\n",
       "      <td>-0.588881</td>\n",
       "      <td>-0.081712</td>\n",
       "      <td>-1.593942</td>\n",
       "      <td>Gastoken.io</td>\n",
       "      <td>1</td>\n",
       "    </tr>\n",
       "    <tr>\n",
       "      <th>1</th>\n",
       "      <td>-1.298304</td>\n",
       "      <td>-0.771467</td>\n",
       "      <td>-0.088345</td>\n",
       "      <td>0.474958</td>\n",
       "      <td>0.086569</td>\n",
       "      <td>-0.599052</td>\n",
       "      <td>Gastoken.io</td>\n",
       "      <td>1</td>\n",
       "    </tr>\n",
       "    <tr>\n",
       "      <th>2</th>\n",
       "      <td>-1.794537</td>\n",
       "      <td>0.293458</td>\n",
       "      <td>-0.433094</td>\n",
       "      <td>-0.611515</td>\n",
       "      <td>-0.677909</td>\n",
       "      <td>-0.486315</td>\n",
       "      <td>Test 2</td>\n",
       "      <td>1</td>\n",
       "    </tr>\n",
       "    <tr>\n",
       "      <th>3</th>\n",
       "      <td>-0.969552</td>\n",
       "      <td>0.177095</td>\n",
       "      <td>0.095151</td>\n",
       "      <td>0.752777</td>\n",
       "      <td>0.168853</td>\n",
       "      <td>1.227038</td>\n",
       "      <td>Pontos</td>\n",
       "      <td>1</td>\n",
       "    </tr>\n",
       "    <tr>\n",
       "      <th>4</th>\n",
       "      <td>-1.553325</td>\n",
       "      <td>-0.016533</td>\n",
       "      <td>-0.610064</td>\n",
       "      <td>0.132065</td>\n",
       "      <td>0.110981</td>\n",
       "      <td>0.532354</td>\n",
       "      <td>DanCoin</td>\n",
       "      <td>1</td>\n",
       "    </tr>\n",
       "  </tbody>\n",
       "</table>\n",
       "</div>"
      ],
      "text/plain": [
       "        PC1       PC2       PC3       PC4       PC5       PC6   token_name  \\\n",
       "0 -0.612640 -0.659243  0.849974 -0.588881 -0.081712 -1.593942  Gastoken.io   \n",
       "1 -1.298304 -0.771467 -0.088345  0.474958  0.086569 -0.599052  Gastoken.io   \n",
       "2 -1.794537  0.293458 -0.433094 -0.611515 -0.677909 -0.486315       Test 2   \n",
       "3 -0.969552  0.177095  0.095151  0.752777  0.168853  1.227038       Pontos   \n",
       "4 -1.553325 -0.016533 -0.610064  0.132065  0.110981  0.532354      DanCoin   \n",
       "\n",
       "   KClusterID  \n",
       "0           1  \n",
       "1           1  \n",
       "2           1  \n",
       "3           1  \n",
       "4           1  "
      ]
     },
     "execution_count": 115,
     "metadata": {},
     "output_type": "execute_result"
    }
   ],
   "source": [
    "# Let's add the cluster Ids to the PCs data \n",
    "dat_km = pd.concat([pca_df2.reset_index().drop('index',axis=1), pd.Series(model_clus2.labels_)],axis=1)\n",
    "dat_km.columns = ['PC1','PC2','PC3','PC4','PC5','PC6','token_name','KClusterID']\n",
    "dat_km.head()"
   ]
  },
  {
   "cell_type": "code",
   "execution_count": 116,
   "metadata": {},
   "outputs": [
    {
     "data": {
      "text/plain": [
       "1    32\n",
       "2     4\n",
       "3     2\n",
       "0     1\n",
       "Name: KClusterID, dtype: int64"
      ]
     },
     "execution_count": 116,
     "metadata": {},
     "output_type": "execute_result"
    }
   ],
   "source": [
    "# Check the count of observation per cluster\n",
    "dat_km['KClusterID'].value_counts()"
   ]
  },
  {
   "cell_type": "code",
   "execution_count": 117,
   "metadata": {},
   "outputs": [
    {
     "data": {
      "text/html": [
       "<div>\n",
       "<style scoped>\n",
       "    .dataframe tbody tr th:only-of-type {\n",
       "        vertical-align: middle;\n",
       "    }\n",
       "\n",
       "    .dataframe tbody tr th {\n",
       "        vertical-align: top;\n",
       "    }\n",
       "\n",
       "    .dataframe thead th {\n",
       "        text-align: right;\n",
       "    }\n",
       "</style>\n",
       "<table border=\"1\" class=\"dataframe\">\n",
       "  <thead>\n",
       "    <tr style=\"text-align: right;\">\n",
       "      <th></th>\n",
       "      <th>PC1</th>\n",
       "      <th>PC2</th>\n",
       "      <th>PC3</th>\n",
       "      <th>PC4</th>\n",
       "      <th>PC5</th>\n",
       "      <th>PC6</th>\n",
       "      <th>token_name</th>\n",
       "      <th>KClusterID</th>\n",
       "    </tr>\n",
       "  </thead>\n",
       "  <tbody>\n",
       "    <tr>\n",
       "      <th>0</th>\n",
       "      <td>-0.612640</td>\n",
       "      <td>-0.659243</td>\n",
       "      <td>0.849974</td>\n",
       "      <td>-0.588881</td>\n",
       "      <td>-0.081712</td>\n",
       "      <td>-1.593942</td>\n",
       "      <td>Gastoken.io</td>\n",
       "      <td>1</td>\n",
       "    </tr>\n",
       "    <tr>\n",
       "      <th>1</th>\n",
       "      <td>-1.298304</td>\n",
       "      <td>-0.771467</td>\n",
       "      <td>-0.088345</td>\n",
       "      <td>0.474958</td>\n",
       "      <td>0.086569</td>\n",
       "      <td>-0.599052</td>\n",
       "      <td>Gastoken.io</td>\n",
       "      <td>1</td>\n",
       "    </tr>\n",
       "    <tr>\n",
       "      <th>2</th>\n",
       "      <td>-1.794537</td>\n",
       "      <td>0.293458</td>\n",
       "      <td>-0.433094</td>\n",
       "      <td>-0.611515</td>\n",
       "      <td>-0.677909</td>\n",
       "      <td>-0.486315</td>\n",
       "      <td>Test 2</td>\n",
       "      <td>1</td>\n",
       "    </tr>\n",
       "    <tr>\n",
       "      <th>3</th>\n",
       "      <td>-0.969552</td>\n",
       "      <td>0.177095</td>\n",
       "      <td>0.095151</td>\n",
       "      <td>0.752777</td>\n",
       "      <td>0.168853</td>\n",
       "      <td>1.227038</td>\n",
       "      <td>Pontos</td>\n",
       "      <td>1</td>\n",
       "    </tr>\n",
       "    <tr>\n",
       "      <th>4</th>\n",
       "      <td>-1.553325</td>\n",
       "      <td>-0.016533</td>\n",
       "      <td>-0.610064</td>\n",
       "      <td>0.132065</td>\n",
       "      <td>0.110981</td>\n",
       "      <td>0.532354</td>\n",
       "      <td>DanCoin</td>\n",
       "      <td>1</td>\n",
       "    </tr>\n",
       "    <tr>\n",
       "      <th>5</th>\n",
       "      <td>-1.435130</td>\n",
       "      <td>0.025051</td>\n",
       "      <td>-0.422075</td>\n",
       "      <td>0.344650</td>\n",
       "      <td>0.074526</td>\n",
       "      <td>0.759298</td>\n",
       "      <td>AMIS</td>\n",
       "      <td>1</td>\n",
       "    </tr>\n",
       "    <tr>\n",
       "      <th>6</th>\n",
       "      <td>-1.256283</td>\n",
       "      <td>0.067005</td>\n",
       "      <td>-0.508551</td>\n",
       "      <td>0.073581</td>\n",
       "      <td>0.226559</td>\n",
       "      <td>0.640557</td>\n",
       "      <td>TheDanCoin</td>\n",
       "      <td>1</td>\n",
       "    </tr>\n",
       "    <tr>\n",
       "      <th>7</th>\n",
       "      <td>5.083319</td>\n",
       "      <td>8.758896</td>\n",
       "      <td>2.605637</td>\n",
       "      <td>0.541699</td>\n",
       "      <td>-0.747261</td>\n",
       "      <td>-1.858768</td>\n",
       "      <td>eBOMB</td>\n",
       "      <td>0</td>\n",
       "    </tr>\n",
       "    <tr>\n",
       "      <th>8</th>\n",
       "      <td>9.045206</td>\n",
       "      <td>-4.224302</td>\n",
       "      <td>-0.482801</td>\n",
       "      <td>0.149116</td>\n",
       "      <td>-1.187765</td>\n",
       "      <td>-0.239356</td>\n",
       "      <td>eBOMB</td>\n",
       "      <td>2</td>\n",
       "    </tr>\n",
       "    <tr>\n",
       "      <th>9</th>\n",
       "      <td>9.499016</td>\n",
       "      <td>2.648093</td>\n",
       "      <td>-2.201650</td>\n",
       "      <td>0.286572</td>\n",
       "      <td>-0.250934</td>\n",
       "      <td>2.235298</td>\n",
       "      <td>eBOMB</td>\n",
       "      <td>2</td>\n",
       "    </tr>\n",
       "    <tr>\n",
       "      <th>10</th>\n",
       "      <td>-1.060442</td>\n",
       "      <td>0.460462</td>\n",
       "      <td>0.055736</td>\n",
       "      <td>-0.601969</td>\n",
       "      <td>-0.244732</td>\n",
       "      <td>-0.218896</td>\n",
       "      <td>Lucy</td>\n",
       "      <td>1</td>\n",
       "    </tr>\n",
       "    <tr>\n",
       "      <th>11</th>\n",
       "      <td>-1.487436</td>\n",
       "      <td>0.012105</td>\n",
       "      <td>-0.483431</td>\n",
       "      <td>0.301705</td>\n",
       "      <td>0.059255</td>\n",
       "      <td>0.707922</td>\n",
       "      <td>Lucy</td>\n",
       "      <td>1</td>\n",
       "    </tr>\n",
       "    <tr>\n",
       "      <th>12</th>\n",
       "      <td>-1.638794</td>\n",
       "      <td>0.339414</td>\n",
       "      <td>-0.221077</td>\n",
       "      <td>-0.415849</td>\n",
       "      <td>-0.673627</td>\n",
       "      <td>-0.268301</td>\n",
       "      <td>HYBRIDTEST</td>\n",
       "      <td>1</td>\n",
       "    </tr>\n",
       "    <tr>\n",
       "      <th>13</th>\n",
       "      <td>4.100153</td>\n",
       "      <td>-3.514939</td>\n",
       "      <td>-3.544579</td>\n",
       "      <td>-0.047854</td>\n",
       "      <td>-0.366088</td>\n",
       "      <td>-2.400916</td>\n",
       "      <td>Ether Klown</td>\n",
       "      <td>2</td>\n",
       "    </tr>\n",
       "    <tr>\n",
       "      <th>14</th>\n",
       "      <td>4.744563</td>\n",
       "      <td>-0.292854</td>\n",
       "      <td>-3.204128</td>\n",
       "      <td>-0.641041</td>\n",
       "      <td>0.531987</td>\n",
       "      <td>0.041370</td>\n",
       "      <td>Ether Klown</td>\n",
       "      <td>2</td>\n",
       "    </tr>\n",
       "    <tr>\n",
       "      <th>15</th>\n",
       "      <td>-1.626110</td>\n",
       "      <td>-0.031908</td>\n",
       "      <td>-0.684650</td>\n",
       "      <td>0.098348</td>\n",
       "      <td>0.073491</td>\n",
       "      <td>0.485828</td>\n",
       "      <td>Cascadium Classic</td>\n",
       "      <td>1</td>\n",
       "    </tr>\n",
       "    <tr>\n",
       "      <th>16</th>\n",
       "      <td>-1.754713</td>\n",
       "      <td>0.297931</td>\n",
       "      <td>-0.407922</td>\n",
       "      <td>-0.629358</td>\n",
       "      <td>-0.635301</td>\n",
       "      <td>-0.495667</td>\n",
       "      <td>Test 5</td>\n",
       "      <td>1</td>\n",
       "    </tr>\n",
       "    <tr>\n",
       "      <th>17</th>\n",
       "      <td>-1.527346</td>\n",
       "      <td>0.020273</td>\n",
       "      <td>-0.571297</td>\n",
       "      <td>0.196794</td>\n",
       "      <td>0.077039</td>\n",
       "      <td>0.591173</td>\n",
       "      <td>Ether Frown</td>\n",
       "      <td>1</td>\n",
       "    </tr>\n",
       "    <tr>\n",
       "      <th>18</th>\n",
       "      <td>-1.541473</td>\n",
       "      <td>-0.008148</td>\n",
       "      <td>-0.574303</td>\n",
       "      <td>0.193141</td>\n",
       "      <td>0.082942</td>\n",
       "      <td>0.593216</td>\n",
       "      <td>Ether Frown</td>\n",
       "      <td>1</td>\n",
       "    </tr>\n",
       "    <tr>\n",
       "      <th>19</th>\n",
       "      <td>-0.614410</td>\n",
       "      <td>-1.094170</td>\n",
       "      <td>1.386971</td>\n",
       "      <td>6.202389</td>\n",
       "      <td>0.591645</td>\n",
       "      <td>-1.127447</td>\n",
       "      <td>Longfin Coin</td>\n",
       "      <td>1</td>\n",
       "    </tr>\n",
       "    <tr>\n",
       "      <th>20</th>\n",
       "      <td>-1.507354</td>\n",
       "      <td>0.380994</td>\n",
       "      <td>-0.143957</td>\n",
       "      <td>-0.464747</td>\n",
       "      <td>-0.554051</td>\n",
       "      <td>-0.297895</td>\n",
       "      <td>( . Y . )</td>\n",
       "      <td>1</td>\n",
       "    </tr>\n",
       "    <tr>\n",
       "      <th>21</th>\n",
       "      <td>-1.796326</td>\n",
       "      <td>0.293258</td>\n",
       "      <td>-0.434222</td>\n",
       "      <td>-0.610714</td>\n",
       "      <td>-0.679821</td>\n",
       "      <td>-0.485895</td>\n",
       "      <td>Test 3</td>\n",
       "      <td>1</td>\n",
       "    </tr>\n",
       "    <tr>\n",
       "      <th>22</th>\n",
       "      <td>0.624924</td>\n",
       "      <td>0.874011</td>\n",
       "      <td>-0.951639</td>\n",
       "      <td>-1.147188</td>\n",
       "      <td>6.100104</td>\n",
       "      <td>-1.184920</td>\n",
       "      <td>UniversalCoin</td>\n",
       "      <td>1</td>\n",
       "    </tr>\n",
       "    <tr>\n",
       "      <th>23</th>\n",
       "      <td>-1.264398</td>\n",
       "      <td>0.066019</td>\n",
       "      <td>-0.499097</td>\n",
       "      <td>0.073357</td>\n",
       "      <td>0.233549</td>\n",
       "      <td>0.638380</td>\n",
       "      <td>SuperDanCoin</td>\n",
       "      <td>1</td>\n",
       "    </tr>\n",
       "    <tr>\n",
       "      <th>24</th>\n",
       "      <td>0.736259</td>\n",
       "      <td>-1.849073</td>\n",
       "      <td>0.920591</td>\n",
       "      <td>0.061425</td>\n",
       "      <td>-0.066339</td>\n",
       "      <td>-0.238302</td>\n",
       "      <td>Gastoken.io</td>\n",
       "      <td>1</td>\n",
       "    </tr>\n",
       "    <tr>\n",
       "      <th>25</th>\n",
       "      <td>-1.592752</td>\n",
       "      <td>0.318308</td>\n",
       "      <td>-0.366700</td>\n",
       "      <td>-0.649685</td>\n",
       "      <td>-0.609999</td>\n",
       "      <td>-0.359561</td>\n",
       "      <td>Vortex</td>\n",
       "      <td>1</td>\n",
       "    </tr>\n",
       "    <tr>\n",
       "      <th>26</th>\n",
       "      <td>2.664447</td>\n",
       "      <td>-2.326591</td>\n",
       "      <td>6.205798</td>\n",
       "      <td>-1.712831</td>\n",
       "      <td>0.003265</td>\n",
       "      <td>-0.206315</td>\n",
       "      <td>Metronome</td>\n",
       "      <td>3</td>\n",
       "    </tr>\n",
       "    <tr>\n",
       "      <th>27</th>\n",
       "      <td>0.367569</td>\n",
       "      <td>0.901872</td>\n",
       "      <td>0.937566</td>\n",
       "      <td>-0.305342</td>\n",
       "      <td>-0.037209</td>\n",
       "      <td>0.531111</td>\n",
       "      <td>Metronome</td>\n",
       "      <td>1</td>\n",
       "    </tr>\n",
       "    <tr>\n",
       "      <th>28</th>\n",
       "      <td>2.117843</td>\n",
       "      <td>-2.347356</td>\n",
       "      <td>5.420723</td>\n",
       "      <td>-0.600078</td>\n",
       "      <td>0.751063</td>\n",
       "      <td>0.886249</td>\n",
       "      <td>Metronome</td>\n",
       "      <td>3</td>\n",
       "    </tr>\n",
       "    <tr>\n",
       "      <th>29</th>\n",
       "      <td>0.400044</td>\n",
       "      <td>0.533863</td>\n",
       "      <td>0.750698</td>\n",
       "      <td>0.426193</td>\n",
       "      <td>0.723903</td>\n",
       "      <td>1.662935</td>\n",
       "      <td>Metronome</td>\n",
       "      <td>1</td>\n",
       "    </tr>\n",
       "    <tr>\n",
       "      <th>30</th>\n",
       "      <td>-1.783502</td>\n",
       "      <td>0.294698</td>\n",
       "      <td>-0.426119</td>\n",
       "      <td>-0.616459</td>\n",
       "      <td>-0.666102</td>\n",
       "      <td>-0.488905</td>\n",
       "      <td>Test</td>\n",
       "      <td>1</td>\n",
       "    </tr>\n",
       "    <tr>\n",
       "      <th>31</th>\n",
       "      <td>-1.857587</td>\n",
       "      <td>0.272289</td>\n",
       "      <td>-0.529364</td>\n",
       "      <td>-0.716018</td>\n",
       "      <td>-0.664039</td>\n",
       "      <td>-0.598787</td>\n",
       "      <td>BruCoin</td>\n",
       "      <td>1</td>\n",
       "    </tr>\n",
       "    <tr>\n",
       "      <th>32</th>\n",
       "      <td>-1.653919</td>\n",
       "      <td>0.337566</td>\n",
       "      <td>-0.230969</td>\n",
       "      <td>-0.409010</td>\n",
       "      <td>-0.690170</td>\n",
       "      <td>-0.264698</td>\n",
       "      <td>Bitcoin</td>\n",
       "      <td>1</td>\n",
       "    </tr>\n",
       "    <tr>\n",
       "      <th>33</th>\n",
       "      <td>-1.452886</td>\n",
       "      <td>0.003414</td>\n",
       "      <td>-0.642597</td>\n",
       "      <td>0.078272</td>\n",
       "      <td>0.101430</td>\n",
       "      <td>0.622576</td>\n",
       "      <td>Arcadium Classic</td>\n",
       "      <td>1</td>\n",
       "    </tr>\n",
       "    <tr>\n",
       "      <th>34</th>\n",
       "      <td>-0.527143</td>\n",
       "      <td>-1.035564</td>\n",
       "      <td>0.766725</td>\n",
       "      <td>0.716501</td>\n",
       "      <td>-0.013224</td>\n",
       "      <td>0.025804</td>\n",
       "      <td>AMIS</td>\n",
       "      <td>1</td>\n",
       "    </tr>\n",
       "    <tr>\n",
       "      <th>35</th>\n",
       "      <td>-0.918342</td>\n",
       "      <td>0.130044</td>\n",
       "      <td>-0.291101</td>\n",
       "      <td>0.285673</td>\n",
       "      <td>0.156675</td>\n",
       "      <td>1.166714</td>\n",
       "      <td>AMIS</td>\n",
       "      <td>1</td>\n",
       "    </tr>\n",
       "    <tr>\n",
       "      <th>36</th>\n",
       "      <td>-1.654097</td>\n",
       "      <td>0.337610</td>\n",
       "      <td>-0.230889</td>\n",
       "      <td>-0.408925</td>\n",
       "      <td>-0.690397</td>\n",
       "      <td>-0.264617</td>\n",
       "      <td>Bcct</td>\n",
       "      <td>1</td>\n",
       "    </tr>\n",
       "    <tr>\n",
       "      <th>37</th>\n",
       "      <td>-1.647641</td>\n",
       "      <td>0.338411</td>\n",
       "      <td>-0.226639</td>\n",
       "      <td>-0.411850</td>\n",
       "      <td>-0.683307</td>\n",
       "      <td>-0.266159</td>\n",
       "      <td>ZigZag2</td>\n",
       "      <td>1</td>\n",
       "    </tr>\n",
       "    <tr>\n",
       "      <th>38</th>\n",
       "      <td>-1.556904</td>\n",
       "      <td>-0.009993</td>\n",
       "      <td>-0.584312</td>\n",
       "      <td>0.200101</td>\n",
       "      <td>0.066153</td>\n",
       "      <td>0.596892</td>\n",
       "      <td>Ether Frown</td>\n",
       "      <td>1</td>\n",
       "    </tr>\n",
       "  </tbody>\n",
       "</table>\n",
       "</div>"
      ],
      "text/plain": [
       "         PC1       PC2       PC3       PC4       PC5       PC6  \\\n",
       "0  -0.612640 -0.659243  0.849974 -0.588881 -0.081712 -1.593942   \n",
       "1  -1.298304 -0.771467 -0.088345  0.474958  0.086569 -0.599052   \n",
       "2  -1.794537  0.293458 -0.433094 -0.611515 -0.677909 -0.486315   \n",
       "3  -0.969552  0.177095  0.095151  0.752777  0.168853  1.227038   \n",
       "4  -1.553325 -0.016533 -0.610064  0.132065  0.110981  0.532354   \n",
       "5  -1.435130  0.025051 -0.422075  0.344650  0.074526  0.759298   \n",
       "6  -1.256283  0.067005 -0.508551  0.073581  0.226559  0.640557   \n",
       "7   5.083319  8.758896  2.605637  0.541699 -0.747261 -1.858768   \n",
       "8   9.045206 -4.224302 -0.482801  0.149116 -1.187765 -0.239356   \n",
       "9   9.499016  2.648093 -2.201650  0.286572 -0.250934  2.235298   \n",
       "10 -1.060442  0.460462  0.055736 -0.601969 -0.244732 -0.218896   \n",
       "11 -1.487436  0.012105 -0.483431  0.301705  0.059255  0.707922   \n",
       "12 -1.638794  0.339414 -0.221077 -0.415849 -0.673627 -0.268301   \n",
       "13  4.100153 -3.514939 -3.544579 -0.047854 -0.366088 -2.400916   \n",
       "14  4.744563 -0.292854 -3.204128 -0.641041  0.531987  0.041370   \n",
       "15 -1.626110 -0.031908 -0.684650  0.098348  0.073491  0.485828   \n",
       "16 -1.754713  0.297931 -0.407922 -0.629358 -0.635301 -0.495667   \n",
       "17 -1.527346  0.020273 -0.571297  0.196794  0.077039  0.591173   \n",
       "18 -1.541473 -0.008148 -0.574303  0.193141  0.082942  0.593216   \n",
       "19 -0.614410 -1.094170  1.386971  6.202389  0.591645 -1.127447   \n",
       "20 -1.507354  0.380994 -0.143957 -0.464747 -0.554051 -0.297895   \n",
       "21 -1.796326  0.293258 -0.434222 -0.610714 -0.679821 -0.485895   \n",
       "22  0.624924  0.874011 -0.951639 -1.147188  6.100104 -1.184920   \n",
       "23 -1.264398  0.066019 -0.499097  0.073357  0.233549  0.638380   \n",
       "24  0.736259 -1.849073  0.920591  0.061425 -0.066339 -0.238302   \n",
       "25 -1.592752  0.318308 -0.366700 -0.649685 -0.609999 -0.359561   \n",
       "26  2.664447 -2.326591  6.205798 -1.712831  0.003265 -0.206315   \n",
       "27  0.367569  0.901872  0.937566 -0.305342 -0.037209  0.531111   \n",
       "28  2.117843 -2.347356  5.420723 -0.600078  0.751063  0.886249   \n",
       "29  0.400044  0.533863  0.750698  0.426193  0.723903  1.662935   \n",
       "30 -1.783502  0.294698 -0.426119 -0.616459 -0.666102 -0.488905   \n",
       "31 -1.857587  0.272289 -0.529364 -0.716018 -0.664039 -0.598787   \n",
       "32 -1.653919  0.337566 -0.230969 -0.409010 -0.690170 -0.264698   \n",
       "33 -1.452886  0.003414 -0.642597  0.078272  0.101430  0.622576   \n",
       "34 -0.527143 -1.035564  0.766725  0.716501 -0.013224  0.025804   \n",
       "35 -0.918342  0.130044 -0.291101  0.285673  0.156675  1.166714   \n",
       "36 -1.654097  0.337610 -0.230889 -0.408925 -0.690397 -0.264617   \n",
       "37 -1.647641  0.338411 -0.226639 -0.411850 -0.683307 -0.266159   \n",
       "38 -1.556904 -0.009993 -0.584312  0.200101  0.066153  0.596892   \n",
       "\n",
       "           token_name  KClusterID  \n",
       "0         Gastoken.io           1  \n",
       "1         Gastoken.io           1  \n",
       "2              Test 2           1  \n",
       "3              Pontos           1  \n",
       "4             DanCoin           1  \n",
       "5                AMIS           1  \n",
       "6          TheDanCoin           1  \n",
       "7               eBOMB           0  \n",
       "8               eBOMB           2  \n",
       "9               eBOMB           2  \n",
       "10               Lucy           1  \n",
       "11               Lucy           1  \n",
       "12         HYBRIDTEST           1  \n",
       "13        Ether Klown           2  \n",
       "14        Ether Klown           2  \n",
       "15  Cascadium Classic           1  \n",
       "16             Test 5           1  \n",
       "17        Ether Frown           1  \n",
       "18        Ether Frown           1  \n",
       "19       Longfin Coin           1  \n",
       "20          ( . Y . )           1  \n",
       "21             Test 3           1  \n",
       "22      UniversalCoin           1  \n",
       "23       SuperDanCoin           1  \n",
       "24        Gastoken.io           1  \n",
       "25             Vortex           1  \n",
       "26          Metronome           3  \n",
       "27          Metronome           1  \n",
       "28          Metronome           3  \n",
       "29          Metronome           1  \n",
       "30               Test           1  \n",
       "31            BruCoin           1  \n",
       "32            Bitcoin           1  \n",
       "33   Arcadium Classic           1  \n",
       "34               AMIS           1  \n",
       "35               AMIS           1  \n",
       "36               Bcct           1  \n",
       "37            ZigZag2           1  \n",
       "38        Ether Frown           1  "
      ]
     },
     "execution_count": 117,
     "metadata": {},
     "output_type": "execute_result"
    }
   ],
   "source": [
    "dat_km"
   ]
  },
  {
   "cell_type": "code",
   "execution_count": 118,
   "metadata": {},
   "outputs": [
    {
     "data": {
      "image/png": "[encoded data removed]",
      "text/plain": [
       "<Figure size 1080x576 with 1 Axes>"
      ]
     },
     "metadata": {
      "needs_background": "light"
     },
     "output_type": "display_data"
    }
   ],
   "source": [
    "# Plot the Cluster with respect to the clusters obtained\n",
    "plt.subplots(figsize=(15,8), sharex=True)\n",
    "sns.scatterplot(x='PC1', y='PC2', hue='KClusterID', legend='full', data=dat_km)\n",
    "plt.legend(loc='best')\n",
    "plt.show()"
   ]
  },
  {
   "cell_type": "code",
   "execution_count": 119,
   "metadata": {},
   "outputs": [
    {
     "data": {
      "image/png": "[encoded data removed]",
      "text/plain": [
       "<Figure size 1080x576 with 1 Axes>"
      ]
     },
     "metadata": {
      "needs_background": "light"
     },
     "output_type": "display_data"
    }
   ],
   "source": [
    "# Plot the Cluster with respect to the clusters obtained\n",
    "plt.subplots(figsize=(15,8), sharex=True)\n",
    "sns.scatterplot(x='PC1', y='PC3', hue='KClusterID', legend='full', data=dat_km)\n",
    "plt.legend(loc='best')\n",
    "plt.show()"
   ]
  },
  {
   "cell_type": "code",
   "execution_count": 120,
   "metadata": {},
   "outputs": [
    {
     "data": {
      "image/png": "[encoded data removed]",
      "text/plain": [
       "<Figure size 1080x576 with 1 Axes>"
      ]
     },
     "metadata": {
      "needs_background": "light"
     },
     "output_type": "display_data"
    }
   ],
   "source": [
    "# Plot the Cluster with respect to the clusters obtained\n",
    "plt.subplots(figsize=(15,8), sharex=True)\n",
    "sns.scatterplot(x='PC1', y='PC4', hue='KClusterID', legend='full', data=dat_km)\n",
    "plt.legend(loc='best')\n",
    "plt.show()"
   ]
  },
  {
   "cell_type": "code",
   "execution_count": 121,
   "metadata": {},
   "outputs": [
    {
     "data": {
      "image/png": "[encoded data removed]",
      "text/plain": [
       "<Figure size 1080x576 with 1 Axes>"
      ]
     },
     "metadata": {
      "needs_background": "light"
     },
     "output_type": "display_data"
    }
   ],
   "source": [
    "# Plot the Cluster with respect to the clusters obtained\n",
    "plt.subplots(figsize=(15,8), sharex=True)\n",
    "sns.scatterplot(x='PC1', y='PC5', hue='KClusterID', legend='full', data=dat_km)\n",
    "plt.legend(loc='best')\n",
    "plt.show()"
   ]
  },
  {
   "cell_type": "code",
   "execution_count": 122,
   "metadata": {},
   "outputs": [
    {
     "data": {
      "image/png": "[encoded data removed]",
      "text/plain": [
       "<Figure size 1080x576 with 1 Axes>"
      ]
     },
     "metadata": {
      "needs_background": "light"
     },
     "output_type": "display_data"
    }
   ],
   "source": [
    "# Plot the Cluster with respect to the clusters obtained\n",
    "plt.subplots(figsize=(15,8), sharex=True)\n",
    "sns.scatterplot(x='PC2', y='PC3', hue='KClusterID', legend='full', data=dat_km)\n",
    "plt.legend(loc='best')\n",
    "plt.show()"
   ]
  },
  {
   "cell_type": "code",
   "execution_count": 123,
   "metadata": {},
   "outputs": [
    {
     "data": {
      "image/png": "[encoded data removed]",
      "text/plain": [
       "<Figure size 1080x576 with 1 Axes>"
      ]
     },
     "metadata": {
      "needs_background": "light"
     },
     "output_type": "display_data"
    }
   ],
   "source": [
    "# Plot the Cluster with respect to the clusters obtained\n",
    "plt.subplots(figsize=(15,8), sharex=True)\n",
    "sns.scatterplot(x='PC2', y='PC4', hue='KClusterID', legend='full', data=dat_km)\n",
    "plt.legend(loc='best')\n",
    "plt.show()"
   ]
  },
  {
   "cell_type": "code",
   "execution_count": 124,
   "metadata": {},
   "outputs": [
    {
     "data": {
      "image/png": "[encoded data removed]",
      "text/plain": [
       "<Figure size 1080x576 with 1 Axes>"
      ]
     },
     "metadata": {
      "needs_background": "light"
     },
     "output_type": "display_data"
    }
   ],
   "source": [
    "# Plot the Cluster with respect to the clusters obtained\n",
    "plt.subplots(figsize=(15,8), sharex=True)\n",
    "sns.scatterplot(x='PC2', y='PC5', hue='KClusterID', legend='full', data=dat_km)\n",
    "plt.legend(loc='best')\n",
    "plt.show()"
   ]
  },
  {
   "cell_type": "code",
   "execution_count": 125,
   "metadata": {},
   "outputs": [
    {
     "data": {
      "image/png": "[encoded data removed]",
      "text/plain": [
       "<Figure size 1080x576 with 1 Axes>"
      ]
     },
     "metadata": {
      "needs_background": "light"
     },
     "output_type": "display_data"
    }
   ],
   "source": [
    "# Plot the Cluster with respect to the clusters obtained\n",
    "plt.subplots(figsize=(15,8), sharex=True)\n",
    "sns.scatterplot(x='PC3', y='PC4', hue='KClusterID', legend='full', data=dat_km)\n",
    "plt.legend(loc='best')\n",
    "plt.show()"
   ]
  },
  {
   "cell_type": "code",
   "execution_count": 126,
   "metadata": {},
   "outputs": [
    {
     "data": {
      "image/png": "[encoded data removed]",
      "text/plain": [
       "<Figure size 1080x576 with 1 Axes>"
      ]
     },
     "metadata": {
      "needs_background": "light"
     },
     "output_type": "display_data"
    }
   ],
   "source": [
    "# Plot the Cluster with respect to the clusters obtained\n",
    "plt.subplots(figsize=(15,8), sharex=True)\n",
    "sns.scatterplot(x='PC3', y='PC5', hue='KClusterID', legend='full', data=dat_km)\n",
    "plt.legend(loc='best')\n",
    "plt.show()"
   ]
  },
  {
   "cell_type": "code",
   "execution_count": 127,
   "metadata": {},
   "outputs": [
    {
     "data": {
      "image/png": "[encoded data removed]",
      "text/plain": [
       "<Figure size 1080x576 with 1 Axes>"
      ]
     },
     "metadata": {
      "needs_background": "light"
     },
     "output_type": "display_data"
    }
   ],
   "source": [
    "# Plot the Cluster with respect to the clusters obtained\n",
    "plt.subplots(figsize=(15,8), sharex=True)\n",
    "sns.scatterplot(x='PC4', y='PC5', hue='KClusterID', legend='full', data=dat_km)\n",
    "plt.legend(loc='best')\n",
    "plt.show()"
   ]
  },
  {
   "cell_type": "markdown",
   "metadata": {},
   "source": [
    "# Cluster Profiling"
   ]
  },
  {
   "cell_type": "code",
   "execution_count": 131,
   "metadata": {},
   "outputs": [
    {
     "data": {
      "text/html": [
       "<div>\n",
       "<style scoped>\n",
       "    .dataframe tbody tr th:only-of-type {\n",
       "        vertical-align: middle;\n",
       "    }\n",
       "\n",
       "    .dataframe tbody tr th {\n",
       "        vertical-align: top;\n",
       "    }\n",
       "\n",
       "    .dataframe thead th {\n",
       "        text-align: right;\n",
       "    }\n",
       "</style>\n",
       "<table border=\"1\" class=\"dataframe\">\n",
       "  <thead>\n",
       "    <tr style=\"text-align: right;\">\n",
       "      <th></th>\n",
       "      <th>token_name</th>\n",
       "      <th>receipt_status</th>\n",
       "      <th>Contract_is_erc20</th>\n",
       "      <th>trace_from_address</th>\n",
       "      <th>trace_to_address</th>\n",
       "      <th>trace_value</th>\n",
       "      <th>trace_gas</th>\n",
       "      <th>trace_gas_used</th>\n",
       "      <th>token_transfer_from_address</th>\n",
       "      <th>token_transfer_to_address</th>\n",
       "      <th>...</th>\n",
       "      <th>token_decimals</th>\n",
       "      <th>token_total_supply</th>\n",
       "      <th>Contract_address</th>\n",
       "      <th>PC1</th>\n",
       "      <th>PC2</th>\n",
       "      <th>PC3</th>\n",
       "      <th>PC4</th>\n",
       "      <th>PC5</th>\n",
       "      <th>PC6</th>\n",
       "      <th>KClusterID</th>\n",
       "    </tr>\n",
       "  </thead>\n",
       "  <tbody>\n",
       "    <tr>\n",
       "      <th>0</th>\n",
       "      <td>Gastoken.io</td>\n",
       "      <td>0</td>\n",
       "      <td>0</td>\n",
       "      <td>4</td>\n",
       "      <td>4</td>\n",
       "      <td>0.0</td>\n",
       "      <td>127266471.0</td>\n",
       "      <td>125815805.0</td>\n",
       "      <td>2</td>\n",
       "      <td>1</td>\n",
       "      <td>...</td>\n",
       "      <td>2.0</td>\n",
       "      <td>12923228.0</td>\n",
       "      <td>2</td>\n",
       "      <td>-0.612640</td>\n",
       "      <td>-0.659243</td>\n",
       "      <td>0.849974</td>\n",
       "      <td>-0.588881</td>\n",
       "      <td>-0.081712</td>\n",
       "      <td>-1.593942</td>\n",
       "      <td>1</td>\n",
       "    </tr>\n",
       "    <tr>\n",
       "      <th>1</th>\n",
       "      <td>Gastoken.io</td>\n",
       "      <td>0</td>\n",
       "      <td>0</td>\n",
       "      <td>4</td>\n",
       "      <td>4</td>\n",
       "      <td>0.0</td>\n",
       "      <td>127266471.0</td>\n",
       "      <td>125815805.0</td>\n",
       "      <td>2</td>\n",
       "      <td>1</td>\n",
       "      <td>...</td>\n",
       "      <td>2.0</td>\n",
       "      <td>12923228.0</td>\n",
       "      <td>2</td>\n",
       "      <td>-1.298304</td>\n",
       "      <td>-0.771467</td>\n",
       "      <td>-0.088345</td>\n",
       "      <td>0.474958</td>\n",
       "      <td>0.086569</td>\n",
       "      <td>-0.599052</td>\n",
       "      <td>1</td>\n",
       "    </tr>\n",
       "    <tr>\n",
       "      <th>2</th>\n",
       "      <td>Gastoken.io</td>\n",
       "      <td>0</td>\n",
       "      <td>0</td>\n",
       "      <td>4</td>\n",
       "      <td>4</td>\n",
       "      <td>0.0</td>\n",
       "      <td>127266471.0</td>\n",
       "      <td>125815805.0</td>\n",
       "      <td>2</td>\n",
       "      <td>1</td>\n",
       "      <td>...</td>\n",
       "      <td>2.0</td>\n",
       "      <td>12923228.0</td>\n",
       "      <td>2</td>\n",
       "      <td>0.736259</td>\n",
       "      <td>-1.849073</td>\n",
       "      <td>0.920591</td>\n",
       "      <td>0.061425</td>\n",
       "      <td>-0.066339</td>\n",
       "      <td>-0.238302</td>\n",
       "      <td>1</td>\n",
       "    </tr>\n",
       "    <tr>\n",
       "      <th>3</th>\n",
       "      <td>Gastoken.io</td>\n",
       "      <td>1</td>\n",
       "      <td>0</td>\n",
       "      <td>4</td>\n",
       "      <td>2</td>\n",
       "      <td>0.0</td>\n",
       "      <td>4419811.0</td>\n",
       "      <td>1113697.0</td>\n",
       "      <td>3</td>\n",
       "      <td>3</td>\n",
       "      <td>...</td>\n",
       "      <td>2.0</td>\n",
       "      <td>12923228.0</td>\n",
       "      <td>1</td>\n",
       "      <td>-0.612640</td>\n",
       "      <td>-0.659243</td>\n",
       "      <td>0.849974</td>\n",
       "      <td>-0.588881</td>\n",
       "      <td>-0.081712</td>\n",
       "      <td>-1.593942</td>\n",
       "      <td>1</td>\n",
       "    </tr>\n",
       "    <tr>\n",
       "      <th>4</th>\n",
       "      <td>Gastoken.io</td>\n",
       "      <td>1</td>\n",
       "      <td>0</td>\n",
       "      <td>4</td>\n",
       "      <td>2</td>\n",
       "      <td>0.0</td>\n",
       "      <td>4419811.0</td>\n",
       "      <td>1113697.0</td>\n",
       "      <td>3</td>\n",
       "      <td>3</td>\n",
       "      <td>...</td>\n",
       "      <td>2.0</td>\n",
       "      <td>12923228.0</td>\n",
       "      <td>1</td>\n",
       "      <td>-1.298304</td>\n",
       "      <td>-0.771467</td>\n",
       "      <td>-0.088345</td>\n",
       "      <td>0.474958</td>\n",
       "      <td>0.086569</td>\n",
       "      <td>-0.599052</td>\n",
       "      <td>1</td>\n",
       "    </tr>\n",
       "  </tbody>\n",
       "</table>\n",
       "<p>5 rows × 28 columns</p>\n",
       "</div>"
      ],
      "text/plain": [
       "    token_name  receipt_status  Contract_is_erc20  trace_from_address  \\\n",
       "0  Gastoken.io               0                  0                   4   \n",
       "1  Gastoken.io               0                  0                   4   \n",
       "2  Gastoken.io               0                  0                   4   \n",
       "3  Gastoken.io               1                  0                   4   \n",
       "4  Gastoken.io               1                  0                   4   \n",
       "\n",
       "   trace_to_address  trace_value    trace_gas  trace_gas_used  \\\n",
       "0                 4          0.0  127266471.0     125815805.0   \n",
       "1                 4          0.0  127266471.0     125815805.0   \n",
       "2                 4          0.0  127266471.0     125815805.0   \n",
       "3                 2          0.0    4419811.0       1113697.0   \n",
       "4                 2          0.0    4419811.0       1113697.0   \n",
       "\n",
       "   token_transfer_from_address  token_transfer_to_address  ...  \\\n",
       "0                            2                          1  ...   \n",
       "1                            2                          1  ...   \n",
       "2                            2                          1  ...   \n",
       "3                            3                          3  ...   \n",
       "4                            3                          3  ...   \n",
       "\n",
       "   token_decimals  token_total_supply  Contract_address       PC1       PC2  \\\n",
       "0             2.0          12923228.0                 2 -0.612640 -0.659243   \n",
       "1             2.0          12923228.0                 2 -1.298304 -0.771467   \n",
       "2             2.0          12923228.0                 2  0.736259 -1.849073   \n",
       "3             2.0          12923228.0                 1 -0.612640 -0.659243   \n",
       "4             2.0          12923228.0                 1 -1.298304 -0.771467   \n",
       "\n",
       "        PC3       PC4       PC5       PC6  KClusterID  \n",
       "0  0.849974 -0.588881 -0.081712 -1.593942           1  \n",
       "1 -0.088345  0.474958  0.086569 -0.599052           1  \n",
       "2  0.920591  0.061425 -0.066339 -0.238302           1  \n",
       "3  0.849974 -0.588881 -0.081712 -1.593942           1  \n",
       "4 -0.088345  0.474958  0.086569 -0.599052           1  \n",
       "\n",
       "[5 rows x 28 columns]"
      ]
     },
     "execution_count": 131,
     "metadata": {},
     "output_type": "execute_result"
    }
   ],
   "source": [
    "# Let's merge the original data with the data(ClusterID)\n",
    "dat5 = pd.merge(dfTrace,dat_km, how='inner', on='token_name')\n",
    "dat5.head()"
   ]
  },
  {
   "cell_type": "code",
   "execution_count": 132,
   "metadata": {},
   "outputs": [
    {
     "data": {
      "text/html": [
       "<div>\n",
       "<style scoped>\n",
       "    .dataframe tbody tr th:only-of-type {\n",
       "        vertical-align: middle;\n",
       "    }\n",
       "\n",
       "    .dataframe tbody tr th {\n",
       "        vertical-align: top;\n",
       "    }\n",
       "\n",
       "    .dataframe thead th {\n",
       "        text-align: right;\n",
       "    }\n",
       "</style>\n",
       "<table border=\"1\" class=\"dataframe\">\n",
       "  <thead>\n",
       "    <tr style=\"text-align: right;\">\n",
       "      <th></th>\n",
       "      <th>token_name</th>\n",
       "      <th>receipt_status</th>\n",
       "      <th>Contract_is_erc20</th>\n",
       "      <th>trace_from_address</th>\n",
       "      <th>trace_to_address</th>\n",
       "      <th>trace_value</th>\n",
       "      <th>trace_gas</th>\n",
       "      <th>trace_gas_used</th>\n",
       "      <th>token_transfer_from_address</th>\n",
       "      <th>token_transfer_to_address</th>\n",
       "      <th>...</th>\n",
       "      <th>transaction_to_address</th>\n",
       "      <th>transaction_value</th>\n",
       "      <th>transaction_gas</th>\n",
       "      <th>transaction_gas_price</th>\n",
       "      <th>receipt_cumulative_gas_used</th>\n",
       "      <th>receipt_gas_used</th>\n",
       "      <th>token_decimals</th>\n",
       "      <th>token_total_supply</th>\n",
       "      <th>Contract_address</th>\n",
       "      <th>KClusterID</th>\n",
       "    </tr>\n",
       "  </thead>\n",
       "  <tbody>\n",
       "    <tr>\n",
       "      <th>0</th>\n",
       "      <td>Gastoken.io</td>\n",
       "      <td>0</td>\n",
       "      <td>0</td>\n",
       "      <td>4</td>\n",
       "      <td>4</td>\n",
       "      <td>0.0</td>\n",
       "      <td>127266471.0</td>\n",
       "      <td>125815805.0</td>\n",
       "      <td>2</td>\n",
       "      <td>1</td>\n",
       "      <td>...</td>\n",
       "      <td>2</td>\n",
       "      <td>0.0</td>\n",
       "      <td>256089852</td>\n",
       "      <td>69400000000</td>\n",
       "      <td>7567350</td>\n",
       "      <td>252218296</td>\n",
       "      <td>2.0</td>\n",
       "      <td>12923228.0</td>\n",
       "      <td>2</td>\n",
       "      <td>1</td>\n",
       "    </tr>\n",
       "    <tr>\n",
       "      <th>1</th>\n",
       "      <td>Gastoken.io</td>\n",
       "      <td>0</td>\n",
       "      <td>0</td>\n",
       "      <td>4</td>\n",
       "      <td>4</td>\n",
       "      <td>0.0</td>\n",
       "      <td>127266471.0</td>\n",
       "      <td>125815805.0</td>\n",
       "      <td>2</td>\n",
       "      <td>1</td>\n",
       "      <td>...</td>\n",
       "      <td>2</td>\n",
       "      <td>0.0</td>\n",
       "      <td>256089852</td>\n",
       "      <td>69400000000</td>\n",
       "      <td>7567350</td>\n",
       "      <td>252218296</td>\n",
       "      <td>2.0</td>\n",
       "      <td>12923228.0</td>\n",
       "      <td>2</td>\n",
       "      <td>1</td>\n",
       "    </tr>\n",
       "    <tr>\n",
       "      <th>2</th>\n",
       "      <td>Gastoken.io</td>\n",
       "      <td>0</td>\n",
       "      <td>0</td>\n",
       "      <td>4</td>\n",
       "      <td>4</td>\n",
       "      <td>0.0</td>\n",
       "      <td>127266471.0</td>\n",
       "      <td>125815805.0</td>\n",
       "      <td>2</td>\n",
       "      <td>1</td>\n",
       "      <td>...</td>\n",
       "      <td>2</td>\n",
       "      <td>0.0</td>\n",
       "      <td>256089852</td>\n",
       "      <td>69400000000</td>\n",
       "      <td>7567350</td>\n",
       "      <td>252218296</td>\n",
       "      <td>2.0</td>\n",
       "      <td>12923228.0</td>\n",
       "      <td>2</td>\n",
       "      <td>1</td>\n",
       "    </tr>\n",
       "    <tr>\n",
       "      <th>3</th>\n",
       "      <td>Gastoken.io</td>\n",
       "      <td>1</td>\n",
       "      <td>0</td>\n",
       "      <td>4</td>\n",
       "      <td>2</td>\n",
       "      <td>0.0</td>\n",
       "      <td>4419811.0</td>\n",
       "      <td>1113697.0</td>\n",
       "      <td>3</td>\n",
       "      <td>3</td>\n",
       "      <td>...</td>\n",
       "      <td>1</td>\n",
       "      <td>0.0</td>\n",
       "      <td>5901184</td>\n",
       "      <td>12008000000</td>\n",
       "      <td>543034</td>\n",
       "      <td>3107288</td>\n",
       "      <td>2.0</td>\n",
       "      <td>12923228.0</td>\n",
       "      <td>1</td>\n",
       "      <td>1</td>\n",
       "    </tr>\n",
       "    <tr>\n",
       "      <th>4</th>\n",
       "      <td>Gastoken.io</td>\n",
       "      <td>1</td>\n",
       "      <td>0</td>\n",
       "      <td>4</td>\n",
       "      <td>2</td>\n",
       "      <td>0.0</td>\n",
       "      <td>4419811.0</td>\n",
       "      <td>1113697.0</td>\n",
       "      <td>3</td>\n",
       "      <td>3</td>\n",
       "      <td>...</td>\n",
       "      <td>1</td>\n",
       "      <td>0.0</td>\n",
       "      <td>5901184</td>\n",
       "      <td>12008000000</td>\n",
       "      <td>543034</td>\n",
       "      <td>3107288</td>\n",
       "      <td>2.0</td>\n",
       "      <td>12923228.0</td>\n",
       "      <td>1</td>\n",
       "      <td>1</td>\n",
       "    </tr>\n",
       "  </tbody>\n",
       "</table>\n",
       "<p>5 rows × 22 columns</p>\n",
       "</div>"
      ],
      "text/plain": [
       "    token_name  receipt_status  Contract_is_erc20  trace_from_address  \\\n",
       "0  Gastoken.io               0                  0                   4   \n",
       "1  Gastoken.io               0                  0                   4   \n",
       "2  Gastoken.io               0                  0                   4   \n",
       "3  Gastoken.io               1                  0                   4   \n",
       "4  Gastoken.io               1                  0                   4   \n",
       "\n",
       "   trace_to_address  trace_value    trace_gas  trace_gas_used  \\\n",
       "0                 4          0.0  127266471.0     125815805.0   \n",
       "1                 4          0.0  127266471.0     125815805.0   \n",
       "2                 4          0.0  127266471.0     125815805.0   \n",
       "3                 2          0.0    4419811.0       1113697.0   \n",
       "4                 2          0.0    4419811.0       1113697.0   \n",
       "\n",
       "   token_transfer_from_address  token_transfer_to_address  ...  \\\n",
       "0                            2                          1  ...   \n",
       "1                            2                          1  ...   \n",
       "2                            2                          1  ...   \n",
       "3                            3                          3  ...   \n",
       "4                            3                          3  ...   \n",
       "\n",
       "   transaction_to_address  transaction_value  transaction_gas  \\\n",
       "0                       2                0.0        256089852   \n",
       "1                       2                0.0        256089852   \n",
       "2                       2                0.0        256089852   \n",
       "3                       1                0.0          5901184   \n",
       "4                       1                0.0          5901184   \n",
       "\n",
       "   transaction_gas_price  receipt_cumulative_gas_used  receipt_gas_used  \\\n",
       "0            69400000000                      7567350         252218296   \n",
       "1            69400000000                      7567350         252218296   \n",
       "2            69400000000                      7567350         252218296   \n",
       "3            12008000000                       543034           3107288   \n",
       "4            12008000000                       543034           3107288   \n",
       "\n",
       "   token_decimals  token_total_supply  Contract_address  KClusterID  \n",
       "0             2.0          12923228.0                 2           1  \n",
       "1             2.0          12923228.0                 2           1  \n",
       "2             2.0          12923228.0                 2           1  \n",
       "3             2.0          12923228.0                 1           1  \n",
       "4             2.0          12923228.0                 1           1  \n",
       "\n",
       "[5 rows x 22 columns]"
      ]
     },
     "execution_count": 132,
     "metadata": {},
     "output_type": "execute_result"
    }
   ],
   "source": [
    "# Let's drop PCs from the data\n",
    "dat5.drop(['PC1','PC2','PC3','PC4','PC5','PC6'],axis=1, inplace=True)\n",
    "dat5.head()"
   ]
  },
  {
   "cell_type": "markdown",
   "metadata": {},
   "source": [
    "# BoxPlot on Cluster Profiled DataSet"
   ]
  },
  {
   "cell_type": "code",
   "execution_count": 133,
   "metadata": {},
   "outputs": [
    {
     "data": {
      "image/png": "[encoded data removed]",
      "text/plain": [
       "<Figure size 1080x576 with 1 Axes>"
      ]
     },
     "metadata": {
      "needs_background": "light"
     },
     "output_type": "display_data"
    }
   ],
   "source": [
    "# Plot the Cluster with respect to the Child_mort\n",
    "# value,gas,gas_used\n",
    "plt.subplots(figsize=(15,8), sharex=True)\n",
    "sns.boxplot(x=\"KClusterID\", y=\"receipt_status\",data=dat5)\n",
    "plt.show()"
   ]
  },
  {
   "cell_type": "code",
   "execution_count": 134,
   "metadata": {},
   "outputs": [
    {
     "data": {
      "image/png": "[encoded data removed]",
      "text/plain": [
       "<Figure size 1080x576 with 1 Axes>"
      ]
     },
     "metadata": {
      "needs_background": "light"
     },
     "output_type": "display_data"
    }
   ],
   "source": [
    "# Plot the Cluster with respect to the Child_mort\n",
    "# value,gas,gas_used\n",
    "plt.subplots(figsize=(15,8), sharex=True)\n",
    "sns.boxplot(x=\"KClusterID\", y=\"Contract_is_erc20\",data=dat5)\n",
    "plt.show()"
   ]
  },
  {
   "cell_type": "code",
   "execution_count": 135,
   "metadata": {},
   "outputs": [
    {
     "data": {
      "image/png": "[encoded data removed]",
      "text/plain": [
       "<Figure size 1080x576 with 1 Axes>"
      ]
     },
     "metadata": {
      "needs_background": "light"
     },
     "output_type": "display_data"
    }
   ],
   "source": [
    "# Plot the Cluster with respect to the Child_mort\n",
    "\n",
    "plt.subplots(figsize=(15,8), sharex=True)\n",
    "sns.boxplot(x=\"KClusterID\", y=\"trace_from_address\",data=dat5)\n",
    "plt.show()\n"
   ]
  },
  {
   "cell_type": "code",
   "execution_count": 136,
   "metadata": {},
   "outputs": [
    {
     "data": {
      "image/png": "[encoded data removed]",
      "text/plain": [
       "<Figure size 1080x576 with 1 Axes>"
      ]
     },
     "metadata": {
      "needs_background": "light"
     },
     "output_type": "display_data"
    }
   ],
   "source": [
    "# Plot the Cluster with respect to the Child_mort\n",
    "\n",
    "plt.subplots(figsize=(15,8), sharex=True)\n",
    "sns.boxplot(x=\"KClusterID\", y=\"trace_to_address\",data=dat5)\n",
    "plt.show()\n"
   ]
  },
  {
   "cell_type": "code",
   "execution_count": 137,
   "metadata": {},
   "outputs": [
    {
     "data": {
      "image/png": "[encoded data removed]",
      "text/plain": [
       "<Figure size 1080x576 with 1 Axes>"
      ]
     },
     "metadata": {
      "needs_background": "light"
     },
     "output_type": "display_data"
    }
   ],
   "source": [
    "# Plot the Cluster with respect to the Child_mort\n",
    "\n",
    "plt.subplots(figsize=(15,8), sharex=True)\n",
    "sns.boxplot(x=\"KClusterID\", y=\"trace_value\",data=dat5)\n",
    "plt.show()\n"
   ]
  },
  {
   "cell_type": "code",
   "execution_count": 138,
   "metadata": {},
   "outputs": [
    {
     "data": {
      "image/png": "[encoded data removed]",
      "text/plain": [
       "<Figure size 1080x576 with 1 Axes>"
      ]
     },
     "metadata": {
      "needs_background": "light"
     },
     "output_type": "display_data"
    }
   ],
   "source": [
    "# Plot the Cluster with respect to the Child_mort\n",
    "\n",
    "plt.subplots(figsize=(15,8), sharex=True)\n",
    "sns.boxplot(x=\"KClusterID\", y=\"trace_gas\",data=dat5)\n",
    "plt.show()\n"
   ]
  },
  {
   "cell_type": "code",
   "execution_count": 139,
   "metadata": {},
   "outputs": [
    {
     "data": {
      "image/png": "[encoded data removed]",
      "text/plain": [
       "<Figure size 1080x576 with 1 Axes>"
      ]
     },
     "metadata": {
      "needs_background": "light"
     },
     "output_type": "display_data"
    }
   ],
   "source": [
    "# Plot the Cluster with respect to the Child_mort\n",
    "\n",
    "plt.subplots(figsize=(15,8), sharex=True)\n",
    "sns.boxplot(x=\"KClusterID\", y=\"trace_gas_used\",data=dat5)\n",
    "plt.show()\n"
   ]
  },
  {
   "cell_type": "code",
   "execution_count": 140,
   "metadata": {},
   "outputs": [
    {
     "data": {
      "image/png": "[encoded data removed]",
      "text/plain": [
       "<Figure size 1080x576 with 1 Axes>"
      ]
     },
     "metadata": {
      "needs_background": "light"
     },
     "output_type": "display_data"
    }
   ],
   "source": [
    "# Plot the Cluster with respect to the Child_mort\n",
    "\n",
    "plt.subplots(figsize=(15,8), sharex=True)\n",
    "sns.boxplot(x=\"KClusterID\", y=\"token_transfer_from_address\",data=dat5)\n",
    "plt.show()\n"
   ]
  },
  {
   "cell_type": "code",
   "execution_count": 141,
   "metadata": {},
   "outputs": [
    {
     "data": {
      "image/png": "[encoded data removed]",
      "text/plain": [
       "<Figure size 1080x576 with 1 Axes>"
      ]
     },
     "metadata": {
      "needs_background": "light"
     },
     "output_type": "display_data"
    }
   ],
   "source": [
    "# Plot the Cluster with respect to the Child_mort\n",
    "\n",
    "plt.subplots(figsize=(15,8), sharex=True)\n",
    "sns.boxplot(x=\"KClusterID\", y=\"token_transfer_from_address\",data=dat5)\n",
    "plt.show()\n"
   ]
  },
  {
   "cell_type": "code",
   "execution_count": 142,
   "metadata": {},
   "outputs": [
    {
     "data": {
      "image/png": "[encoded data removed]",
      "text/plain": [
       "<Figure size 1080x576 with 1 Axes>"
      ]
     },
     "metadata": {
      "needs_background": "light"
     },
     "output_type": "display_data"
    }
   ],
   "source": [
    "# Plot the Cluster with respect to the Child_mort\n",
    "\n",
    "plt.subplots(figsize=(15,8), sharex=True)\n",
    "sns.boxplot(x=\"KClusterID\", y=\"token_transfer_to_address\",data=dat5)\n",
    "plt.show()\n"
   ]
  },
  {
   "cell_type": "code",
   "execution_count": 143,
   "metadata": {},
   "outputs": [
    {
     "data": {
      "image/png": "[encoded data removed]",
      "text/plain": [
       "<Figure size 1080x576 with 1 Axes>"
      ]
     },
     "metadata": {
      "needs_background": "light"
     },
     "output_type": "display_data"
    }
   ],
   "source": [
    "# Plot the Cluster with respect to the Child_mort\n",
    "\n",
    "plt.subplots(figsize=(15,8), sharex=True)\n",
    "sns.boxplot(x=\"KClusterID\", y=\"transaction_value\",data=dat5)\n",
    "plt.show()\n"
   ]
  },
  {
   "cell_type": "code",
   "execution_count": 144,
   "metadata": {},
   "outputs": [
    {
     "data": {
      "image/png": "[encoded data removed]",
      "text/plain": [
       "<Figure size 1080x576 with 1 Axes>"
      ]
     },
     "metadata": {
      "needs_background": "light"
     },
     "output_type": "display_data"
    }
   ],
   "source": [
    "# Plot the Cluster with respect to the Child_mort\n",
    "\n",
    "plt.subplots(figsize=(15,8), sharex=True)\n",
    "sns.boxplot(x=\"KClusterID\", y=\"transaction_gas\",data=dat5)\n",
    "plt.show()\n"
   ]
  },
  {
   "cell_type": "code",
   "execution_count": 145,
   "metadata": {},
   "outputs": [
    {
     "data": {
      "image/png": "[encoded data removed]",
      "text/plain": [
       "<Figure size 1080x576 with 1 Axes>"
      ]
     },
     "metadata": {
      "needs_background": "light"
     },
     "output_type": "display_data"
    }
   ],
   "source": [
    "# Plot the Cluster with respect to the Child_mort\n",
    "\n",
    "plt.subplots(figsize=(15,8), sharex=True)\n",
    "sns.boxplot(x=\"KClusterID\", y=\"transaction_gas_price\",data=dat5)\n",
    "plt.show()\n"
   ]
  },
  {
   "cell_type": "code",
   "execution_count": 146,
   "metadata": {},
   "outputs": [
    {
     "data": {
      "image/png": "[encoded data removed]",
      "text/plain": [
       "<Figure size 1080x576 with 1 Axes>"
      ]
     },
     "metadata": {
      "needs_background": "light"
     },
     "output_type": "display_data"
    }
   ],
   "source": [
    "# Plot the Cluster with respect to the Child_mort\n",
    "\n",
    "plt.subplots(figsize=(15,8), sharex=True)\n",
    "sns.boxplot(x=\"KClusterID\", y=\"receipt_cumulative_gas_used\",data=dat5)\n",
    "plt.show()\n"
   ]
  },
  {
   "cell_type": "code",
   "execution_count": 147,
   "metadata": {},
   "outputs": [
    {
     "data": {
      "image/png": "[encoded data removed]",
      "text/plain": [
       "<Figure size 1080x576 with 1 Axes>"
      ]
     },
     "metadata": {
      "needs_background": "light"
     },
     "output_type": "display_data"
    }
   ],
   "source": [
    "# Plot the Cluster with respect to the Child_mort\n",
    "\n",
    "plt.subplots(figsize=(15,8), sharex=True)\n",
    "sns.boxplot(x=\"KClusterID\", y=\"receipt_gas_used\",data=dat5)\n",
    "plt.show()\n"
   ]
  },
  {
   "cell_type": "code",
   "execution_count": 148,
   "metadata": {},
   "outputs": [
    {
     "data": {
      "image/png": "[encoded data removed]",
      "text/plain": [
       "<Figure size 1080x576 with 1 Axes>"
      ]
     },
     "metadata": {
      "needs_background": "light"
     },
     "output_type": "display_data"
    }
   ],
   "source": [
    "# Plot the Cluster with respect to the Child_mort\n",
    "\n",
    "plt.subplots(figsize=(15,8), sharex=True)\n",
    "sns.boxplot(x=\"KClusterID\", y=\"token_decimals\",data=dat5)\n",
    "plt.show()\n"
   ]
  },
  {
   "cell_type": "code",
   "execution_count": 149,
   "metadata": {},
   "outputs": [
    {
     "data": {
      "image/png": "[encoded data removed]",
      "text/plain": [
       "<Figure size 1080x576 with 1 Axes>"
      ]
     },
     "metadata": {
      "needs_background": "light"
     },
     "output_type": "display_data"
    }
   ],
   "source": [
    "# Plot the Cluster with respect to the Child_mort\n",
    "\n",
    "plt.subplots(figsize=(15,8), sharex=True)\n",
    "sns.boxplot(x=\"KClusterID\", y=\"token_total_supply\",data=dat5)\n",
    "plt.show()\n"
   ]
  },
  {
   "cell_type": "code",
   "execution_count": 150,
   "metadata": {},
   "outputs": [
    {
     "data": {
      "image/png": "[encoded data removed]",
      "text/plain": [
       "<Figure size 1080x576 with 1 Axes>"
      ]
     },
     "metadata": {
      "needs_background": "light"
     },
     "output_type": "display_data"
    }
   ],
   "source": [
    "# Plot the Cluster with respect to the Child_mort\n",
    "\n",
    "plt.subplots(figsize=(15,8), sharex=True)\n",
    "sns.boxplot(x=\"KClusterID\", y=\"Contract_address\",data=dat5)\n",
    "plt.show()\n"
   ]
  },
  {
   "cell_type": "markdown",
   "metadata": {},
   "source": [
    "# Hierarchical Clustering"
   ]
  },
  {
   "cell_type": "code",
   "execution_count": 151,
   "metadata": {},
   "outputs": [
    {
     "data": {
      "image/png": "[encoded data removed]",
      "text/plain": [
       "<Figure size 1440x576 with 1 Axes>"
      ]
     },
     "metadata": {
      "needs_background": "light"
     },
     "output_type": "display_data"
    }
   ],
   "source": [
    "#Complete Linkage \n",
    "plt.subplots(figsize=(20,8), sharex=True)\n",
    "mergings = linkage(dat3_1, method=\"complete\", metric=\"euclidean\")\n",
    "dendrogram(mergings)\n",
    "plt.show()\n"
   ]
  },
  {
   "cell_type": "code",
   "execution_count": 156,
   "metadata": {},
   "outputs": [
    {
     "data": {
      "text/plain": [
       "array([0, 0, 0, 0, 0, 0, 0, 1, 2, 2, 0, 0, 0, 2, 2, 0, 0, 0, 0, 0, 0, 0,\n",
       "       0, 0, 0, 0, 3, 0, 3, 0, 0, 0, 0, 0, 0, 0, 0, 0, 0])"
      ]
     },
     "execution_count": 156,
     "metadata": {},
     "output_type": "execute_result"
    }
   ],
   "source": [
    "# 2 clusters\n",
    "cluster_labels = cut_tree(mergings,n_clusters=4).reshape(-1,)\n",
    "cluster_labels"
   ]
  },
  {
   "cell_type": "code",
   "execution_count": 157,
   "metadata": {},
   "outputs": [],
   "source": [
    "\n",
    "dat5['HCluster_id'] = pd.DataFrame(cluster_labels)\n"
   ]
  },
  {
   "cell_type": "code",
   "execution_count": 158,
   "metadata": {},
   "outputs": [
    {
     "data": {
      "text/html": [
       "<div>\n",
       "<style scoped>\n",
       "    .dataframe tbody tr th:only-of-type {\n",
       "        vertical-align: middle;\n",
       "    }\n",
       "\n",
       "    .dataframe tbody tr th {\n",
       "        vertical-align: top;\n",
       "    }\n",
       "\n",
       "    .dataframe thead th {\n",
       "        text-align: right;\n",
       "    }\n",
       "</style>\n",
       "<table border=\"1\" class=\"dataframe\">\n",
       "  <thead>\n",
       "    <tr style=\"text-align: right;\">\n",
       "      <th></th>\n",
       "      <th>token_name</th>\n",
       "      <th>receipt_status</th>\n",
       "      <th>Contract_is_erc20</th>\n",
       "      <th>trace_from_address</th>\n",
       "      <th>trace_to_address</th>\n",
       "      <th>trace_value</th>\n",
       "      <th>trace_gas</th>\n",
       "      <th>trace_gas_used</th>\n",
       "      <th>token_transfer_from_address</th>\n",
       "      <th>token_transfer_to_address</th>\n",
       "      <th>...</th>\n",
       "      <th>transaction_value</th>\n",
       "      <th>transaction_gas</th>\n",
       "      <th>transaction_gas_price</th>\n",
       "      <th>receipt_cumulative_gas_used</th>\n",
       "      <th>receipt_gas_used</th>\n",
       "      <th>token_decimals</th>\n",
       "      <th>token_total_supply</th>\n",
       "      <th>Contract_address</th>\n",
       "      <th>KClusterID</th>\n",
       "      <th>HCluster_id</th>\n",
       "    </tr>\n",
       "  </thead>\n",
       "  <tbody>\n",
       "    <tr>\n",
       "      <th>0</th>\n",
       "      <td>Gastoken.io</td>\n",
       "      <td>0</td>\n",
       "      <td>0</td>\n",
       "      <td>4</td>\n",
       "      <td>4</td>\n",
       "      <td>0.0</td>\n",
       "      <td>127266471.0</td>\n",
       "      <td>125815805.0</td>\n",
       "      <td>2</td>\n",
       "      <td>1</td>\n",
       "      <td>...</td>\n",
       "      <td>0.0</td>\n",
       "      <td>256089852</td>\n",
       "      <td>69400000000</td>\n",
       "      <td>7567350</td>\n",
       "      <td>252218296</td>\n",
       "      <td>2.0</td>\n",
       "      <td>12923228.0</td>\n",
       "      <td>2</td>\n",
       "      <td>1</td>\n",
       "      <td>0.0</td>\n",
       "    </tr>\n",
       "    <tr>\n",
       "      <th>1</th>\n",
       "      <td>Gastoken.io</td>\n",
       "      <td>0</td>\n",
       "      <td>0</td>\n",
       "      <td>4</td>\n",
       "      <td>4</td>\n",
       "      <td>0.0</td>\n",
       "      <td>127266471.0</td>\n",
       "      <td>125815805.0</td>\n",
       "      <td>2</td>\n",
       "      <td>1</td>\n",
       "      <td>...</td>\n",
       "      <td>0.0</td>\n",
       "      <td>256089852</td>\n",
       "      <td>69400000000</td>\n",
       "      <td>7567350</td>\n",
       "      <td>252218296</td>\n",
       "      <td>2.0</td>\n",
       "      <td>12923228.0</td>\n",
       "      <td>2</td>\n",
       "      <td>1</td>\n",
       "      <td>0.0</td>\n",
       "    </tr>\n",
       "    <tr>\n",
       "      <th>2</th>\n",
       "      <td>Gastoken.io</td>\n",
       "      <td>0</td>\n",
       "      <td>0</td>\n",
       "      <td>4</td>\n",
       "      <td>4</td>\n",
       "      <td>0.0</td>\n",
       "      <td>127266471.0</td>\n",
       "      <td>125815805.0</td>\n",
       "      <td>2</td>\n",
       "      <td>1</td>\n",
       "      <td>...</td>\n",
       "      <td>0.0</td>\n",
       "      <td>256089852</td>\n",
       "      <td>69400000000</td>\n",
       "      <td>7567350</td>\n",
       "      <td>252218296</td>\n",
       "      <td>2.0</td>\n",
       "      <td>12923228.0</td>\n",
       "      <td>2</td>\n",
       "      <td>1</td>\n",
       "      <td>0.0</td>\n",
       "    </tr>\n",
       "    <tr>\n",
       "      <th>3</th>\n",
       "      <td>Gastoken.io</td>\n",
       "      <td>1</td>\n",
       "      <td>0</td>\n",
       "      <td>4</td>\n",
       "      <td>2</td>\n",
       "      <td>0.0</td>\n",
       "      <td>4419811.0</td>\n",
       "      <td>1113697.0</td>\n",
       "      <td>3</td>\n",
       "      <td>3</td>\n",
       "      <td>...</td>\n",
       "      <td>0.0</td>\n",
       "      <td>5901184</td>\n",
       "      <td>12008000000</td>\n",
       "      <td>543034</td>\n",
       "      <td>3107288</td>\n",
       "      <td>2.0</td>\n",
       "      <td>12923228.0</td>\n",
       "      <td>1</td>\n",
       "      <td>1</td>\n",
       "      <td>0.0</td>\n",
       "    </tr>\n",
       "    <tr>\n",
       "      <th>4</th>\n",
       "      <td>Gastoken.io</td>\n",
       "      <td>1</td>\n",
       "      <td>0</td>\n",
       "      <td>4</td>\n",
       "      <td>2</td>\n",
       "      <td>0.0</td>\n",
       "      <td>4419811.0</td>\n",
       "      <td>1113697.0</td>\n",
       "      <td>3</td>\n",
       "      <td>3</td>\n",
       "      <td>...</td>\n",
       "      <td>0.0</td>\n",
       "      <td>5901184</td>\n",
       "      <td>12008000000</td>\n",
       "      <td>543034</td>\n",
       "      <td>3107288</td>\n",
       "      <td>2.0</td>\n",
       "      <td>12923228.0</td>\n",
       "      <td>1</td>\n",
       "      <td>1</td>\n",
       "      <td>0.0</td>\n",
       "    </tr>\n",
       "  </tbody>\n",
       "</table>\n",
       "<p>5 rows × 23 columns</p>\n",
       "</div>"
      ],
      "text/plain": [
       "    token_name  receipt_status  Contract_is_erc20  trace_from_address  \\\n",
       "0  Gastoken.io               0                  0                   4   \n",
       "1  Gastoken.io               0                  0                   4   \n",
       "2  Gastoken.io               0                  0                   4   \n",
       "3  Gastoken.io               1                  0                   4   \n",
       "4  Gastoken.io               1                  0                   4   \n",
       "\n",
       "   trace_to_address  trace_value    trace_gas  trace_gas_used  \\\n",
       "0                 4          0.0  127266471.0     125815805.0   \n",
       "1                 4          0.0  127266471.0     125815805.0   \n",
       "2                 4          0.0  127266471.0     125815805.0   \n",
       "3                 2          0.0    4419811.0       1113697.0   \n",
       "4                 2          0.0    4419811.0       1113697.0   \n",
       "\n",
       "   token_transfer_from_address  token_transfer_to_address  ...  \\\n",
       "0                            2                          1  ...   \n",
       "1                            2                          1  ...   \n",
       "2                            2                          1  ...   \n",
       "3                            3                          3  ...   \n",
       "4                            3                          3  ...   \n",
       "\n",
       "   transaction_value  transaction_gas  transaction_gas_price  \\\n",
       "0                0.0        256089852            69400000000   \n",
       "1                0.0        256089852            69400000000   \n",
       "2                0.0        256089852            69400000000   \n",
       "3                0.0          5901184            12008000000   \n",
       "4                0.0          5901184            12008000000   \n",
       "\n",
       "   receipt_cumulative_gas_used  receipt_gas_used  token_decimals  \\\n",
       "0                      7567350         252218296             2.0   \n",
       "1                      7567350         252218296             2.0   \n",
       "2                      7567350         252218296             2.0   \n",
       "3                       543034           3107288             2.0   \n",
       "4                       543034           3107288             2.0   \n",
       "\n",
       "   token_total_supply  Contract_address  KClusterID  HCluster_id  \n",
       "0          12923228.0                 2           1          0.0  \n",
       "1          12923228.0                 2           1          0.0  \n",
       "2          12923228.0                 2           1          0.0  \n",
       "3          12923228.0                 1           1          0.0  \n",
       "4          12923228.0                 1           1          0.0  \n",
       "\n",
       "[5 rows x 23 columns]"
      ]
     },
     "execution_count": 158,
     "metadata": {},
     "output_type": "execute_result"
    }
   ],
   "source": [
    "dat5.head()"
   ]
  },
  {
   "cell_type": "code",
   "execution_count": 159,
   "metadata": {},
   "outputs": [
    {
     "data": {
      "image/png": "[encoded data removed]",
      "text/plain": [
       "<Figure size 1080x576 with 1 Axes>"
      ]
     },
     "metadata": {
      "needs_background": "light"
     },
     "output_type": "display_data"
    }
   ],
   "source": [
    "# Plot the Cluster with respect to the Child_mort\n",
    "# value,gas,gas_used\n",
    "plt.subplots(figsize=(15,8), sharex=True)\n",
    "sns.boxplot(x=\"HCluster_id\", y=\"receipt_status\",data=dat5)\n",
    "plt.show()"
   ]
  },
  {
   "cell_type": "code",
   "execution_count": 160,
   "metadata": {},
   "outputs": [
    {
     "data": {
      "image/png": "[encoded data removed]",
      "text/plain": [
       "<Figure size 1080x576 with 1 Axes>"
      ]
     },
     "metadata": {
      "needs_background": "light"
     },
     "output_type": "display_data"
    }
   ],
   "source": [
    "# Plot the Cluster with respect to the Child_mort\n",
    "# value,gas,gas_used\n",
    "plt.subplots(figsize=(15,8), sharex=True)\n",
    "sns.boxplot(x=\"HCluster_id\", y=\"Contract_is_erc20\",data=dat5)\n",
    "plt.show()"
   ]
  },
  {
   "cell_type": "code",
   "execution_count": 161,
   "metadata": {},
   "outputs": [
    {
     "data": {
      "image/png": "[encoded data removed]",
      "text/plain": [
       "<Figure size 1080x576 with 1 Axes>"
      ]
     },
     "metadata": {
      "needs_background": "light"
     },
     "output_type": "display_data"
    }
   ],
   "source": [
    "# Plot the Cluster with respect to the Child_mort\n",
    "\n",
    "plt.subplots(figsize=(15,8), sharex=True)\n",
    "sns.boxplot(x=\"HCluster_id\", y=\"trace_from_address\",data=dat5)\n",
    "plt.show()\n"
   ]
  },
  {
   "cell_type": "code",
   "execution_count": 162,
   "metadata": {},
   "outputs": [
    {
     "data": {
      "image/png": "[encoded data removed]",
      "text/plain": [
       "<Figure size 1080x576 with 1 Axes>"
      ]
     },
     "metadata": {
      "needs_background": "light"
     },
     "output_type": "display_data"
    }
   ],
   "source": [
    "# Plot the Cluster with respect to the Child_mort\n",
    "\n",
    "plt.subplots(figsize=(15,8), sharex=True)\n",
    "sns.boxplot(x=\"HCluster_id\", y=\"trace_to_address\",data=dat5)\n",
    "plt.show()\n"
   ]
  },
  {
   "cell_type": "code",
   "execution_count": 163,
   "metadata": {},
   "outputs": [
    {
     "data": {
      "image/png": "[encoded data removed]",
      "text/plain": [
       "<Figure size 1080x576 with 1 Axes>"
      ]
     },
     "metadata": {
      "needs_background": "light"
     },
     "output_type": "display_data"
    }
   ],
   "source": [
    "# Plot the Cluster with respect to the Child_mort\n",
    "\n",
    "plt.subplots(figsize=(15,8), sharex=True)\n",
    "sns.boxplot(x=\"HCluster_id\", y=\"trace_value\",data=dat5)\n",
    "plt.show()\n"
   ]
  },
  {
   "cell_type": "code",
   "execution_count": 164,
   "metadata": {},
   "outputs": [
    {
     "data": {
      "image/png": "[encoded data removed]",
      "text/plain": [
       "<Figure size 1080x576 with 1 Axes>"
      ]
     },
     "metadata": {
      "needs_background": "light"
     },
     "output_type": "display_data"
    }
   ],
   "source": [
    "# Plot the Cluster with respect to the Child_mort\n",
    "\n",
    "plt.subplots(figsize=(15,8), sharex=True)\n",
    "sns.boxplot(x=\"HCluster_id\", y=\"trace_gas\",data=dat5)\n",
    "plt.show()\n"
   ]
  },
  {
   "cell_type": "code",
   "execution_count": 165,
   "metadata": {},
   "outputs": [
    {
     "data": {
      "image/png": "[encoded data removed]",
      "text/plain": [
       "<Figure size 1080x576 with 1 Axes>"
      ]
     },
     "metadata": {
      "needs_background": "light"
     },
     "output_type": "display_data"
    }
   ],
   "source": [
    "# Plot the Cluster with respect to the Child_mort\n",
    "\n",
    "plt.subplots(figsize=(15,8), sharex=True)\n",
    "sns.boxplot(x=\"HCluster_id\", y=\"trace_gas_used\",data=dat5)\n",
    "plt.show()\n"
   ]
  },
  {
   "cell_type": "code",
   "execution_count": 166,
   "metadata": {},
   "outputs": [
    {
     "data": {
      "image/png": "[encoded data removed]",
      "text/plain": [
       "<Figure size 1080x576 with 1 Axes>"
      ]
     },
     "metadata": {
      "needs_background": "light"
     },
     "output_type": "display_data"
    }
   ],
   "source": [
    "# Plot the Cluster with respect to the Child_mort\n",
    "\n",
    "plt.subplots(figsize=(15,8), sharex=True)\n",
    "sns.boxplot(x=\"HCluster_id\", y=\"token_transfer_from_address\",data=dat5)\n",
    "plt.show()\n"
   ]
  },
  {
   "cell_type": "code",
   "execution_count": 167,
   "metadata": {},
   "outputs": [
    {
     "data": {
      "image/png": "[encoded data removed]",
      "text/plain": [
       "<Figure size 1080x576 with 1 Axes>"
      ]
     },
     "metadata": {
      "needs_background": "light"
     },
     "output_type": "display_data"
    }
   ],
   "source": [
    "# Plot the Cluster with respect to the Child_mort\n",
    "\n",
    "plt.subplots(figsize=(15,8), sharex=True)\n",
    "sns.boxplot(x=\"HCluster_id\", y=\"token_transfer_from_address\",data=dat5)\n",
    "plt.show()\n"
   ]
  },
  {
   "cell_type": "code",
   "execution_count": 168,
   "metadata": {},
   "outputs": [
    {
     "data": {
      "image/png": "[encoded data removed]",
      "text/plain": [
       "<Figure size 1080x576 with 1 Axes>"
      ]
     },
     "metadata": {
      "needs_background": "light"
     },
     "output_type": "display_data"
    }
   ],
   "source": [
    "# Plot the Cluster with respect to the Child_mort\n",
    "\n",
    "plt.subplots(figsize=(15,8), sharex=True)\n",
    "sns.boxplot(x=\"HCluster_id\", y=\"token_transfer_to_address\",data=dat5)\n",
    "plt.show()\n"
   ]
  },
  {
   "cell_type": "code",
   "execution_count": 169,
   "metadata": {},
   "outputs": [
    {
     "data": {
      "image/png": "[encoded data removed]",
      "text/plain": [
       "<Figure size 1080x576 with 1 Axes>"
      ]
     },
     "metadata": {
      "needs_background": "light"
     },
     "output_type": "display_data"
    }
   ],
   "source": [
    "# Plot the Cluster with respect to the Child_mort\n",
    "\n",
    "plt.subplots(figsize=(15,8), sharex=True)\n",
    "sns.boxplot(x=\"HCluster_id\", y=\"transaction_value\",data=dat5)\n",
    "plt.show()\n"
   ]
  },
  {
   "cell_type": "code",
   "execution_count": 170,
   "metadata": {},
   "outputs": [
    {
     "data": {
      "image/png": "[encoded data removed]",
      "text/plain": [
       "<Figure size 1080x576 with 1 Axes>"
      ]
     },
     "metadata": {
      "needs_background": "light"
     },
     "output_type": "display_data"
    }
   ],
   "source": [
    "# Plot the Cluster with respect to the Child_mort\n",
    "\n",
    "plt.subplots(figsize=(15,8), sharex=True)\n",
    "sns.boxplot(x=\"HCluster_id\", y=\"transaction_gas\",data=dat5)\n",
    "plt.show()\n"
   ]
  },
  {
   "cell_type": "code",
   "execution_count": 171,
   "metadata": {},
   "outputs": [
    {
     "data": {
      "image/png": "[encoded data removed]",
      "text/plain": [
       "<Figure size 1080x576 with 1 Axes>"
      ]
     },
     "metadata": {
      "needs_background": "light"
     },
     "output_type": "display_data"
    }
   ],
   "source": [
    "# Plot the Cluster with respect to the Child_mort\n",
    "\n",
    "plt.subplots(figsize=(15,8), sharex=True)\n",
    "sns.boxplot(x=\"HCluster_id\", y=\"transaction_gas_price\",data=dat5)\n",
    "plt.show()\n"
   ]
  },
  {
   "cell_type": "code",
   "execution_count": 172,
   "metadata": {},
   "outputs": [
    {
     "data": {
      "image/png": "[encoded data removed]",
      "text/plain": [
       "<Figure size 1080x576 with 1 Axes>"
      ]
     },
     "metadata": {
      "needs_background": "light"
     },
     "output_type": "display_data"
    }
   ],
   "source": [
    "# Plot the Cluster with respect to the Child_mort\n",
    "\n",
    "plt.subplots(figsize=(15,8), sharex=True)\n",
    "sns.boxplot(x=\"HCluster_id\", y=\"receipt_cumulative_gas_used\",data=dat5)\n",
    "plt.show()\n"
   ]
  },
  {
   "cell_type": "code",
   "execution_count": 173,
   "metadata": {},
   "outputs": [
    {
     "data": {
      "image/png": "[encoded data removed]",
      "text/plain": [
       "<Figure size 1080x576 with 1 Axes>"
      ]
     },
     "metadata": {
      "needs_background": "light"
     },
     "output_type": "display_data"
    }
   ],
   "source": [
    "# Plot the Cluster with respect to the Child_mort\n",
    "\n",
    "plt.subplots(figsize=(15,8), sharex=True)\n",
    "sns.boxplot(x=\"HCluster_id\", y=\"receipt_gas_used\",data=dat5)\n",
    "plt.show()\n"
   ]
  },
  {
   "cell_type": "code",
   "execution_count": 174,
   "metadata": {},
   "outputs": [
    {
     "data": {
      "image/png": "[encoded data removed]",
      "text/plain": [
       "<Figure size 1080x576 with 1 Axes>"
      ]
     },
     "metadata": {
      "needs_background": "light"
     },
     "output_type": "display_data"
    }
   ],
   "source": [
    "# Plot the Cluster with respect to the Child_mort\n",
    "\n",
    "plt.subplots(figsize=(15,8), sharex=True)\n",
    "sns.boxplot(x=\"HCluster_id\", y=\"token_decimals\",data=dat5)\n",
    "plt.show()\n"
   ]
  },
  {
   "cell_type": "code",
   "execution_count": 175,
   "metadata": {},
   "outputs": [
    {
     "data": {
      "image/png": "[encoded data removed]",
      "text/plain": [
       "<Figure size 1080x576 with 1 Axes>"
      ]
     },
     "metadata": {
      "needs_background": "light"
     },
     "output_type": "display_data"
    }
   ],
   "source": [
    "# Plot the Cluster with respect to the Child_mort\n",
    "\n",
    "plt.subplots(figsize=(15,8), sharex=True)\n",
    "sns.boxplot(x=\"HCluster_id\", y=\"token_total_supply\",data=dat5)\n",
    "plt.show()\n"
   ]
  },
  {
   "cell_type": "code",
   "execution_count": 176,
   "metadata": {},
   "outputs": [
    {
     "data": {
      "image/png": "[encoded data removed]",
      "text/plain": [
       "<Figure size 1080x576 with 1 Axes>"
      ]
     },
     "metadata": {
      "needs_background": "light"
     },
     "output_type": "display_data"
    }
   ],
   "source": [
    "# Plot the Cluster with respect to the Child_mort\n",
    "\n",
    "plt.subplots(figsize=(15,8), sharex=True)\n",
    "sns.boxplot(x=\"HCluster_id\", y=\"Contract_address\",data=dat5)\n",
    "plt.show()\n"
   ]
  },
  {
   "cell_type": "code",
   "execution_count": 177,
   "metadata": {},
   "outputs": [],
   "source": [
    "# Let's profile the cluster by taking the mean of various attributes\n",
    "df_Kmean = dat5.groupby(['KClusterID']).aggregate({'trace_from_address':'mean',\n",
    "                                                   'trace_to_address':'mean',\n",
    "                                                   'trace_value':'mean',\n",
    "                                                   'trace_gas':'mean',\n",
    "                                                   'trace_gas_used':'mean',\n",
    "                                                   'token_transfer_from_address':'mean',\n",
    "                                                   'token_transfer_to_address':'mean',\n",
    "                                                   'token_transfer_value':'mean',\n",
    "                                                   'transaction_from_address':'mean',\n",
    "                                                   'transaction_to_address':'mean',\n",
    "                                                   'transaction_value':'mean',\n",
    "                                                   'transaction_gas':'mean',\n",
    "                                                   'transaction_gas_price':'mean',\n",
    "                                                   'receipt_cumulative_gas_used':'mean',\n",
    "                                                   'receipt_gas_used':'mean',\n",
    "                                                   'token_decimals':'mean',\n",
    "                                                   'token_total_supply':'mean',\n",
    "                                                   'Contract_address':'mean'})"
   ]
  },
  {
   "cell_type": "code",
   "execution_count": 178,
   "metadata": {},
   "outputs": [
    {
     "data": {
      "text/html": [
       "<div>\n",
       "<style scoped>\n",
       "    .dataframe tbody tr th:only-of-type {\n",
       "        vertical-align: middle;\n",
       "    }\n",
       "\n",
       "    .dataframe tbody tr th {\n",
       "        vertical-align: top;\n",
       "    }\n",
       "\n",
       "    .dataframe thead th {\n",
       "        text-align: right;\n",
       "    }\n",
       "</style>\n",
       "<table border=\"1\" class=\"dataframe\">\n",
       "  <thead>\n",
       "    <tr style=\"text-align: right;\">\n",
       "      <th></th>\n",
       "      <th>trace_from_address</th>\n",
       "      <th>trace_to_address</th>\n",
       "      <th>trace_value</th>\n",
       "      <th>trace_gas</th>\n",
       "      <th>trace_gas_used</th>\n",
       "      <th>token_transfer_from_address</th>\n",
       "      <th>token_transfer_to_address</th>\n",
       "      <th>token_transfer_value</th>\n",
       "      <th>transaction_from_address</th>\n",
       "      <th>transaction_to_address</th>\n",
       "      <th>transaction_value</th>\n",
       "      <th>transaction_gas</th>\n",
       "      <th>transaction_gas_price</th>\n",
       "      <th>receipt_cumulative_gas_used</th>\n",
       "      <th>receipt_gas_used</th>\n",
       "      <th>token_decimals</th>\n",
       "      <th>token_total_supply</th>\n",
       "      <th>Contract_address</th>\n",
       "    </tr>\n",
       "    <tr>\n",
       "      <th>KClusterID</th>\n",
       "      <th></th>\n",
       "      <th></th>\n",
       "      <th></th>\n",
       "      <th></th>\n",
       "      <th></th>\n",
       "      <th></th>\n",
       "      <th></th>\n",
       "      <th></th>\n",
       "      <th></th>\n",
       "      <th></th>\n",
       "      <th></th>\n",
       "      <th></th>\n",
       "      <th></th>\n",
       "      <th></th>\n",
       "      <th></th>\n",
       "      <th></th>\n",
       "      <th></th>\n",
       "      <th></th>\n",
       "    </tr>\n",
       "  </thead>\n",
       "  <tbody>\n",
       "    <tr>\n",
       "      <th>0</th>\n",
       "      <td>78.666667</td>\n",
       "      <td>5.000000</td>\n",
       "      <td>0.000000e+00</td>\n",
       "      <td>1.475625e+11</td>\n",
       "      <td>6.438628e+09</td>\n",
       "      <td>127.333333</td>\n",
       "      <td>341.666667</td>\n",
       "      <td>1.290424e+25</td>\n",
       "      <td>157.666667</td>\n",
       "      <td>9.333333</td>\n",
       "      <td>8.740292e+19</td>\n",
       "      <td>2.900019e+11</td>\n",
       "      <td>1.135293e+14</td>\n",
       "      <td>7.971934e+06</td>\n",
       "      <td>2.881082e+11</td>\n",
       "      <td>18.000000</td>\n",
       "      <td>2.099851e+25</td>\n",
       "      <td>4.333333</td>\n",
       "    </tr>\n",
       "    <tr>\n",
       "      <th>1</th>\n",
       "      <td>5.775862</td>\n",
       "      <td>3.362069</td>\n",
       "      <td>1.154545e+19</td>\n",
       "      <td>2.631723e+09</td>\n",
       "      <td>1.197422e+08</td>\n",
       "      <td>6.172414</td>\n",
       "      <td>402.672414</td>\n",
       "      <td>6.821245e+22</td>\n",
       "      <td>6.500000</td>\n",
       "      <td>2.172414</td>\n",
       "      <td>0.000000e+00</td>\n",
       "      <td>3.929970e+09</td>\n",
       "      <td>5.270091e+12</td>\n",
       "      <td>2.285139e+06</td>\n",
       "      <td>2.563329e+09</td>\n",
       "      <td>7.844828</td>\n",
       "      <td>1.769283e+27</td>\n",
       "      <td>1.775862</td>\n",
       "    </tr>\n",
       "    <tr>\n",
       "      <th>2</th>\n",
       "      <td>52.800000</td>\n",
       "      <td>3.800000</td>\n",
       "      <td>0.000000e+00</td>\n",
       "      <td>1.696585e+11</td>\n",
       "      <td>8.308320e+09</td>\n",
       "      <td>82.000000</td>\n",
       "      <td>259.200000</td>\n",
       "      <td>7.742543e+24</td>\n",
       "      <td>131.600000</td>\n",
       "      <td>6.600000</td>\n",
       "      <td>5.244175e+19</td>\n",
       "      <td>3.297380e+11</td>\n",
       "      <td>1.201629e+14</td>\n",
       "      <td>7.261966e+06</td>\n",
       "      <td>3.277910e+11</td>\n",
       "      <td>13.200000</td>\n",
       "      <td>1.259911e+25</td>\n",
       "      <td>3.000000</td>\n",
       "    </tr>\n",
       "    <tr>\n",
       "      <th>3</th>\n",
       "      <td>21.000000</td>\n",
       "      <td>12.750000</td>\n",
       "      <td>8.370451e+19</td>\n",
       "      <td>1.328895e+09</td>\n",
       "      <td>1.041273e+08</td>\n",
       "      <td>21.000000</td>\n",
       "      <td>33.000000</td>\n",
       "      <td>4.192900e+23</td>\n",
       "      <td>26.500000</td>\n",
       "      <td>4.500000</td>\n",
       "      <td>0.000000e+00</td>\n",
       "      <td>1.984918e+09</td>\n",
       "      <td>3.001900e+13</td>\n",
       "      <td>7.763076e+06</td>\n",
       "      <td>1.153563e+09</td>\n",
       "      <td>18.000000</td>\n",
       "      <td>0.000000e+00</td>\n",
       "      <td>3.500000</td>\n",
       "    </tr>\n",
       "  </tbody>\n",
       "</table>\n",
       "</div>"
      ],
      "text/plain": [
       "            trace_from_address  trace_to_address   trace_value     trace_gas  \\\n",
       "KClusterID                                                                     \n",
       "0                    78.666667          5.000000  0.000000e+00  1.475625e+11   \n",
       "1                     5.775862          3.362069  1.154545e+19  2.631723e+09   \n",
       "2                    52.800000          3.800000  0.000000e+00  1.696585e+11   \n",
       "3                    21.000000         12.750000  8.370451e+19  1.328895e+09   \n",
       "\n",
       "            trace_gas_used  token_transfer_from_address  \\\n",
       "KClusterID                                                \n",
       "0             6.438628e+09                   127.333333   \n",
       "1             1.197422e+08                     6.172414   \n",
       "2             8.308320e+09                    82.000000   \n",
       "3             1.041273e+08                    21.000000   \n",
       "\n",
       "            token_transfer_to_address  token_transfer_value  \\\n",
       "KClusterID                                                    \n",
       "0                          341.666667          1.290424e+25   \n",
       "1                          402.672414          6.821245e+22   \n",
       "2                          259.200000          7.742543e+24   \n",
       "3                           33.000000          4.192900e+23   \n",
       "\n",
       "            transaction_from_address  transaction_to_address  \\\n",
       "KClusterID                                                     \n",
       "0                         157.666667                9.333333   \n",
       "1                           6.500000                2.172414   \n",
       "2                         131.600000                6.600000   \n",
       "3                          26.500000                4.500000   \n",
       "\n",
       "            transaction_value  transaction_gas  transaction_gas_price  \\\n",
       "KClusterID                                                              \n",
       "0                8.740292e+19     2.900019e+11           1.135293e+14   \n",
       "1                0.000000e+00     3.929970e+09           5.270091e+12   \n",
       "2                5.244175e+19     3.297380e+11           1.201629e+14   \n",
       "3                0.000000e+00     1.984918e+09           3.001900e+13   \n",
       "\n",
       "            receipt_cumulative_gas_used  receipt_gas_used  token_decimals  \\\n",
       "KClusterID                                                                  \n",
       "0                          7.971934e+06      2.881082e+11       18.000000   \n",
       "1                          2.285139e+06      2.563329e+09        7.844828   \n",
       "2                          7.261966e+06      3.277910e+11       13.200000   \n",
       "3                          7.763076e+06      1.153563e+09       18.000000   \n",
       "\n",
       "            token_total_supply  Contract_address  \n",
       "KClusterID                                        \n",
       "0                 2.099851e+25          4.333333  \n",
       "1                 1.769283e+27          1.775862  \n",
       "2                 1.259911e+25          3.000000  \n",
       "3                 0.000000e+00          3.500000  "
      ]
     },
     "execution_count": 178,
     "metadata": {},
     "output_type": "execute_result"
    }
   ],
   "source": [
    "df_Kmean"
   ]
  },
  {
   "cell_type": "code",
   "execution_count": 179,
   "metadata": {},
   "outputs": [],
   "source": [
    "# Let's profile the cluster by taking the mean of various attributes\n",
    "df_Hier = dat5.groupby(['HCluster_id']).aggregate({'trace_from_address':'mean',\n",
    "                                                   'trace_to_address':'mean',\n",
    "                                                   'trace_value':'mean',\n",
    "                                                   'trace_gas':'mean',\n",
    "                                                   'trace_gas_used':'mean',\n",
    "                                                   'token_transfer_from_address':'mean',\n",
    "                                                   'token_transfer_to_address':'mean',\n",
    "                                                   'token_transfer_value':'mean',\n",
    "                                                   'transaction_from_address':'mean',\n",
    "                                                   'transaction_to_address':'mean',\n",
    "                                                   'transaction_value':'mean',\n",
    "                                                   'transaction_gas':'mean',\n",
    "                                                   'transaction_gas_price':'mean',\n",
    "                                                   'receipt_cumulative_gas_used':'mean',\n",
    "                                                   'receipt_gas_used':'mean',\n",
    "                                                   'token_decimals':'mean',\n",
    "                                                   'token_total_supply':'mean',\n",
    "                                                   'Contract_address':'mean'})"
   ]
  },
  {
   "cell_type": "code",
   "execution_count": 180,
   "metadata": {},
   "outputs": [
    {
     "data": {
      "text/html": [
       "<div>\n",
       "<style scoped>\n",
       "    .dataframe tbody tr th:only-of-type {\n",
       "        vertical-align: middle;\n",
       "    }\n",
       "\n",
       "    .dataframe tbody tr th {\n",
       "        vertical-align: top;\n",
       "    }\n",
       "\n",
       "    .dataframe thead th {\n",
       "        text-align: right;\n",
       "    }\n",
       "</style>\n",
       "<table border=\"1\" class=\"dataframe\">\n",
       "  <thead>\n",
       "    <tr style=\"text-align: right;\">\n",
       "      <th></th>\n",
       "      <th>trace_from_address</th>\n",
       "      <th>trace_to_address</th>\n",
       "      <th>trace_value</th>\n",
       "      <th>trace_gas</th>\n",
       "      <th>trace_gas_used</th>\n",
       "      <th>token_transfer_from_address</th>\n",
       "      <th>token_transfer_to_address</th>\n",
       "      <th>token_transfer_value</th>\n",
       "      <th>transaction_from_address</th>\n",
       "      <th>transaction_to_address</th>\n",
       "      <th>transaction_value</th>\n",
       "      <th>transaction_gas</th>\n",
       "      <th>transaction_gas_price</th>\n",
       "      <th>receipt_cumulative_gas_used</th>\n",
       "      <th>receipt_gas_used</th>\n",
       "      <th>token_decimals</th>\n",
       "      <th>token_total_supply</th>\n",
       "      <th>Contract_address</th>\n",
       "    </tr>\n",
       "    <tr>\n",
       "      <th>HCluster_id</th>\n",
       "      <th></th>\n",
       "      <th></th>\n",
       "      <th></th>\n",
       "      <th></th>\n",
       "      <th></th>\n",
       "      <th></th>\n",
       "      <th></th>\n",
       "      <th></th>\n",
       "      <th></th>\n",
       "      <th></th>\n",
       "      <th></th>\n",
       "      <th></th>\n",
       "      <th></th>\n",
       "      <th></th>\n",
       "      <th></th>\n",
       "      <th></th>\n",
       "      <th></th>\n",
       "      <th></th>\n",
       "    </tr>\n",
       "  </thead>\n",
       "  <tbody>\n",
       "    <tr>\n",
       "      <th>0.0</th>\n",
       "      <td>22.78125</td>\n",
       "      <td>2.75</td>\n",
       "      <td>0.0</td>\n",
       "      <td>4.763597e+10</td>\n",
       "      <td>2.495597e+09</td>\n",
       "      <td>33.96875</td>\n",
       "      <td>101.8125</td>\n",
       "      <td>2.759879e+24</td>\n",
       "      <td>44.625</td>\n",
       "      <td>3.53125</td>\n",
       "      <td>2.394893e+19</td>\n",
       "      <td>9.252684e+10</td>\n",
       "      <td>3.471960e+13</td>\n",
       "      <td>3.757322e+06</td>\n",
       "      <td>9.193279e+10</td>\n",
       "      <td>9.03125</td>\n",
       "      <td>4.593456e+24</td>\n",
       "      <td>2.0625</td>\n",
       "    </tr>\n",
       "    <tr>\n",
       "      <th>1.0</th>\n",
       "      <td>14.00000</td>\n",
       "      <td>8.00</td>\n",
       "      <td>0.0</td>\n",
       "      <td>2.354895e+10</td>\n",
       "      <td>1.649938e+09</td>\n",
       "      <td>13.00000</td>\n",
       "      <td>11.0000</td>\n",
       "      <td>2.100131e+08</td>\n",
       "      <td>8.000</td>\n",
       "      <td>6.00000</td>\n",
       "      <td>0.000000e+00</td>\n",
       "      <td>4.657524e+10</td>\n",
       "      <td>1.035574e+13</td>\n",
       "      <td>2.443581e+06</td>\n",
       "      <td>4.576301e+10</td>\n",
       "      <td>2.00000</td>\n",
       "      <td>1.242977e+07</td>\n",
       "      <td>6.0000</td>\n",
       "    </tr>\n",
       "    <tr>\n",
       "      <th>2.0</th>\n",
       "      <td>4.25000</td>\n",
       "      <td>2.75</td>\n",
       "      <td>0.0</td>\n",
       "      <td>5.887513e+09</td>\n",
       "      <td>4.125168e+08</td>\n",
       "      <td>4.00000</td>\n",
       "      <td>3.7500</td>\n",
       "      <td>5.000000e+17</td>\n",
       "      <td>2.750</td>\n",
       "      <td>2.25000</td>\n",
       "      <td>0.000000e+00</td>\n",
       "      <td>1.164411e+10</td>\n",
       "      <td>2.600935e+12</td>\n",
       "      <td>7.616730e+05</td>\n",
       "      <td>1.144087e+10</td>\n",
       "      <td>6.00000</td>\n",
       "      <td>2.500000e+17</td>\n",
       "      <td>2.2500</td>\n",
       "    </tr>\n",
       "    <tr>\n",
       "      <th>3.0</th>\n",
       "      <td>48.00000</td>\n",
       "      <td>7.00</td>\n",
       "      <td>0.0</td>\n",
       "      <td>2.210517e+11</td>\n",
       "      <td>9.585668e+09</td>\n",
       "      <td>89.50000</td>\n",
       "      <td>148.0000</td>\n",
       "      <td>1.391100e+25</td>\n",
       "      <td>125.500</td>\n",
       "      <td>12.50000</td>\n",
       "      <td>1.013036e+19</td>\n",
       "      <td>4.346343e+11</td>\n",
       "      <td>1.587728e+14</td>\n",
       "      <td>7.958083e+06</td>\n",
       "      <td>4.319662e+11</td>\n",
       "      <td>18.00000</td>\n",
       "      <td>2.099851e+25</td>\n",
       "      <td>6.0000</td>\n",
       "    </tr>\n",
       "  </tbody>\n",
       "</table>\n",
       "</div>"
      ],
      "text/plain": [
       "             trace_from_address  trace_to_address  trace_value     trace_gas  \\\n",
       "HCluster_id                                                                    \n",
       "0.0                    22.78125              2.75          0.0  4.763597e+10   \n",
       "1.0                    14.00000              8.00          0.0  2.354895e+10   \n",
       "2.0                     4.25000              2.75          0.0  5.887513e+09   \n",
       "3.0                    48.00000              7.00          0.0  2.210517e+11   \n",
       "\n",
       "             trace_gas_used  token_transfer_from_address  \\\n",
       "HCluster_id                                                \n",
       "0.0            2.495597e+09                     33.96875   \n",
       "1.0            1.649938e+09                     13.00000   \n",
       "2.0            4.125168e+08                      4.00000   \n",
       "3.0            9.585668e+09                     89.50000   \n",
       "\n",
       "             token_transfer_to_address  token_transfer_value  \\\n",
       "HCluster_id                                                    \n",
       "0.0                           101.8125          2.759879e+24   \n",
       "1.0                            11.0000          2.100131e+08   \n",
       "2.0                             3.7500          5.000000e+17   \n",
       "3.0                           148.0000          1.391100e+25   \n",
       "\n",
       "             transaction_from_address  transaction_to_address  \\\n",
       "HCluster_id                                                     \n",
       "0.0                            44.625                 3.53125   \n",
       "1.0                             8.000                 6.00000   \n",
       "2.0                             2.750                 2.25000   \n",
       "3.0                           125.500                12.50000   \n",
       "\n",
       "             transaction_value  transaction_gas  transaction_gas_price  \\\n",
       "HCluster_id                                                              \n",
       "0.0               2.394893e+19     9.252684e+10           3.471960e+13   \n",
       "1.0               0.000000e+00     4.657524e+10           1.035574e+13   \n",
       "2.0               0.000000e+00     1.164411e+10           2.600935e+12   \n",
       "3.0               1.013036e+19     4.346343e+11           1.587728e+14   \n",
       "\n",
       "             receipt_cumulative_gas_used  receipt_gas_used  token_decimals  \\\n",
       "HCluster_id                                                                  \n",
       "0.0                         3.757322e+06      9.193279e+10         9.03125   \n",
       "1.0                         2.443581e+06      4.576301e+10         2.00000   \n",
       "2.0                         7.616730e+05      1.144087e+10         6.00000   \n",
       "3.0                         7.958083e+06      4.319662e+11        18.00000   \n",
       "\n",
       "             token_total_supply  Contract_address  \n",
       "HCluster_id                                        \n",
       "0.0                4.593456e+24            2.0625  \n",
       "1.0                1.242977e+07            6.0000  \n",
       "2.0                2.500000e+17            2.2500  \n",
       "3.0                2.099851e+25            6.0000  "
      ]
     },
     "execution_count": 180,
     "metadata": {},
     "output_type": "execute_result"
    }
   ],
   "source": [
    "df_Hier"
   ]
  },
  {
   "cell_type": "code",
   "execution_count": 181,
   "metadata": {},
   "outputs": [],
   "source": [
    "dat5.to_csv('/Users/rparama/Downloads/Dataset/EtherClusterV2.csv',index=False)"
   ]
  },
  {
   "cell_type": "code",
   "execution_count": null,
   "metadata": {},
   "outputs": [],
   "source": []
  }
 ],
 "metadata": {
  "kernelspec": {
   "display_name": "Python 3",
   "language": "python",
   "name": "python3"
  },
  "language_info": {
   "codemirror_mode": {
    "name": "ipython",
    "version": 3
   },
   "file_extension": ".py",
   "mimetype": "text/x-python",
   "name": "python",
   "nbconvert_exporter": "python",
   "pygments_lexer": "ipython3",
   "version": "3.8.5"
  }
 },
 "nbformat": 4,
 "nbformat_minor": 4
}
